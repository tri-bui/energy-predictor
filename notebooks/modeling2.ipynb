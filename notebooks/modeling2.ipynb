{
 "cells": [
  {
   "cell_type": "markdown",
   "metadata": {},
   "source": [
    "# Great Energy Predictor - Modeling\n",
    "#### Hosted by: ASHRAE\n",
    "##### Source: https://www.kaggle.com/c/ashrae-energy-prediction"
   ]
  },
  {
   "cell_type": "markdown",
   "metadata": {},
   "source": [
    "### Dependencies"
   ]
  },
  {
   "cell_type": "code",
   "execution_count": 1,
   "metadata": {},
   "outputs": [],
   "source": [
    "%matplotlib inline\n",
    "\n",
    "import src.utils as udf\n",
    "\n",
    "import gc\n",
    "import joblib\n",
    "import datetime\n",
    "import numpy as np\n",
    "import pandas as pd\n",
    "import matplotlib.pyplot as plt\n",
    "import seaborn as sns\n",
    "\n",
    "from sklearn.preprocessing import StandardScaler\n",
    "from sklearn.model_selection import train_test_split, KFold, cross_val_score, GridSearchCV, RandomizedSearchCV\n",
    "from sklearn.decomposition import PCA\n",
    "from sklearn.metrics import mean_squared_error, mean_squared_log_error\n",
    "from sklearn.linear_model import Lasso\n",
    "from sklearn.ensemble import RandomForestRegressor\n",
    "\n",
    "import lightgbm as lgb\n",
    "import xgboost as xgb\n",
    "import optuna\n",
    "\n",
    "# import os\n",
    "\n",
    "# Pandas on dask\n",
    "# os.environ['MODIN_ENGINE'] = 'dask'\n",
    "# import modin.pandas as dd \n",
    "\n",
    "# Pandas on ray\n",
    "# os.environ['MODIN_ENGINE'] = 'ray'\n",
    "# import ray\n",
    "# ray.init()\n",
    "# import modin.pandas as ray"
   ]
  },
  {
   "cell_type": "code",
   "execution_count": 2,
   "metadata": {},
   "outputs": [],
   "source": [
    "# Plot settings\n",
    "sns.set(rc={'figure.figsize': (16, 4),\n",
    "            'font.size': 16})"
   ]
  },
  {
   "cell_type": "code",
   "execution_count": null,
   "metadata": {},
   "outputs": [],
   "source": []
  },
  {
   "cell_type": "code",
   "execution_count": null,
   "metadata": {},
   "outputs": [],
   "source": []
  },
  {
   "cell_type": "markdown",
   "metadata": {},
   "source": [
    "### Load data"
   ]
  },
  {
   "cell_type": "code",
   "execution_count": 3,
   "metadata": {},
   "outputs": [],
   "source": [
    "path = '../data/from_mod/'"
   ]
  },
  {
   "cell_type": "code",
   "execution_count": 4,
   "metadata": {},
   "outputs": [
    {
     "name": "stdout",
     "output_type": "stream",
     "text": [
      "<class 'pandas.core.frame.DataFrame'>\n",
      "Int64Index: 3518870 entries, 71 to 18264845\n",
      "Data columns (total 17 columns):\n",
      "building_id           uint16\n",
      "meter_reading         float32\n",
      "dew_temperature       float32\n",
      "sea_level_pressure    float32\n",
      "wind_speed            float32\n",
      "primary_use           object\n",
      "square_feet           uint32\n",
      "year_built            uint16\n",
      "missing_year          uint8\n",
      "dayofyear             uint16\n",
      "hour                  uint8\n",
      "wind_direction_x      float32\n",
      "wind_direction_y      float32\n",
      "rel_humidity          float32\n",
      "is_weekend            uint8\n",
      "country               object\n",
      "is_holiday            uint8\n",
      "dtypes: float32(7), object(2), uint16(3), uint32(1), uint8(4)\n",
      "memory usage: 221.5+ MB\n"
     ]
    }
   ],
   "source": [
    "train1 = pd.read_pickle(f'{path}train_meter1.pkl')\n",
    "train1.info()"
   ]
  },
  {
   "cell_type": "code",
   "execution_count": 5,
   "metadata": {},
   "outputs": [
    {
     "name": "stdout",
     "output_type": "stream",
     "text": [
      "<class 'pandas.core.frame.DataFrame'>\n",
      "Int64Index: 3518870 entries, 71 to 18264845\n",
      "Data columns (total 17 columns):\n",
      "building_id           uint16\n",
      "meter_reading         float32\n",
      "dew_temperature       float32\n",
      "sea_level_pressure    float32\n",
      "wind_speed            float32\n",
      "primary_use           object\n",
      "square_feet           uint32\n",
      "year_built            uint16\n",
      "missing_year          uint8\n",
      "dayofyear             uint16\n",
      "hour                  uint8\n",
      "wind_direction_x      float32\n",
      "wind_direction_y      float32\n",
      "rel_humidity          float32\n",
      "is_weekend            uint8\n",
      "country               object\n",
      "is_holiday            uint8\n",
      "dtypes: float32(7), object(2), uint16(3), uint32(1), uint8(4)\n",
      "memory usage: 221.5+ MB\n"
     ]
    }
   ],
   "source": [
    "train1 = udf.reduce_mem_usage(train1)\n",
    "train1.info()"
   ]
  },
  {
   "cell_type": "code",
   "execution_count": 6,
   "metadata": {},
   "outputs": [
    {
     "data": {
      "text/html": [
       "<div>\n",
       "<style scoped>\n",
       "    .dataframe tbody tr th:only-of-type {\n",
       "        vertical-align: middle;\n",
       "    }\n",
       "\n",
       "    .dataframe tbody tr th {\n",
       "        vertical-align: top;\n",
       "    }\n",
       "\n",
       "    .dataframe thead th {\n",
       "        text-align: right;\n",
       "    }\n",
       "</style>\n",
       "<table border=\"1\" class=\"dataframe\">\n",
       "  <thead>\n",
       "    <tr style=\"text-align: right;\">\n",
       "      <th></th>\n",
       "      <th>building_id</th>\n",
       "      <th>meter_reading</th>\n",
       "      <th>dew_temperature</th>\n",
       "      <th>sea_level_pressure</th>\n",
       "      <th>wind_speed</th>\n",
       "      <th>primary_use</th>\n",
       "      <th>square_feet</th>\n",
       "      <th>year_built</th>\n",
       "      <th>missing_year</th>\n",
       "      <th>dayofyear</th>\n",
       "      <th>hour</th>\n",
       "      <th>wind_direction_x</th>\n",
       "      <th>wind_direction_y</th>\n",
       "      <th>rel_humidity</th>\n",
       "      <th>is_weekend</th>\n",
       "      <th>country</th>\n",
       "      <th>is_holiday</th>\n",
       "    </tr>\n",
       "  </thead>\n",
       "  <tbody>\n",
       "    <tr>\n",
       "      <th>71</th>\n",
       "      <td>163</td>\n",
       "      <td>4.571900</td>\n",
       "      <td>-5.6</td>\n",
       "      <td>1017.299988</td>\n",
       "      <td>0.0</td>\n",
       "      <td>Education</td>\n",
       "      <td>72102</td>\n",
       "      <td>1970</td>\n",
       "      <td>0</td>\n",
       "      <td>1</td>\n",
       "      <td>0</td>\n",
       "      <td>0.0</td>\n",
       "      <td>0.0</td>\n",
       "      <td>39.616142</td>\n",
       "      <td>0</td>\n",
       "      <td>US</td>\n",
       "      <td>1</td>\n",
       "    </tr>\n",
       "    <tr>\n",
       "      <th>76</th>\n",
       "      <td>166</td>\n",
       "      <td>209.886002</td>\n",
       "      <td>-5.6</td>\n",
       "      <td>1017.299988</td>\n",
       "      <td>0.0</td>\n",
       "      <td>Lodging/residential</td>\n",
       "      <td>553210</td>\n",
       "      <td>2009</td>\n",
       "      <td>0</td>\n",
       "      <td>1</td>\n",
       "      <td>0</td>\n",
       "      <td>0.0</td>\n",
       "      <td>0.0</td>\n",
       "      <td>39.616142</td>\n",
       "      <td>0</td>\n",
       "      <td>US</td>\n",
       "      <td>1</td>\n",
       "    </tr>\n",
       "    <tr>\n",
       "      <th>81</th>\n",
       "      <td>168</td>\n",
       "      <td>51.556999</td>\n",
       "      <td>-5.6</td>\n",
       "      <td>1017.299988</td>\n",
       "      <td>0.0</td>\n",
       "      <td>Education</td>\n",
       "      <td>183460</td>\n",
       "      <td>2005</td>\n",
       "      <td>0</td>\n",
       "      <td>1</td>\n",
       "      <td>0</td>\n",
       "      <td>0.0</td>\n",
       "      <td>0.0</td>\n",
       "      <td>39.616142</td>\n",
       "      <td>0</td>\n",
       "      <td>US</td>\n",
       "      <td>1</td>\n",
       "    </tr>\n",
       "    <tr>\n",
       "      <th>84</th>\n",
       "      <td>169</td>\n",
       "      <td>176.686005</td>\n",
       "      <td>-5.6</td>\n",
       "      <td>1017.299988</td>\n",
       "      <td>0.0</td>\n",
       "      <td>Education</td>\n",
       "      <td>179559</td>\n",
       "      <td>2006</td>\n",
       "      <td>0</td>\n",
       "      <td>1</td>\n",
       "      <td>0</td>\n",
       "      <td>0.0</td>\n",
       "      <td>0.0</td>\n",
       "      <td>39.616142</td>\n",
       "      <td>0</td>\n",
       "      <td>US</td>\n",
       "      <td>1</td>\n",
       "    </tr>\n",
       "    <tr>\n",
       "      <th>87</th>\n",
       "      <td>170</td>\n",
       "      <td>11.289100</td>\n",
       "      <td>-5.6</td>\n",
       "      <td>1017.299988</td>\n",
       "      <td>0.0</td>\n",
       "      <td>Retail</td>\n",
       "      <td>45224</td>\n",
       "      <td>1982</td>\n",
       "      <td>0</td>\n",
       "      <td>1</td>\n",
       "      <td>0</td>\n",
       "      <td>0.0</td>\n",
       "      <td>0.0</td>\n",
       "      <td>39.616142</td>\n",
       "      <td>0</td>\n",
       "      <td>US</td>\n",
       "      <td>1</td>\n",
       "    </tr>\n",
       "  </tbody>\n",
       "</table>\n",
       "</div>"
      ],
      "text/plain": [
       "    building_id  meter_reading  dew_temperature  sea_level_pressure  \\\n",
       "71          163       4.571900             -5.6         1017.299988   \n",
       "76          166     209.886002             -5.6         1017.299988   \n",
       "81          168      51.556999             -5.6         1017.299988   \n",
       "84          169     176.686005             -5.6         1017.299988   \n",
       "87          170      11.289100             -5.6         1017.299988   \n",
       "\n",
       "    wind_speed          primary_use  square_feet  year_built  missing_year  \\\n",
       "71         0.0            Education        72102        1970             0   \n",
       "76         0.0  Lodging/residential       553210        2009             0   \n",
       "81         0.0            Education       183460        2005             0   \n",
       "84         0.0            Education       179559        2006             0   \n",
       "87         0.0               Retail        45224        1982             0   \n",
       "\n",
       "    dayofyear  hour  wind_direction_x  wind_direction_y  rel_humidity  \\\n",
       "71          1     0               0.0               0.0     39.616142   \n",
       "76          1     0               0.0               0.0     39.616142   \n",
       "81          1     0               0.0               0.0     39.616142   \n",
       "84          1     0               0.0               0.0     39.616142   \n",
       "87          1     0               0.0               0.0     39.616142   \n",
       "\n",
       "    is_weekend country  is_holiday  \n",
       "71           0      US           1  \n",
       "76           0      US           1  \n",
       "81           0      US           1  \n",
       "84           0      US           1  \n",
       "87           0      US           1  "
      ]
     },
     "execution_count": 6,
     "metadata": {},
     "output_type": "execute_result"
    }
   ],
   "source": [
    "train1.head()"
   ]
  },
  {
   "cell_type": "code",
   "execution_count": 7,
   "metadata": {},
   "outputs": [
    {
     "name": "stdout",
     "output_type": "stream",
     "text": [
      "<class 'pandas.core.frame.DataFrame'>\n",
      "Int64Index: 2296049 entries, 765 to 18264889\n",
      "Data columns (total 17 columns):\n",
      "building_id           uint16\n",
      "meter_reading         float32\n",
      "dew_temperature       float32\n",
      "sea_level_pressure    float32\n",
      "wind_speed            float32\n",
      "primary_use           object\n",
      "square_feet           uint32\n",
      "year_built            uint16\n",
      "missing_year          uint8\n",
      "dayofyear             uint16\n",
      "hour                  uint8\n",
      "wind_direction_x      float32\n",
      "wind_direction_y      float32\n",
      "rel_humidity          float32\n",
      "is_weekend            uint8\n",
      "country               object\n",
      "is_holiday            uint8\n",
      "dtypes: float32(7), object(2), uint16(3), uint32(1), uint8(4)\n",
      "memory usage: 144.5+ MB\n"
     ]
    }
   ],
   "source": [
    "train2 = pd.read_pickle(f'{path}train_meter2.pkl')\n",
    "train2.info()"
   ]
  },
  {
   "cell_type": "code",
   "execution_count": 8,
   "metadata": {},
   "outputs": [
    {
     "name": "stdout",
     "output_type": "stream",
     "text": [
      "<class 'pandas.core.frame.DataFrame'>\n",
      "Int64Index: 2296049 entries, 765 to 18264889\n",
      "Data columns (total 17 columns):\n",
      "building_id           uint16\n",
      "meter_reading         float32\n",
      "dew_temperature       float32\n",
      "sea_level_pressure    float32\n",
      "wind_speed            float32\n",
      "primary_use           object\n",
      "square_feet           uint32\n",
      "year_built            uint16\n",
      "missing_year          uint8\n",
      "dayofyear             uint16\n",
      "hour                  uint8\n",
      "wind_direction_x      float32\n",
      "wind_direction_y      float32\n",
      "rel_humidity          float32\n",
      "is_weekend            uint8\n",
      "country               object\n",
      "is_holiday            uint8\n",
      "dtypes: float32(7), object(2), uint16(3), uint32(1), uint8(4)\n",
      "memory usage: 144.5+ MB\n"
     ]
    }
   ],
   "source": [
    "train2 = udf.reduce_mem_usage(train2)\n",
    "train2.info()"
   ]
  },
  {
   "cell_type": "code",
   "execution_count": 9,
   "metadata": {},
   "outputs": [
    {
     "data": {
      "text/html": [
       "<div>\n",
       "<style scoped>\n",
       "    .dataframe tbody tr th:only-of-type {\n",
       "        vertical-align: middle;\n",
       "    }\n",
       "\n",
       "    .dataframe tbody tr th {\n",
       "        vertical-align: top;\n",
       "    }\n",
       "\n",
       "    .dataframe thead th {\n",
       "        text-align: right;\n",
       "    }\n",
       "</style>\n",
       "<table border=\"1\" class=\"dataframe\">\n",
       "  <thead>\n",
       "    <tr style=\"text-align: right;\">\n",
       "      <th></th>\n",
       "      <th>building_id</th>\n",
       "      <th>meter_reading</th>\n",
       "      <th>dew_temperature</th>\n",
       "      <th>sea_level_pressure</th>\n",
       "      <th>wind_speed</th>\n",
       "      <th>primary_use</th>\n",
       "      <th>square_feet</th>\n",
       "      <th>year_built</th>\n",
       "      <th>missing_year</th>\n",
       "      <th>dayofyear</th>\n",
       "      <th>hour</th>\n",
       "      <th>wind_direction_x</th>\n",
       "      <th>wind_direction_y</th>\n",
       "      <th>rel_humidity</th>\n",
       "      <th>is_weekend</th>\n",
       "      <th>country</th>\n",
       "      <th>is_holiday</th>\n",
       "    </tr>\n",
       "  </thead>\n",
       "  <tbody>\n",
       "    <tr>\n",
       "      <th>765</th>\n",
       "      <td>747</td>\n",
       "      <td>120.786003</td>\n",
       "      <td>2.2</td>\n",
       "      <td>1020.0</td>\n",
       "      <td>1.5</td>\n",
       "      <td>Education</td>\n",
       "      <td>30531</td>\n",
       "      <td>1964</td>\n",
       "      <td>1</td>\n",
       "      <td>1</td>\n",
       "      <td>0</td>\n",
       "      <td>0.5</td>\n",
       "      <td>0.866025</td>\n",
       "      <td>70.474915</td>\n",
       "      <td>0</td>\n",
       "      <td>US</td>\n",
       "      <td>1</td>\n",
       "    </tr>\n",
       "    <tr>\n",
       "      <th>769</th>\n",
       "      <td>750</td>\n",
       "      <td>4678.140137</td>\n",
       "      <td>2.2</td>\n",
       "      <td>1020.0</td>\n",
       "      <td>1.5</td>\n",
       "      <td>Education</td>\n",
       "      <td>35990</td>\n",
       "      <td>1964</td>\n",
       "      <td>1</td>\n",
       "      <td>1</td>\n",
       "      <td>0</td>\n",
       "      <td>0.5</td>\n",
       "      <td>0.866025</td>\n",
       "      <td>70.474915</td>\n",
       "      <td>0</td>\n",
       "      <td>US</td>\n",
       "      <td>1</td>\n",
       "    </tr>\n",
       "    <tr>\n",
       "      <th>771</th>\n",
       "      <td>753</td>\n",
       "      <td>324.226013</td>\n",
       "      <td>2.2</td>\n",
       "      <td>1020.0</td>\n",
       "      <td>1.5</td>\n",
       "      <td>Education</td>\n",
       "      <td>39558</td>\n",
       "      <td>1964</td>\n",
       "      <td>1</td>\n",
       "      <td>1</td>\n",
       "      <td>0</td>\n",
       "      <td>0.5</td>\n",
       "      <td>0.866025</td>\n",
       "      <td>70.474915</td>\n",
       "      <td>0</td>\n",
       "      <td>US</td>\n",
       "      <td>1</td>\n",
       "    </tr>\n",
       "    <tr>\n",
       "      <th>774</th>\n",
       "      <td>757</td>\n",
       "      <td>918.984009</td>\n",
       "      <td>2.2</td>\n",
       "      <td>1020.0</td>\n",
       "      <td>1.5</td>\n",
       "      <td>Education</td>\n",
       "      <td>46813</td>\n",
       "      <td>1964</td>\n",
       "      <td>1</td>\n",
       "      <td>1</td>\n",
       "      <td>0</td>\n",
       "      <td>0.5</td>\n",
       "      <td>0.866025</td>\n",
       "      <td>70.474915</td>\n",
       "      <td>0</td>\n",
       "      <td>US</td>\n",
       "      <td>1</td>\n",
       "    </tr>\n",
       "    <tr>\n",
       "      <th>776</th>\n",
       "      <td>758</td>\n",
       "      <td>256.165985</td>\n",
       "      <td>2.2</td>\n",
       "      <td>1020.0</td>\n",
       "      <td>1.5</td>\n",
       "      <td>Lodging/residential</td>\n",
       "      <td>47007</td>\n",
       "      <td>1968</td>\n",
       "      <td>1</td>\n",
       "      <td>1</td>\n",
       "      <td>0</td>\n",
       "      <td>0.5</td>\n",
       "      <td>0.866025</td>\n",
       "      <td>70.474915</td>\n",
       "      <td>0</td>\n",
       "      <td>US</td>\n",
       "      <td>1</td>\n",
       "    </tr>\n",
       "  </tbody>\n",
       "</table>\n",
       "</div>"
      ],
      "text/plain": [
       "     building_id  meter_reading  dew_temperature  sea_level_pressure  \\\n",
       "765          747     120.786003              2.2              1020.0   \n",
       "769          750    4678.140137              2.2              1020.0   \n",
       "771          753     324.226013              2.2              1020.0   \n",
       "774          757     918.984009              2.2              1020.0   \n",
       "776          758     256.165985              2.2              1020.0   \n",
       "\n",
       "     wind_speed          primary_use  square_feet  year_built  missing_year  \\\n",
       "765         1.5            Education        30531        1964             1   \n",
       "769         1.5            Education        35990        1964             1   \n",
       "771         1.5            Education        39558        1964             1   \n",
       "774         1.5            Education        46813        1964             1   \n",
       "776         1.5  Lodging/residential        47007        1968             1   \n",
       "\n",
       "     dayofyear  hour  wind_direction_x  wind_direction_y  rel_humidity  \\\n",
       "765          1     0               0.5          0.866025     70.474915   \n",
       "769          1     0               0.5          0.866025     70.474915   \n",
       "771          1     0               0.5          0.866025     70.474915   \n",
       "774          1     0               0.5          0.866025     70.474915   \n",
       "776          1     0               0.5          0.866025     70.474915   \n",
       "\n",
       "     is_weekend country  is_holiday  \n",
       "765           0      US           1  \n",
       "769           0      US           1  \n",
       "771           0      US           1  \n",
       "774           0      US           1  \n",
       "776           0      US           1  "
      ]
     },
     "execution_count": 9,
     "metadata": {},
     "output_type": "execute_result"
    }
   ],
   "source": [
    "train2.head()"
   ]
  },
  {
   "cell_type": "code",
   "execution_count": 10,
   "metadata": {},
   "outputs": [
    {
     "name": "stdout",
     "output_type": "stream",
     "text": [
      "<class 'pandas.core.frame.DataFrame'>\n",
      "Int64Index: 919708 entries, 11 to 18264677\n",
      "Data columns (total 17 columns):\n",
      "building_id           919708 non-null uint16\n",
      "meter_reading         919708 non-null float32\n",
      "dew_temperature       919708 non-null float32\n",
      "sea_level_pressure    919708 non-null float32\n",
      "wind_speed            919708 non-null float32\n",
      "primary_use           919708 non-null object\n",
      "square_feet           919708 non-null uint32\n",
      "year_built            919708 non-null uint16\n",
      "missing_year          919708 non-null uint8\n",
      "dayofyear             919708 non-null uint16\n",
      "hour                  919708 non-null uint8\n",
      "wind_direction_x      919708 non-null float32\n",
      "wind_direction_y      919708 non-null float32\n",
      "rel_humidity          919708 non-null float32\n",
      "is_weekend            919708 non-null uint8\n",
      "country               919708 non-null object\n",
      "is_holiday            919708 non-null uint8\n",
      "dtypes: float32(7), object(2), uint16(3), uint32(1), uint8(4)\n",
      "memory usage: 57.9+ MB\n"
     ]
    }
   ],
   "source": [
    "train3 = pd.read_pickle(f'{path}train_meter3.pkl')\n",
    "train3.info()"
   ]
  },
  {
   "cell_type": "code",
   "execution_count": 11,
   "metadata": {},
   "outputs": [
    {
     "name": "stdout",
     "output_type": "stream",
     "text": [
      "<class 'pandas.core.frame.DataFrame'>\n",
      "Int64Index: 919708 entries, 11 to 18264677\n",
      "Data columns (total 17 columns):\n",
      "building_id           919708 non-null uint16\n",
      "meter_reading         919708 non-null float32\n",
      "dew_temperature       919708 non-null float32\n",
      "sea_level_pressure    919708 non-null float32\n",
      "wind_speed            919708 non-null float32\n",
      "primary_use           919708 non-null object\n",
      "square_feet           919708 non-null uint32\n",
      "year_built            919708 non-null uint16\n",
      "missing_year          919708 non-null uint8\n",
      "dayofyear             919708 non-null uint16\n",
      "hour                  919708 non-null uint8\n",
      "wind_direction_x      919708 non-null float32\n",
      "wind_direction_y      919708 non-null float32\n",
      "rel_humidity          919708 non-null float32\n",
      "is_weekend            919708 non-null uint8\n",
      "country               919708 non-null object\n",
      "is_holiday            919708 non-null uint8\n",
      "dtypes: float32(7), object(2), uint16(3), uint32(1), uint8(4)\n",
      "memory usage: 57.9+ MB\n"
     ]
    }
   ],
   "source": [
    "train3 = udf.reduce_mem_usage(train3)\n",
    "train3.info()"
   ]
  },
  {
   "cell_type": "code",
   "execution_count": 12,
   "metadata": {},
   "outputs": [
    {
     "data": {
      "text/html": [
       "<div>\n",
       "<style scoped>\n",
       "    .dataframe tbody tr th:only-of-type {\n",
       "        vertical-align: middle;\n",
       "    }\n",
       "\n",
       "    .dataframe tbody tr th {\n",
       "        vertical-align: top;\n",
       "    }\n",
       "\n",
       "    .dataframe thead th {\n",
       "        text-align: right;\n",
       "    }\n",
       "</style>\n",
       "<table border=\"1\" class=\"dataframe\">\n",
       "  <thead>\n",
       "    <tr style=\"text-align: right;\">\n",
       "      <th></th>\n",
       "      <th>building_id</th>\n",
       "      <th>meter_reading</th>\n",
       "      <th>dew_temperature</th>\n",
       "      <th>sea_level_pressure</th>\n",
       "      <th>wind_speed</th>\n",
       "      <th>primary_use</th>\n",
       "      <th>square_feet</th>\n",
       "      <th>year_built</th>\n",
       "      <th>missing_year</th>\n",
       "      <th>dayofyear</th>\n",
       "      <th>hour</th>\n",
       "      <th>wind_direction_x</th>\n",
       "      <th>wind_direction_y</th>\n",
       "      <th>rel_humidity</th>\n",
       "      <th>is_weekend</th>\n",
       "      <th>country</th>\n",
       "      <th>is_holiday</th>\n",
       "    </tr>\n",
       "  </thead>\n",
       "  <tbody>\n",
       "    <tr>\n",
       "      <th>11</th>\n",
       "      <td>112</td>\n",
       "      <td>96.977997</td>\n",
       "      <td>2.4</td>\n",
       "      <td>1020.900024</td>\n",
       "      <td>3.1</td>\n",
       "      <td>Education</td>\n",
       "      <td>32206</td>\n",
       "      <td>1960</td>\n",
       "      <td>1</td>\n",
       "      <td>1</td>\n",
       "      <td>0</td>\n",
       "      <td>-0.5</td>\n",
       "      <td>-0.866025</td>\n",
       "      <td>90.549408</td>\n",
       "      <td>0</td>\n",
       "      <td>UK</td>\n",
       "      <td>1</td>\n",
       "    </tr>\n",
       "    <tr>\n",
       "      <th>13</th>\n",
       "      <td>113</td>\n",
       "      <td>19.597000</td>\n",
       "      <td>2.4</td>\n",
       "      <td>1020.900024</td>\n",
       "      <td>3.1</td>\n",
       "      <td>Education</td>\n",
       "      <td>100481</td>\n",
       "      <td>1958</td>\n",
       "      <td>0</td>\n",
       "      <td>1</td>\n",
       "      <td>0</td>\n",
       "      <td>-0.5</td>\n",
       "      <td>-0.866025</td>\n",
       "      <td>90.549408</td>\n",
       "      <td>0</td>\n",
       "      <td>UK</td>\n",
       "      <td>1</td>\n",
       "    </tr>\n",
       "    <tr>\n",
       "      <th>15</th>\n",
       "      <td>114</td>\n",
       "      <td>100.000000</td>\n",
       "      <td>2.4</td>\n",
       "      <td>1020.900024</td>\n",
       "      <td>3.1</td>\n",
       "      <td>Education</td>\n",
       "      <td>139683</td>\n",
       "      <td>1958</td>\n",
       "      <td>0</td>\n",
       "      <td>1</td>\n",
       "      <td>0</td>\n",
       "      <td>-0.5</td>\n",
       "      <td>-0.866025</td>\n",
       "      <td>90.549408</td>\n",
       "      <td>0</td>\n",
       "      <td>UK</td>\n",
       "      <td>1</td>\n",
       "    </tr>\n",
       "    <tr>\n",
       "      <th>19</th>\n",
       "      <td>117</td>\n",
       "      <td>19.680901</td>\n",
       "      <td>2.4</td>\n",
       "      <td>1020.900024</td>\n",
       "      <td>3.1</td>\n",
       "      <td>Education</td>\n",
       "      <td>15489</td>\n",
       "      <td>2004</td>\n",
       "      <td>0</td>\n",
       "      <td>1</td>\n",
       "      <td>0</td>\n",
       "      <td>-0.5</td>\n",
       "      <td>-0.866025</td>\n",
       "      <td>90.549408</td>\n",
       "      <td>0</td>\n",
       "      <td>UK</td>\n",
       "      <td>1</td>\n",
       "    </tr>\n",
       "    <tr>\n",
       "      <th>22</th>\n",
       "      <td>119</td>\n",
       "      <td>200.000000</td>\n",
       "      <td>2.4</td>\n",
       "      <td>1020.900024</td>\n",
       "      <td>3.1</td>\n",
       "      <td>Education</td>\n",
       "      <td>91149</td>\n",
       "      <td>2007</td>\n",
       "      <td>0</td>\n",
       "      <td>1</td>\n",
       "      <td>0</td>\n",
       "      <td>-0.5</td>\n",
       "      <td>-0.866025</td>\n",
       "      <td>90.549408</td>\n",
       "      <td>0</td>\n",
       "      <td>UK</td>\n",
       "      <td>1</td>\n",
       "    </tr>\n",
       "  </tbody>\n",
       "</table>\n",
       "</div>"
      ],
      "text/plain": [
       "    building_id  meter_reading  dew_temperature  sea_level_pressure  \\\n",
       "11          112      96.977997              2.4         1020.900024   \n",
       "13          113      19.597000              2.4         1020.900024   \n",
       "15          114     100.000000              2.4         1020.900024   \n",
       "19          117      19.680901              2.4         1020.900024   \n",
       "22          119     200.000000              2.4         1020.900024   \n",
       "\n",
       "    wind_speed primary_use  square_feet  year_built  missing_year  dayofyear  \\\n",
       "11         3.1   Education        32206        1960             1          1   \n",
       "13         3.1   Education       100481        1958             0          1   \n",
       "15         3.1   Education       139683        1958             0          1   \n",
       "19         3.1   Education        15489        2004             0          1   \n",
       "22         3.1   Education        91149        2007             0          1   \n",
       "\n",
       "    hour  wind_direction_x  wind_direction_y  rel_humidity  is_weekend  \\\n",
       "11     0              -0.5         -0.866025     90.549408           0   \n",
       "13     0              -0.5         -0.866025     90.549408           0   \n",
       "15     0              -0.5         -0.866025     90.549408           0   \n",
       "19     0              -0.5         -0.866025     90.549408           0   \n",
       "22     0              -0.5         -0.866025     90.549408           0   \n",
       "\n",
       "   country  is_holiday  \n",
       "11      UK           1  \n",
       "13      UK           1  \n",
       "15      UK           1  \n",
       "19      UK           1  \n",
       "22      UK           1  "
      ]
     },
     "execution_count": 12,
     "metadata": {},
     "output_type": "execute_result"
    }
   ],
   "source": [
    "train3.head()"
   ]
  },
  {
   "cell_type": "code",
   "execution_count": 13,
   "metadata": {},
   "outputs": [
    {
     "data": {
      "text/plain": [
       "22"
      ]
     },
     "execution_count": 13,
     "metadata": {},
     "output_type": "execute_result"
    }
   ],
   "source": [
    "del path\n",
    "gc.collect()"
   ]
  },
  {
   "cell_type": "code",
   "execution_count": null,
   "metadata": {},
   "outputs": [],
   "source": []
  },
  {
   "cell_type": "code",
   "execution_count": null,
   "metadata": {},
   "outputs": [],
   "source": []
  },
  {
   "cell_type": "markdown",
   "metadata": {},
   "source": [
    "### Functions"
   ]
  },
  {
   "cell_type": "code",
   "execution_count": 14,
   "metadata": {},
   "outputs": [],
   "source": [
    "# Train/validation/test split\n",
    "def tvt_split(df):\n",
    "    X = df.drop('meter_reading', axis=1)\n",
    "    y = df[['meter_reading']]\n",
    "    y = np.log1p(y)\n",
    "    \n",
    "    X_train, X_test, y_train, y_test = train_test_split(X, y, test_size=0.20, random_state=42)\n",
    "    X_train, X_val, y_train, y_val = train_test_split(X_train, y_train, test_size=0.25, random_state=42)\n",
    "    return X_train, y_train, X_val, y_val, X_test, y_test"
   ]
  },
  {
   "cell_type": "code",
   "execution_count": 15,
   "metadata": {},
   "outputs": [],
   "source": [
    "def transform_feats(X_train, y_train, X_val, X_test):\n",
    "    X_train, X_val, X_test, rare_dict = udf.rare_encoder(X_train, X_test, ['primary_use'], val=X_val)\n",
    "    X_train, X_val, X_test, mean_dict = udf.mean_encoder(X_train, y_train, X_test, ['primary_use', 'country'], X_val=X_val)\n",
    "    X_train_scaled, X_val_scaled, X_test_scaled = udf.scale_feats(X_train, X_test, val=X_val)\n",
    "    \n",
    "    return X_train_scaled, X_val_scaled, X_test_scaled"
   ]
  },
  {
   "cell_type": "code",
   "execution_count": 16,
   "metadata": {},
   "outputs": [],
   "source": [
    "def lgbm_rmsle(X_train, y_train, X_val, y_val, X_test, y_test, params_dict, save_path):\n",
    "    dtrain = lgb.Dataset(X_train, label=y_train)\n",
    "    dval = lgb.Dataset(X_val, label=y_val)\n",
    "    \n",
    "    lgbm = lgb.train(params_dict, dtrain, valid_sets=[dtrain, dval], valid_names=['train', 'valid'], verbose_eval=False)\n",
    "    lgbm.save_model(save_path)\n",
    "    \n",
    "    pred_train = lgbm.predict(X_train)\n",
    "    pred_train[pred_train < 0] = 0\n",
    "    rmsle_train = np.sqrt(mean_squared_log_error(y_train, pred_train))\n",
    "    \n",
    "    pred_val = lgbm.predict(X_val)\n",
    "    pred_val[pred_val < 0] = 0\n",
    "    rmsle_val = np.sqrt(mean_squared_log_error(y_val, pred_val))\n",
    "    \n",
    "    pred_test = lgbm.predict(X_test)\n",
    "    pred_test[pred_test < 0] = 0\n",
    "    rmsle_test = np.sqrt(mean_squared_log_error(y_test, pred_test))\n",
    "    \n",
    "    return rmsle_train, rmsle_val, rmsle_test"
   ]
  },
  {
   "cell_type": "code",
   "execution_count": 17,
   "metadata": {},
   "outputs": [],
   "source": [
    "def xgb_rmsle(X_train, y_train, X_val, y_val, X_test, y_test, params_dict, save_path):\n",
    "    dtrain = xgb.DMatrix(X_train, label=y_train)\n",
    "    dval = xgb.DMatrix(X_val, label=y_val)\n",
    "    dtest = xgb.DMatrix(X_test, label=y_test)\n",
    "    \n",
    "    xg = xgb.train(params_dict, dtrain,\n",
    "                   evals=[(dtrain, 'train'), (dval, 'valid')],\n",
    "                   num_boost_round=1000,\n",
    "                   early_stopping_rounds=10,\n",
    "                   verbose_eval=False)\n",
    "    xg.save_model(save_path)\n",
    "    \n",
    "    pred_train = xg.predict(dtrain)\n",
    "    pred_train[pred_train < 0] = 0\n",
    "    rmsle_train = np.sqrt(mean_squared_log_error(y_train, pred_train))\n",
    "\n",
    "    pred_val = xg.predict(dval)\n",
    "    pred_val[pred_val < 0] = 0\n",
    "    rmsle_val = np.sqrt(mean_squared_log_error(y_val, pred_val))\n",
    "\n",
    "    pred_test = xg.predict(dtest)\n",
    "    pred_test[pred_test < 0] = 0\n",
    "    rmsle_test = np.sqrt(mean_squared_log_error(y_test, pred_test))\n",
    "    \n",
    "    return rmsle_train, rmsle_val, rmsle_test"
   ]
  },
  {
   "cell_type": "code",
   "execution_count": null,
   "metadata": {},
   "outputs": [],
   "source": []
  },
  {
   "cell_type": "code",
   "execution_count": null,
   "metadata": {},
   "outputs": [],
   "source": []
  },
  {
   "cell_type": "markdown",
   "metadata": {},
   "source": [
    "### Train/test split - chilled water"
   ]
  },
  {
   "cell_type": "code",
   "execution_count": 18,
   "metadata": {},
   "outputs": [
    {
     "name": "stdout",
     "output_type": "stream",
     "text": [
      "Train set: (2111322, 16) (2111322, 1)\n",
      "Validation set: (703774, 16) (703774, 1)\n",
      "Test set: (703774, 16) (703774, 1)\n"
     ]
    }
   ],
   "source": [
    "Xc_train, yc_train, Xc_val, yc_val, Xc_test, yc_test = tvt_split(train1)\n",
    "print('Train set:', Xc_train.shape, yc_train.shape)\n",
    "print('Validation set:', Xc_val.shape, yc_val.shape)\n",
    "print('Test set:', Xc_test.shape, yc_test.shape)"
   ]
  },
  {
   "cell_type": "code",
   "execution_count": 19,
   "metadata": {},
   "outputs": [
    {
     "data": {
      "text/plain": [
       "0"
      ]
     },
     "execution_count": 19,
     "metadata": {},
     "output_type": "execute_result"
    }
   ],
   "source": [
    "del train1\n",
    "gc.collect()"
   ]
  },
  {
   "cell_type": "code",
   "execution_count": null,
   "metadata": {},
   "outputs": [],
   "source": []
  },
  {
   "cell_type": "code",
   "execution_count": null,
   "metadata": {},
   "outputs": [],
   "source": []
  },
  {
   "cell_type": "markdown",
   "metadata": {},
   "source": [
    "### Feature transformation - chilled water"
   ]
  },
  {
   "cell_type": "code",
   "execution_count": 20,
   "metadata": {},
   "outputs": [
    {
     "name": "stderr",
     "output_type": "stream",
     "text": [
      "/home/tri/miniconda3/envs/minimal_ds/lib/python3.8/site-packages/sklearn/utils/validation.py:931: FutureWarning: Passing attributes to check_is_fitted is deprecated and will be removed in 0.23. The attributes argument is ignored.\n",
      "  warnings.warn(\"Passing attributes to check_is_fitted is deprecated\"\n"
     ]
    },
    {
     "data": {
      "text/html": [
       "<div>\n",
       "<style scoped>\n",
       "    .dataframe tbody tr th:only-of-type {\n",
       "        vertical-align: middle;\n",
       "    }\n",
       "\n",
       "    .dataframe tbody tr th {\n",
       "        vertical-align: top;\n",
       "    }\n",
       "\n",
       "    .dataframe thead th {\n",
       "        text-align: right;\n",
       "    }\n",
       "</style>\n",
       "<table border=\"1\" class=\"dataframe\">\n",
       "  <thead>\n",
       "    <tr style=\"text-align: right;\">\n",
       "      <th></th>\n",
       "      <th>building_id</th>\n",
       "      <th>dew_temperature</th>\n",
       "      <th>sea_level_pressure</th>\n",
       "      <th>wind_speed</th>\n",
       "      <th>primary_use</th>\n",
       "      <th>square_feet</th>\n",
       "      <th>year_built</th>\n",
       "      <th>missing_year</th>\n",
       "      <th>dayofyear</th>\n",
       "      <th>hour</th>\n",
       "      <th>wind_direction_x</th>\n",
       "      <th>wind_direction_y</th>\n",
       "      <th>rel_humidity</th>\n",
       "      <th>is_weekend</th>\n",
       "      <th>country</th>\n",
       "      <th>is_holiday</th>\n",
       "    </tr>\n",
       "  </thead>\n",
       "  <tbody>\n",
       "    <tr>\n",
       "      <th>0</th>\n",
       "      <td>-1.562845</td>\n",
       "      <td>0.660151</td>\n",
       "      <td>-0.930315</td>\n",
       "      <td>-0.715817</td>\n",
       "      <td>0.756970</td>\n",
       "      <td>-0.142244</td>\n",
       "      <td>1.132501</td>\n",
       "      <td>-1.370127</td>\n",
       "      <td>0.439333</td>\n",
       "      <td>-0.813992</td>\n",
       "      <td>-0.657531</td>\n",
       "      <td>1.325628</td>\n",
       "      <td>-0.537515</td>\n",
       "      <td>1.598019</td>\n",
       "      <td>-0.173728</td>\n",
       "      <td>-0.170191</td>\n",
       "    </tr>\n",
       "    <tr>\n",
       "      <th>1</th>\n",
       "      <td>1.190213</td>\n",
       "      <td>0.920849</td>\n",
       "      <td>0.240857</td>\n",
       "      <td>2.155033</td>\n",
       "      <td>0.611782</td>\n",
       "      <td>-0.951649</td>\n",
       "      <td>1.855347</td>\n",
       "      <td>-1.370127</td>\n",
       "      <td>0.399516</td>\n",
       "      <td>-1.104583</td>\n",
       "      <td>0.814772</td>\n",
       "      <td>-1.381928</td>\n",
       "      <td>1.535949</td>\n",
       "      <td>-0.625775</td>\n",
       "      <td>-0.173728</td>\n",
       "      <td>-0.170191</td>\n",
       "    </tr>\n",
       "    <tr>\n",
       "      <th>2</th>\n",
       "      <td>-1.348291</td>\n",
       "      <td>-1.637593</td>\n",
       "      <td>-1.308255</td>\n",
       "      <td>0.519071</td>\n",
       "      <td>-1.579297</td>\n",
       "      <td>-0.837591</td>\n",
       "      <td>0.242844</td>\n",
       "      <td>0.729859</td>\n",
       "      <td>0.867364</td>\n",
       "      <td>1.074848</td>\n",
       "      <td>-0.413719</td>\n",
       "      <td>-1.456952</td>\n",
       "      <td>-1.983900</td>\n",
       "      <td>-0.625775</td>\n",
       "      <td>-0.173728</td>\n",
       "      <td>-0.170191</td>\n",
       "    </tr>\n",
       "    <tr>\n",
       "      <th>3</th>\n",
       "      <td>-1.743521</td>\n",
       "      <td>1.537830</td>\n",
       "      <td>1.019860</td>\n",
       "      <td>0.519071</td>\n",
       "      <td>-0.341213</td>\n",
       "      <td>0.616311</td>\n",
       "      <td>2.077762</td>\n",
       "      <td>-1.370127</td>\n",
       "      <td>0.090935</td>\n",
       "      <td>0.203075</td>\n",
       "      <td>1.450669</td>\n",
       "      <td>0.761589</td>\n",
       "      <td>0.445447</td>\n",
       "      <td>1.598019</td>\n",
       "      <td>-0.173728</td>\n",
       "      <td>-0.170191</td>\n",
       "    </tr>\n",
       "    <tr>\n",
       "      <th>4</th>\n",
       "      <td>0.591722</td>\n",
       "      <td>0.167073</td>\n",
       "      <td>-0.295374</td>\n",
       "      <td>0.994028</td>\n",
       "      <td>-1.579297</td>\n",
       "      <td>0.040093</td>\n",
       "      <td>0.076033</td>\n",
       "      <td>0.729859</td>\n",
       "      <td>-0.585952</td>\n",
       "      <td>0.057780</td>\n",
       "      <td>-0.153869</td>\n",
       "      <td>1.508670</td>\n",
       "      <td>1.114079</td>\n",
       "      <td>-0.625775</td>\n",
       "      <td>-0.173728</td>\n",
       "      <td>-0.170191</td>\n",
       "    </tr>\n",
       "  </tbody>\n",
       "</table>\n",
       "</div>"
      ],
      "text/plain": [
       "   building_id  dew_temperature  sea_level_pressure  wind_speed  primary_use  \\\n",
       "0    -1.562845         0.660151           -0.930315   -0.715817     0.756970   \n",
       "1     1.190213         0.920849            0.240857    2.155033     0.611782   \n",
       "2    -1.348291        -1.637593           -1.308255    0.519071    -1.579297   \n",
       "3    -1.743521         1.537830            1.019860    0.519071    -0.341213   \n",
       "4     0.591722         0.167073           -0.295374    0.994028    -1.579297   \n",
       "\n",
       "   square_feet  year_built  missing_year  dayofyear      hour  \\\n",
       "0    -0.142244    1.132501     -1.370127   0.439333 -0.813992   \n",
       "1    -0.951649    1.855347     -1.370127   0.399516 -1.104583   \n",
       "2    -0.837591    0.242844      0.729859   0.867364  1.074848   \n",
       "3     0.616311    2.077762     -1.370127   0.090935  0.203075   \n",
       "4     0.040093    0.076033      0.729859  -0.585952  0.057780   \n",
       "\n",
       "   wind_direction_x  wind_direction_y  rel_humidity  is_weekend   country  \\\n",
       "0         -0.657531          1.325628     -0.537515    1.598019 -0.173728   \n",
       "1          0.814772         -1.381928      1.535949   -0.625775 -0.173728   \n",
       "2         -0.413719         -1.456952     -1.983900   -0.625775 -0.173728   \n",
       "3          1.450669          0.761589      0.445447    1.598019 -0.173728   \n",
       "4         -0.153869          1.508670      1.114079   -0.625775 -0.173728   \n",
       "\n",
       "   is_holiday  \n",
       "0   -0.170191  \n",
       "1   -0.170191  \n",
       "2   -0.170191  \n",
       "3   -0.170191  \n",
       "4   -0.170191  "
      ]
     },
     "execution_count": 20,
     "metadata": {},
     "output_type": "execute_result"
    }
   ],
   "source": [
    "Xc_train_scaled, Xc_val_scaled, Xc_test_scaled = transform_feats(Xc_train, yc_train, Xc_val, Xc_test)\n",
    "Xc_train_scaled.head()"
   ]
  },
  {
   "cell_type": "code",
   "execution_count": 21,
   "metadata": {},
   "outputs": [
    {
     "data": {
      "text/plain": [
       "20"
      ]
     },
     "execution_count": 21,
     "metadata": {},
     "output_type": "execute_result"
    }
   ],
   "source": [
    "del Xc_train, Xc_val, Xc_test\n",
    "gc.collect()"
   ]
  },
  {
   "cell_type": "code",
   "execution_count": null,
   "metadata": {},
   "outputs": [],
   "source": []
  },
  {
   "cell_type": "code",
   "execution_count": null,
   "metadata": {},
   "outputs": [],
   "source": []
  },
  {
   "cell_type": "markdown",
   "metadata": {},
   "source": [
    "### LightGBM - chilled water"
   ]
  },
  {
   "cell_type": "code",
   "execution_count": 22,
   "metadata": {},
   "outputs": [],
   "source": [
    "# Objective function for parameter optimization\n",
    "def objective_lgb1(trial):\n",
    "    \n",
    "    joblib.dump(study_lgb1, '../objects/chilledwater/study_lgb1.pkl')\n",
    "    \n",
    "    dtrain = lgb.Dataset(Xc_train_scaled, label=yc_train)\n",
    "    dval = lgb.Dataset(Xc_val_scaled, label=yc_val)\n",
    "\n",
    "    params = {\n",
    "        'learning_rate': trial.suggest_loguniform('learning_rate', 1e-4, 1e-1),\n",
    "        'lambda_l1': trial.suggest_loguniform('lambda_l1', 1e-4, 1e1),\n",
    "        'lambda_l2': trial.suggest_loguniform('lambda_l2', 1e-4, 1e1),\n",
    "        'max_depth': trial.suggest_int('max_depth', 2, 100),\n",
    "        'num_leaves': trial.suggest_int('num_leaves', 2, 2048),\n",
    "        'min_data_in_leaf': trial.suggest_int('min_data_in_leaf', 5, 5000),\n",
    "        'bagging_fraction': trial.suggest_uniform('bagging_fraction', 0.5, 1.0),\n",
    "        'feature_fraction': trial.suggest_uniform('feature_fraction', 0.5, 1.0),\n",
    "        'num_iterations': 5000,\n",
    "        'early_stopping_round': 20,\n",
    "        'metric': 'rmse',\n",
    "        'num_threads': -1,\n",
    "        'seed': 42\n",
    "    }\n",
    "    \n",
    "    lgbm = lgb.train(params, dtrain, valid_sets=[dtrain, dval], valid_names=['train', 'valid'], verbose_eval=False)\n",
    "    pred = lgbm.predict(Xc_val_scaled)\n",
    "    pred[pred < 0] = 0\n",
    "    loss = mean_squared_log_error(yc_val, pred)\n",
    "\n",
    "#     cv = lgb.cv(params, dtrain, folds=KFold(10, shuffle=True, random_state=42), verbose_eval=False)\n",
    "#     loss = cv['rmse-mean'][-1]\n",
    "    \n",
    "    return loss"
   ]
  },
  {
   "cell_type": "code",
   "execution_count": 23,
   "metadata": {},
   "outputs": [],
   "source": [
    "# print(datetime.datetime.now())\n",
    "\n",
    "# # Enable logging\n",
    "# optuna.logging.enable_default_handler()\n",
    "\n",
    "# # Optimize parameters\n",
    "# study_lgb1 = optuna.create_study(direction='minimize')\n",
    "# study_lgb1.optimize(objective_lgb1, n_trials=50)\n",
    "\n",
    "# print(datetime.datetime.now())\n",
    "\n",
    "# print(f'Finished trials: {len(study_lgb1.trials)}')\n",
    "# print(f'Best trial: {study_lgb1.best_trial.value}')\n",
    "# study_lgb1.best_trial.params"
   ]
  },
  {
   "cell_type": "code",
   "execution_count": 24,
   "metadata": {},
   "outputs": [
    {
     "name": "stdout",
     "output_type": "stream",
     "text": [
      "Finished trials: 50\n",
      "Best trial: 0.009449663067638923\n"
     ]
    },
    {
     "data": {
      "text/plain": [
       "{'learning_rate': 0.020424864262841822,\n",
       " 'lambda_l1': 0.27986455703148144,\n",
       " 'lambda_l2': 7.08804479307531,\n",
       " 'max_depth': 32,\n",
       " 'num_leaves': 1293,\n",
       " 'min_data_in_leaf': 23,\n",
       " 'bagging_fraction': 0.9143657877950819,\n",
       " 'feature_fraction': 0.701556769695671}"
      ]
     },
     "execution_count": 24,
     "metadata": {},
     "output_type": "execute_result"
    }
   ],
   "source": [
    "# Study results\n",
    "study_lgb1 = joblib.load('../objects/chilledwater/study_lgb1.pkl')\n",
    "print(f'Finished trials: {len(study_lgb1.trials)}')\n",
    "print(f'Best trial: {study_lgb1.best_trial.value}')\n",
    "study_lgb1.best_trial.params"
   ]
  },
  {
   "cell_type": "code",
   "execution_count": 68,
   "metadata": {},
   "outputs": [
    {
     "name": "stderr",
     "output_type": "stream",
     "text": [
      "/home/tri/miniconda3/envs/minimal_ds/lib/python3.8/site-packages/lightgbm/engine.py:148: UserWarning: Found `num_iterations` in params. Will use it instead of argument\n",
      "  warnings.warn(\"Found `{}` in params. Will use it instead of argument\".format(alias))\n",
      "/home/tri/miniconda3/envs/minimal_ds/lib/python3.8/site-packages/lightgbm/engine.py:153: UserWarning: Found `early_stopping_round` in params. Will use it instead of argument\n",
      "  warnings.warn(\"Found `{}` in params. Will use it instead of argument\".format(alias))\n"
     ]
    },
    {
     "name": "stdout",
     "output_type": "stream",
     "text": [
      "Train RMSLE: 0.05925545877877479\n",
      "Validation RMSLE: 0.09362403376475784\n",
      "Test RMSLE: 0.0943962574506281\n"
     ]
    }
   ],
   "source": [
    "# Parameters from Optuna\n",
    "params_lgb1 = dict(study_lgb1.best_trial.params)\n",
    "params_lgb1['num_iterations'] = 10000\n",
    "params_lgb1['early_stopping_round'] = 20\n",
    "params_lgb1['metric'] = 'rmse'\n",
    "params_lgb1['num_threads'] = -1\n",
    "params_lgb1['seed'] = 42\n",
    "\n",
    "# Root mean squared log error\n",
    "rmsle_train, rmsle_val, rmsle_test = lgbm_rmsle(Xc_train_scaled, yc_train, Xc_val_scaled, yc_val, Xc_test_scaled, yc_test, params_lgb1, '../objects/chilledwater/lgbm1.txt')\n",
    "print('Train RMSLE:', rmsle_train)\n",
    "print('Validation RMSLE:', rmsle_val)\n",
    "print('Test RMSLE:', rmsle_test)"
   ]
  },
  {
   "cell_type": "code",
   "execution_count": null,
   "metadata": {},
   "outputs": [],
   "source": [
    "del rmsle_train, rmsle_val, rmsle_test\n",
    "gc.collect()"
   ]
  },
  {
   "cell_type": "code",
   "execution_count": null,
   "metadata": {},
   "outputs": [],
   "source": []
  },
  {
   "cell_type": "code",
   "execution_count": null,
   "metadata": {},
   "outputs": [],
   "source": []
  },
  {
   "cell_type": "markdown",
   "metadata": {},
   "source": [
    "### XGBoost - chilled water"
   ]
  },
  {
   "cell_type": "code",
   "execution_count": 25,
   "metadata": {},
   "outputs": [],
   "source": [
    "# Objective function for parameter optimization\n",
    "def objective_xgb1(trial):\n",
    "    \n",
    "    joblib.dump(study_xgb1, '../objects/chilledwater/study_xgb1.pkl')\n",
    "    \n",
    "    dtrain = xgb.DMatrix(Xc_val_scaled, label=yc_val)\n",
    "    dval = xgb.DMatrix(Xc_test_scaled, label=yc_test)\n",
    "\n",
    "    params = {\n",
    "        'grow_policy': trial.suggest_categorical('grow_policy', ['depthwise', 'lossguide']),\n",
    "        'learning_rate': trial.suggest_loguniform('learning_rate', 1e-4, 1e-1),\n",
    "        'alpha': trial.suggest_loguniform('alpha', 1e-4, 1e1),\n",
    "        'lambda': trial.suggest_loguniform('lambda', 1e-4, 1e1),\n",
    "        'gamma': trial.suggest_loguniform('gamma', 1e-4, 1e1),\n",
    "        'max_depth': trial.suggest_int('max_depth', 2, 100),\n",
    "        'max_leaves': trial.suggest_int('max_leaves', 2, 2024),\n",
    "        'subsample': trial.suggest_uniform('subsample', 0.5, 1.0),\n",
    "        'colsample_bytree': trial.suggest_uniform('colsample_bytree', 0.5, 1.0),\n",
    "        'eval_metric': 'rmse',\n",
    "        'seed': 42\n",
    "    }\n",
    "    \n",
    "    xg = xgb.train(params, dtrain, \n",
    "                   evals=[(dtrain, 'train'), (dval, 'valid')],\n",
    "                   num_boost_round=1000, \n",
    "                   early_stopping_rounds=10,\n",
    "                   verbose_eval=False)\n",
    "    pred = xg.predict(dval)\n",
    "    pred[pred < 0] = 0\n",
    "    loss = mean_squared_log_error(yc_test, pred)\n",
    "\n",
    "#     cv = xgb.cv(params, dtrain, folds=KFold(10, shuffle=True, random_state=42), verbose_eval=False)\n",
    "#     loss = cv['rmse-mean'][-1]\n",
    "    \n",
    "    return loss"
   ]
  },
  {
   "cell_type": "code",
   "execution_count": 26,
   "metadata": {},
   "outputs": [],
   "source": [
    "# print(f'Start: {datetime.datetime.now()}')\n",
    "\n",
    "# # Optimize parameters\n",
    "# study_xgb1 = optuna.create_study(direction='minimize')\n",
    "# study_xgb1.optimize(objective_xgb1, n_trials=50)\n",
    "\n",
    "# print(f'End: {datetime.datetime.now()}')\n",
    "\n",
    "# print(f'Finished trials: {len(study_xgb1.trials)}')\n",
    "# print(f'Best trial: {study_xgb1.best_trial.value}')\n",
    "# study_xgb1.best_trial.params"
   ]
  },
  {
   "cell_type": "code",
   "execution_count": 27,
   "metadata": {},
   "outputs": [
    {
     "name": "stdout",
     "output_type": "stream",
     "text": [
      "Finished trials: 50\n",
      "Best trial: 0.01182694174349308\n"
     ]
    },
    {
     "data": {
      "text/plain": [
       "{'grow_policy': 'depthwise',\n",
       " 'learning_rate': 0.03801178677708901,\n",
       " 'alpha': 0.051064916441743415,\n",
       " 'lambda': 0.890189928673286,\n",
       " 'gamma': 0.053083931710043705,\n",
       " 'max_depth': 16,\n",
       " 'max_leaves': 1131,\n",
       " 'subsample': 0.7245353487626778,\n",
       " 'colsample_bytree': 0.777530288110325}"
      ]
     },
     "execution_count": 27,
     "metadata": {},
     "output_type": "execute_result"
    }
   ],
   "source": [
    "# Study results\n",
    "study_xgb1 = joblib.load('../objects/chilledwater/study_xgb1.pkl')\n",
    "print(f'Finished trials: {len(study_xgb1.trials)}')\n",
    "print(f'Best trial: {study_xgb1.best_trial.value}')\n",
    "study_xgb1.best_trial.params"
   ]
  },
  {
   "cell_type": "code",
   "execution_count": 70,
   "metadata": {},
   "outputs": [
    {
     "name": "stdout",
     "output_type": "stream",
     "text": [
      "Train RMSLE: 0.037819352\n",
      "Validation RMSLE: 0.08988674\n",
      "Test RMSLE: 0.09077369\n"
     ]
    }
   ],
   "source": [
    "# Parameters from Optuna\n",
    "params_xgb1 = dict(study_xgb1.best_trial.params)\n",
    "params_xgb1['eval_metric'] = 'rmse'\n",
    "params_xgb1['seed'] = 42\n",
    "\n",
    "rmsle_train, rmsle_val, rmsle_test = xgb_rmsle(Xc_train_scaled, yc_train, Xc_val_scaled, yc_val, Xc_test_scaled, yc_test, params_xgb1, '../objects/chilledwater/xg1.txt')\n",
    "print('Train RMSLE:', rmsle_train)\n",
    "print('Validation RMSLE:', rmsle_val)\n",
    "print('Test RMSLE:', rmsle_test)"
   ]
  },
  {
   "cell_type": "code",
   "execution_count": null,
   "metadata": {},
   "outputs": [],
   "source": [
    "del rmsle_train, rmsle_val, rmsle_test\n",
    "gc.collect()"
   ]
  },
  {
   "cell_type": "code",
   "execution_count": null,
   "metadata": {},
   "outputs": [],
   "source": []
  },
  {
   "cell_type": "code",
   "execution_count": null,
   "metadata": {},
   "outputs": [],
   "source": []
  },
  {
   "cell_type": "markdown",
   "metadata": {},
   "source": [
    "### Train/test split - steam"
   ]
  },
  {
   "cell_type": "code",
   "execution_count": 28,
   "metadata": {},
   "outputs": [
    {
     "name": "stdout",
     "output_type": "stream",
     "text": [
      "Train set: (1377629, 16) (1377629, 1)\n",
      "Validation set: (459210, 16) (459210, 1)\n",
      "Test set: (459210, 16) (459210, 1)\n"
     ]
    }
   ],
   "source": [
    "Xs_train, ys_train, Xs_val, ys_val, Xs_test, ys_test = tvt_split(train2)\n",
    "print('Train set:', Xs_train.shape, ys_train.shape)\n",
    "print('Validation set:', Xs_val.shape, ys_val.shape)\n",
    "print('Test set:', Xs_test.shape, ys_test.shape)"
   ]
  },
  {
   "cell_type": "code",
   "execution_count": 29,
   "metadata": {},
   "outputs": [
    {
     "data": {
      "text/plain": [
       "20"
      ]
     },
     "execution_count": 29,
     "metadata": {},
     "output_type": "execute_result"
    }
   ],
   "source": [
    "del train2\n",
    "gc.collect()"
   ]
  },
  {
   "cell_type": "code",
   "execution_count": null,
   "metadata": {},
   "outputs": [],
   "source": []
  },
  {
   "cell_type": "code",
   "execution_count": null,
   "metadata": {},
   "outputs": [],
   "source": []
  },
  {
   "cell_type": "markdown",
   "metadata": {},
   "source": [
    "### Feature transformation - steam"
   ]
  },
  {
   "cell_type": "code",
   "execution_count": 30,
   "metadata": {},
   "outputs": [
    {
     "name": "stderr",
     "output_type": "stream",
     "text": [
      "/home/tri/miniconda3/envs/minimal_ds/lib/python3.8/site-packages/sklearn/utils/validation.py:931: FutureWarning: Passing attributes to check_is_fitted is deprecated and will be removed in 0.23. The attributes argument is ignored.\n",
      "  warnings.warn(\"Passing attributes to check_is_fitted is deprecated\"\n"
     ]
    },
    {
     "data": {
      "text/html": [
       "<div>\n",
       "<style scoped>\n",
       "    .dataframe tbody tr th:only-of-type {\n",
       "        vertical-align: middle;\n",
       "    }\n",
       "\n",
       "    .dataframe tbody tr th {\n",
       "        vertical-align: top;\n",
       "    }\n",
       "\n",
       "    .dataframe thead th {\n",
       "        text-align: right;\n",
       "    }\n",
       "</style>\n",
       "<table border=\"1\" class=\"dataframe\">\n",
       "  <thead>\n",
       "    <tr style=\"text-align: right;\">\n",
       "      <th></th>\n",
       "      <th>building_id</th>\n",
       "      <th>dew_temperature</th>\n",
       "      <th>sea_level_pressure</th>\n",
       "      <th>wind_speed</th>\n",
       "      <th>primary_use</th>\n",
       "      <th>square_feet</th>\n",
       "      <th>year_built</th>\n",
       "      <th>missing_year</th>\n",
       "      <th>dayofyear</th>\n",
       "      <th>hour</th>\n",
       "      <th>wind_direction_x</th>\n",
       "      <th>wind_direction_y</th>\n",
       "      <th>rel_humidity</th>\n",
       "      <th>is_weekend</th>\n",
       "      <th>country</th>\n",
       "      <th>is_holiday</th>\n",
       "    </tr>\n",
       "  </thead>\n",
       "  <tbody>\n",
       "    <tr>\n",
       "      <th>0</th>\n",
       "      <td>-1.162719</td>\n",
       "      <td>-0.286393</td>\n",
       "      <td>0.453574</td>\n",
       "      <td>-0.740216</td>\n",
       "      <td>-1.852592</td>\n",
       "      <td>-0.560811</td>\n",
       "      <td>0.116663</td>\n",
       "      <td>0.535564</td>\n",
       "      <td>-0.857836</td>\n",
       "      <td>-1.086741</td>\n",
       "      <td>-0.157262</td>\n",
       "      <td>1.652178</td>\n",
       "      <td>-0.792023</td>\n",
       "      <td>-0.631759</td>\n",
       "      <td>-0.181878</td>\n",
       "      <td>-0.177634</td>\n",
       "    </tr>\n",
       "    <tr>\n",
       "      <th>1</th>\n",
       "      <td>0.511915</td>\n",
       "      <td>-1.472452</td>\n",
       "      <td>-0.549881</td>\n",
       "      <td>0.198366</td>\n",
       "      <td>-0.474143</td>\n",
       "      <td>1.124846</td>\n",
       "      <td>-0.221431</td>\n",
       "      <td>0.535564</td>\n",
       "      <td>-1.473199</td>\n",
       "      <td>-1.086741</td>\n",
       "      <td>-0.841100</td>\n",
       "      <td>1.293200</td>\n",
       "      <td>0.844909</td>\n",
       "      <td>-0.631759</td>\n",
       "      <td>-0.181878</td>\n",
       "      <td>-0.177634</td>\n",
       "    </tr>\n",
       "    <tr>\n",
       "      <th>2</th>\n",
       "      <td>-1.881141</td>\n",
       "      <td>1.247458</td>\n",
       "      <td>0.105153</td>\n",
       "      <td>-0.472050</td>\n",
       "      <td>-0.188589</td>\n",
       "      <td>-1.037873</td>\n",
       "      <td>-0.153812</td>\n",
       "      <td>0.535564</td>\n",
       "      <td>0.251682</td>\n",
       "      <td>-0.362719</td>\n",
       "      <td>1.531355</td>\n",
       "      <td>0.321111</td>\n",
       "      <td>-0.365016</td>\n",
       "      <td>-0.631759</td>\n",
       "      <td>-0.181878</td>\n",
       "      <td>-0.177634</td>\n",
       "    </tr>\n",
       "    <tr>\n",
       "      <th>3</th>\n",
       "      <td>-0.130618</td>\n",
       "      <td>0.311095</td>\n",
       "      <td>0.760187</td>\n",
       "      <td>-0.248578</td>\n",
       "      <td>-1.852592</td>\n",
       "      <td>0.826786</td>\n",
       "      <td>0.116663</td>\n",
       "      <td>0.535564</td>\n",
       "      <td>0.671248</td>\n",
       "      <td>-1.231545</td>\n",
       "      <td>-0.841100</td>\n",
       "      <td>1.293200</td>\n",
       "      <td>0.516242</td>\n",
       "      <td>-0.631759</td>\n",
       "      <td>-0.181878</td>\n",
       "      <td>-0.177634</td>\n",
       "    </tr>\n",
       "    <tr>\n",
       "      <th>4</th>\n",
       "      <td>0.355076</td>\n",
       "      <td>-0.634185</td>\n",
       "      <td>0.133028</td>\n",
       "      <td>0.198366</td>\n",
       "      <td>0.689930</td>\n",
       "      <td>-0.120070</td>\n",
       "      <td>0.251900</td>\n",
       "      <td>0.535564</td>\n",
       "      <td>-1.240107</td>\n",
       "      <td>-0.073111</td>\n",
       "      <td>-1.339644</td>\n",
       "      <td>0.321111</td>\n",
       "      <td>0.903768</td>\n",
       "      <td>-0.631759</td>\n",
       "      <td>-0.181878</td>\n",
       "      <td>-0.177634</td>\n",
       "    </tr>\n",
       "  </tbody>\n",
       "</table>\n",
       "</div>"
      ],
      "text/plain": [
       "   building_id  dew_temperature  sea_level_pressure  wind_speed  primary_use  \\\n",
       "0    -1.162719        -0.286393            0.453574   -0.740216    -1.852592   \n",
       "1     0.511915        -1.472452           -0.549881    0.198366    -0.474143   \n",
       "2    -1.881141         1.247458            0.105153   -0.472050    -0.188589   \n",
       "3    -0.130618         0.311095            0.760187   -0.248578    -1.852592   \n",
       "4     0.355076        -0.634185            0.133028    0.198366     0.689930   \n",
       "\n",
       "   square_feet  year_built  missing_year  dayofyear      hour  \\\n",
       "0    -0.560811    0.116663      0.535564  -0.857836 -1.086741   \n",
       "1     1.124846   -0.221431      0.535564  -1.473199 -1.086741   \n",
       "2    -1.037873   -0.153812      0.535564   0.251682 -0.362719   \n",
       "3     0.826786    0.116663      0.535564   0.671248 -1.231545   \n",
       "4    -0.120070    0.251900      0.535564  -1.240107 -0.073111   \n",
       "\n",
       "   wind_direction_x  wind_direction_y  rel_humidity  is_weekend   country  \\\n",
       "0         -0.157262          1.652178     -0.792023   -0.631759 -0.181878   \n",
       "1         -0.841100          1.293200      0.844909   -0.631759 -0.181878   \n",
       "2          1.531355          0.321111     -0.365016   -0.631759 -0.181878   \n",
       "3         -0.841100          1.293200      0.516242   -0.631759 -0.181878   \n",
       "4         -1.339644          0.321111      0.903768   -0.631759 -0.181878   \n",
       "\n",
       "   is_holiday  \n",
       "0   -0.177634  \n",
       "1   -0.177634  \n",
       "2   -0.177634  \n",
       "3   -0.177634  \n",
       "4   -0.177634  "
      ]
     },
     "execution_count": 30,
     "metadata": {},
     "output_type": "execute_result"
    }
   ],
   "source": [
    "Xs_train_scaled, Xs_val_scaled, Xs_test_scaled = transform_feats(Xs_train, ys_train, Xs_val, Xs_test)\n",
    "Xs_train_scaled.head()"
   ]
  },
  {
   "cell_type": "code",
   "execution_count": 31,
   "metadata": {},
   "outputs": [
    {
     "data": {
      "text/plain": [
       "20"
      ]
     },
     "execution_count": 31,
     "metadata": {},
     "output_type": "execute_result"
    }
   ],
   "source": [
    "del Xs_train, Xs_val, Xs_test\n",
    "gc.collect()"
   ]
  },
  {
   "cell_type": "code",
   "execution_count": null,
   "metadata": {},
   "outputs": [],
   "source": []
  },
  {
   "cell_type": "code",
   "execution_count": null,
   "metadata": {},
   "outputs": [],
   "source": []
  },
  {
   "cell_type": "markdown",
   "metadata": {},
   "source": [
    "### LightGBM - steam"
   ]
  },
  {
   "cell_type": "code",
   "execution_count": 32,
   "metadata": {},
   "outputs": [],
   "source": [
    "# Objective function for parameter optimization\n",
    "def objective_lgb2(trial):\n",
    "    \n",
    "    joblib.dump(study_lgb2, '../objects/steam/study_lgb2.pkl')\n",
    "    \n",
    "    dtrain = lgb.Dataset(Xs_train_scaled, label=ys_train)\n",
    "    dval = lgb.Dataset(Xs_val_scaled, label=ys_val)\n",
    "\n",
    "    params = {\n",
    "        'learning_rate': trial.suggest_loguniform('learning_rate', 1e-4, 1e-1),\n",
    "        'lambda_l1': trial.suggest_loguniform('lambda_l1', 1e-4, 1e1),\n",
    "        'lambda_l2': trial.suggest_loguniform('lambda_l2', 1e-4, 1e1),\n",
    "        'max_depth': trial.suggest_int('max_depth', 2, 100),\n",
    "        'num_leaves': trial.suggest_int('num_leaves', 2, 2048),\n",
    "        'min_data_in_leaf': trial.suggest_int('min_data_in_leaf', 5, 5000),\n",
    "        'bagging_fraction': trial.suggest_uniform('bagging_fraction', 0.5, 1.0),\n",
    "        'feature_fraction': trial.suggest_uniform('feature_fraction', 0.5, 1.0),\n",
    "        'num_iterations': 5000,\n",
    "        'early_stopping_round': 20,\n",
    "        'metric': 'rmse',\n",
    "        'num_threads': -1,\n",
    "        'seed': 42\n",
    "    }\n",
    "    \n",
    "    lgbm = lgb.train(params, dtrain, valid_sets=[dtrain, dval], valid_names=['train', 'valid'], verbose_eval=False)\n",
    "    pred = lgbm.predict(Xs_val_scaled)\n",
    "    pred[pred < 0] = 0\n",
    "    loss = mean_squared_log_error(ys_val, pred)\n",
    "\n",
    "#     cv = lgb.cv(params, dtrain, folds=KFold(10, shuffle=True, random_state=42), verbose_eval=False)\n",
    "#     loss = cv['rmse-mean'][-1]\n",
    "    \n",
    "    return loss"
   ]
  },
  {
   "cell_type": "code",
   "execution_count": 33,
   "metadata": {},
   "outputs": [],
   "source": [
    "# print(datetime.datetime.now())\n",
    "\n",
    "# # Enable logging\n",
    "# optuna.logging.enable_default_handler()\n",
    "\n",
    "# # Optimize parameters\n",
    "# study_lgb2 = optuna.create_study(direction='minimize')\n",
    "# study_lgb2.optimize(objective_lgb2, n_trials=50)\n",
    "\n",
    "# print(datetime.datetime.now())\n",
    "\n",
    "# print(f'Finished trials: {len(study_lgb2.trials)}')\n",
    "# print(f'Best trial: {study_lgb2.best_trial.value}')\n",
    "# study_lgb2.best_trial.params"
   ]
  },
  {
   "cell_type": "code",
   "execution_count": 34,
   "metadata": {},
   "outputs": [
    {
     "name": "stdout",
     "output_type": "stream",
     "text": [
      "Finished trials: 50\n",
      "Best trial: 0.008178677525527289\n"
     ]
    },
    {
     "data": {
      "text/plain": [
       "{'learning_rate': 0.04854268157540762,\n",
       " 'lambda_l1': 0.0028266466239996284,\n",
       " 'lambda_l2': 0.00010211303918218761,\n",
       " 'max_depth': 56,\n",
       " 'num_leaves': 409,\n",
       " 'min_data_in_leaf': 8,\n",
       " 'bagging_fraction': 0.5012612103606688,\n",
       " 'feature_fraction': 0.8537936823847498}"
      ]
     },
     "execution_count": 34,
     "metadata": {},
     "output_type": "execute_result"
    }
   ],
   "source": [
    "# Study results\n",
    "study_lgb2 = joblib.load('../objects/steam/study_lgb2.pkl')\n",
    "print(f'Finished trials: {len(study_lgb2.trials)}')\n",
    "print(f'Best trial: {study_lgb2.best_trial.value}')\n",
    "study_lgb2.best_trial.params"
   ]
  },
  {
   "cell_type": "code",
   "execution_count": 35,
   "metadata": {},
   "outputs": [
    {
     "name": "stderr",
     "output_type": "stream",
     "text": [
      "/home/tri/miniconda3/envs/minimal_ds/lib/python3.8/site-packages/lightgbm/engine.py:148: UserWarning: Found `num_iterations` in params. Will use it instead of argument\n",
      "  warnings.warn(\"Found `{}` in params. Will use it instead of argument\".format(alias))\n",
      "/home/tri/miniconda3/envs/minimal_ds/lib/python3.8/site-packages/lightgbm/engine.py:153: UserWarning: Found `early_stopping_round` in params. Will use it instead of argument\n",
      "  warnings.warn(\"Found `{}` in params. Will use it instead of argument\".format(alias))\n"
     ]
    },
    {
     "name": "stdout",
     "output_type": "stream",
     "text": [
      "Train RMSLE: 0.05803045259033331\n",
      "Validation RMSLE: 0.09043599169296251\n",
      "Test RMSLE: 0.09134125124560871\n"
     ]
    }
   ],
   "source": [
    "# Parameters from Optuna\n",
    "params_lgb2 = dict(study_lgb2.best_trial.params)\n",
    "params_lgb2['num_iterations'] = 10000\n",
    "params_lgb2['early_stopping_round'] = 20\n",
    "params_lgb2['metric'] = 'rmse'\n",
    "params_lgb2['num_threads'] = -1\n",
    "params_lgb2['seed'] = 42\n",
    "\n",
    "# Root mean squared log error\n",
    "rmsle_train, rmsle_val, rmsle_test = lgbm_rmsle(Xs_train_scaled, ys_train, Xs_val_scaled, ys_val, Xs_test_scaled, ys_test, params_lgb2, '../objects/steam/lgbm2.txt')\n",
    "print('Train RMSLE:', rmsle_train)\n",
    "print('Validation RMSLE:', rmsle_val)\n",
    "print('Test RMSLE:', rmsle_test)"
   ]
  },
  {
   "cell_type": "code",
   "execution_count": 36,
   "metadata": {},
   "outputs": [
    {
     "data": {
      "text/plain": [
       "46"
      ]
     },
     "execution_count": 36,
     "metadata": {},
     "output_type": "execute_result"
    }
   ],
   "source": [
    "del rmsle_train, rmsle_val, rmsle_test\n",
    "gc.collect()"
   ]
  },
  {
   "cell_type": "code",
   "execution_count": null,
   "metadata": {},
   "outputs": [],
   "source": []
  },
  {
   "cell_type": "code",
   "execution_count": null,
   "metadata": {},
   "outputs": [],
   "source": []
  },
  {
   "cell_type": "markdown",
   "metadata": {},
   "source": [
    "### XGBoost - steam"
   ]
  },
  {
   "cell_type": "code",
   "execution_count": 35,
   "metadata": {},
   "outputs": [],
   "source": [
    "# Objective function for parameter optimization\n",
    "def objective_xgb2(trial):\n",
    "    \n",
    "    joblib.dump(study_xgb2, '../objects/steam/study_xgb2.pkl')\n",
    "    \n",
    "    dtrain = xgb.DMatrix(Xs_val_scaled, label=ys_val)\n",
    "    dval = xgb.DMatrix(Xs_test_scaled, label=ys_test)\n",
    "\n",
    "    params = {\n",
    "        'grow_policy': trial.suggest_categorical('grow_policy', ['depthwise', 'lossguide']),\n",
    "        'learning_rate': trial.suggest_loguniform('learning_rate', 1e-4, 1e-1),\n",
    "        'alpha': trial.suggest_loguniform('alpha', 1e-4, 1e1),\n",
    "        'lambda': trial.suggest_loguniform('lambda', 1e-4, 1e1),\n",
    "        'gamma': trial.suggest_loguniform('gamma', 1e-4, 1e1),\n",
    "        'max_depth': trial.suggest_int('max_depth', 2, 100),\n",
    "        'max_leaves': trial.suggest_int('max_leaves', 2, 2024),\n",
    "        'subsample': trial.suggest_uniform('subsample', 0.5, 1.0),\n",
    "        'colsample_bytree': trial.suggest_uniform('colsample_bytree', 0.5, 1.0),\n",
    "        'eval_metric': 'rmse',\n",
    "        'seed': 42\n",
    "    }\n",
    "    \n",
    "    xg = xgb.train(params, dtrain, \n",
    "                   evals=[(dtrain, 'train'), (dval, 'valid')],\n",
    "                   num_boost_round=1000, \n",
    "                   early_stopping_rounds=10,\n",
    "                   verbose_eval=False)\n",
    "    pred = xg.predict(dval)\n",
    "    pred[pred < 0] = 0\n",
    "    loss = mean_squared_log_error(ys_test, pred)\n",
    "\n",
    "#     cv = xgb.cv(params, dtrain, folds=KFold(10, shuffle=True, random_state=42), verbose_eval=False)\n",
    "#     loss = cv['rmse-mean'][-1]\n",
    "    \n",
    "    return loss"
   ]
  },
  {
   "cell_type": "code",
   "execution_count": 36,
   "metadata": {},
   "outputs": [],
   "source": [
    "# print(f'Start: {datetime.datetime.now()}')\n",
    "\n",
    "# # Optimize parameters\n",
    "# study_xgb2 = optuna.create_study(direction='minimize')\n",
    "# study_xgb2.optimize(objective_xgb2, n_trials=50)\n",
    "\n",
    "# print(f'End: {datetime.datetime.now()}')\n",
    "\n",
    "# print(f'Finished trials: {len(study_xgb2.trials)}')\n",
    "# print(f'Best trial: {study_xgb2.best_trial.value}')\n",
    "# study_xgb2.best_trial.params"
   ]
  },
  {
   "cell_type": "code",
   "execution_count": 37,
   "metadata": {},
   "outputs": [
    {
     "name": "stdout",
     "output_type": "stream",
     "text": [
      "Finished trials: 50\n",
      "Best trial: 0.009739160537719727\n"
     ]
    },
    {
     "data": {
      "text/plain": [
       "{'grow_policy': 'depthwise',\n",
       " 'learning_rate': 0.045664576584020004,\n",
       " 'alpha': 1.9071087639650297,\n",
       " 'lambda': 0.00021496551872384197,\n",
       " 'gamma': 0.15536767802205387,\n",
       " 'max_depth': 59,\n",
       " 'max_leaves': 1626,\n",
       " 'subsample': 0.926581683911481,\n",
       " 'colsample_bytree': 0.8620824662132568}"
      ]
     },
     "execution_count": 37,
     "metadata": {},
     "output_type": "execute_result"
    }
   ],
   "source": [
    "# Study results\n",
    "study_xgb2 = joblib.load('../objects/steam/study_xgb2.pkl')\n",
    "print(f'Finished trials: {len(study_xgb2.trials)}')\n",
    "print(f'Best trial: {study_xgb2.best_trial.value}')\n",
    "study_xgb2.best_trial.params"
   ]
  },
  {
   "cell_type": "code",
   "execution_count": 40,
   "metadata": {},
   "outputs": [
    {
     "name": "stdout",
     "output_type": "stream",
     "text": [
      "Train RMSLE: 0.038833246\n",
      "Validation RMSLE: 0.0891143\n",
      "Test RMSLE: 0.08991938\n"
     ]
    }
   ],
   "source": [
    "# Parameters from Optuna\n",
    "params_xgb2 = dict(study_xgb2.best_trial.params)\n",
    "params_xgb2['eval_metric'] = 'rmse'\n",
    "params_xgb2['seed'] = 42\n",
    "\n",
    "rmsle_train, rmsle_val, rmsle_test = xgb_rmsle(Xs_train_scaled, ys_train, Xs_val_scaled, ys_val, Xs_test_scaled, ys_test, params_xgb2, '../objects/steam/xg2.txt')\n",
    "print('Train RMSLE:', rmsle_train)\n",
    "print('Validation RMSLE:', rmsle_val)\n",
    "print('Test RMSLE:', rmsle_test)"
   ]
  },
  {
   "cell_type": "code",
   "execution_count": 41,
   "metadata": {},
   "outputs": [
    {
     "data": {
      "text/plain": [
       "116"
      ]
     },
     "execution_count": 41,
     "metadata": {},
     "output_type": "execute_result"
    }
   ],
   "source": [
    "del rmsle_train, rmsle_val, rmsle_test\n",
    "gc.collect()"
   ]
  },
  {
   "cell_type": "code",
   "execution_count": null,
   "metadata": {},
   "outputs": [],
   "source": []
  },
  {
   "cell_type": "code",
   "execution_count": null,
   "metadata": {},
   "outputs": [],
   "source": []
  },
  {
   "cell_type": "markdown",
   "metadata": {},
   "source": [
    "### Train/test split - hot water"
   ]
  },
  {
   "cell_type": "code",
   "execution_count": 38,
   "metadata": {},
   "outputs": [
    {
     "name": "stdout",
     "output_type": "stream",
     "text": [
      "Train set: (551824, 16) (551824, 1)\n",
      "Validation set: (183942, 16) (183942, 1)\n",
      "Test set: (183942, 16) (183942, 1)\n"
     ]
    }
   ],
   "source": [
    "Xh_train, yh_train, Xh_val, yh_val, Xh_test, yh_test = tvt_split(train3)\n",
    "print('Train set:', Xh_train.shape, yh_train.shape)\n",
    "print('Validation set:', Xh_val.shape, yh_val.shape)\n",
    "print('Test set:', Xh_test.shape, yh_test.shape)"
   ]
  },
  {
   "cell_type": "code",
   "execution_count": 39,
   "metadata": {},
   "outputs": [
    {
     "data": {
      "text/plain": [
       "20"
      ]
     },
     "execution_count": 39,
     "metadata": {},
     "output_type": "execute_result"
    }
   ],
   "source": [
    "del train3\n",
    "gc.collect()"
   ]
  },
  {
   "cell_type": "code",
   "execution_count": null,
   "metadata": {},
   "outputs": [],
   "source": []
  },
  {
   "cell_type": "code",
   "execution_count": null,
   "metadata": {},
   "outputs": [],
   "source": []
  },
  {
   "cell_type": "markdown",
   "metadata": {},
   "source": [
    "### Feature transformation - hot water"
   ]
  },
  {
   "cell_type": "code",
   "execution_count": 40,
   "metadata": {},
   "outputs": [
    {
     "name": "stderr",
     "output_type": "stream",
     "text": [
      "/home/tri/miniconda3/envs/minimal_ds/lib/python3.8/site-packages/sklearn/utils/validation.py:931: FutureWarning: Passing attributes to check_is_fitted is deprecated and will be removed in 0.23. The attributes argument is ignored.\n",
      "  warnings.warn(\"Passing attributes to check_is_fitted is deprecated\"\n"
     ]
    },
    {
     "data": {
      "text/html": [
       "<div>\n",
       "<style scoped>\n",
       "    .dataframe tbody tr th:only-of-type {\n",
       "        vertical-align: middle;\n",
       "    }\n",
       "\n",
       "    .dataframe tbody tr th {\n",
       "        vertical-align: top;\n",
       "    }\n",
       "\n",
       "    .dataframe thead th {\n",
       "        text-align: right;\n",
       "    }\n",
       "</style>\n",
       "<table border=\"1\" class=\"dataframe\">\n",
       "  <thead>\n",
       "    <tr style=\"text-align: right;\">\n",
       "      <th></th>\n",
       "      <th>building_id</th>\n",
       "      <th>dew_temperature</th>\n",
       "      <th>sea_level_pressure</th>\n",
       "      <th>wind_speed</th>\n",
       "      <th>primary_use</th>\n",
       "      <th>square_feet</th>\n",
       "      <th>year_built</th>\n",
       "      <th>missing_year</th>\n",
       "      <th>dayofyear</th>\n",
       "      <th>hour</th>\n",
       "      <th>wind_direction_x</th>\n",
       "      <th>wind_direction_y</th>\n",
       "      <th>rel_humidity</th>\n",
       "      <th>is_weekend</th>\n",
       "      <th>country</th>\n",
       "      <th>is_holiday</th>\n",
       "    </tr>\n",
       "  </thead>\n",
       "  <tbody>\n",
       "    <tr>\n",
       "      <th>0</th>\n",
       "      <td>-1.378836</td>\n",
       "      <td>0.250694</td>\n",
       "      <td>-4.353990</td>\n",
       "      <td>0.708180</td>\n",
       "      <td>-0.294643</td>\n",
       "      <td>-1.085843</td>\n",
       "      <td>-0.554607</td>\n",
       "      <td>0.821996</td>\n",
       "      <td>-1.502306</td>\n",
       "      <td>-1.231708</td>\n",
       "      <td>-1.208030</td>\n",
       "      <td>1.046932</td>\n",
       "      <td>1.730162</td>\n",
       "      <td>-0.631296</td>\n",
       "      <td>-2.286660</td>\n",
       "      <td>-0.182268</td>\n",
       "    </tr>\n",
       "    <tr>\n",
       "      <th>1</th>\n",
       "      <td>0.914092</td>\n",
       "      <td>-0.606152</td>\n",
       "      <td>1.717379</td>\n",
       "      <td>-1.499822</td>\n",
       "      <td>2.024872</td>\n",
       "      <td>-1.007072</td>\n",
       "      <td>-0.499347</td>\n",
       "      <td>0.821996</td>\n",
       "      <td>-0.626856</td>\n",
       "      <td>0.219156</td>\n",
       "      <td>0.023539</td>\n",
       "      <td>0.124424</td>\n",
       "      <td>-1.207742</td>\n",
       "      <td>1.584043</td>\n",
       "      <td>-0.041646</td>\n",
       "      <td>-0.182268</td>\n",
       "    </tr>\n",
       "    <tr>\n",
       "      <th>2</th>\n",
       "      <td>-1.301746</td>\n",
       "      <td>-0.017071</td>\n",
       "      <td>-1.007465</td>\n",
       "      <td>0.948180</td>\n",
       "      <td>0.361148</td>\n",
       "      <td>-0.999774</td>\n",
       "      <td>-0.554607</td>\n",
       "      <td>0.821996</td>\n",
       "      <td>-0.554654</td>\n",
       "      <td>0.944588</td>\n",
       "      <td>1.415847</td>\n",
       "      <td>0.842008</td>\n",
       "      <td>0.933248</td>\n",
       "      <td>-0.631296</td>\n",
       "      <td>-2.286660</td>\n",
       "      <td>-0.182268</td>\n",
       "    </tr>\n",
       "    <tr>\n",
       "      <th>3</th>\n",
       "      <td>0.388300</td>\n",
       "      <td>-2.030660</td>\n",
       "      <td>3.264976</td>\n",
       "      <td>0.468180</td>\n",
       "      <td>-0.294643</td>\n",
       "      <td>0.040716</td>\n",
       "      <td>-0.333570</td>\n",
       "      <td>0.821996</td>\n",
       "      <td>1.593357</td>\n",
       "      <td>-1.666968</td>\n",
       "      <td>-1.559735</td>\n",
       "      <td>0.373638</td>\n",
       "      <td>0.617534</td>\n",
       "      <td>-0.631296</td>\n",
       "      <td>-0.041646</td>\n",
       "      <td>-0.182268</td>\n",
       "    </tr>\n",
       "    <tr>\n",
       "      <th>4</th>\n",
       "      <td>-1.129776</td>\n",
       "      <td>0.464906</td>\n",
       "      <td>-0.412233</td>\n",
       "      <td>-0.779821</td>\n",
       "      <td>1.460194</td>\n",
       "      <td>-0.901239</td>\n",
       "      <td>0.605837</td>\n",
       "      <td>-1.216551</td>\n",
       "      <td>1.133069</td>\n",
       "      <td>-1.521881</td>\n",
       "      <td>-1.208030</td>\n",
       "      <td>1.046932</td>\n",
       "      <td>-0.735872</td>\n",
       "      <td>1.584043</td>\n",
       "      <td>-0.041646</td>\n",
       "      <td>-0.182268</td>\n",
       "    </tr>\n",
       "  </tbody>\n",
       "</table>\n",
       "</div>"
      ],
      "text/plain": [
       "   building_id  dew_temperature  sea_level_pressure  wind_speed  primary_use  \\\n",
       "0    -1.378836         0.250694           -4.353990    0.708180    -0.294643   \n",
       "1     0.914092        -0.606152            1.717379   -1.499822     2.024872   \n",
       "2    -1.301746        -0.017071           -1.007465    0.948180     0.361148   \n",
       "3     0.388300        -2.030660            3.264976    0.468180    -0.294643   \n",
       "4    -1.129776         0.464906           -0.412233   -0.779821     1.460194   \n",
       "\n",
       "   square_feet  year_built  missing_year  dayofyear      hour  \\\n",
       "0    -1.085843   -0.554607      0.821996  -1.502306 -1.231708   \n",
       "1    -1.007072   -0.499347      0.821996  -0.626856  0.219156   \n",
       "2    -0.999774   -0.554607      0.821996  -0.554654  0.944588   \n",
       "3     0.040716   -0.333570      0.821996   1.593357 -1.666968   \n",
       "4    -0.901239    0.605837     -1.216551   1.133069 -1.521881   \n",
       "\n",
       "   wind_direction_x  wind_direction_y  rel_humidity  is_weekend   country  \\\n",
       "0         -1.208030          1.046932      1.730162   -0.631296 -2.286660   \n",
       "1          0.023539          0.124424     -1.207742    1.584043 -0.041646   \n",
       "2          1.415847          0.842008      0.933248   -0.631296 -2.286660   \n",
       "3         -1.559735          0.373638      0.617534   -0.631296 -0.041646   \n",
       "4         -1.208030          1.046932     -0.735872    1.584043 -0.041646   \n",
       "\n",
       "   is_holiday  \n",
       "0   -0.182268  \n",
       "1   -0.182268  \n",
       "2   -0.182268  \n",
       "3   -0.182268  \n",
       "4   -0.182268  "
      ]
     },
     "execution_count": 40,
     "metadata": {},
     "output_type": "execute_result"
    }
   ],
   "source": [
    "Xh_train_scaled, Xh_val_scaled, Xh_test_scaled = transform_feats(Xh_train, yh_train, Xh_val, Xh_test)\n",
    "Xh_train_scaled.head()"
   ]
  },
  {
   "cell_type": "code",
   "execution_count": 41,
   "metadata": {},
   "outputs": [
    {
     "data": {
      "text/plain": [
       "20"
      ]
     },
     "execution_count": 41,
     "metadata": {},
     "output_type": "execute_result"
    }
   ],
   "source": [
    "del Xh_train, Xh_val, Xh_test\n",
    "gc.collect()"
   ]
  },
  {
   "cell_type": "code",
   "execution_count": null,
   "metadata": {},
   "outputs": [],
   "source": []
  },
  {
   "cell_type": "code",
   "execution_count": null,
   "metadata": {},
   "outputs": [],
   "source": []
  },
  {
   "cell_type": "markdown",
   "metadata": {},
   "source": [
    "### LightGBM - hot water"
   ]
  },
  {
   "cell_type": "code",
   "execution_count": 42,
   "metadata": {},
   "outputs": [],
   "source": [
    "# Objective function for parameter optimization\n",
    "def objective_lgb3(trial):\n",
    "    \n",
    "    joblib.dump(study_lgb3, '../objects/hotwater/study_lgb3.pkl')\n",
    "    \n",
    "    dtrain = lgb.Dataset(Xh_train_scaled, label=yh_train)\n",
    "    dval = lgb.Dataset(Xh_val_scaled, label=yh_val)\n",
    "\n",
    "    params = {\n",
    "        'learning_rate': trial.suggest_loguniform('learning_rate', 1e-4, 1e-1),\n",
    "        'lambda_l1': trial.suggest_loguniform('lambda_l1', 1e-4, 1e1),\n",
    "        'lambda_l2': trial.suggest_loguniform('lambda_l2', 1e-4, 1e1),\n",
    "        'max_depth': trial.suggest_int('max_depth', 2, 100),\n",
    "        'num_leaves': trial.suggest_int('num_leaves', 2, 2048),\n",
    "        'min_data_in_leaf': trial.suggest_int('min_data_in_leaf', 5, 5000),\n",
    "        'bagging_fraction': trial.suggest_uniform('bagging_fraction', 0.5, 1.0),\n",
    "        'feature_fraction': trial.suggest_uniform('feature_fraction', 0.5, 1.0),\n",
    "        'num_iterations': 5000,\n",
    "        'early_stopping_round': 20,\n",
    "        'metric': 'rmse',\n",
    "        'num_threads': -1,\n",
    "        'seed': 42\n",
    "    }\n",
    "    \n",
    "    lgbm = lgb.train(params, dtrain, valid_sets=[dtrain, dval], valid_names=['train', 'valid'], verbose_eval=False)\n",
    "    pred = lgbm.predict(Xh_val_scaled)\n",
    "    pred[pred < 0] = 0\n",
    "    loss = mean_squared_log_error(yh_val, pred)\n",
    "\n",
    "#     cv = lgb.cv(params, dtrain, folds=KFold(10, shuffle=True, random_state=42), verbose_eval=False)\n",
    "#     loss = cv['rmse-mean'][-1]\n",
    "    \n",
    "    return loss"
   ]
  },
  {
   "cell_type": "code",
   "execution_count": 43,
   "metadata": {},
   "outputs": [
    {
     "name": "stdout",
     "output_type": "stream",
     "text": [
      "2020-03-03 17:35:42.721353\n"
     ]
    },
    {
     "name": "stderr",
     "output_type": "stream",
     "text": [
      "/home/tri/miniconda3/envs/minimal_ds/lib/python3.8/site-packages/lightgbm/engine.py:148: UserWarning: Found `num_iterations` in params. Will use it instead of argument\n",
      "  warnings.warn(\"Found `{}` in params. Will use it instead of argument\".format(alias))\n",
      "/home/tri/miniconda3/envs/minimal_ds/lib/python3.8/site-packages/lightgbm/engine.py:153: UserWarning: Found `early_stopping_round` in params. Will use it instead of argument\n",
      "  warnings.warn(\"Found `{}` in params. Will use it instead of argument\".format(alias))\n",
      "[I 2020-03-03 17:38:07,612] Finished trial#0 resulted in value: 0.01859088810949926. Current best value is 0.01859088810949926 with parameters: {'learning_rate': 0.08024133085620601, 'lambda_l1': 1.7487893771198335, 'lambda_l2': 0.4677303361207078, 'max_depth': 25, 'num_leaves': 2036, 'min_data_in_leaf': 2184, 'bagging_fraction': 0.8464554792955383, 'feature_fraction': 0.7398623976708341}.\n",
      "/home/tri/miniconda3/envs/minimal_ds/lib/python3.8/site-packages/lightgbm/engine.py:148: UserWarning: Found `num_iterations` in params. Will use it instead of argument\n",
      "  warnings.warn(\"Found `{}` in params. Will use it instead of argument\".format(alias))\n",
      "/home/tri/miniconda3/envs/minimal_ds/lib/python3.8/site-packages/lightgbm/engine.py:153: UserWarning: Found `early_stopping_round` in params. Will use it instead of argument\n",
      "  warnings.warn(\"Found `{}` in params. Will use it instead of argument\".format(alias))\n",
      "[I 2020-03-03 17:41:09,620] Finished trial#1 resulted in value: 0.04059647958394352. Current best value is 0.01859088810949926 with parameters: {'learning_rate': 0.08024133085620601, 'lambda_l1': 1.7487893771198335, 'lambda_l2': 0.4677303361207078, 'max_depth': 25, 'num_leaves': 2036, 'min_data_in_leaf': 2184, 'bagging_fraction': 0.8464554792955383, 'feature_fraction': 0.7398623976708341}.\n",
      "/home/tri/miniconda3/envs/minimal_ds/lib/python3.8/site-packages/lightgbm/engine.py:148: UserWarning: Found `num_iterations` in params. Will use it instead of argument\n",
      "  warnings.warn(\"Found `{}` in params. Will use it instead of argument\".format(alias))\n",
      "/home/tri/miniconda3/envs/minimal_ds/lib/python3.8/site-packages/lightgbm/engine.py:153: UserWarning: Found `early_stopping_round` in params. Will use it instead of argument\n",
      "  warnings.warn(\"Found `{}` in params. Will use it instead of argument\".format(alias))\n",
      "[I 2020-03-03 17:43:12,612] Finished trial#2 resulted in value: 0.022993544829461404. Current best value is 0.01859088810949926 with parameters: {'learning_rate': 0.08024133085620601, 'lambda_l1': 1.7487893771198335, 'lambda_l2': 0.4677303361207078, 'max_depth': 25, 'num_leaves': 2036, 'min_data_in_leaf': 2184, 'bagging_fraction': 0.8464554792955383, 'feature_fraction': 0.7398623976708341}.\n",
      "/home/tri/miniconda3/envs/minimal_ds/lib/python3.8/site-packages/lightgbm/engine.py:148: UserWarning: Found `num_iterations` in params. Will use it instead of argument\n",
      "  warnings.warn(\"Found `{}` in params. Will use it instead of argument\".format(alias))\n",
      "/home/tri/miniconda3/envs/minimal_ds/lib/python3.8/site-packages/lightgbm/engine.py:153: UserWarning: Found `early_stopping_round` in params. Will use it instead of argument\n",
      "  warnings.warn(\"Found `{}` in params. Will use it instead of argument\".format(alias))\n",
      "[I 2020-03-03 17:45:28,485] Finished trial#3 resulted in value: 0.11916949093693076. Current best value is 0.01859088810949926 with parameters: {'learning_rate': 0.08024133085620601, 'lambda_l1': 1.7487893771198335, 'lambda_l2': 0.4677303361207078, 'max_depth': 25, 'num_leaves': 2036, 'min_data_in_leaf': 2184, 'bagging_fraction': 0.8464554792955383, 'feature_fraction': 0.7398623976708341}.\n",
      "/home/tri/miniconda3/envs/minimal_ds/lib/python3.8/site-packages/lightgbm/engine.py:148: UserWarning: Found `num_iterations` in params. Will use it instead of argument\n",
      "  warnings.warn(\"Found `{}` in params. Will use it instead of argument\".format(alias))\n",
      "/home/tri/miniconda3/envs/minimal_ds/lib/python3.8/site-packages/lightgbm/engine.py:153: UserWarning: Found `early_stopping_round` in params. Will use it instead of argument\n",
      "  warnings.warn(\"Found `{}` in params. Will use it instead of argument\".format(alias))\n",
      "[I 2020-03-03 17:47:24,843] Finished trial#4 resulted in value: 0.08788887231184313. Current best value is 0.01859088810949926 with parameters: {'learning_rate': 0.08024133085620601, 'lambda_l1': 1.7487893771198335, 'lambda_l2': 0.4677303361207078, 'max_depth': 25, 'num_leaves': 2036, 'min_data_in_leaf': 2184, 'bagging_fraction': 0.8464554792955383, 'feature_fraction': 0.7398623976708341}.\n",
      "/home/tri/miniconda3/envs/minimal_ds/lib/python3.8/site-packages/lightgbm/engine.py:148: UserWarning: Found `num_iterations` in params. Will use it instead of argument\n",
      "  warnings.warn(\"Found `{}` in params. Will use it instead of argument\".format(alias))\n",
      "/home/tri/miniconda3/envs/minimal_ds/lib/python3.8/site-packages/lightgbm/engine.py:153: UserWarning: Found `early_stopping_round` in params. Will use it instead of argument\n",
      "  warnings.warn(\"Found `{}` in params. Will use it instead of argument\".format(alias))\n",
      "[I 2020-03-03 17:49:45,860] Finished trial#5 resulted in value: 0.03782187993845076. Current best value is 0.01859088810949926 with parameters: {'learning_rate': 0.08024133085620601, 'lambda_l1': 1.7487893771198335, 'lambda_l2': 0.4677303361207078, 'max_depth': 25, 'num_leaves': 2036, 'min_data_in_leaf': 2184, 'bagging_fraction': 0.8464554792955383, 'feature_fraction': 0.7398623976708341}.\n",
      "/home/tri/miniconda3/envs/minimal_ds/lib/python3.8/site-packages/lightgbm/engine.py:148: UserWarning: Found `num_iterations` in params. Will use it instead of argument\n",
      "  warnings.warn(\"Found `{}` in params. Will use it instead of argument\".format(alias))\n",
      "/home/tri/miniconda3/envs/minimal_ds/lib/python3.8/site-packages/lightgbm/engine.py:153: UserWarning: Found `early_stopping_round` in params. Will use it instead of argument\n",
      "  warnings.warn(\"Found `{}` in params. Will use it instead of argument\".format(alias))\n",
      "[I 2020-03-03 17:55:51,169] Finished trial#6 resulted in value: 0.1051443859409128. Current best value is 0.01859088810949926 with parameters: {'learning_rate': 0.08024133085620601, 'lambda_l1': 1.7487893771198335, 'lambda_l2': 0.4677303361207078, 'max_depth': 25, 'num_leaves': 2036, 'min_data_in_leaf': 2184, 'bagging_fraction': 0.8464554792955383, 'feature_fraction': 0.7398623976708341}.\n",
      "/home/tri/miniconda3/envs/minimal_ds/lib/python3.8/site-packages/lightgbm/engine.py:148: UserWarning: Found `num_iterations` in params. Will use it instead of argument\n",
      "  warnings.warn(\"Found `{}` in params. Will use it instead of argument\".format(alias))\n",
      "/home/tri/miniconda3/envs/minimal_ds/lib/python3.8/site-packages/lightgbm/engine.py:153: UserWarning: Found `early_stopping_round` in params. Will use it instead of argument\n",
      "  warnings.warn(\"Found `{}` in params. Will use it instead of argument\".format(alias))\n",
      "[I 2020-03-03 17:57:42,530] Finished trial#7 resulted in value: 0.02094211937122314. Current best value is 0.01859088810949926 with parameters: {'learning_rate': 0.08024133085620601, 'lambda_l1': 1.7487893771198335, 'lambda_l2': 0.4677303361207078, 'max_depth': 25, 'num_leaves': 2036, 'min_data_in_leaf': 2184, 'bagging_fraction': 0.8464554792955383, 'feature_fraction': 0.7398623976708341}.\n",
      "/home/tri/miniconda3/envs/minimal_ds/lib/python3.8/site-packages/lightgbm/engine.py:148: UserWarning: Found `num_iterations` in params. Will use it instead of argument\n",
      "  warnings.warn(\"Found `{}` in params. Will use it instead of argument\".format(alias))\n",
      "/home/tri/miniconda3/envs/minimal_ds/lib/python3.8/site-packages/lightgbm/engine.py:153: UserWarning: Found `early_stopping_round` in params. Will use it instead of argument\n",
      "  warnings.warn(\"Found `{}` in params. Will use it instead of argument\".format(alias))\n",
      "[I 2020-03-03 17:59:56,447] Finished trial#8 resulted in value: 0.05529588177381375. Current best value is 0.01859088810949926 with parameters: {'learning_rate': 0.08024133085620601, 'lambda_l1': 1.7487893771198335, 'lambda_l2': 0.4677303361207078, 'max_depth': 25, 'num_leaves': 2036, 'min_data_in_leaf': 2184, 'bagging_fraction': 0.8464554792955383, 'feature_fraction': 0.7398623976708341}.\n",
      "/home/tri/miniconda3/envs/minimal_ds/lib/python3.8/site-packages/lightgbm/engine.py:148: UserWarning: Found `num_iterations` in params. Will use it instead of argument\n",
      "  warnings.warn(\"Found `{}` in params. Will use it instead of argument\".format(alias))\n",
      "/home/tri/miniconda3/envs/minimal_ds/lib/python3.8/site-packages/lightgbm/engine.py:153: UserWarning: Found `early_stopping_round` in params. Will use it instead of argument\n",
      "  warnings.warn(\"Found `{}` in params. Will use it instead of argument\".format(alias))\n",
      "[I 2020-03-03 18:05:28,220] Finished trial#9 resulted in value: 0.018855604018229034. Current best value is 0.01859088810949926 with parameters: {'learning_rate': 0.08024133085620601, 'lambda_l1': 1.7487893771198335, 'lambda_l2': 0.4677303361207078, 'max_depth': 25, 'num_leaves': 2036, 'min_data_in_leaf': 2184, 'bagging_fraction': 0.8464554792955383, 'feature_fraction': 0.7398623976708341}.\n",
      "/home/tri/miniconda3/envs/minimal_ds/lib/python3.8/site-packages/lightgbm/engine.py:148: UserWarning: Found `num_iterations` in params. Will use it instead of argument\n",
      "  warnings.warn(\"Found `{}` in params. Will use it instead of argument\".format(alias))\n",
      "/home/tri/miniconda3/envs/minimal_ds/lib/python3.8/site-packages/lightgbm/engine.py:153: UserWarning: Found `early_stopping_round` in params. Will use it instead of argument\n",
      "  warnings.warn(\"Found `{}` in params. Will use it instead of argument\".format(alias))\n",
      "[I 2020-03-03 18:06:34,847] Finished trial#10 resulted in value: 0.02448733168624031. Current best value is 0.01859088810949926 with parameters: {'learning_rate': 0.08024133085620601, 'lambda_l1': 1.7487893771198335, 'lambda_l2': 0.4677303361207078, 'max_depth': 25, 'num_leaves': 2036, 'min_data_in_leaf': 2184, 'bagging_fraction': 0.8464554792955383, 'feature_fraction': 0.7398623976708341}.\n",
      "/home/tri/miniconda3/envs/minimal_ds/lib/python3.8/site-packages/lightgbm/engine.py:148: UserWarning: Found `num_iterations` in params. Will use it instead of argument\n",
      "  warnings.warn(\"Found `{}` in params. Will use it instead of argument\".format(alias))\n",
      "/home/tri/miniconda3/envs/minimal_ds/lib/python3.8/site-packages/lightgbm/engine.py:153: UserWarning: Found `early_stopping_round` in params. Will use it instead of argument\n",
      "  warnings.warn(\"Found `{}` in params. Will use it instead of argument\".format(alias))\n",
      "[I 2020-03-03 18:11:02,849] Finished trial#11 resulted in value: 0.016882861843185003. Current best value is 0.016882861843185003 with parameters: {'learning_rate': 0.0044872519967622424, 'lambda_l1': 0.0009296789891253036, 'lambda_l2': 0.7622923587008565, 'max_depth': 16, 'num_leaves': 1692, 'min_data_in_leaf': 114, 'bagging_fraction': 0.9930435329362185, 'feature_fraction': 0.8182241647644444}.\n",
      "/home/tri/miniconda3/envs/minimal_ds/lib/python3.8/site-packages/lightgbm/engine.py:148: UserWarning: Found `num_iterations` in params. Will use it instead of argument\n",
      "  warnings.warn(\"Found `{}` in params. Will use it instead of argument\".format(alias))\n",
      "/home/tri/miniconda3/envs/minimal_ds/lib/python3.8/site-packages/lightgbm/engine.py:153: UserWarning: Found `early_stopping_round` in params. Will use it instead of argument\n",
      "  warnings.warn(\"Found `{}` in params. Will use it instead of argument\".format(alias))\n",
      "[I 2020-03-03 18:12:32,501] Finished trial#12 resulted in value: 0.026569245852458873. Current best value is 0.016882861843185003 with parameters: {'learning_rate': 0.0044872519967622424, 'lambda_l1': 0.0009296789891253036, 'lambda_l2': 0.7622923587008565, 'max_depth': 16, 'num_leaves': 1692, 'min_data_in_leaf': 114, 'bagging_fraction': 0.9930435329362185, 'feature_fraction': 0.8182241647644444}.\n",
      "/home/tri/miniconda3/envs/minimal_ds/lib/python3.8/site-packages/lightgbm/engine.py:148: UserWarning: Found `num_iterations` in params. Will use it instead of argument\n",
      "  warnings.warn(\"Found `{}` in params. Will use it instead of argument\".format(alias))\n",
      "/home/tri/miniconda3/envs/minimal_ds/lib/python3.8/site-packages/lightgbm/engine.py:153: UserWarning: Found `early_stopping_round` in params. Will use it instead of argument\n",
      "  warnings.warn(\"Found `{}` in params. Will use it instead of argument\".format(alias))\n",
      "[I 2020-03-03 18:15:56,891] Finished trial#13 resulted in value: 0.02208340183342528. Current best value is 0.016882861843185003 with parameters: {'learning_rate': 0.0044872519967622424, 'lambda_l1': 0.0009296789891253036, 'lambda_l2': 0.7622923587008565, 'max_depth': 16, 'num_leaves': 1692, 'min_data_in_leaf': 114, 'bagging_fraction': 0.9930435329362185, 'feature_fraction': 0.8182241647644444}.\n",
      "/home/tri/miniconda3/envs/minimal_ds/lib/python3.8/site-packages/lightgbm/engine.py:148: UserWarning: Found `num_iterations` in params. Will use it instead of argument\n",
      "  warnings.warn(\"Found `{}` in params. Will use it instead of argument\".format(alias))\n",
      "/home/tri/miniconda3/envs/minimal_ds/lib/python3.8/site-packages/lightgbm/engine.py:153: UserWarning: Found `early_stopping_round` in params. Will use it instead of argument\n",
      "  warnings.warn(\"Found `{}` in params. Will use it instead of argument\".format(alias))\n",
      "[I 2020-03-03 18:18:07,108] Finished trial#14 resulted in value: 0.01844552611336802. Current best value is 0.016882861843185003 with parameters: {'learning_rate': 0.0044872519967622424, 'lambda_l1': 0.0009296789891253036, 'lambda_l2': 0.7622923587008565, 'max_depth': 16, 'num_leaves': 1692, 'min_data_in_leaf': 114, 'bagging_fraction': 0.9930435329362185, 'feature_fraction': 0.8182241647644444}.\n",
      "/home/tri/miniconda3/envs/minimal_ds/lib/python3.8/site-packages/lightgbm/engine.py:148: UserWarning: Found `num_iterations` in params. Will use it instead of argument\n",
      "  warnings.warn(\"Found `{}` in params. Will use it instead of argument\".format(alias))\n",
      "/home/tri/miniconda3/envs/minimal_ds/lib/python3.8/site-packages/lightgbm/engine.py:153: UserWarning: Found `early_stopping_round` in params. Will use it instead of argument\n",
      "  warnings.warn(\"Found `{}` in params. Will use it instead of argument\".format(alias))\n",
      "[I 2020-03-03 18:18:47,612] Finished trial#15 resulted in value: 0.03915059638569705. Current best value is 0.016882861843185003 with parameters: {'learning_rate': 0.0044872519967622424, 'lambda_l1': 0.0009296789891253036, 'lambda_l2': 0.7622923587008565, 'max_depth': 16, 'num_leaves': 1692, 'min_data_in_leaf': 114, 'bagging_fraction': 0.9930435329362185, 'feature_fraction': 0.8182241647644444}.\n",
      "/home/tri/miniconda3/envs/minimal_ds/lib/python3.8/site-packages/lightgbm/engine.py:148: UserWarning: Found `num_iterations` in params. Will use it instead of argument\n",
      "  warnings.warn(\"Found `{}` in params. Will use it instead of argument\".format(alias))\n",
      "/home/tri/miniconda3/envs/minimal_ds/lib/python3.8/site-packages/lightgbm/engine.py:153: UserWarning: Found `early_stopping_round` in params. Will use it instead of argument\n",
      "  warnings.warn(\"Found `{}` in params. Will use it instead of argument\".format(alias))\n",
      "[I 2020-03-03 18:21:07,381] Finished trial#16 resulted in value: 0.029126036320266238. Current best value is 0.016882861843185003 with parameters: {'learning_rate': 0.0044872519967622424, 'lambda_l1': 0.0009296789891253036, 'lambda_l2': 0.7622923587008565, 'max_depth': 16, 'num_leaves': 1692, 'min_data_in_leaf': 114, 'bagging_fraction': 0.9930435329362185, 'feature_fraction': 0.8182241647644444}.\n",
      "/home/tri/miniconda3/envs/minimal_ds/lib/python3.8/site-packages/lightgbm/engine.py:148: UserWarning: Found `num_iterations` in params. Will use it instead of argument\n",
      "  warnings.warn(\"Found `{}` in params. Will use it instead of argument\".format(alias))\n",
      "/home/tri/miniconda3/envs/minimal_ds/lib/python3.8/site-packages/lightgbm/engine.py:153: UserWarning: Found `early_stopping_round` in params. Will use it instead of argument\n",
      "  warnings.warn(\"Found `{}` in params. Will use it instead of argument\".format(alias))\n",
      "[I 2020-03-03 18:23:15,295] Finished trial#17 resulted in value: 0.025456547338817474. Current best value is 0.016882861843185003 with parameters: {'learning_rate': 0.0044872519967622424, 'lambda_l1': 0.0009296789891253036, 'lambda_l2': 0.7622923587008565, 'max_depth': 16, 'num_leaves': 1692, 'min_data_in_leaf': 114, 'bagging_fraction': 0.9930435329362185, 'feature_fraction': 0.8182241647644444}.\n",
      "/home/tri/miniconda3/envs/minimal_ds/lib/python3.8/site-packages/lightgbm/engine.py:148: UserWarning: Found `num_iterations` in params. Will use it instead of argument\n",
      "  warnings.warn(\"Found `{}` in params. Will use it instead of argument\".format(alias))\n",
      "/home/tri/miniconda3/envs/minimal_ds/lib/python3.8/site-packages/lightgbm/engine.py:153: UserWarning: Found `early_stopping_round` in params. Will use it instead of argument\n",
      "  warnings.warn(\"Found `{}` in params. Will use it instead of argument\".format(alias))\n",
      "[I 2020-03-03 18:24:31,320] Finished trial#18 resulted in value: 0.019180691601734492. Current best value is 0.016882861843185003 with parameters: {'learning_rate': 0.0044872519967622424, 'lambda_l1': 0.0009296789891253036, 'lambda_l2': 0.7622923587008565, 'max_depth': 16, 'num_leaves': 1692, 'min_data_in_leaf': 114, 'bagging_fraction': 0.9930435329362185, 'feature_fraction': 0.8182241647644444}.\n",
      "/home/tri/miniconda3/envs/minimal_ds/lib/python3.8/site-packages/lightgbm/engine.py:148: UserWarning: Found `num_iterations` in params. Will use it instead of argument\n",
      "  warnings.warn(\"Found `{}` in params. Will use it instead of argument\".format(alias))\n",
      "/home/tri/miniconda3/envs/minimal_ds/lib/python3.8/site-packages/lightgbm/engine.py:153: UserWarning: Found `early_stopping_round` in params. Will use it instead of argument\n",
      "  warnings.warn(\"Found `{}` in params. Will use it instead of argument\".format(alias))\n",
      "[I 2020-03-03 18:27:11,096] Finished trial#19 resulted in value: 0.030742237766196348. Current best value is 0.016882861843185003 with parameters: {'learning_rate': 0.0044872519967622424, 'lambda_l1': 0.0009296789891253036, 'lambda_l2': 0.7622923587008565, 'max_depth': 16, 'num_leaves': 1692, 'min_data_in_leaf': 114, 'bagging_fraction': 0.9930435329362185, 'feature_fraction': 0.8182241647644444}.\n",
      "/home/tri/miniconda3/envs/minimal_ds/lib/python3.8/site-packages/lightgbm/engine.py:148: UserWarning: Found `num_iterations` in params. Will use it instead of argument\n",
      "  warnings.warn(\"Found `{}` in params. Will use it instead of argument\".format(alias))\n",
      "/home/tri/miniconda3/envs/minimal_ds/lib/python3.8/site-packages/lightgbm/engine.py:153: UserWarning: Found `early_stopping_round` in params. Will use it instead of argument\n",
      "  warnings.warn(\"Found `{}` in params. Will use it instead of argument\".format(alias))\n",
      "[I 2020-03-03 18:31:12,810] Finished trial#20 resulted in value: 0.018713766560273706. Current best value is 0.016882861843185003 with parameters: {'learning_rate': 0.0044872519967622424, 'lambda_l1': 0.0009296789891253036, 'lambda_l2': 0.7622923587008565, 'max_depth': 16, 'num_leaves': 1692, 'min_data_in_leaf': 114, 'bagging_fraction': 0.9930435329362185, 'feature_fraction': 0.8182241647644444}.\n",
      "/home/tri/miniconda3/envs/minimal_ds/lib/python3.8/site-packages/lightgbm/engine.py:148: UserWarning: Found `num_iterations` in params. Will use it instead of argument\n",
      "  warnings.warn(\"Found `{}` in params. Will use it instead of argument\".format(alias))\n",
      "/home/tri/miniconda3/envs/minimal_ds/lib/python3.8/site-packages/lightgbm/engine.py:153: UserWarning: Found `early_stopping_round` in params. Will use it instead of argument\n",
      "  warnings.warn(\"Found `{}` in params. Will use it instead of argument\".format(alias))\n",
      "[I 2020-03-03 18:33:12,039] Finished trial#21 resulted in value: 0.018539736477986114. Current best value is 0.016882861843185003 with parameters: {'learning_rate': 0.0044872519967622424, 'lambda_l1': 0.0009296789891253036, 'lambda_l2': 0.7622923587008565, 'max_depth': 16, 'num_leaves': 1692, 'min_data_in_leaf': 114, 'bagging_fraction': 0.9930435329362185, 'feature_fraction': 0.8182241647644444}.\n",
      "/home/tri/miniconda3/envs/minimal_ds/lib/python3.8/site-packages/lightgbm/engine.py:148: UserWarning: Found `num_iterations` in params. Will use it instead of argument\n",
      "  warnings.warn(\"Found `{}` in params. Will use it instead of argument\".format(alias))\n",
      "/home/tri/miniconda3/envs/minimal_ds/lib/python3.8/site-packages/lightgbm/engine.py:153: UserWarning: Found `early_stopping_round` in params. Will use it instead of argument\n",
      "  warnings.warn(\"Found `{}` in params. Will use it instead of argument\".format(alias))\n",
      "[I 2020-03-03 18:34:53,546] Finished trial#22 resulted in value: 0.01940037536056256. Current best value is 0.016882861843185003 with parameters: {'learning_rate': 0.0044872519967622424, 'lambda_l1': 0.0009296789891253036, 'lambda_l2': 0.7622923587008565, 'max_depth': 16, 'num_leaves': 1692, 'min_data_in_leaf': 114, 'bagging_fraction': 0.9930435329362185, 'feature_fraction': 0.8182241647644444}.\n",
      "/home/tri/miniconda3/envs/minimal_ds/lib/python3.8/site-packages/lightgbm/engine.py:148: UserWarning: Found `num_iterations` in params. Will use it instead of argument\n",
      "  warnings.warn(\"Found `{}` in params. Will use it instead of argument\".format(alias))\n",
      "/home/tri/miniconda3/envs/minimal_ds/lib/python3.8/site-packages/lightgbm/engine.py:153: UserWarning: Found `early_stopping_round` in params. Will use it instead of argument\n",
      "  warnings.warn(\"Found `{}` in params. Will use it instead of argument\".format(alias))\n",
      "[I 2020-03-03 18:36:33,247] Finished trial#23 resulted in value: 0.020517284554211132. Current best value is 0.016882861843185003 with parameters: {'learning_rate': 0.0044872519967622424, 'lambda_l1': 0.0009296789891253036, 'lambda_l2': 0.7622923587008565, 'max_depth': 16, 'num_leaves': 1692, 'min_data_in_leaf': 114, 'bagging_fraction': 0.9930435329362185, 'feature_fraction': 0.8182241647644444}.\n",
      "/home/tri/miniconda3/envs/minimal_ds/lib/python3.8/site-packages/lightgbm/engine.py:148: UserWarning: Found `num_iterations` in params. Will use it instead of argument\n",
      "  warnings.warn(\"Found `{}` in params. Will use it instead of argument\".format(alias))\n",
      "/home/tri/miniconda3/envs/minimal_ds/lib/python3.8/site-packages/lightgbm/engine.py:153: UserWarning: Found `early_stopping_round` in params. Will use it instead of argument\n",
      "  warnings.warn(\"Found `{}` in params. Will use it instead of argument\".format(alias))\n",
      "[I 2020-03-03 18:38:34,795] Finished trial#24 resulted in value: 0.0191952087914566. Current best value is 0.016882861843185003 with parameters: {'learning_rate': 0.0044872519967622424, 'lambda_l1': 0.0009296789891253036, 'lambda_l2': 0.7622923587008565, 'max_depth': 16, 'num_leaves': 1692, 'min_data_in_leaf': 114, 'bagging_fraction': 0.9930435329362185, 'feature_fraction': 0.8182241647644444}.\n",
      "/home/tri/miniconda3/envs/minimal_ds/lib/python3.8/site-packages/lightgbm/engine.py:148: UserWarning: Found `num_iterations` in params. Will use it instead of argument\n",
      "  warnings.warn(\"Found `{}` in params. Will use it instead of argument\".format(alias))\n",
      "/home/tri/miniconda3/envs/minimal_ds/lib/python3.8/site-packages/lightgbm/engine.py:153: UserWarning: Found `early_stopping_round` in params. Will use it instead of argument\n",
      "  warnings.warn(\"Found `{}` in params. Will use it instead of argument\".format(alias))\n",
      "[I 2020-03-03 18:40:38,222] Finished trial#25 resulted in value: 0.019701065964333964. Current best value is 0.016882861843185003 with parameters: {'learning_rate': 0.0044872519967622424, 'lambda_l1': 0.0009296789891253036, 'lambda_l2': 0.7622923587008565, 'max_depth': 16, 'num_leaves': 1692, 'min_data_in_leaf': 114, 'bagging_fraction': 0.9930435329362185, 'feature_fraction': 0.8182241647644444}.\n",
      "/home/tri/miniconda3/envs/minimal_ds/lib/python3.8/site-packages/lightgbm/engine.py:148: UserWarning: Found `num_iterations` in params. Will use it instead of argument\n",
      "  warnings.warn(\"Found `{}` in params. Will use it instead of argument\".format(alias))\n",
      "/home/tri/miniconda3/envs/minimal_ds/lib/python3.8/site-packages/lightgbm/engine.py:153: UserWarning: Found `early_stopping_round` in params. Will use it instead of argument\n",
      "  warnings.warn(\"Found `{}` in params. Will use it instead of argument\".format(alias))\n",
      "[I 2020-03-03 18:41:19,915] Finished trial#26 resulted in value: 0.033808932296718094. Current best value is 0.016882861843185003 with parameters: {'learning_rate': 0.0044872519967622424, 'lambda_l1': 0.0009296789891253036, 'lambda_l2': 0.7622923587008565, 'max_depth': 16, 'num_leaves': 1692, 'min_data_in_leaf': 114, 'bagging_fraction': 0.9930435329362185, 'feature_fraction': 0.8182241647644444}.\n",
      "/home/tri/miniconda3/envs/minimal_ds/lib/python3.8/site-packages/lightgbm/engine.py:148: UserWarning: Found `num_iterations` in params. Will use it instead of argument\n",
      "  warnings.warn(\"Found `{}` in params. Will use it instead of argument\".format(alias))\n",
      "/home/tri/miniconda3/envs/minimal_ds/lib/python3.8/site-packages/lightgbm/engine.py:153: UserWarning: Found `early_stopping_round` in params. Will use it instead of argument\n",
      "  warnings.warn(\"Found `{}` in params. Will use it instead of argument\".format(alias))\n",
      "[I 2020-03-03 18:43:05,101] Finished trial#27 resulted in value: 0.019928263661669925. Current best value is 0.016882861843185003 with parameters: {'learning_rate': 0.0044872519967622424, 'lambda_l1': 0.0009296789891253036, 'lambda_l2': 0.7622923587008565, 'max_depth': 16, 'num_leaves': 1692, 'min_data_in_leaf': 114, 'bagging_fraction': 0.9930435329362185, 'feature_fraction': 0.8182241647644444}.\n",
      "/home/tri/miniconda3/envs/minimal_ds/lib/python3.8/site-packages/lightgbm/engine.py:148: UserWarning: Found `num_iterations` in params. Will use it instead of argument\n",
      "  warnings.warn(\"Found `{}` in params. Will use it instead of argument\".format(alias))\n",
      "/home/tri/miniconda3/envs/minimal_ds/lib/python3.8/site-packages/lightgbm/engine.py:153: UserWarning: Found `early_stopping_round` in params. Will use it instead of argument\n",
      "  warnings.warn(\"Found `{}` in params. Will use it instead of argument\".format(alias))\n",
      "[I 2020-03-03 18:45:40,656] Finished trial#28 resulted in value: 0.02861868558028089. Current best value is 0.016882861843185003 with parameters: {'learning_rate': 0.0044872519967622424, 'lambda_l1': 0.0009296789891253036, 'lambda_l2': 0.7622923587008565, 'max_depth': 16, 'num_leaves': 1692, 'min_data_in_leaf': 114, 'bagging_fraction': 0.9930435329362185, 'feature_fraction': 0.8182241647644444}.\n",
      "/home/tri/miniconda3/envs/minimal_ds/lib/python3.8/site-packages/lightgbm/engine.py:148: UserWarning: Found `num_iterations` in params. Will use it instead of argument\n",
      "  warnings.warn(\"Found `{}` in params. Will use it instead of argument\".format(alias))\n",
      "/home/tri/miniconda3/envs/minimal_ds/lib/python3.8/site-packages/lightgbm/engine.py:153: UserWarning: Found `early_stopping_round` in params. Will use it instead of argument\n",
      "  warnings.warn(\"Found `{}` in params. Will use it instead of argument\".format(alias))\n",
      "[I 2020-03-03 18:48:47,187] Finished trial#29 resulted in value: 0.019993711287060036. Current best value is 0.016882861843185003 with parameters: {'learning_rate': 0.0044872519967622424, 'lambda_l1': 0.0009296789891253036, 'lambda_l2': 0.7622923587008565, 'max_depth': 16, 'num_leaves': 1692, 'min_data_in_leaf': 114, 'bagging_fraction': 0.9930435329362185, 'feature_fraction': 0.8182241647644444}.\n",
      "/home/tri/miniconda3/envs/minimal_ds/lib/python3.8/site-packages/lightgbm/engine.py:148: UserWarning: Found `num_iterations` in params. Will use it instead of argument\n",
      "  warnings.warn(\"Found `{}` in params. Will use it instead of argument\".format(alias))\n",
      "/home/tri/miniconda3/envs/minimal_ds/lib/python3.8/site-packages/lightgbm/engine.py:153: UserWarning: Found `early_stopping_round` in params. Will use it instead of argument\n",
      "  warnings.warn(\"Found `{}` in params. Will use it instead of argument\".format(alias))\n",
      "[I 2020-03-03 18:50:32,292] Finished trial#30 resulted in value: 0.03156312624025517. Current best value is 0.016882861843185003 with parameters: {'learning_rate': 0.0044872519967622424, 'lambda_l1': 0.0009296789891253036, 'lambda_l2': 0.7622923587008565, 'max_depth': 16, 'num_leaves': 1692, 'min_data_in_leaf': 114, 'bagging_fraction': 0.9930435329362185, 'feature_fraction': 0.8182241647644444}.\n",
      "/home/tri/miniconda3/envs/minimal_ds/lib/python3.8/site-packages/lightgbm/engine.py:148: UserWarning: Found `num_iterations` in params. Will use it instead of argument\n",
      "  warnings.warn(\"Found `{}` in params. Will use it instead of argument\".format(alias))\n",
      "/home/tri/miniconda3/envs/minimal_ds/lib/python3.8/site-packages/lightgbm/engine.py:153: UserWarning: Found `early_stopping_round` in params. Will use it instead of argument\n",
      "  warnings.warn(\"Found `{}` in params. Will use it instead of argument\".format(alias))\n",
      "[I 2020-03-03 18:52:28,326] Finished trial#31 resulted in value: 0.017387798043065575. Current best value is 0.016882861843185003 with parameters: {'learning_rate': 0.0044872519967622424, 'lambda_l1': 0.0009296789891253036, 'lambda_l2': 0.7622923587008565, 'max_depth': 16, 'num_leaves': 1692, 'min_data_in_leaf': 114, 'bagging_fraction': 0.9930435329362185, 'feature_fraction': 0.8182241647644444}.\n",
      "/home/tri/miniconda3/envs/minimal_ds/lib/python3.8/site-packages/lightgbm/engine.py:148: UserWarning: Found `num_iterations` in params. Will use it instead of argument\n",
      "  warnings.warn(\"Found `{}` in params. Will use it instead of argument\".format(alias))\n",
      "/home/tri/miniconda3/envs/minimal_ds/lib/python3.8/site-packages/lightgbm/engine.py:153: UserWarning: Found `early_stopping_round` in params. Will use it instead of argument\n",
      "  warnings.warn(\"Found `{}` in params. Will use it instead of argument\".format(alias))\n",
      "[I 2020-03-03 18:55:01,597] Finished trial#32 resulted in value: 0.017212852788959045. Current best value is 0.016882861843185003 with parameters: {'learning_rate': 0.0044872519967622424, 'lambda_l1': 0.0009296789891253036, 'lambda_l2': 0.7622923587008565, 'max_depth': 16, 'num_leaves': 1692, 'min_data_in_leaf': 114, 'bagging_fraction': 0.9930435329362185, 'feature_fraction': 0.8182241647644444}.\n",
      "/home/tri/miniconda3/envs/minimal_ds/lib/python3.8/site-packages/lightgbm/engine.py:148: UserWarning: Found `num_iterations` in params. Will use it instead of argument\n",
      "  warnings.warn(\"Found `{}` in params. Will use it instead of argument\".format(alias))\n",
      "/home/tri/miniconda3/envs/minimal_ds/lib/python3.8/site-packages/lightgbm/engine.py:153: UserWarning: Found `early_stopping_round` in params. Will use it instead of argument\n",
      "  warnings.warn(\"Found `{}` in params. Will use it instead of argument\".format(alias))\n",
      "[I 2020-03-03 18:57:50,580] Finished trial#33 resulted in value: 0.017200295176139798. Current best value is 0.016882861843185003 with parameters: {'learning_rate': 0.0044872519967622424, 'lambda_l1': 0.0009296789891253036, 'lambda_l2': 0.7622923587008565, 'max_depth': 16, 'num_leaves': 1692, 'min_data_in_leaf': 114, 'bagging_fraction': 0.9930435329362185, 'feature_fraction': 0.8182241647644444}.\n",
      "/home/tri/miniconda3/envs/minimal_ds/lib/python3.8/site-packages/lightgbm/engine.py:148: UserWarning: Found `num_iterations` in params. Will use it instead of argument\n",
      "  warnings.warn(\"Found `{}` in params. Will use it instead of argument\".format(alias))\n",
      "/home/tri/miniconda3/envs/minimal_ds/lib/python3.8/site-packages/lightgbm/engine.py:153: UserWarning: Found `early_stopping_round` in params. Will use it instead of argument\n",
      "  warnings.warn(\"Found `{}` in params. Will use it instead of argument\".format(alias))\n",
      "[I 2020-03-03 19:01:02,894] Finished trial#34 resulted in value: 0.019157698693645794. Current best value is 0.016882861843185003 with parameters: {'learning_rate': 0.0044872519967622424, 'lambda_l1': 0.0009296789891253036, 'lambda_l2': 0.7622923587008565, 'max_depth': 16, 'num_leaves': 1692, 'min_data_in_leaf': 114, 'bagging_fraction': 0.9930435329362185, 'feature_fraction': 0.8182241647644444}.\n",
      "/home/tri/miniconda3/envs/minimal_ds/lib/python3.8/site-packages/lightgbm/engine.py:148: UserWarning: Found `num_iterations` in params. Will use it instead of argument\n",
      "  warnings.warn(\"Found `{}` in params. Will use it instead of argument\".format(alias))\n",
      "/home/tri/miniconda3/envs/minimal_ds/lib/python3.8/site-packages/lightgbm/engine.py:153: UserWarning: Found `early_stopping_round` in params. Will use it instead of argument\n",
      "  warnings.warn(\"Found `{}` in params. Will use it instead of argument\".format(alias))\n",
      "[I 2020-03-03 19:02:54,880] Finished trial#35 resulted in value: 0.016853436085181202. Current best value is 0.016853436085181202 with parameters: {'learning_rate': 0.05197902105642582, 'lambda_l1': 6.9981940619314384, 'lambda_l2': 0.005709311268701089, 'max_depth': 16, 'num_leaves': 2030, 'min_data_in_leaf': 361, 'bagging_fraction': 0.6950376456238055, 'feature_fraction': 0.9436563120342846}.\n",
      "/home/tri/miniconda3/envs/minimal_ds/lib/python3.8/site-packages/lightgbm/engine.py:148: UserWarning: Found `num_iterations` in params. Will use it instead of argument\n",
      "  warnings.warn(\"Found `{}` in params. Will use it instead of argument\".format(alias))\n",
      "/home/tri/miniconda3/envs/minimal_ds/lib/python3.8/site-packages/lightgbm/engine.py:153: UserWarning: Found `early_stopping_round` in params. Will use it instead of argument\n",
      "  warnings.warn(\"Found `{}` in params. Will use it instead of argument\".format(alias))\n",
      "[I 2020-03-03 19:05:14,186] Finished trial#36 resulted in value: 0.016849478977896886. Current best value is 0.016849478977896886 with parameters: {'learning_rate': 0.05337826547294013, 'lambda_l1': 3.5502118947285526, 'lambda_l2': 0.0037989258842202967, 'max_depth': 15, 'num_leaves': 2046, 'min_data_in_leaf': 416, 'bagging_fraction': 0.5554614477550504, 'feature_fraction': 0.9368418470420813}.\n",
      "/home/tri/miniconda3/envs/minimal_ds/lib/python3.8/site-packages/lightgbm/engine.py:148: UserWarning: Found `num_iterations` in params. Will use it instead of argument\n",
      "  warnings.warn(\"Found `{}` in params. Will use it instead of argument\".format(alias))\n",
      "/home/tri/miniconda3/envs/minimal_ds/lib/python3.8/site-packages/lightgbm/engine.py:153: UserWarning: Found `early_stopping_round` in params. Will use it instead of argument\n",
      "  warnings.warn(\"Found `{}` in params. Will use it instead of argument\".format(alias))\n",
      "[I 2020-03-03 19:05:51,500] Finished trial#37 resulted in value: 0.059371741723361286. Current best value is 0.016849478977896886 with parameters: {'learning_rate': 0.05337826547294013, 'lambda_l1': 3.5502118947285526, 'lambda_l2': 0.0037989258842202967, 'max_depth': 15, 'num_leaves': 2046, 'min_data_in_leaf': 416, 'bagging_fraction': 0.5554614477550504, 'feature_fraction': 0.9368418470420813}.\n",
      "/home/tri/miniconda3/envs/minimal_ds/lib/python3.8/site-packages/lightgbm/engine.py:148: UserWarning: Found `num_iterations` in params. Will use it instead of argument\n",
      "  warnings.warn(\"Found `{}` in params. Will use it instead of argument\".format(alias))\n",
      "/home/tri/miniconda3/envs/minimal_ds/lib/python3.8/site-packages/lightgbm/engine.py:153: UserWarning: Found `early_stopping_round` in params. Will use it instead of argument\n",
      "  warnings.warn(\"Found `{}` in params. Will use it instead of argument\".format(alias))\n",
      "[I 2020-03-03 19:08:24,034] Finished trial#38 resulted in value: 0.018224932446880126. Current best value is 0.016849478977896886 with parameters: {'learning_rate': 0.05337826547294013, 'lambda_l1': 3.5502118947285526, 'lambda_l2': 0.0037989258842202967, 'max_depth': 15, 'num_leaves': 2046, 'min_data_in_leaf': 416, 'bagging_fraction': 0.5554614477550504, 'feature_fraction': 0.9368418470420813}.\n",
      "/home/tri/miniconda3/envs/minimal_ds/lib/python3.8/site-packages/lightgbm/engine.py:148: UserWarning: Found `num_iterations` in params. Will use it instead of argument\n",
      "  warnings.warn(\"Found `{}` in params. Will use it instead of argument\".format(alias))\n",
      "/home/tri/miniconda3/envs/minimal_ds/lib/python3.8/site-packages/lightgbm/engine.py:153: UserWarning: Found `early_stopping_round` in params. Will use it instead of argument\n",
      "  warnings.warn(\"Found `{}` in params. Will use it instead of argument\".format(alias))\n",
      "[I 2020-03-03 19:11:01,354] Finished trial#39 resulted in value: 0.01761528621641327. Current best value is 0.016849478977896886 with parameters: {'learning_rate': 0.05337826547294013, 'lambda_l1': 3.5502118947285526, 'lambda_l2': 0.0037989258842202967, 'max_depth': 15, 'num_leaves': 2046, 'min_data_in_leaf': 416, 'bagging_fraction': 0.5554614477550504, 'feature_fraction': 0.9368418470420813}.\n",
      "/home/tri/miniconda3/envs/minimal_ds/lib/python3.8/site-packages/lightgbm/engine.py:148: UserWarning: Found `num_iterations` in params. Will use it instead of argument\n",
      "  warnings.warn(\"Found `{}` in params. Will use it instead of argument\".format(alias))\n",
      "/home/tri/miniconda3/envs/minimal_ds/lib/python3.8/site-packages/lightgbm/engine.py:153: UserWarning: Found `early_stopping_round` in params. Will use it instead of argument\n",
      "  warnings.warn(\"Found `{}` in params. Will use it instead of argument\".format(alias))\n",
      "[I 2020-03-03 19:15:06,860] Finished trial#40 resulted in value: 0.016442462156953858. Current best value is 0.016442462156953858 with parameters: {'learning_rate': 0.027511244544961514, 'lambda_l1': 1.180776479050924, 'lambda_l2': 0.007851994561524368, 'max_depth': 58, 'num_leaves': 1892, 'min_data_in_leaf': 352, 'bagging_fraction': 0.5505795565224383, 'feature_fraction': 0.9721191984040021}.\n",
      "/home/tri/miniconda3/envs/minimal_ds/lib/python3.8/site-packages/lightgbm/engine.py:148: UserWarning: Found `num_iterations` in params. Will use it instead of argument\n",
      "  warnings.warn(\"Found `{}` in params. Will use it instead of argument\".format(alias))\n",
      "/home/tri/miniconda3/envs/minimal_ds/lib/python3.8/site-packages/lightgbm/engine.py:153: UserWarning: Found `early_stopping_round` in params. Will use it instead of argument\n",
      "  warnings.warn(\"Found `{}` in params. Will use it instead of argument\".format(alias))\n",
      "[I 2020-03-03 19:18:10,976] Finished trial#41 resulted in value: 0.016227599179633796. Current best value is 0.016227599179633796 with parameters: {'learning_rate': 0.027524016423869407, 'lambda_l1': 1.0677918337566266, 'lambda_l2': 0.006276522662715244, 'max_depth': 57, 'num_leaves': 1920, 'min_data_in_leaf': 266, 'bagging_fraction': 0.5364003221892716, 'feature_fraction': 0.9681092525992606}.\n",
      "/home/tri/miniconda3/envs/minimal_ds/lib/python3.8/site-packages/lightgbm/engine.py:148: UserWarning: Found `num_iterations` in params. Will use it instead of argument\n",
      "  warnings.warn(\"Found `{}` in params. Will use it instead of argument\".format(alias))\n",
      "/home/tri/miniconda3/envs/minimal_ds/lib/python3.8/site-packages/lightgbm/engine.py:153: UserWarning: Found `early_stopping_round` in params. Will use it instead of argument\n",
      "  warnings.warn(\"Found `{}` in params. Will use it instead of argument\".format(alias))\n",
      "[I 2020-03-03 19:23:06,449] Finished trial#42 resulted in value: 0.01627347171825883. Current best value is 0.016227599179633796 with parameters: {'learning_rate': 0.027524016423869407, 'lambda_l1': 1.0677918337566266, 'lambda_l2': 0.006276522662715244, 'max_depth': 57, 'num_leaves': 1920, 'min_data_in_leaf': 266, 'bagging_fraction': 0.5364003221892716, 'feature_fraction': 0.9681092525992606}.\n",
      "/home/tri/miniconda3/envs/minimal_ds/lib/python3.8/site-packages/lightgbm/engine.py:148: UserWarning: Found `num_iterations` in params. Will use it instead of argument\n",
      "  warnings.warn(\"Found `{}` in params. Will use it instead of argument\".format(alias))\n",
      "/home/tri/miniconda3/envs/minimal_ds/lib/python3.8/site-packages/lightgbm/engine.py:153: UserWarning: Found `early_stopping_round` in params. Will use it instead of argument\n",
      "  warnings.warn(\"Found `{}` in params. Will use it instead of argument\".format(alias))\n",
      "[I 2020-03-03 19:27:11,599] Finished trial#43 resulted in value: 0.016398897612886956. Current best value is 0.016227599179633796 with parameters: {'learning_rate': 0.027524016423869407, 'lambda_l1': 1.0677918337566266, 'lambda_l2': 0.006276522662715244, 'max_depth': 57, 'num_leaves': 1920, 'min_data_in_leaf': 266, 'bagging_fraction': 0.5364003221892716, 'feature_fraction': 0.9681092525992606}.\n",
      "/home/tri/miniconda3/envs/minimal_ds/lib/python3.8/site-packages/lightgbm/engine.py:148: UserWarning: Found `num_iterations` in params. Will use it instead of argument\n",
      "  warnings.warn(\"Found `{}` in params. Will use it instead of argument\".format(alias))\n",
      "/home/tri/miniconda3/envs/minimal_ds/lib/python3.8/site-packages/lightgbm/engine.py:153: UserWarning: Found `early_stopping_round` in params. Will use it instead of argument\n",
      "  warnings.warn(\"Found `{}` in params. Will use it instead of argument\".format(alias))\n",
      "[I 2020-03-03 19:30:22,731] Finished trial#44 resulted in value: 0.018372653573200576. Current best value is 0.016227599179633796 with parameters: {'learning_rate': 0.027524016423869407, 'lambda_l1': 1.0677918337566266, 'lambda_l2': 0.006276522662715244, 'max_depth': 57, 'num_leaves': 1920, 'min_data_in_leaf': 266, 'bagging_fraction': 0.5364003221892716, 'feature_fraction': 0.9681092525992606}.\n",
      "/home/tri/miniconda3/envs/minimal_ds/lib/python3.8/site-packages/lightgbm/engine.py:148: UserWarning: Found `num_iterations` in params. Will use it instead of argument\n",
      "  warnings.warn(\"Found `{}` in params. Will use it instead of argument\".format(alias))\n",
      "/home/tri/miniconda3/envs/minimal_ds/lib/python3.8/site-packages/lightgbm/engine.py:153: UserWarning: Found `early_stopping_round` in params. Will use it instead of argument\n",
      "  warnings.warn(\"Found `{}` in params. Will use it instead of argument\".format(alias))\n",
      "[I 2020-03-03 19:36:13,437] Finished trial#45 resulted in value: 0.016480403479790694. Current best value is 0.016227599179633796 with parameters: {'learning_rate': 0.027524016423869407, 'lambda_l1': 1.0677918337566266, 'lambda_l2': 0.006276522662715244, 'max_depth': 57, 'num_leaves': 1920, 'min_data_in_leaf': 266, 'bagging_fraction': 0.5364003221892716, 'feature_fraction': 0.9681092525992606}.\n",
      "/home/tri/miniconda3/envs/minimal_ds/lib/python3.8/site-packages/lightgbm/engine.py:148: UserWarning: Found `num_iterations` in params. Will use it instead of argument\n",
      "  warnings.warn(\"Found `{}` in params. Will use it instead of argument\".format(alias))\n",
      "/home/tri/miniconda3/envs/minimal_ds/lib/python3.8/site-packages/lightgbm/engine.py:153: UserWarning: Found `early_stopping_round` in params. Will use it instead of argument\n",
      "  warnings.warn(\"Found `{}` in params. Will use it instead of argument\".format(alias))\n",
      "[I 2020-03-03 19:40:18,767] Finished trial#46 resulted in value: 0.01783126710765195. Current best value is 0.016227599179633796 with parameters: {'learning_rate': 0.027524016423869407, 'lambda_l1': 1.0677918337566266, 'lambda_l2': 0.006276522662715244, 'max_depth': 57, 'num_leaves': 1920, 'min_data_in_leaf': 266, 'bagging_fraction': 0.5364003221892716, 'feature_fraction': 0.9681092525992606}.\n",
      "/home/tri/miniconda3/envs/minimal_ds/lib/python3.8/site-packages/lightgbm/engine.py:148: UserWarning: Found `num_iterations` in params. Will use it instead of argument\n",
      "  warnings.warn(\"Found `{}` in params. Will use it instead of argument\".format(alias))\n",
      "/home/tri/miniconda3/envs/minimal_ds/lib/python3.8/site-packages/lightgbm/engine.py:153: UserWarning: Found `early_stopping_round` in params. Will use it instead of argument\n",
      "  warnings.warn(\"Found `{}` in params. Will use it instead of argument\".format(alias))\n",
      "[I 2020-03-03 19:48:23,348] Finished trial#47 resulted in value: 0.015854392915170067. Current best value is 0.015854392915170067 with parameters: {'learning_rate': 0.00932213172351147, 'lambda_l1': 0.2413263685702751, 'lambda_l2': 0.0003194550251818707, 'max_depth': 57, 'num_leaves': 1937, 'min_data_in_leaf': 166, 'bagging_fraction': 0.5038085836543053, 'feature_fraction': 0.9675236490511163}.\n",
      "/home/tri/miniconda3/envs/minimal_ds/lib/python3.8/site-packages/lightgbm/engine.py:148: UserWarning: Found `num_iterations` in params. Will use it instead of argument\n",
      "  warnings.warn(\"Found `{}` in params. Will use it instead of argument\".format(alias))\n",
      "/home/tri/miniconda3/envs/minimal_ds/lib/python3.8/site-packages/lightgbm/engine.py:153: UserWarning: Found `early_stopping_round` in params. Will use it instead of argument\n",
      "  warnings.warn(\"Found `{}` in params. Will use it instead of argument\".format(alias))\n",
      "[I 2020-03-03 19:50:19,474] Finished trial#48 resulted in value: 0.014979724161891843. Current best value is 0.014979724161891843 with parameters: {'learning_rate': 0.023942434668217872, 'lambda_l1': 0.23828824891615835, 'lambda_l2': 0.00028375734074312625, 'max_depth': 58, 'num_leaves': 1581, 'min_data_in_leaf': 42, 'bagging_fraction': 0.500825513633077, 'feature_fraction': 0.9607308095583501}.\n",
      "/home/tri/miniconda3/envs/minimal_ds/lib/python3.8/site-packages/lightgbm/engine.py:148: UserWarning: Found `num_iterations` in params. Will use it instead of argument\n",
      "  warnings.warn(\"Found `{}` in params. Will use it instead of argument\".format(alias))\n",
      "/home/tri/miniconda3/envs/minimal_ds/lib/python3.8/site-packages/lightgbm/engine.py:153: UserWarning: Found `early_stopping_round` in params. Will use it instead of argument\n",
      "  warnings.warn(\"Found `{}` in params. Will use it instead of argument\".format(alias))\n",
      "[I 2020-03-03 19:54:55,001] Finished trial#49 resulted in value: 0.017048684884403583. Current best value is 0.014979724161891843 with parameters: {'learning_rate': 0.023942434668217872, 'lambda_l1': 0.23828824891615835, 'lambda_l2': 0.00028375734074312625, 'max_depth': 58, 'num_leaves': 1581, 'min_data_in_leaf': 42, 'bagging_fraction': 0.500825513633077, 'feature_fraction': 0.9607308095583501}.\n"
     ]
    },
    {
     "name": "stdout",
     "output_type": "stream",
     "text": [
      "2020-03-03 19:54:55.003814\n",
      "Finished trials: 50\n",
      "Best trial: 0.014979724161891843\n"
     ]
    },
    {
     "data": {
      "text/plain": [
       "{'learning_rate': 0.023942434668217872,\n",
       " 'lambda_l1': 0.23828824891615835,\n",
       " 'lambda_l2': 0.00028375734074312625,\n",
       " 'max_depth': 58,\n",
       " 'num_leaves': 1581,\n",
       " 'min_data_in_leaf': 42,\n",
       " 'bagging_fraction': 0.500825513633077,\n",
       " 'feature_fraction': 0.9607308095583501}"
      ]
     },
     "execution_count": 43,
     "metadata": {},
     "output_type": "execute_result"
    }
   ],
   "source": [
    "# print(datetime.datetime.now())\n",
    "\n",
    "# # Enable logging\n",
    "# optuna.logging.enable_default_handler()\n",
    "\n",
    "# # Optimize parameters\n",
    "# study_lgb3 = optuna.create_study(direction='minimize')\n",
    "# study_lgb3.optimize(objective_lgb3, n_trials=50)\n",
    "\n",
    "# print(datetime.datetime.now())\n",
    "\n",
    "# print(f'Finished trials: {len(study_lgb3.trials)}')\n",
    "# print(f'Best trial: {study_lgb3.best_trial.value}')\n",
    "# study_lgb3.best_trial.params"
   ]
  },
  {
   "cell_type": "code",
   "execution_count": 44,
   "metadata": {},
   "outputs": [
    {
     "name": "stdout",
     "output_type": "stream",
     "text": [
      "Finished trials: 50\n",
      "Best trial: 0.014979724161891843\n"
     ]
    },
    {
     "data": {
      "text/plain": [
       "{'learning_rate': 0.023942434668217872,\n",
       " 'lambda_l1': 0.23828824891615835,\n",
       " 'lambda_l2': 0.00028375734074312625,\n",
       " 'max_depth': 58,\n",
       " 'num_leaves': 1581,\n",
       " 'min_data_in_leaf': 42,\n",
       " 'bagging_fraction': 0.500825513633077,\n",
       " 'feature_fraction': 0.9607308095583501}"
      ]
     },
     "execution_count": 44,
     "metadata": {},
     "output_type": "execute_result"
    }
   ],
   "source": [
    "# Study results\n",
    "study_lgb3 = joblib.load('../objects/hotwater/study_lgb3.pkl')\n",
    "print(f'Finished trials: {len(study_lgb3.trials)}')\n",
    "print(f'Best trial: {study_lgb3.best_trial.value}')\n",
    "study_lgb3.best_trial.params"
   ]
  },
  {
   "cell_type": "code",
   "execution_count": 45,
   "metadata": {},
   "outputs": [
    {
     "name": "stderr",
     "output_type": "stream",
     "text": [
      "/home/tri/miniconda3/envs/minimal_ds/lib/python3.8/site-packages/lightgbm/engine.py:148: UserWarning: Found `num_iterations` in params. Will use it instead of argument\n",
      "  warnings.warn(\"Found `{}` in params. Will use it instead of argument\".format(alias))\n",
      "/home/tri/miniconda3/envs/minimal_ds/lib/python3.8/site-packages/lightgbm/engine.py:153: UserWarning: Found `early_stopping_round` in params. Will use it instead of argument\n",
      "  warnings.warn(\"Found `{}` in params. Will use it instead of argument\".format(alias))\n"
     ]
    },
    {
     "name": "stdout",
     "output_type": "stream",
     "text": [
      "Train RMSLE: 0.08628104651926864\n",
      "Validation RMSLE: 0.12239168167271001\n",
      "Test RMSLE: 0.12281269522818986\n"
     ]
    }
   ],
   "source": [
    "# Parameters from Optuna\n",
    "params_lgb3 = dict(study_lgb3.best_trial.params)\n",
    "params_lgb3['num_iterations'] = 10000\n",
    "params_lgb3['early_stopping_round'] = 20\n",
    "params_lgb3['metric'] = 'rmse'\n",
    "params_lgb3['num_threads'] = -1\n",
    "params_lgb3['seed'] = 42\n",
    "\n",
    "# Root mean squared log error\n",
    "rmsle_train, rmsle_val, rmsle_test = lgbm_rmsle(Xh_train_scaled, yh_train, Xh_val_scaled, yh_val, Xh_test_scaled, yh_test, params_lgb3, '../objects/hotwater/lgbm3.txt')\n",
    "print('Train RMSLE:', rmsle_train)\n",
    "print('Validation RMSLE:', rmsle_val)\n",
    "print('Test RMSLE:', rmsle_test)"
   ]
  },
  {
   "cell_type": "code",
   "execution_count": 36,
   "metadata": {},
   "outputs": [
    {
     "data": {
      "text/plain": [
       "46"
      ]
     },
     "execution_count": 36,
     "metadata": {},
     "output_type": "execute_result"
    }
   ],
   "source": [
    "del rmsle_train, rmsle_val, rmsle_test\n",
    "gc.collect()"
   ]
  },
  {
   "cell_type": "code",
   "execution_count": null,
   "metadata": {},
   "outputs": [],
   "source": []
  },
  {
   "cell_type": "code",
   "execution_count": null,
   "metadata": {},
   "outputs": [],
   "source": []
  },
  {
   "cell_type": "markdown",
   "metadata": {},
   "source": [
    "### XGBoost - hot water"
   ]
  },
  {
   "cell_type": "code",
   "execution_count": 46,
   "metadata": {},
   "outputs": [],
   "source": [
    "# Objective function for parameter optimization\n",
    "def objective_xgb3(trial):\n",
    "    \n",
    "    joblib.dump(study_xgb3, '../objects/hotwater/study_xgb3.pkl')\n",
    "    \n",
    "    dtrain = xgb.DMatrix(Xh_val_scaled, label=yh_val)\n",
    "    dval = xgb.DMatrix(Xh_test_scaled, label=yh_test)\n",
    "\n",
    "    params = {\n",
    "        'grow_policy': trial.suggest_categorical('grow_policy', ['depthwise', 'lossguide']),\n",
    "        'learning_rate': trial.suggest_loguniform('learning_rate', 1e-4, 1e-1),\n",
    "        'alpha': trial.suggest_loguniform('alpha', 1e-4, 1e1),\n",
    "        'lambda': trial.suggest_loguniform('lambda', 1e-4, 1e1),\n",
    "        'gamma': trial.suggest_loguniform('gamma', 1e-4, 1e1),\n",
    "        'max_depth': trial.suggest_int('max_depth', 2, 100),\n",
    "        'max_leaves': trial.suggest_int('max_leaves', 2, 2024),\n",
    "        'subsample': trial.suggest_uniform('subsample', 0.5, 1.0),\n",
    "        'colsample_bytree': trial.suggest_uniform('colsample_bytree', 0.5, 1.0),\n",
    "        'eval_metric': 'rmse',\n",
    "        'seed': 42\n",
    "    }\n",
    "    \n",
    "    xg = xgb.train(params, dtrain, \n",
    "                   evals=[(dtrain, 'train'), (dval, 'valid')],\n",
    "                   num_boost_round=1000, \n",
    "                   early_stopping_rounds=10,\n",
    "                   verbose_eval=False)\n",
    "    pred = xg.predict(dval)\n",
    "    pred[pred < 0] = 0\n",
    "    loss = mean_squared_log_error(yh_test, pred)\n",
    "\n",
    "#     cv = xgb.cv(params, dtrain, folds=KFold(10, shuffle=True, random_state=42), verbose_eval=False)\n",
    "#     loss = cv['rmse-mean'][-1]\n",
    "    \n",
    "    return loss"
   ]
  },
  {
   "cell_type": "code",
   "execution_count": 47,
   "metadata": {},
   "outputs": [
    {
     "name": "stdout",
     "output_type": "stream",
     "text": [
      "Start: 2020-03-03 19:56:42.344642\n"
     ]
    },
    {
     "name": "stderr",
     "output_type": "stream",
     "text": [
      "[I 2020-03-03 19:57:19,880] Finished trial#0 resulted in value: 0.06371662020683289. Current best value is 0.06371662020683289 with parameters: {'grow_policy': 'depthwise', 'learning_rate': 0.0017858014851832146, 'alpha': 0.20784827498656494, 'lambda': 0.00025615294943987296, 'gamma': 6.311264465983163, 'max_depth': 7, 'max_leaves': 118, 'subsample': 0.9577550578274965, 'colsample_bytree': 0.6628215901071686}.\n",
      "[I 2020-03-03 19:59:49,202] Finished trial#1 resulted in value: 0.9317212700843811. Current best value is 0.06371662020683289 with parameters: {'grow_policy': 'depthwise', 'learning_rate': 0.0017858014851832146, 'alpha': 0.20784827498656494, 'lambda': 0.00025615294943987296, 'gamma': 6.311264465983163, 'max_depth': 7, 'max_leaves': 118, 'subsample': 0.9577550578274965, 'colsample_bytree': 0.6628215901071686}.\n",
      "[I 2020-03-03 20:00:05,250] Finished trial#2 resulted in value: 0.10064920783042908. Current best value is 0.06371662020683289 with parameters: {'grow_policy': 'depthwise', 'learning_rate': 0.0017858014851832146, 'alpha': 0.20784827498656494, 'lambda': 0.00025615294943987296, 'gamma': 6.311264465983163, 'max_depth': 7, 'max_leaves': 118, 'subsample': 0.9577550578274965, 'colsample_bytree': 0.6628215901071686}.\n",
      "[I 2020-03-03 20:03:29,590] Finished trial#3 resulted in value: 0.01820976659655571. Current best value is 0.01820976659655571 with parameters: {'grow_policy': 'lossguide', 'learning_rate': 0.006466142762457959, 'alpha': 1.8935020949438883, 'lambda': 0.0010537662652911832, 'gamma': 0.010535653893374311, 'max_depth': 78, 'max_leaves': 336, 'subsample': 0.6259080946580589, 'colsample_bytree': 0.8515542605390156}.\n",
      "[I 2020-03-03 20:04:48,554] Finished trial#4 resulted in value: 0.4879499077796936. Current best value is 0.01820976659655571 with parameters: {'grow_policy': 'lossguide', 'learning_rate': 0.006466142762457959, 'alpha': 1.8935020949438883, 'lambda': 0.0010537662652911832, 'gamma': 0.010535653893374311, 'max_depth': 78, 'max_leaves': 336, 'subsample': 0.6259080946580589, 'colsample_bytree': 0.8515542605390156}.\n",
      "[I 2020-03-03 20:08:56,039] Finished trial#5 resulted in value: 0.017874764278531075. Current best value is 0.017874764278531075 with parameters: {'grow_policy': 'depthwise', 'learning_rate': 0.005537276362036835, 'alpha': 0.09184152613092533, 'lambda': 0.33401350602216184, 'gamma': 0.0026976547071225145, 'max_depth': 82, 'max_leaves': 135, 'subsample': 0.5687776294836493, 'colsample_bytree': 0.8253360466837221}.\n",
      "[I 2020-03-03 20:10:38,323] Finished trial#6 resulted in value: 0.43680888414382935. Current best value is 0.017874764278531075 with parameters: {'grow_policy': 'depthwise', 'learning_rate': 0.005537276362036835, 'alpha': 0.09184152613092533, 'lambda': 0.33401350602216184, 'gamma': 0.0026976547071225145, 'max_depth': 82, 'max_leaves': 135, 'subsample': 0.5687776294836493, 'colsample_bytree': 0.8253360466837221}.\n",
      "[I 2020-03-03 20:14:04,521] Finished trial#7 resulted in value: 0.2630526125431061. Current best value is 0.017874764278531075 with parameters: {'grow_policy': 'depthwise', 'learning_rate': 0.005537276362036835, 'alpha': 0.09184152613092533, 'lambda': 0.33401350602216184, 'gamma': 0.0026976547071225145, 'max_depth': 82, 'max_leaves': 135, 'subsample': 0.5687776294836493, 'colsample_bytree': 0.8253360466837221}.\n",
      "[I 2020-03-03 20:16:36,275] Finished trial#8 resulted in value: 0.11765149235725403. Current best value is 0.017874764278531075 with parameters: {'grow_policy': 'depthwise', 'learning_rate': 0.005537276362036835, 'alpha': 0.09184152613092533, 'lambda': 0.33401350602216184, 'gamma': 0.0026976547071225145, 'max_depth': 82, 'max_leaves': 135, 'subsample': 0.5687776294836493, 'colsample_bytree': 0.8253360466837221}.\n",
      "[I 2020-03-03 20:17:29,762] Finished trial#9 resulted in value: 0.01909223571419716. Current best value is 0.017874764278531075 with parameters: {'grow_policy': 'depthwise', 'learning_rate': 0.005537276362036835, 'alpha': 0.09184152613092533, 'lambda': 0.33401350602216184, 'gamma': 0.0026976547071225145, 'max_depth': 82, 'max_leaves': 135, 'subsample': 0.5687776294836493, 'colsample_bytree': 0.8253360466837221}.\n",
      "[I 2020-03-03 20:19:10,886] Finished trial#10 resulted in value: 0.01839655451476574. Current best value is 0.017874764278531075 with parameters: {'grow_policy': 'depthwise', 'learning_rate': 0.005537276362036835, 'alpha': 0.09184152613092533, 'lambda': 0.33401350602216184, 'gamma': 0.0026976547071225145, 'max_depth': 82, 'max_leaves': 135, 'subsample': 0.5687776294836493, 'colsample_bytree': 0.8253360466837221}.\n",
      "[I 2020-03-03 20:23:30,272] Finished trial#11 resulted in value: 0.017666352912783623. Current best value is 0.017666352912783623 with parameters: {'grow_policy': 'lossguide', 'learning_rate': 0.0061925870144539305, 'alpha': 0.13431378448292616, 'lambda': 0.4755249555144386, 'gamma': 0.001545286024269983, 'max_depth': 78, 'max_leaves': 609, 'subsample': 0.6178934796744421, 'colsample_bytree': 0.9230717532782086}.\n",
      "[I 2020-03-03 20:27:28,817] Finished trial#12 resulted in value: 0.01773776113986969. Current best value is 0.017666352912783623 with parameters: {'grow_policy': 'lossguide', 'learning_rate': 0.0061925870144539305, 'alpha': 0.13431378448292616, 'lambda': 0.4755249555144386, 'gamma': 0.001545286024269983, 'max_depth': 78, 'max_leaves': 609, 'subsample': 0.6178934796744421, 'colsample_bytree': 0.9230717532782086}.\n",
      "[I 2020-03-03 20:29:48,797] Finished trial#13 resulted in value: 0.017736535519361496. Current best value is 0.017666352912783623 with parameters: {'grow_policy': 'lossguide', 'learning_rate': 0.0061925870144539305, 'alpha': 0.13431378448292616, 'lambda': 0.4755249555144386, 'gamma': 0.001545286024269983, 'max_depth': 78, 'max_leaves': 609, 'subsample': 0.6178934796744421, 'colsample_bytree': 0.9230717532782086}.\n",
      "[I 2020-03-03 20:30:28,533] Finished trial#14 resulted in value: 0.018339022994041443. Current best value is 0.017666352912783623 with parameters: {'grow_policy': 'lossguide', 'learning_rate': 0.0061925870144539305, 'alpha': 0.13431378448292616, 'lambda': 0.4755249555144386, 'gamma': 0.001545286024269983, 'max_depth': 78, 'max_leaves': 609, 'subsample': 0.6178934796744421, 'colsample_bytree': 0.9230717532782086}.\n",
      "[I 2020-03-03 20:33:19,494] Finished trial#15 resulted in value: 0.017705313861370087. Current best value is 0.017666352912783623 with parameters: {'grow_policy': 'lossguide', 'learning_rate': 0.0061925870144539305, 'alpha': 0.13431378448292616, 'lambda': 0.4755249555144386, 'gamma': 0.001545286024269983, 'max_depth': 78, 'max_leaves': 609, 'subsample': 0.6178934796744421, 'colsample_bytree': 0.9230717532782086}.\n",
      "[I 2020-03-03 20:37:28,966] Finished trial#16 resulted in value: 0.024265695363283157. Current best value is 0.017666352912783623 with parameters: {'grow_policy': 'lossguide', 'learning_rate': 0.0061925870144539305, 'alpha': 0.13431378448292616, 'lambda': 0.4755249555144386, 'gamma': 0.001545286024269983, 'max_depth': 78, 'max_leaves': 609, 'subsample': 0.6178934796744421, 'colsample_bytree': 0.9230717532782086}.\n",
      "[I 2020-03-03 20:40:41,640] Finished trial#17 resulted in value: 0.017748413607478142. Current best value is 0.017666352912783623 with parameters: {'grow_policy': 'lossguide', 'learning_rate': 0.0061925870144539305, 'alpha': 0.13431378448292616, 'lambda': 0.4755249555144386, 'gamma': 0.001545286024269983, 'max_depth': 78, 'max_leaves': 609, 'subsample': 0.6178934796744421, 'colsample_bytree': 0.9230717532782086}.\n",
      "[I 2020-03-03 20:41:34,975] Finished trial#18 resulted in value: 0.018806664273142815. Current best value is 0.017666352912783623 with parameters: {'grow_policy': 'lossguide', 'learning_rate': 0.0061925870144539305, 'alpha': 0.13431378448292616, 'lambda': 0.4755249555144386, 'gamma': 0.001545286024269983, 'max_depth': 78, 'max_leaves': 609, 'subsample': 0.6178934796744421, 'colsample_bytree': 0.9230717532782086}.\n",
      "[I 2020-03-03 20:45:12,186] Finished trial#19 resulted in value: 0.01867718994617462. Current best value is 0.017666352912783623 with parameters: {'grow_policy': 'lossguide', 'learning_rate': 0.0061925870144539305, 'alpha': 0.13431378448292616, 'lambda': 0.4755249555144386, 'gamma': 0.001545286024269983, 'max_depth': 78, 'max_leaves': 609, 'subsample': 0.6178934796744421, 'colsample_bytree': 0.9230717532782086}.\n",
      "[I 2020-03-03 20:48:21,865] Finished trial#20 resulted in value: 0.01819346845149994. Current best value is 0.017666352912783623 with parameters: {'grow_policy': 'lossguide', 'learning_rate': 0.0061925870144539305, 'alpha': 0.13431378448292616, 'lambda': 0.4755249555144386, 'gamma': 0.001545286024269983, 'max_depth': 78, 'max_leaves': 609, 'subsample': 0.6178934796744421, 'colsample_bytree': 0.9230717532782086}.\n",
      "[I 2020-03-03 20:50:26,889] Finished trial#21 resulted in value: 0.0178128182888031. Current best value is 0.017666352912783623 with parameters: {'grow_policy': 'lossguide', 'learning_rate': 0.0061925870144539305, 'alpha': 0.13431378448292616, 'lambda': 0.4755249555144386, 'gamma': 0.001545286024269983, 'max_depth': 78, 'max_leaves': 609, 'subsample': 0.6178934796744421, 'colsample_bytree': 0.9230717532782086}.\n",
      "[I 2020-03-03 20:53:45,947] Finished trial#22 resulted in value: 0.01771237514913082. Current best value is 0.017666352912783623 with parameters: {'grow_policy': 'lossguide', 'learning_rate': 0.0061925870144539305, 'alpha': 0.13431378448292616, 'lambda': 0.4755249555144386, 'gamma': 0.001545286024269983, 'max_depth': 78, 'max_leaves': 609, 'subsample': 0.6178934796744421, 'colsample_bytree': 0.9230717532782086}.\n",
      "[I 2020-03-03 20:55:22,645] Finished trial#23 resulted in value: 0.01823539286851883. Current best value is 0.017666352912783623 with parameters: {'grow_policy': 'lossguide', 'learning_rate': 0.0061925870144539305, 'alpha': 0.13431378448292616, 'lambda': 0.4755249555144386, 'gamma': 0.001545286024269983, 'max_depth': 78, 'max_leaves': 609, 'subsample': 0.6178934796744421, 'colsample_bytree': 0.9230717532782086}.\n",
      "[I 2020-03-03 21:01:06,680] Finished trial#24 resulted in value: 0.017645619809627533. Current best value is 0.017645619809627533 with parameters: {'grow_policy': 'lossguide', 'learning_rate': 0.008067618219643182, 'alpha': 0.03640925011038995, 'lambda': 0.8355465496759326, 'gamma': 0.004224628328945271, 'max_depth': 63, 'max_leaves': 1242, 'subsample': 0.780408572723719, 'colsample_bytree': 0.8972980972823189}.\n",
      "[I 2020-03-03 21:05:18,565] Finished trial#25 resulted in value: 0.0183859895914793. Current best value is 0.017645619809627533 with parameters: {'grow_policy': 'lossguide', 'learning_rate': 0.008067618219643182, 'alpha': 0.03640925011038995, 'lambda': 0.8355465496759326, 'gamma': 0.004224628328945271, 'max_depth': 63, 'max_leaves': 1242, 'subsample': 0.780408572723719, 'colsample_bytree': 0.8972980972823189}.\n",
      "[I 2020-03-03 21:10:08,068] Finished trial#26 resulted in value: 0.017584603279829025. Current best value is 0.017584603279829025 with parameters: {'grow_policy': 'lossguide', 'learning_rate': 0.006689995128310163, 'alpha': 0.018527314953157386, 'lambda': 3.302209071496596, 'gamma': 0.001204987029418707, 'max_depth': 76, 'max_leaves': 951, 'subsample': 0.8535044797963103, 'colsample_bytree': 0.8544545484377969}.\n",
      "[I 2020-03-03 21:14:24,769] Finished trial#27 resulted in value: 0.01774626597762108. Current best value is 0.017584603279829025 with parameters: {'grow_policy': 'lossguide', 'learning_rate': 0.006689995128310163, 'alpha': 0.018527314953157386, 'lambda': 3.302209071496596, 'gamma': 0.001204987029418707, 'max_depth': 76, 'max_leaves': 951, 'subsample': 0.8535044797963103, 'colsample_bytree': 0.8544545484377969}.\n",
      "[I 2020-03-03 21:18:22,135] Finished trial#28 resulted in value: 0.020071815699338913. Current best value is 0.017584603279829025 with parameters: {'grow_policy': 'lossguide', 'learning_rate': 0.006689995128310163, 'alpha': 0.018527314953157386, 'lambda': 3.302209071496596, 'gamma': 0.001204987029418707, 'max_depth': 76, 'max_leaves': 951, 'subsample': 0.8535044797963103, 'colsample_bytree': 0.8544545484377969}.\n",
      "[I 2020-03-03 21:21:17,679] Finished trial#29 resulted in value: 0.042019713670015335. Current best value is 0.017584603279829025 with parameters: {'grow_policy': 'lossguide', 'learning_rate': 0.006689995128310163, 'alpha': 0.018527314953157386, 'lambda': 3.302209071496596, 'gamma': 0.001204987029418707, 'max_depth': 76, 'max_leaves': 951, 'subsample': 0.8535044797963103, 'colsample_bytree': 0.8544545484377969}.\n",
      "[I 2020-03-03 21:24:01,959] Finished trial#30 resulted in value: 0.0541861355304718. Current best value is 0.017584603279829025 with parameters: {'grow_policy': 'lossguide', 'learning_rate': 0.006689995128310163, 'alpha': 0.018527314953157386, 'lambda': 3.302209071496596, 'gamma': 0.001204987029418707, 'max_depth': 76, 'max_leaves': 951, 'subsample': 0.8535044797963103, 'colsample_bytree': 0.8544545484377969}.\n",
      "[I 2020-03-03 21:31:31,107] Finished trial#31 resulted in value: 0.018074562773108482. Current best value is 0.017584603279829025 with parameters: {'grow_policy': 'lossguide', 'learning_rate': 0.006689995128310163, 'alpha': 0.018527314953157386, 'lambda': 3.302209071496596, 'gamma': 0.001204987029418707, 'max_depth': 76, 'max_leaves': 951, 'subsample': 0.8535044797963103, 'colsample_bytree': 0.8544545484377969}.\n",
      "[I 2020-03-03 21:35:42,131] Finished trial#32 resulted in value: 0.018182259052991867. Current best value is 0.017584603279829025 with parameters: {'grow_policy': 'lossguide', 'learning_rate': 0.006689995128310163, 'alpha': 0.018527314953157386, 'lambda': 3.302209071496596, 'gamma': 0.001204987029418707, 'max_depth': 76, 'max_leaves': 951, 'subsample': 0.8535044797963103, 'colsample_bytree': 0.8544545484377969}.\n",
      "[I 2020-03-03 21:39:33,387] Finished trial#33 resulted in value: 0.017856817692518234. Current best value is 0.017584603279829025 with parameters: {'grow_policy': 'lossguide', 'learning_rate': 0.006689995128310163, 'alpha': 0.018527314953157386, 'lambda': 3.302209071496596, 'gamma': 0.001204987029418707, 'max_depth': 76, 'max_leaves': 951, 'subsample': 0.8535044797963103, 'colsample_bytree': 0.8544545484377969}.\n",
      "[I 2020-03-03 21:44:43,541] Finished trial#34 resulted in value: 0.017858535051345825. Current best value is 0.017584603279829025 with parameters: {'grow_policy': 'lossguide', 'learning_rate': 0.006689995128310163, 'alpha': 0.018527314953157386, 'lambda': 3.302209071496596, 'gamma': 0.001204987029418707, 'max_depth': 76, 'max_leaves': 951, 'subsample': 0.8535044797963103, 'colsample_bytree': 0.8544545484377969}.\n",
      "[I 2020-03-03 21:49:35,051] Finished trial#35 resulted in value: 0.018675366416573524. Current best value is 0.017584603279829025 with parameters: {'grow_policy': 'lossguide', 'learning_rate': 0.006689995128310163, 'alpha': 0.018527314953157386, 'lambda': 3.302209071496596, 'gamma': 0.001204987029418707, 'max_depth': 76, 'max_leaves': 951, 'subsample': 0.8535044797963103, 'colsample_bytree': 0.8544545484377969}.\n",
      "[I 2020-03-03 21:54:36,507] Finished trial#36 resulted in value: 0.01777144894003868. Current best value is 0.017584603279829025 with parameters: {'grow_policy': 'lossguide', 'learning_rate': 0.006689995128310163, 'alpha': 0.018527314953157386, 'lambda': 3.302209071496596, 'gamma': 0.001204987029418707, 'max_depth': 76, 'max_leaves': 951, 'subsample': 0.8535044797963103, 'colsample_bytree': 0.8544545484377969}.\n",
      "[I 2020-03-03 21:59:00,029] Finished trial#37 resulted in value: 0.023802634328603745. Current best value is 0.017584603279829025 with parameters: {'grow_policy': 'lossguide', 'learning_rate': 0.006689995128310163, 'alpha': 0.018527314953157386, 'lambda': 3.302209071496596, 'gamma': 0.001204987029418707, 'max_depth': 76, 'max_leaves': 951, 'subsample': 0.8535044797963103, 'colsample_bytree': 0.8544545484377969}.\n",
      "[I 2020-03-03 22:03:37,772] Finished trial#38 resulted in value: 0.018690075725317. Current best value is 0.017584603279829025 with parameters: {'grow_policy': 'lossguide', 'learning_rate': 0.006689995128310163, 'alpha': 0.018527314953157386, 'lambda': 3.302209071496596, 'gamma': 0.001204987029418707, 'max_depth': 76, 'max_leaves': 951, 'subsample': 0.8535044797963103, 'colsample_bytree': 0.8544545484377969}.\n",
      "[I 2020-03-03 22:06:23,130] Finished trial#39 resulted in value: 0.018586039543151855. Current best value is 0.017584603279829025 with parameters: {'grow_policy': 'lossguide', 'learning_rate': 0.006689995128310163, 'alpha': 0.018527314953157386, 'lambda': 3.302209071496596, 'gamma': 0.001204987029418707, 'max_depth': 76, 'max_leaves': 951, 'subsample': 0.8535044797963103, 'colsample_bytree': 0.8544545484377969}.\n",
      "[I 2020-03-03 22:08:45,119] Finished trial#40 resulted in value: 1.0654486417770386. Current best value is 0.017584603279829025 with parameters: {'grow_policy': 'lossguide', 'learning_rate': 0.006689995128310163, 'alpha': 0.018527314953157386, 'lambda': 3.302209071496596, 'gamma': 0.001204987029418707, 'max_depth': 76, 'max_leaves': 951, 'subsample': 0.8535044797963103, 'colsample_bytree': 0.8544545484377969}.\n",
      "[I 2020-03-03 22:12:02,015] Finished trial#41 resulted in value: 0.017684968188405037. Current best value is 0.017584603279829025 with parameters: {'grow_policy': 'lossguide', 'learning_rate': 0.006689995128310163, 'alpha': 0.018527314953157386, 'lambda': 3.302209071496596, 'gamma': 0.001204987029418707, 'max_depth': 76, 'max_leaves': 951, 'subsample': 0.8535044797963103, 'colsample_bytree': 0.8544545484377969}.\n",
      "[I 2020-03-03 22:16:12,990] Finished trial#42 resulted in value: 0.017619723454117775. Current best value is 0.017584603279829025 with parameters: {'grow_policy': 'lossguide', 'learning_rate': 0.006689995128310163, 'alpha': 0.018527314953157386, 'lambda': 3.302209071496596, 'gamma': 0.001204987029418707, 'max_depth': 76, 'max_leaves': 951, 'subsample': 0.8535044797963103, 'colsample_bytree': 0.8544545484377969}.\n",
      "[I 2020-03-03 22:22:01,668] Finished trial#43 resulted in value: 0.01756460592150688. Current best value is 0.01756460592150688 with parameters: {'grow_policy': 'lossguide', 'learning_rate': 0.009806612868641755, 'alpha': 0.009923410545051567, 'lambda': 2.4314911765779557, 'gamma': 0.00182351994095809, 'max_depth': 51, 'max_leaves': 1225, 'subsample': 0.8446420358715253, 'colsample_bytree': 0.8798084029338699}.\n",
      "[I 2020-03-03 22:25:38,867] Finished trial#44 resulted in value: 0.01813550479710102. Current best value is 0.01756460592150688 with parameters: {'grow_policy': 'lossguide', 'learning_rate': 0.009806612868641755, 'alpha': 0.009923410545051567, 'lambda': 2.4314911765779557, 'gamma': 0.00182351994095809, 'max_depth': 51, 'max_leaves': 1225, 'subsample': 0.8446420358715253, 'colsample_bytree': 0.8798084029338699}.\n",
      "[I 2020-03-03 22:30:08,027] Finished trial#45 resulted in value: 0.017578380182385445. Current best value is 0.01756460592150688 with parameters: {'grow_policy': 'lossguide', 'learning_rate': 0.009806612868641755, 'alpha': 0.009923410545051567, 'lambda': 2.4314911765779557, 'gamma': 0.00182351994095809, 'max_depth': 51, 'max_leaves': 1225, 'subsample': 0.8446420358715253, 'colsample_bytree': 0.8798084029338699}.\n",
      "[I 2020-03-03 22:33:55,700] Finished trial#46 resulted in value: 0.017601847648620605. Current best value is 0.01756460592150688 with parameters: {'grow_policy': 'lossguide', 'learning_rate': 0.009806612868641755, 'alpha': 0.009923410545051567, 'lambda': 2.4314911765779557, 'gamma': 0.00182351994095809, 'max_depth': 51, 'max_leaves': 1225, 'subsample': 0.8446420358715253, 'colsample_bytree': 0.8798084029338699}.\n",
      "[I 2020-03-03 22:37:49,852] Finished trial#47 resulted in value: 0.01758733205497265. Current best value is 0.01756460592150688 with parameters: {'grow_policy': 'lossguide', 'learning_rate': 0.009806612868641755, 'alpha': 0.009923410545051567, 'lambda': 2.4314911765779557, 'gamma': 0.00182351994095809, 'max_depth': 51, 'max_leaves': 1225, 'subsample': 0.8446420358715253, 'colsample_bytree': 0.8798084029338699}.\n",
      "[I 2020-03-03 22:38:45,058] Finished trial#48 resulted in value: 0.01787702925503254. Current best value is 0.01756460592150688 with parameters: {'grow_policy': 'lossguide', 'learning_rate': 0.009806612868641755, 'alpha': 0.009923410545051567, 'lambda': 2.4314911765779557, 'gamma': 0.00182351994095809, 'max_depth': 51, 'max_leaves': 1225, 'subsample': 0.8446420358715253, 'colsample_bytree': 0.8798084029338699}.\n",
      "[I 2020-03-03 22:39:38,596] Finished trial#49 resulted in value: 0.02164442464709282. Current best value is 0.01756460592150688 with parameters: {'grow_policy': 'lossguide', 'learning_rate': 0.009806612868641755, 'alpha': 0.009923410545051567, 'lambda': 2.4314911765779557, 'gamma': 0.00182351994095809, 'max_depth': 51, 'max_leaves': 1225, 'subsample': 0.8446420358715253, 'colsample_bytree': 0.8798084029338699}.\n"
     ]
    },
    {
     "name": "stdout",
     "output_type": "stream",
     "text": [
      "End: 2020-03-03 22:39:38.598011\n",
      "Finished trials: 50\n",
      "Best trial: 0.01756460592150688\n"
     ]
    },
    {
     "data": {
      "text/plain": [
       "{'grow_policy': 'lossguide',\n",
       " 'learning_rate': 0.009806612868641755,\n",
       " 'alpha': 0.009923410545051567,\n",
       " 'lambda': 2.4314911765779557,\n",
       " 'gamma': 0.00182351994095809,\n",
       " 'max_depth': 51,\n",
       " 'max_leaves': 1225,\n",
       " 'subsample': 0.8446420358715253,\n",
       " 'colsample_bytree': 0.8798084029338699}"
      ]
     },
     "execution_count": 47,
     "metadata": {},
     "output_type": "execute_result"
    }
   ],
   "source": [
    "# print(f'Start: {datetime.datetime.now()}')\n",
    "\n",
    "# # Optimize parameters\n",
    "# study_xgb3 = optuna.create_study(direction='minimize')\n",
    "# study_xgb3.optimize(objective_xgb3, n_trials=50)\n",
    "\n",
    "# print(f'End: {datetime.datetime.now()}')\n",
    "\n",
    "# print(f'Finished trials: {len(study_xgb3.trials)}')\n",
    "# print(f'Best trial: {study_xgb3.best_trial.value}')\n",
    "# study_xgb3.best_trial.params"
   ]
  },
  {
   "cell_type": "code",
   "execution_count": 48,
   "metadata": {},
   "outputs": [
    {
     "name": "stdout",
     "output_type": "stream",
     "text": [
      "Finished trials: 50\n",
      "Best trial: 0.01756460592150688\n"
     ]
    },
    {
     "data": {
      "text/plain": [
       "{'grow_policy': 'lossguide',\n",
       " 'learning_rate': 0.009806612868641755,\n",
       " 'alpha': 0.009923410545051567,\n",
       " 'lambda': 2.4314911765779557,\n",
       " 'gamma': 0.00182351994095809,\n",
       " 'max_depth': 51,\n",
       " 'max_leaves': 1225,\n",
       " 'subsample': 0.8446420358715253,\n",
       " 'colsample_bytree': 0.8798084029338699}"
      ]
     },
     "execution_count": 48,
     "metadata": {},
     "output_type": "execute_result"
    }
   ],
   "source": [
    "# Study results\n",
    "study_xgb3 = joblib.load('../objects/hotwater/study_xgb3.pkl')\n",
    "print(f'Finished trials: {len(study_xgb3.trials)}')\n",
    "print(f'Best trial: {study_xgb3.best_trial.value}')\n",
    "study_xgb3.best_trial.params"
   ]
  },
  {
   "cell_type": "code",
   "execution_count": 49,
   "metadata": {},
   "outputs": [
    {
     "name": "stdout",
     "output_type": "stream",
     "text": [
      "Train RMSLE: 0.010732781\n",
      "Validation RMSLE: 0.11628261\n",
      "Test RMSLE: 0.1168223\n"
     ]
    }
   ],
   "source": [
    "# Parameters from Optuna\n",
    "params_xgb3 = dict(study_xgb3.best_trial.params)\n",
    "params_xgb3['eval_metric'] = 'rmse'\n",
    "params_xgb3['seed'] = 42\n",
    "\n",
    "rmsle_train, rmsle_val, rmsle_test = xgb_rmsle(Xh_train_scaled, yh_train, Xh_val_scaled, yh_val, Xh_test_scaled, yh_test, params_xgb3, '../objects/hotwater/xg3.txt')\n",
    "print('Train RMSLE:', rmsle_train)\n",
    "print('Validation RMSLE:', rmsle_val)\n",
    "print('Test RMSLE:', rmsle_test)"
   ]
  },
  {
   "cell_type": "code",
   "execution_count": 41,
   "metadata": {},
   "outputs": [
    {
     "data": {
      "text/plain": [
       "116"
      ]
     },
     "execution_count": 41,
     "metadata": {},
     "output_type": "execute_result"
    }
   ],
   "source": [
    "del rmsle_train, rmsle_val, rmsle_test\n",
    "gc.collect()"
   ]
  },
  {
   "cell_type": "code",
   "execution_count": null,
   "metadata": {},
   "outputs": [],
   "source": []
  },
  {
   "cell_type": "code",
   "execution_count": null,
   "metadata": {},
   "outputs": [],
   "source": []
  }
 ],
 "metadata": {
  "kernelspec": {
   "display_name": "Python 3",
   "language": "python",
   "name": "python3"
  },
  "language_info": {
   "codemirror_mode": {
    "name": "ipython",
    "version": 3
   },
   "file_extension": ".py",
   "mimetype": "text/x-python",
   "name": "python",
   "nbconvert_exporter": "python",
   "pygments_lexer": "ipython3",
   "version": "3.8.0"
  }
 },
 "nbformat": 4,
 "nbformat_minor": 4
}
