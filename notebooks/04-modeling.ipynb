{
 "cells": [
  {
   "cell_type": "markdown",
   "metadata": {},
   "source": [
    "# Great Energy Predictor - Modeling (Electricity Meters)\n",
    "#### Hosted by: ASHRAE\n",
    "##### Source: https://www.kaggle.com/c/ashrae-energy-prediction"
   ]
  },
  {
   "cell_type": "markdown",
   "metadata": {},
   "source": [
    "## Section I: Dependencies and Data"
   ]
  },
  {
   "cell_type": "markdown",
   "metadata": {},
   "source": [
    "### Dependencies"
   ]
  },
  {
   "cell_type": "code",
   "execution_count": 1,
   "metadata": {},
   "outputs": [],
   "source": [
    "# Dependencies\n",
    "import os\n",
    "import gc\n",
    "import datetime as dt\n",
    "import numpy as np\n",
    "import pandas as pd\n",
    "import matplotlib as mpl\n",
    "import matplotlib.pyplot as plt\n",
    "import lightgbm as lgb\n",
    "import xgboost as xgb\n",
    "import optuna\n",
    "import joblib\n",
    "\n",
    "from sklearn.preprocessing import StandardScaler\n",
    "from sklearn.model_selection import train_test_split, KFold, GridSearchCV\n",
    "from sklearn.metrics import mean_squared_error, mean_squared_log_error\n",
    "from sklearn.linear_model import Lasso\n",
    "from sklearn.ensemble import RandomForestRegressor\n",
    "\n",
    "import src.utils as udf\n",
    "\n",
    "%matplotlib inline"
   ]
  },
  {
   "cell_type": "code",
   "execution_count": 2,
   "metadata": {},
   "outputs": [],
   "source": [
    "# Dataframe settings\n",
    "pd.set_option('display.max_columns', 50)\n",
    "\n",
    "# Plot settings\n",
    "mpl.style.use('seaborn')\n",
    "mpl.rcParams['figure.figsize'] = (15, 3)\n",
    "mpl.rcParams['font.size'] = 12"
   ]
  },
  {
   "cell_type": "markdown",
   "metadata": {},
   "source": [
    "### Data"
   ]
  },
  {
   "cell_type": "code",
   "execution_count": 3,
   "metadata": {},
   "outputs": [
    {
     "data": {
      "text/plain": [
       "'../data/03-feat-out'"
      ]
     },
     "execution_count": 3,
     "metadata": {},
     "output_type": "execute_result"
    }
   ],
   "source": [
    "# Data path\n",
    "data_path = os.path.join('..', 'data', '03-feat-out')\n",
    "data_path"
   ]
  },
  {
   "cell_type": "code",
   "execution_count": 4,
   "metadata": {},
   "outputs": [
    {
     "name": "stdout",
     "output_type": "stream",
     "text": [
      "<class 'pandas.core.frame.DataFrame'>\n",
      "Int64Index: 11481619 entries, 0 to 18205341\n",
      "Data columns (total 22 columns):\n",
      " #   Column              Dtype         \n",
      "---  ------              -----         \n",
      " 0   site_id             uint8         \n",
      " 1   building_id         uint16        \n",
      " 2   timestamp           datetime64[ns]\n",
      " 3   meter_reading       float32       \n",
      " 4   air_temperature     float32       \n",
      " 5   dew_temperature     float32       \n",
      " 6   rel_humidity        float32       \n",
      " 7   sea_level_pressure  float32       \n",
      " 8   wind_speed          float32       \n",
      " 9   wind_direction_x    float32       \n",
      " 10  wind_direction_y    float32       \n",
      " 11  primary_use         object        \n",
      " 12  square_feet         uint32        \n",
      " 13  year_built          uint16        \n",
      " 14  missing_year        uint8         \n",
      " 15  country             object        \n",
      " 16  dayofyear           uint16        \n",
      " 17  month               uint8         \n",
      " 18  hour                uint8         \n",
      " 19  dayofweek           uint8         \n",
      " 20  is_weekend          uint8         \n",
      " 21  is_holiday          int8          \n",
      "dtypes: datetime64[ns](1), float32(8), int8(1), object(2), uint16(3), uint32(1), uint8(6)\n",
      "memory usage: 886.9+ MB\n"
     ]
    }
   ],
   "source": [
    "# Electricity meter data\n",
    "electricity = pd.read_pickle(os.path.join(data_path, 'electricity.pkl'))\n",
    "electricity.info()"
   ]
  },
  {
   "cell_type": "code",
   "execution_count": 5,
   "metadata": {},
   "outputs": [
    {
     "name": "stdout",
     "output_type": "stream",
     "text": [
      "<class 'pandas.core.frame.DataFrame'>\n",
      "Int64Index: 3507966 entries, 70 to 18205292\n",
      "Data columns (total 22 columns):\n",
      " #   Column              Dtype         \n",
      "---  ------              -----         \n",
      " 0   site_id             uint8         \n",
      " 1   building_id         uint16        \n",
      " 2   timestamp           datetime64[ns]\n",
      " 3   meter_reading       float32       \n",
      " 4   air_temperature     float32       \n",
      " 5   dew_temperature     float32       \n",
      " 6   rel_humidity        float32       \n",
      " 7   sea_level_pressure  float32       \n",
      " 8   wind_speed          float32       \n",
      " 9   wind_direction_x    float32       \n",
      " 10  wind_direction_y    float32       \n",
      " 11  primary_use         object        \n",
      " 12  square_feet         uint32        \n",
      " 13  year_built          uint16        \n",
      " 14  missing_year        uint8         \n",
      " 15  country             object        \n",
      " 16  dayofyear           uint16        \n",
      " 17  month               uint8         \n",
      " 18  hour                uint8         \n",
      " 19  dayofweek           uint8         \n",
      " 20  is_weekend          uint8         \n",
      " 21  is_holiday          int8          \n",
      "dtypes: datetime64[ns](1), float32(8), int8(1), object(2), uint16(3), uint32(1), uint8(6)\n",
      "memory usage: 271.0+ MB\n"
     ]
    }
   ],
   "source": [
    "# Chilled water meter data\n",
    "chilledwater = pd.read_pickle(os.path.join(data_path, 'chilledwater.pkl'))\n",
    "chilledwater.info()"
   ]
  },
  {
   "cell_type": "code",
   "execution_count": 6,
   "metadata": {},
   "outputs": [
    {
     "name": "stdout",
     "output_type": "stream",
     "text": [
      "<class 'pandas.core.frame.DataFrame'>\n",
      "Int64Index: 2296049 entries, 762 to 18205336\n",
      "Data columns (total 22 columns):\n",
      " #   Column              Dtype         \n",
      "---  ------              -----         \n",
      " 0   site_id             uint8         \n",
      " 1   building_id         uint16        \n",
      " 2   timestamp           datetime64[ns]\n",
      " 3   meter_reading       float32       \n",
      " 4   air_temperature     float32       \n",
      " 5   dew_temperature     float32       \n",
      " 6   rel_humidity        float32       \n",
      " 7   sea_level_pressure  float32       \n",
      " 8   wind_speed          float32       \n",
      " 9   wind_direction_x    float32       \n",
      " 10  wind_direction_y    float32       \n",
      " 11  primary_use         object        \n",
      " 12  square_feet         uint32        \n",
      " 13  year_built          uint16        \n",
      " 14  missing_year        uint8         \n",
      " 15  country             object        \n",
      " 16  dayofyear           uint16        \n",
      " 17  month               uint8         \n",
      " 18  hour                uint8         \n",
      " 19  dayofweek           uint8         \n",
      " 20  is_weekend          uint8         \n",
      " 21  is_holiday          int8          \n",
      "dtypes: datetime64[ns](1), float32(8), int8(1), object(2), uint16(3), uint32(1), uint8(6)\n",
      "memory usage: 177.4+ MB\n"
     ]
    }
   ],
   "source": [
    "# Steam meter data\n",
    "steam = pd.read_pickle(os.path.join(data_path, 'steam.pkl'))\n",
    "steam.info()"
   ]
  },
  {
   "cell_type": "code",
   "execution_count": 7,
   "metadata": {},
   "outputs": [
    {
     "name": "stdout",
     "output_type": "stream",
     "text": [
      "<class 'pandas.core.frame.DataFrame'>\n",
      "Int64Index: 919708 entries, 10 to 18205124\n",
      "Data columns (total 22 columns):\n",
      " #   Column              Non-Null Count   Dtype         \n",
      "---  ------              --------------   -----         \n",
      " 0   site_id             919708 non-null  uint8         \n",
      " 1   building_id         919708 non-null  uint16        \n",
      " 2   timestamp           919708 non-null  datetime64[ns]\n",
      " 3   meter_reading       919708 non-null  float32       \n",
      " 4   air_temperature     919708 non-null  float32       \n",
      " 5   dew_temperature     919708 non-null  float32       \n",
      " 6   rel_humidity        919708 non-null  float32       \n",
      " 7   sea_level_pressure  919708 non-null  float32       \n",
      " 8   wind_speed          919708 non-null  float32       \n",
      " 9   wind_direction_x    919708 non-null  float32       \n",
      " 10  wind_direction_y    919708 non-null  float32       \n",
      " 11  primary_use         919708 non-null  object        \n",
      " 12  square_feet         919708 non-null  uint32        \n",
      " 13  year_built          919708 non-null  uint16        \n",
      " 14  missing_year        919708 non-null  uint8         \n",
      " 15  country             919708 non-null  object        \n",
      " 16  dayofyear           919708 non-null  uint16        \n",
      " 17  month               919708 non-null  uint8         \n",
      " 18  hour                919708 non-null  uint8         \n",
      " 19  dayofweek           919708 non-null  uint8         \n",
      " 20  is_weekend          919708 non-null  uint8         \n",
      " 21  is_holiday          919708 non-null  int8          \n",
      "dtypes: datetime64[ns](1), float32(8), int8(1), object(2), uint16(3), uint32(1), uint8(6)\n",
      "memory usage: 71.0+ MB\n"
     ]
    }
   ],
   "source": [
    "# Hot water meter data\n",
    "hotwater = pd.read_pickle(os.path.join(data_path, 'hotwater.pkl'))\n",
    "hotwater.info()"
   ]
  },
  {
   "cell_type": "code",
   "execution_count": 8,
   "metadata": {},
   "outputs": [
    {
     "data": {
      "text/html": [
       "<div>\n",
       "<style scoped>\n",
       "    .dataframe tbody tr th:only-of-type {\n",
       "        vertical-align: middle;\n",
       "    }\n",
       "\n",
       "    .dataframe tbody tr th {\n",
       "        vertical-align: top;\n",
       "    }\n",
       "\n",
       "    .dataframe thead th {\n",
       "        text-align: right;\n",
       "    }\n",
       "</style>\n",
       "<table border=\"1\" class=\"dataframe\">\n",
       "  <thead>\n",
       "    <tr style=\"text-align: right;\">\n",
       "      <th></th>\n",
       "      <th>target_corr</th>\n",
       "      <th>lasso_coef</th>\n",
       "      <th>lasso_coef_recursive</th>\n",
       "      <th>tree_importance</th>\n",
       "      <th>tree_importance_recursive</th>\n",
       "    </tr>\n",
       "  </thead>\n",
       "  <tbody>\n",
       "    <tr>\n",
       "      <th>0</th>\n",
       "      <td>square_feet</td>\n",
       "      <td>primary_use</td>\n",
       "      <td>primary_use</td>\n",
       "      <td>square_feet</td>\n",
       "      <td>site_id</td>\n",
       "    </tr>\n",
       "    <tr>\n",
       "      <th>1</th>\n",
       "      <td>country</td>\n",
       "      <td>square_feet</td>\n",
       "      <td>square_feet</td>\n",
       "      <td>year_built</td>\n",
       "      <td>air_temperature</td>\n",
       "    </tr>\n",
       "    <tr>\n",
       "      <th>2</th>\n",
       "      <td></td>\n",
       "      <td>country</td>\n",
       "      <td>missing_year</td>\n",
       "      <td>country</td>\n",
       "      <td>primary_use</td>\n",
       "    </tr>\n",
       "    <tr>\n",
       "      <th>3</th>\n",
       "      <td></td>\n",
       "      <td>is_weekend</td>\n",
       "      <td>country</td>\n",
       "      <td></td>\n",
       "      <td>square_feet</td>\n",
       "    </tr>\n",
       "    <tr>\n",
       "      <th>4</th>\n",
       "      <td></td>\n",
       "      <td></td>\n",
       "      <td>dayofyear</td>\n",
       "      <td></td>\n",
       "      <td>year_built</td>\n",
       "    </tr>\n",
       "    <tr>\n",
       "      <th>5</th>\n",
       "      <td></td>\n",
       "      <td></td>\n",
       "      <td>hour</td>\n",
       "      <td></td>\n",
       "      <td>country</td>\n",
       "    </tr>\n",
       "    <tr>\n",
       "      <th>6</th>\n",
       "      <td></td>\n",
       "      <td></td>\n",
       "      <td>is_weekend</td>\n",
       "      <td></td>\n",
       "      <td>dayofyear</td>\n",
       "    </tr>\n",
       "    <tr>\n",
       "      <th>7</th>\n",
       "      <td></td>\n",
       "      <td></td>\n",
       "      <td>is_holiday</td>\n",
       "      <td></td>\n",
       "      <td>hour</td>\n",
       "    </tr>\n",
       "  </tbody>\n",
       "</table>\n",
       "</div>"
      ],
      "text/plain": [
       "   target_corr   lasso_coef lasso_coef_recursive tree_importance  \\\n",
       "0  square_feet  primary_use          primary_use     square_feet   \n",
       "1      country  square_feet          square_feet      year_built   \n",
       "2                   country         missing_year         country   \n",
       "3                is_weekend              country                   \n",
       "4                                      dayofyear                   \n",
       "5                                           hour                   \n",
       "6                                     is_weekend                   \n",
       "7                                     is_holiday                   \n",
       "\n",
       "  tree_importance_recursive  \n",
       "0                   site_id  \n",
       "1           air_temperature  \n",
       "2               primary_use  \n",
       "3               square_feet  \n",
       "4                year_built  \n",
       "5                   country  \n",
       "6                 dayofyear  \n",
       "7                      hour  "
      ]
     },
     "execution_count": 8,
     "metadata": {},
     "output_type": "execute_result"
    }
   ],
   "source": [
    "# Selected feats table\n",
    "feats = pd.read_pickle(os.path.join(data_path, 'feats.pkl'))\n",
    "feats"
   ]
  },
  {
   "cell_type": "code",
   "execution_count": 9,
   "metadata": {},
   "outputs": [
    {
     "data": {
      "text/plain": [
       "26"
      ]
     },
     "execution_count": 9,
     "metadata": {},
     "output_type": "execute_result"
    }
   ],
   "source": [
    "# Clean vars\n",
    "del data_path\n",
    "gc.collect()"
   ]
  },
  {
   "cell_type": "markdown",
   "metadata": {},
   "source": [
    "## Section II: Featurization - Electricity\n",
    "\n",
    "Once again, we will be working primarily with the electricity meter data as it contains the most readings and the process used here will be repeated for the other 3 meters."
   ]
  },
  {
   "cell_type": "markdown",
   "metadata": {},
   "source": [
    "### Drop unused features\n",
    "\n",
    "We will be dropping the features we found to be unnecessary in the featurization notebook - `site_id`, `building_id`, `dew_temperature`, `timestamp`, `month`, `dayofweek`. `Site_id` was added here because we have the `country` feature which is a good proxy for it."
   ]
  },
  {
   "cell_type": "code",
   "execution_count": 10,
   "metadata": {},
   "outputs": [
    {
     "data": {
      "text/html": [
       "<div>\n",
       "<style scoped>\n",
       "    .dataframe tbody tr th:only-of-type {\n",
       "        vertical-align: middle;\n",
       "    }\n",
       "\n",
       "    .dataframe tbody tr th {\n",
       "        vertical-align: top;\n",
       "    }\n",
       "\n",
       "    .dataframe thead th {\n",
       "        text-align: right;\n",
       "    }\n",
       "</style>\n",
       "<table border=\"1\" class=\"dataframe\">\n",
       "  <thead>\n",
       "    <tr style=\"text-align: right;\">\n",
       "      <th></th>\n",
       "      <th>meter_reading</th>\n",
       "      <th>air_temperature</th>\n",
       "      <th>rel_humidity</th>\n",
       "      <th>sea_level_pressure</th>\n",
       "      <th>wind_speed</th>\n",
       "      <th>wind_direction_x</th>\n",
       "      <th>wind_direction_y</th>\n",
       "      <th>primary_use</th>\n",
       "      <th>square_feet</th>\n",
       "      <th>year_built</th>\n",
       "      <th>missing_year</th>\n",
       "      <th>country</th>\n",
       "      <th>dayofyear</th>\n",
       "      <th>hour</th>\n",
       "      <th>is_weekend</th>\n",
       "      <th>is_holiday</th>\n",
       "    </tr>\n",
       "  </thead>\n",
       "  <tbody>\n",
       "    <tr>\n",
       "      <th>0</th>\n",
       "      <td>12.603682</td>\n",
       "      <td>19.4</td>\n",
       "      <td>100.000000</td>\n",
       "      <td>1019.400024</td>\n",
       "      <td>0.0</td>\n",
       "      <td>0.0</td>\n",
       "      <td>0.000000</td>\n",
       "      <td>Parking</td>\n",
       "      <td>387638</td>\n",
       "      <td>1997</td>\n",
       "      <td>0</td>\n",
       "      <td>US</td>\n",
       "      <td>1</td>\n",
       "      <td>0</td>\n",
       "      <td>0</td>\n",
       "      <td>1</td>\n",
       "    </tr>\n",
       "    <tr>\n",
       "      <th>1</th>\n",
       "      <td>15.364478</td>\n",
       "      <td>19.4</td>\n",
       "      <td>100.000000</td>\n",
       "      <td>1019.400024</td>\n",
       "      <td>0.0</td>\n",
       "      <td>0.0</td>\n",
       "      <td>0.000000</td>\n",
       "      <td>Office</td>\n",
       "      <td>33370</td>\n",
       "      <td>1982</td>\n",
       "      <td>0</td>\n",
       "      <td>US</td>\n",
       "      <td>1</td>\n",
       "      <td>0</td>\n",
       "      <td>0</td>\n",
       "      <td>1</td>\n",
       "    </tr>\n",
       "    <tr>\n",
       "      <th>2</th>\n",
       "      <td>23.303600</td>\n",
       "      <td>3.8</td>\n",
       "      <td>90.549408</td>\n",
       "      <td>1020.900024</td>\n",
       "      <td>3.1</td>\n",
       "      <td>-0.5</td>\n",
       "      <td>-0.866025</td>\n",
       "      <td>Education</td>\n",
       "      <td>50623</td>\n",
       "      <td>1960</td>\n",
       "      <td>1</td>\n",
       "      <td>EU</td>\n",
       "      <td>1</td>\n",
       "      <td>0</td>\n",
       "      <td>0</td>\n",
       "      <td>1</td>\n",
       "    </tr>\n",
       "  </tbody>\n",
       "</table>\n",
       "</div>"
      ],
      "text/plain": [
       "   meter_reading  air_temperature  rel_humidity  sea_level_pressure  \\\n",
       "0      12.603682             19.4    100.000000         1019.400024   \n",
       "1      15.364478             19.4    100.000000         1019.400024   \n",
       "2      23.303600              3.8     90.549408         1020.900024   \n",
       "\n",
       "   wind_speed  wind_direction_x  wind_direction_y primary_use  square_feet  \\\n",
       "0         0.0               0.0          0.000000     Parking       387638   \n",
       "1         0.0               0.0          0.000000      Office        33370   \n",
       "2         3.1              -0.5         -0.866025   Education        50623   \n",
       "\n",
       "   year_built  missing_year country  dayofyear  hour  is_weekend  is_holiday  \n",
       "0        1997             0      US          1     0           0           1  \n",
       "1        1982             0      US          1     0           0           1  \n",
       "2        1960             1      EU          1     0           0           1  "
      ]
     },
     "execution_count": 10,
     "metadata": {},
     "output_type": "execute_result"
    }
   ],
   "source": [
    "# Drop feats\n",
    "to_drop = ['site_id', 'building_id', 'dew_temperature', 'timestamp', 'month', 'dayofweek']\n",
    "electricity.drop(to_drop, axis=1, inplace=True)\n",
    "electricity.head(3)"
   ]
  },
  {
   "cell_type": "markdown",
   "metadata": {},
   "source": [
    "### Train/test split\n",
    "\n",
    "The same 70-12-18 data split will be done here. Variables will be suffixed with \"e\" to indicate that it is `electricity` meter data."
   ]
  },
  {
   "cell_type": "code",
   "execution_count": 11,
   "metadata": {},
   "outputs": [
    {
     "data": {
      "text/plain": [
       "((11481619, 15), (11481619,))"
      ]
     },
     "execution_count": 11,
     "metadata": {},
     "output_type": "execute_result"
    }
   ],
   "source": [
    "# Split feats and target\n",
    "Xe = electricity.drop('meter_reading', axis=1).copy()\n",
    "ye = electricity['meter_reading'].copy()\n",
    "Xe.shape, ye.shape"
   ]
  },
  {
   "cell_type": "code",
   "execution_count": 12,
   "metadata": {},
   "outputs": [
    {
     "data": {
      "image/png": "[encoded data removed]",
      "text/plain": [
       "<Figure size 1080x216 with 1 Axes>"
      ]
     },
     "metadata": {},
     "output_type": "display_data"
    }
   ],
   "source": [
    "# Target distribution\n",
    "ye.plot(kind='hist', bins=200, title='Target Distribution', xlim=(0, 3e3))\n",
    "plt.xlabel('Electricity meter reading')\n",
    "plt.show()"
   ]
  },
  {
   "cell_type": "markdown",
   "metadata": {},
   "source": [
    "The raw meter readings are highly right-skewed. We may be able to get more accurate predictions if we transform the target variable into a normal distribution to increase its linearity with the features. To do this, we will do a log transformation on the target variable and train our models using the log-transformed target. Of course, when making predictions, the output will be log-transformed values, so the predictions will have to be inverse-transformed to yield the true output.\n",
    "\n",
    "Note: the target variable contains meter readings of 0, so 1 will be added to all readings before taking the log (because log(0) is undefined) like this: `y_log_transformed = log(y + 1)`"
   ]
  },
  {
   "cell_type": "code",
   "execution_count": 13,
   "metadata": {},
   "outputs": [
    {
     "data": {
      "image/png": "[encoded data removed]",
      "text/plain": [
       "<Figure size 1080x216 with 1 Axes>"
      ]
     },
     "metadata": {},
     "output_type": "display_data"
    }
   ],
   "source": [
    "# Log transform the target var\n",
    "ye_log = np.log1p(ye)\n",
    "ye_log.plot.hist(bins=50, title='Log-transformed Target Distribution')\n",
    "plt.show()"
   ]
  },
  {
   "cell_type": "code",
   "execution_count": 14,
   "metadata": {},
   "outputs": [
    {
     "name": "stdout",
     "output_type": "stream",
     "text": [
      "Train set: (8037133, 15) (8037133,)\n",
      "Validation set: (1377794, 15) (1377794,)\n",
      "Test set: (2066692, 15) (2066692,)\n"
     ]
    }
   ],
   "source": [
    "# Train/val/test split (70/12/18)\n",
    "Xe_train, Xe_test, ye_train, ye_test = train_test_split(Xe, ye_log, test_size=0.3, random_state=30)\n",
    "Xe_val, Xe_test, ye_val, ye_test = train_test_split(Xe_test, ye_test, test_size=0.6, random_state=30)\n",
    "\n",
    "print('Train set:', Xe_train.shape, ye_train.shape)\n",
    "print('Validation set:', Xe_val.shape, ye_val.shape)\n",
    "print('Test set:', Xe_test.shape, ye_test.shape)"
   ]
  },
  {
   "cell_type": "code",
   "execution_count": 15,
   "metadata": {},
   "outputs": [
    {
     "data": {
      "text/plain": [
       "24477"
      ]
     },
     "execution_count": 15,
     "metadata": {},
     "output_type": "execute_result"
    }
   ],
   "source": [
    "# Clean vars\n",
    "del Xe, ye, ye_log\n",
    "gc.collect()"
   ]
  },
  {
   "cell_type": "markdown",
   "metadata": {},
   "source": [
    "### Categorical feature encoding\n",
    "\n",
    "Next, we will perform the 2 types of categorical encoding as in the featurization notebook:\n",
    "1. Rare label categorical encoding - categorical labels that occur less than 5% in the data will be encoded as \"Rare\"\n",
    "    - This will be done for `primary_use`\n",
    "2. Mean target categorical encoding - categorical labels will be numerically encoded with the mean value of the target label for that particular label\n",
    "    - This will be done for `primary_use` and `country`\n",
    "    - Note: countries \"UK\" and \"IE\" were grouped into the label \"EU\"\n",
    "    \n",
    "The difference here is that the target label has been log-transformed, so the encoded values here will differ from the featurization notebook"
   ]
  },
  {
   "cell_type": "code",
   "execution_count": 16,
   "metadata": {},
   "outputs": [
    {
     "data": {
      "text/plain": [
       "{'primary_use': Index(['Education', 'Office', 'Entertainment/public assembly',\n",
       "        'Public services', 'Lodging/residential'],\n",
       "       dtype='object')}"
      ]
     },
     "execution_count": 16,
     "metadata": {},
     "output_type": "execute_result"
    }
   ],
   "source": [
    "# Group all rare primary use categories\n",
    "Xe_train, Xe_val, Xe_test, rare_dict = udf.rare_encoder(['primary_use'], Xe_train, Xe_test, val=Xe_val)\n",
    "rare_dict"
   ]
  },
  {
   "cell_type": "code",
   "execution_count": 17,
   "metadata": {},
   "outputs": [
    {
     "name": "stdout",
     "output_type": "stream",
     "text": [
      "##### Train set #####\n",
      "Education                        3076745\n",
      "Office                           1527749\n",
      "Entertainment/public assembly    1016074\n",
      "Public services                   919271\n",
      "Lodging/residential               791749\n",
      "Rare                              705545\n",
      "Name: primary_use, dtype: int64\n",
      "\n",
      "##### Validation set #####\n",
      "Education                        526501\n",
      "Office                           261779\n",
      "Entertainment/public assembly    174535\n",
      "Public services                  158071\n",
      "Lodging/residential              135833\n",
      "Rare                             121075\n",
      "Name: primary_use, dtype: int64\n",
      "\n",
      "##### Test set #####\n",
      "Education                        790059\n",
      "Office                           391993\n",
      "Entertainment/public assembly    262638\n",
      "Public services                  236376\n",
      "Lodging/residential              204139\n",
      "Rare                             181487\n",
      "Name: primary_use, dtype: int64\n"
     ]
    }
   ],
   "source": [
    "# Primary use counts\n",
    "print('##### Train set #####')\n",
    "print(Xe_train['primary_use'].value_counts())\n",
    "print('\\n##### Validation set #####')\n",
    "print(Xe_val['primary_use'].value_counts())\n",
    "print('\\n##### Test set #####')\n",
    "print(Xe_test['primary_use'].value_counts())"
   ]
  },
  {
   "cell_type": "code",
   "execution_count": 18,
   "metadata": {},
   "outputs": [
    {
     "data": {
      "text/plain": [
       "{'primary_use': {'Education': 4.467979431152344,\n",
       "  'Entertainment/public assembly': 3.522857666015625,\n",
       "  'Lodging/residential': 3.975877046585083,\n",
       "  'Office': 4.195546627044678,\n",
       "  'Public services': 3.761206865310669,\n",
       "  'Rare': 3.770613193511963},\n",
       " 'country': {'CA': 6.633710861206055,\n",
       "  'EU': 3.41705322265625,\n",
       "  'US': 4.179178237915039}}"
      ]
     },
     "execution_count": 18,
     "metadata": {},
     "output_type": "execute_result"
    }
   ],
   "source": [
    "# Encode categorical feats using the mean target of each category\n",
    "Xe_train, Xe_val, Xe_test, mean_dict = udf.mean_encoder(['primary_use', 'country'], \n",
    "                                                        Xe_train, ye_train, Xe_test, X_val=Xe_val)\n",
    "mean_dict"
   ]
  },
  {
   "cell_type": "code",
   "execution_count": 19,
   "metadata": {},
   "outputs": [
    {
     "name": "stdout",
     "output_type": "stream",
     "text": [
      "##### Train set: primary_use #####\n",
      "4.467979    3076745\n",
      "4.195547    1527749\n",
      "3.522858    1016074\n",
      "3.761207     919271\n",
      "3.975877     791749\n",
      "3.770613     705545\n",
      "Name: primary_use, dtype: int64\n",
      "\n",
      "##### Train set: country #####\n",
      "4.179178    6867059\n",
      "3.417053    1075257\n",
      "6.633711      94817\n",
      "Name: country, dtype: int64\n"
     ]
    }
   ],
   "source": [
    "# Encoded val counts in train set\n",
    "print('##### Train set: primary_use #####')\n",
    "print(Xe_train['primary_use'].value_counts())\n",
    "print('\\n##### Train set: country #####')\n",
    "print(Xe_train['country'].value_counts())"
   ]
  },
  {
   "cell_type": "markdown",
   "metadata": {},
   "source": [
    "### Feature scaling"
   ]
  },
  {
   "cell_type": "code",
   "execution_count": 20,
   "metadata": {},
   "outputs": [
    {
     "data": {
      "text/html": [
       "<div>\n",
       "<style scoped>\n",
       "    .dataframe tbody tr th:only-of-type {\n",
       "        vertical-align: middle;\n",
       "    }\n",
       "\n",
       "    .dataframe tbody tr th {\n",
       "        vertical-align: top;\n",
       "    }\n",
       "\n",
       "    .dataframe thead th {\n",
       "        text-align: right;\n",
       "    }\n",
       "</style>\n",
       "<table border=\"1\" class=\"dataframe\">\n",
       "  <thead>\n",
       "    <tr style=\"text-align: right;\">\n",
       "      <th></th>\n",
       "      <th>air_temperature</th>\n",
       "      <th>rel_humidity</th>\n",
       "      <th>sea_level_pressure</th>\n",
       "      <th>wind_speed</th>\n",
       "      <th>wind_direction_x</th>\n",
       "      <th>wind_direction_y</th>\n",
       "      <th>primary_use</th>\n",
       "      <th>square_feet</th>\n",
       "      <th>year_built</th>\n",
       "      <th>missing_year</th>\n",
       "      <th>country</th>\n",
       "      <th>dayofyear</th>\n",
       "      <th>hour</th>\n",
       "      <th>is_weekend</th>\n",
       "      <th>is_holiday</th>\n",
       "    </tr>\n",
       "  </thead>\n",
       "  <tbody>\n",
       "    <tr>\n",
       "      <th>0</th>\n",
       "      <td>-0.023356</td>\n",
       "      <td>-0.728482</td>\n",
       "      <td>0.931492</td>\n",
       "      <td>-1.532234</td>\n",
       "      <td>0.065809</td>\n",
       "      <td>0.09452</td>\n",
       "      <td>0.258197</td>\n",
       "      <td>-0.589271</td>\n",
       "      <td>0.177163</td>\n",
       "      <td>0.902634</td>\n",
       "      <td>0.19275</td>\n",
       "      <td>0.761807</td>\n",
       "      <td>0.794293</td>\n",
       "      <td>1.577957</td>\n",
       "      <td>-0.180435</td>\n",
       "    </tr>\n",
       "    <tr>\n",
       "      <th>1</th>\n",
       "      <td>0.815406</td>\n",
       "      <td>-2.340778</td>\n",
       "      <td>-0.322773</td>\n",
       "      <td>-1.532234</td>\n",
       "      <td>0.065809</td>\n",
       "      <td>0.09452</td>\n",
       "      <td>-1.685188</td>\n",
       "      <td>-0.676851</td>\n",
       "      <td>-2.273199</td>\n",
       "      <td>-1.107869</td>\n",
       "      <td>0.19275</td>\n",
       "      <td>-1.171445</td>\n",
       "      <td>0.071957</td>\n",
       "      <td>1.577957</td>\n",
       "      <td>-0.180435</td>\n",
       "    </tr>\n",
       "    <tr>\n",
       "      <th>2</th>\n",
       "      <td>-1.567442</td>\n",
       "      <td>-0.927504</td>\n",
       "      <td>0.472939</td>\n",
       "      <td>-1.532234</td>\n",
       "      <td>0.065809</td>\n",
       "      <td>0.09452</td>\n",
       "      <td>-0.996602</td>\n",
       "      <td>-0.745909</td>\n",
       "      <td>-0.246938</td>\n",
       "      <td>0.902634</td>\n",
       "      <td>0.19275</td>\n",
       "      <td>-1.676185</td>\n",
       "      <td>-1.661652</td>\n",
       "      <td>-0.633731</td>\n",
       "      <td>-0.180435</td>\n",
       "    </tr>\n",
       "  </tbody>\n",
       "</table>\n",
       "</div>"
      ],
      "text/plain": [
       "   air_temperature  rel_humidity  sea_level_pressure  wind_speed  \\\n",
       "0        -0.023356     -0.728482            0.931492   -1.532234   \n",
       "1         0.815406     -2.340778           -0.322773   -1.532234   \n",
       "2        -1.567442     -0.927504            0.472939   -1.532234   \n",
       "\n",
       "   wind_direction_x  wind_direction_y  primary_use  square_feet  year_built  \\\n",
       "0          0.065809           0.09452     0.258197    -0.589271    0.177163   \n",
       "1          0.065809           0.09452    -1.685188    -0.676851   -2.273199   \n",
       "2          0.065809           0.09452    -0.996602    -0.745909   -0.246938   \n",
       "\n",
       "   missing_year  country  dayofyear      hour  is_weekend  is_holiday  \n",
       "0      0.902634  0.19275   0.761807  0.794293    1.577957   -0.180435  \n",
       "1     -1.107869  0.19275  -1.171445  0.071957    1.577957   -0.180435  \n",
       "2      0.902634  0.19275  -1.676185 -1.661652   -0.633731   -0.180435  "
      ]
     },
     "execution_count": 20,
     "metadata": {},
     "output_type": "execute_result"
    }
   ],
   "source": [
    "# Scale feats using their mean and stdev\n",
    "Xe_train_scaled, Xe_val_scaled, Xe_test_scaled = udf.scale_feats(Xe_train, Xe_test, val=Xe_val)\n",
    "Xe_train_scaled.head(3)"
   ]
  },
  {
   "cell_type": "code",
   "execution_count": 21,
   "metadata": {},
   "outputs": [
    {
     "data": {
      "text/plain": [
       "88"
      ]
     },
     "execution_count": 21,
     "metadata": {},
     "output_type": "execute_result"
    }
   ],
   "source": [
    "# Clean vars\n",
    "del Xe_train, Xe_val, Xe_test\n",
    "gc.collect()"
   ]
  },
  {
   "cell_type": "markdown",
   "metadata": {},
   "source": [
    "### Feature sets\n",
    "\n",
    "Building on the featurization notebook, we will be creating several feature sets for model training to try see if we can get better predictions:\n",
    "1. All features (15) - full feature set\n",
    "2. Custom features (10) - drop the 5 features that were selected 0 times in the featurization notebook\n",
    "    - `rel_humidity`, `sea_level_pressure`, `wind_direction_x`, `wind_direction_y`, `wind_speed`\n",
    "3. Lasso RFE features (8) - features selected from the lasso RFE method\n",
    "4. Tree RFE features (7) - features selected from the decision tree RFE method, except for `site_id`, which was just dropped"
   ]
  },
  {
   "cell_type": "code",
   "execution_count": 22,
   "metadata": {},
   "outputs": [
    {
     "data": {
      "text/html": [
       "<div>\n",
       "<style scoped>\n",
       "    .dataframe tbody tr th:only-of-type {\n",
       "        vertical-align: middle;\n",
       "    }\n",
       "\n",
       "    .dataframe tbody tr th {\n",
       "        vertical-align: top;\n",
       "    }\n",
       "\n",
       "    .dataframe thead th {\n",
       "        text-align: right;\n",
       "    }\n",
       "</style>\n",
       "<table border=\"1\" class=\"dataframe\">\n",
       "  <thead>\n",
       "    <tr style=\"text-align: right;\">\n",
       "      <th></th>\n",
       "      <th>target_corr</th>\n",
       "      <th>lasso_coef</th>\n",
       "      <th>lasso_coef_recursive</th>\n",
       "      <th>tree_importance</th>\n",
       "      <th>tree_importance_recursive</th>\n",
       "    </tr>\n",
       "  </thead>\n",
       "  <tbody>\n",
       "    <tr>\n",
       "      <th>0</th>\n",
       "      <td>square_feet</td>\n",
       "      <td>primary_use</td>\n",
       "      <td>primary_use</td>\n",
       "      <td>square_feet</td>\n",
       "      <td>site_id</td>\n",
       "    </tr>\n",
       "    <tr>\n",
       "      <th>1</th>\n",
       "      <td>country</td>\n",
       "      <td>square_feet</td>\n",
       "      <td>square_feet</td>\n",
       "      <td>year_built</td>\n",
       "      <td>air_temperature</td>\n",
       "    </tr>\n",
       "    <tr>\n",
       "      <th>2</th>\n",
       "      <td></td>\n",
       "      <td>country</td>\n",
       "      <td>missing_year</td>\n",
       "      <td>country</td>\n",
       "      <td>primary_use</td>\n",
       "    </tr>\n",
       "    <tr>\n",
       "      <th>3</th>\n",
       "      <td></td>\n",
       "      <td>is_weekend</td>\n",
       "      <td>country</td>\n",
       "      <td></td>\n",
       "      <td>square_feet</td>\n",
       "    </tr>\n",
       "    <tr>\n",
       "      <th>4</th>\n",
       "      <td></td>\n",
       "      <td></td>\n",
       "      <td>dayofyear</td>\n",
       "      <td></td>\n",
       "      <td>year_built</td>\n",
       "    </tr>\n",
       "    <tr>\n",
       "      <th>5</th>\n",
       "      <td></td>\n",
       "      <td></td>\n",
       "      <td>hour</td>\n",
       "      <td></td>\n",
       "      <td>country</td>\n",
       "    </tr>\n",
       "    <tr>\n",
       "      <th>6</th>\n",
       "      <td></td>\n",
       "      <td></td>\n",
       "      <td>is_weekend</td>\n",
       "      <td></td>\n",
       "      <td>dayofyear</td>\n",
       "    </tr>\n",
       "    <tr>\n",
       "      <th>7</th>\n",
       "      <td></td>\n",
       "      <td></td>\n",
       "      <td>is_holiday</td>\n",
       "      <td></td>\n",
       "      <td>hour</td>\n",
       "    </tr>\n",
       "  </tbody>\n",
       "</table>\n",
       "</div>"
      ],
      "text/plain": [
       "   target_corr   lasso_coef lasso_coef_recursive tree_importance  \\\n",
       "0  square_feet  primary_use          primary_use     square_feet   \n",
       "1      country  square_feet          square_feet      year_built   \n",
       "2                   country         missing_year         country   \n",
       "3                is_weekend              country                   \n",
       "4                                      dayofyear                   \n",
       "5                                           hour                   \n",
       "6                                     is_weekend                   \n",
       "7                                     is_holiday                   \n",
       "\n",
       "  tree_importance_recursive  \n",
       "0                   site_id  \n",
       "1           air_temperature  \n",
       "2               primary_use  \n",
       "3               square_feet  \n",
       "4                year_built  \n",
       "5                   country  \n",
       "6                 dayofyear  \n",
       "7                      hour  "
      ]
     },
     "execution_count": 22,
     "metadata": {},
     "output_type": "execute_result"
    }
   ],
   "source": [
    "# Selected feats from notebook 03\n",
    "feats"
   ]
  },
  {
   "cell_type": "code",
   "execution_count": 23,
   "metadata": {},
   "outputs": [
    {
     "name": "stdout",
     "output_type": "stream",
     "text": [
      "15\n"
     ]
    },
    {
     "data": {
      "text/plain": [
       "['air_temperature',\n",
       " 'rel_humidity',\n",
       " 'sea_level_pressure',\n",
       " 'wind_speed',\n",
       " 'wind_direction_x',\n",
       " 'wind_direction_y',\n",
       " 'primary_use',\n",
       " 'square_feet',\n",
       " 'year_built',\n",
       " 'missing_year',\n",
       " 'country',\n",
       " 'dayofyear',\n",
       " 'hour',\n",
       " 'is_weekend',\n",
       " 'is_holiday']"
      ]
     },
     "execution_count": 23,
     "metadata": {},
     "output_type": "execute_result"
    }
   ],
   "source": [
    "# Full feat set\n",
    "all_feats = Xe_train_scaled.columns.tolist()\n",
    "print(len(all_feats))\n",
    "all_feats"
   ]
  },
  {
   "cell_type": "code",
   "execution_count": 24,
   "metadata": {},
   "outputs": [
    {
     "name": "stdout",
     "output_type": "stream",
     "text": [
      "10\n"
     ]
    },
    {
     "data": {
      "text/plain": [
       "['air_temperature',\n",
       " 'primary_use',\n",
       " 'square_feet',\n",
       " 'year_built',\n",
       " 'missing_year',\n",
       " 'country',\n",
       " 'dayofyear',\n",
       " 'hour',\n",
       " 'is_weekend',\n",
       " 'is_holiday']"
      ]
     },
     "execution_count": 24,
     "metadata": {},
     "output_type": "execute_result"
    }
   ],
   "source": [
    "# Custom feat set\n",
    "custom_drop = ['rel_humidity', 'sea_level_pressure', 'wind_direction_x', 'wind_direction_y', 'wind_speed']\n",
    "custom_feats = Xe_train_scaled.drop(custom_drop, axis=1).columns.tolist()\n",
    "\n",
    "print(len(custom_feats))\n",
    "custom_feats"
   ]
  },
  {
   "cell_type": "code",
   "execution_count": 25,
   "metadata": {},
   "outputs": [
    {
     "name": "stdout",
     "output_type": "stream",
     "text": [
      "8\n"
     ]
    },
    {
     "data": {
      "text/plain": [
       "['primary_use',\n",
       " 'square_feet',\n",
       " 'missing_year',\n",
       " 'country',\n",
       " 'dayofyear',\n",
       " 'hour',\n",
       " 'is_weekend',\n",
       " 'is_holiday']"
      ]
     },
     "execution_count": 25,
     "metadata": {},
     "output_type": "execute_result"
    }
   ],
   "source": [
    "# Lasso RFE feat set\n",
    "lasso_feats = feats['lasso_coef_recursive'].tolist()\n",
    "print(len(lasso_feats))\n",
    "lasso_feats"
   ]
  },
  {
   "cell_type": "code",
   "execution_count": 26,
   "metadata": {},
   "outputs": [
    {
     "name": "stdout",
     "output_type": "stream",
     "text": [
      "7\n"
     ]
    },
    {
     "data": {
      "text/plain": [
       "['air_temperature',\n",
       " 'primary_use',\n",
       " 'square_feet',\n",
       " 'year_built',\n",
       " 'country',\n",
       " 'dayofyear',\n",
       " 'hour']"
      ]
     },
     "execution_count": 26,
     "metadata": {},
     "output_type": "execute_result"
    }
   ],
   "source": [
    "# Decision tree RFE feat set\n",
    "tree_feats = feats['tree_importance_recursive'].tolist()[1:]\n",
    "print(len(tree_feats))\n",
    "tree_feats"
   ]
  },
  {
   "cell_type": "code",
   "execution_count": 27,
   "metadata": {},
   "outputs": [
    {
     "data": {
      "text/plain": [
       "88"
      ]
     },
     "execution_count": 27,
     "metadata": {},
     "output_type": "execute_result"
    }
   ],
   "source": [
    "# Clean vars\n",
    "del feats, custom_drop\n",
    "gc.collect()"
   ]
  },
  {
   "cell_type": "markdown",
   "metadata": {},
   "source": [
    "## Section III: Modeling - Electricity\n",
    "\n",
    "With the 4 feature sets we just created, we will be training 3 different models - a linear model and 2 tree-based models:\n",
    "1. `Lasso regression` (linear regression with L1 regularization) - this will be the baseline model for prediction performance\n",
    "    - As we did use lasso regression to create one of the feature sets, that feature set is optimized for lasso regression, so this model may do quite well\n",
    "2. LightGBM - a parallelizable gradient boosting machines (GBM) implementation that grows trees leaf-wise, which can reduce loss more than the commonly used depth-wise implementation *\n",
    "    - Another one of the feature sets was created with decision tree, so that's why we are using tree-based models\n",
    "3. XGBoost - another parallelizable GBM implementation that has a reputation of winning Kaggle competitions involving structured data\n",
    "    - Although not as fast as LightGBM, I suspect this algorithm will produce the best predictions\n",
    "    \n",
    "For each of the 3 models above, we will be tuning the model hyperparameters and training it on each of the 4 feature sets to select the model with the highest scores. The metric we are using to evaluate model performance is the `root mean squared error`. This is the most commonly used metric for evaluating regression models, and for good reason: it is easy to compute and understand, much like the `mean absolute error`, but has the added benefit of penalizing larger errors more so that the optimization process can be more robust to outliers.\n",
    "\n",
    "##### \\* Note: Read more about LightGBM and XGBoost [here](https://www.analyticsvidhya.com/blog/2017/06/which-algorithm-takes-the-crown-light-gbm-vs-xgboost/). Pranjal provides a great comparison between the 2 algorithms."
   ]
  },
  {
   "cell_type": "markdown",
   "metadata": {},
   "source": [
    "### Lasso regression\n",
    "\n",
    "Again, this will be the baseline model for performance. This will give us an idea of the performance we can expect with the data. With only 1 hyperparamer to tune, a simple for loop would do the trick. But we are going to take advantage of Scikit-learn's grid search for the detailed results it provides. The only thing we are tuning here is the `alpha` parameter, which controls the degree of L1 regularization in the model."
   ]
  },
  {
   "cell_type": "code",
   "execution_count": 28,
   "metadata": {},
   "outputs": [
    {
     "name": "stderr",
     "output_type": "stream",
     "text": [
      "[Parallel(n_jobs=-1)]: Using backend LokyBackend with 4 concurrent workers.\n",
      "[Parallel(n_jobs=-1)]: Done  24 out of  24 | elapsed:  4.5min finished\n"
     ]
    },
    {
     "data": {
      "text/html": [
       "<div>\n",
       "<style scoped>\n",
       "    .dataframe tbody tr th:only-of-type {\n",
       "        vertical-align: middle;\n",
       "    }\n",
       "\n",
       "    .dataframe tbody tr th {\n",
       "        vertical-align: top;\n",
       "    }\n",
       "\n",
       "    .dataframe thead th {\n",
       "        text-align: right;\n",
       "    }\n",
       "</style>\n",
       "<table border=\"1\" class=\"dataframe\">\n",
       "  <thead>\n",
       "    <tr style=\"text-align: right;\">\n",
       "      <th></th>\n",
       "      <th>split0_test_score</th>\n",
       "      <th>split1_test_score</th>\n",
       "      <th>split2_test_score</th>\n",
       "      <th>split3_test_score</th>\n",
       "      <th>mean_test_score</th>\n",
       "      <th>std_test_score</th>\n",
       "      <th>rank_test_score</th>\n",
       "    </tr>\n",
       "    <tr>\n",
       "      <th>param_alpha</th>\n",
       "      <th></th>\n",
       "      <th></th>\n",
       "      <th></th>\n",
       "      <th></th>\n",
       "      <th></th>\n",
       "      <th></th>\n",
       "      <th></th>\n",
       "    </tr>\n",
       "  </thead>\n",
       "  <tbody>\n",
       "    <tr>\n",
       "      <th>0.0001</th>\n",
       "      <td>-1.117169</td>\n",
       "      <td>-1.117163</td>\n",
       "      <td>-1.117316</td>\n",
       "      <td>-1.116869</td>\n",
       "      <td>-1.117129</td>\n",
       "      <td>0.000162</td>\n",
       "      <td>1</td>\n",
       "    </tr>\n",
       "    <tr>\n",
       "      <th>0.0010</th>\n",
       "      <td>-1.117176</td>\n",
       "      <td>-1.117173</td>\n",
       "      <td>-1.117325</td>\n",
       "      <td>-1.116878</td>\n",
       "      <td>-1.117138</td>\n",
       "      <td>0.000162</td>\n",
       "      <td>2</td>\n",
       "    </tr>\n",
       "    <tr>\n",
       "      <th>0.0100</th>\n",
       "      <td>-1.117904</td>\n",
       "      <td>-1.117940</td>\n",
       "      <td>-1.118070</td>\n",
       "      <td>-1.117633</td>\n",
       "      <td>-1.117887</td>\n",
       "      <td>0.000159</td>\n",
       "      <td>3</td>\n",
       "    </tr>\n",
       "    <tr>\n",
       "      <th>0.1000</th>\n",
       "      <td>-1.140061</td>\n",
       "      <td>-1.140273</td>\n",
       "      <td>-1.140695</td>\n",
       "      <td>-1.140054</td>\n",
       "      <td>-1.140271</td>\n",
       "      <td>0.000260</td>\n",
       "      <td>4</td>\n",
       "    </tr>\n",
       "    <tr>\n",
       "      <th>1.0000</th>\n",
       "      <td>-1.485491</td>\n",
       "      <td>-1.485756</td>\n",
       "      <td>-1.485862</td>\n",
       "      <td>-1.485268</td>\n",
       "      <td>-1.485594</td>\n",
       "      <td>0.000232</td>\n",
       "      <td>5</td>\n",
       "    </tr>\n",
       "    <tr>\n",
       "      <th>10.0000</th>\n",
       "      <td>-1.485491</td>\n",
       "      <td>-1.485756</td>\n",
       "      <td>-1.485862</td>\n",
       "      <td>-1.485268</td>\n",
       "      <td>-1.485594</td>\n",
       "      <td>0.000232</td>\n",
       "      <td>5</td>\n",
       "    </tr>\n",
       "  </tbody>\n",
       "</table>\n",
       "</div>"
      ],
      "text/plain": [
       "             split0_test_score  split1_test_score  split2_test_score  \\\n",
       "param_alpha                                                            \n",
       "0.0001               -1.117169          -1.117163          -1.117316   \n",
       "0.0010               -1.117176          -1.117173          -1.117325   \n",
       "0.0100               -1.117904          -1.117940          -1.118070   \n",
       "0.1000               -1.140061          -1.140273          -1.140695   \n",
       "1.0000               -1.485491          -1.485756          -1.485862   \n",
       "10.0000              -1.485491          -1.485756          -1.485862   \n",
       "\n",
       "             split3_test_score  mean_test_score  std_test_score  \\\n",
       "param_alpha                                                       \n",
       "0.0001               -1.116869        -1.117129        0.000162   \n",
       "0.0010               -1.116878        -1.117138        0.000162   \n",
       "0.0100               -1.117633        -1.117887        0.000159   \n",
       "0.1000               -1.140054        -1.140271        0.000260   \n",
       "1.0000               -1.485268        -1.485594        0.000232   \n",
       "10.0000              -1.485268        -1.485594        0.000232   \n",
       "\n",
       "             rank_test_score  \n",
       "param_alpha                   \n",
       "0.0001                     1  \n",
       "0.0010                     2  \n",
       "0.0100                     3  \n",
       "0.1000                     4  \n",
       "1.0000                     5  \n",
       "10.0000                    5  "
      ]
     },
     "execution_count": 28,
     "metadata": {},
     "output_type": "execute_result"
    }
   ],
   "source": [
    "# Lasso regression with full feat set (15)\n",
    "params = {'alpha': [10 ** p for p in range(-4, 2)]}\n",
    "lasso15 = GridSearchCV(Lasso(random_state=4), params, cv=4, scoring='neg_root_mean_squared_error', n_jobs=-1, verbose=-1)\n",
    "lasso15.fit(Xe_train_scaled, ye_train)\n",
    "pd.DataFrame(lasso15.cv_results_).set_index('param_alpha').iloc[:, 5:]"
   ]
  },
  {
   "cell_type": "code",
   "execution_count": 29,
   "metadata": {},
   "outputs": [
    {
     "name": "stderr",
     "output_type": "stream",
     "text": [
      "[Parallel(n_jobs=-1)]: Using backend LokyBackend with 4 concurrent workers.\n",
      "[Parallel(n_jobs=-1)]: Done  16 out of  16 | elapsed:  1.3min finished\n"
     ]
    },
    {
     "data": {
      "text/html": [
       "<div>\n",
       "<style scoped>\n",
       "    .dataframe tbody tr th:only-of-type {\n",
       "        vertical-align: middle;\n",
       "    }\n",
       "\n",
       "    .dataframe tbody tr th {\n",
       "        vertical-align: top;\n",
       "    }\n",
       "\n",
       "    .dataframe thead th {\n",
       "        text-align: right;\n",
       "    }\n",
       "</style>\n",
       "<table border=\"1\" class=\"dataframe\">\n",
       "  <thead>\n",
       "    <tr style=\"text-align: right;\">\n",
       "      <th></th>\n",
       "      <th>split0_test_score</th>\n",
       "      <th>split1_test_score</th>\n",
       "      <th>split2_test_score</th>\n",
       "      <th>split3_test_score</th>\n",
       "      <th>mean_test_score</th>\n",
       "      <th>std_test_score</th>\n",
       "      <th>rank_test_score</th>\n",
       "    </tr>\n",
       "    <tr>\n",
       "      <th>param_alpha</th>\n",
       "      <th></th>\n",
       "      <th></th>\n",
       "      <th></th>\n",
       "      <th></th>\n",
       "      <th></th>\n",
       "      <th></th>\n",
       "      <th></th>\n",
       "    </tr>\n",
       "  </thead>\n",
       "  <tbody>\n",
       "    <tr>\n",
       "      <th>0.0001</th>\n",
       "      <td>-1.120109</td>\n",
       "      <td>-1.119981</td>\n",
       "      <td>-1.120203</td>\n",
       "      <td>-1.119689</td>\n",
       "      <td>-1.119995</td>\n",
       "      <td>0.000194</td>\n",
       "      <td>1</td>\n",
       "    </tr>\n",
       "    <tr>\n",
       "      <th>0.0010</th>\n",
       "      <td>-1.120108</td>\n",
       "      <td>-1.119985</td>\n",
       "      <td>-1.120209</td>\n",
       "      <td>-1.119696</td>\n",
       "      <td>-1.120000</td>\n",
       "      <td>0.000192</td>\n",
       "      <td>2</td>\n",
       "    </tr>\n",
       "    <tr>\n",
       "      <th>0.0100</th>\n",
       "      <td>-1.120438</td>\n",
       "      <td>-1.120369</td>\n",
       "      <td>-1.120593</td>\n",
       "      <td>-1.120090</td>\n",
       "      <td>-1.120372</td>\n",
       "      <td>0.000182</td>\n",
       "      <td>3</td>\n",
       "    </tr>\n",
       "    <tr>\n",
       "      <th>0.1000</th>\n",
       "      <td>-1.140209</td>\n",
       "      <td>-1.140452</td>\n",
       "      <td>-1.140839</td>\n",
       "      <td>-1.140212</td>\n",
       "      <td>-1.140428</td>\n",
       "      <td>0.000257</td>\n",
       "      <td>4</td>\n",
       "    </tr>\n",
       "  </tbody>\n",
       "</table>\n",
       "</div>"
      ],
      "text/plain": [
       "             split0_test_score  split1_test_score  split2_test_score  \\\n",
       "param_alpha                                                            \n",
       "0.0001               -1.120109          -1.119981          -1.120203   \n",
       "0.0010               -1.120108          -1.119985          -1.120209   \n",
       "0.0100               -1.120438          -1.120369          -1.120593   \n",
       "0.1000               -1.140209          -1.140452          -1.140839   \n",
       "\n",
       "             split3_test_score  mean_test_score  std_test_score  \\\n",
       "param_alpha                                                       \n",
       "0.0001               -1.119689        -1.119995        0.000194   \n",
       "0.0010               -1.119696        -1.120000        0.000192   \n",
       "0.0100               -1.120090        -1.120372        0.000182   \n",
       "0.1000               -1.140212        -1.140428        0.000257   \n",
       "\n",
       "             rank_test_score  \n",
       "param_alpha                   \n",
       "0.0001                     1  \n",
       "0.0010                     2  \n",
       "0.0100                     3  \n",
       "0.1000                     4  "
      ]
     },
     "execution_count": 29,
     "metadata": {},
     "output_type": "execute_result"
    }
   ],
   "source": [
    "# Lasso regression with custom feat set (10)\n",
    "params = {'alpha': [10 ** e for e in range(-4, 0)]}\n",
    "lasso10 = GridSearchCV(Lasso(random_state=4), params, cv=4, scoring='neg_root_mean_squared_error', n_jobs=-1, verbose=-1)\n",
    "lasso10.fit(Xe_train_scaled[custom_feats], ye_train)\n",
    "pd.DataFrame(lasso10.cv_results_).set_index('param_alpha').iloc[:, 5:]"
   ]
  },
  {
   "cell_type": "code",
   "execution_count": 30,
   "metadata": {},
   "outputs": [
    {
     "name": "stderr",
     "output_type": "stream",
     "text": [
      "[Parallel(n_jobs=-1)]: Using backend LokyBackend with 4 concurrent workers.\n",
      "[Parallel(n_jobs=-1)]: Done  16 out of  16 | elapsed:   34.7s finished\n"
     ]
    },
    {
     "data": {
      "text/html": [
       "<div>\n",
       "<style scoped>\n",
       "    .dataframe tbody tr th:only-of-type {\n",
       "        vertical-align: middle;\n",
       "    }\n",
       "\n",
       "    .dataframe tbody tr th {\n",
       "        vertical-align: top;\n",
       "    }\n",
       "\n",
       "    .dataframe thead th {\n",
       "        text-align: right;\n",
       "    }\n",
       "</style>\n",
       "<table border=\"1\" class=\"dataframe\">\n",
       "  <thead>\n",
       "    <tr style=\"text-align: right;\">\n",
       "      <th></th>\n",
       "      <th>split0_test_score</th>\n",
       "      <th>split1_test_score</th>\n",
       "      <th>split2_test_score</th>\n",
       "      <th>split3_test_score</th>\n",
       "      <th>mean_test_score</th>\n",
       "      <th>std_test_score</th>\n",
       "      <th>rank_test_score</th>\n",
       "    </tr>\n",
       "    <tr>\n",
       "      <th>param_alpha</th>\n",
       "      <th></th>\n",
       "      <th></th>\n",
       "      <th></th>\n",
       "      <th></th>\n",
       "      <th></th>\n",
       "      <th></th>\n",
       "      <th></th>\n",
       "    </tr>\n",
       "  </thead>\n",
       "  <tbody>\n",
       "    <tr>\n",
       "      <th>0.0001</th>\n",
       "      <td>-1.129856</td>\n",
       "      <td>-1.129722</td>\n",
       "      <td>-1.130270</td>\n",
       "      <td>-1.129480</td>\n",
       "      <td>-1.129832</td>\n",
       "      <td>0.000287</td>\n",
       "      <td>1</td>\n",
       "    </tr>\n",
       "    <tr>\n",
       "      <th>0.0010</th>\n",
       "      <td>-1.129855</td>\n",
       "      <td>-1.129728</td>\n",
       "      <td>-1.130272</td>\n",
       "      <td>-1.129486</td>\n",
       "      <td>-1.129835</td>\n",
       "      <td>0.000285</td>\n",
       "      <td>2</td>\n",
       "    </tr>\n",
       "    <tr>\n",
       "      <th>0.0100</th>\n",
       "      <td>-1.130119</td>\n",
       "      <td>-1.130046</td>\n",
       "      <td>-1.130570</td>\n",
       "      <td>-1.129806</td>\n",
       "      <td>-1.130135</td>\n",
       "      <td>0.000277</td>\n",
       "      <td>3</td>\n",
       "    </tr>\n",
       "    <tr>\n",
       "      <th>0.1000</th>\n",
       "      <td>-1.145471</td>\n",
       "      <td>-1.145717</td>\n",
       "      <td>-1.146136</td>\n",
       "      <td>-1.145477</td>\n",
       "      <td>-1.145700</td>\n",
       "      <td>0.000270</td>\n",
       "      <td>4</td>\n",
       "    </tr>\n",
       "  </tbody>\n",
       "</table>\n",
       "</div>"
      ],
      "text/plain": [
       "             split0_test_score  split1_test_score  split2_test_score  \\\n",
       "param_alpha                                                            \n",
       "0.0001               -1.129856          -1.129722          -1.130270   \n",
       "0.0010               -1.129855          -1.129728          -1.130272   \n",
       "0.0100               -1.130119          -1.130046          -1.130570   \n",
       "0.1000               -1.145471          -1.145717          -1.146136   \n",
       "\n",
       "             split3_test_score  mean_test_score  std_test_score  \\\n",
       "param_alpha                                                       \n",
       "0.0001               -1.129480        -1.129832        0.000287   \n",
       "0.0010               -1.129486        -1.129835        0.000285   \n",
       "0.0100               -1.129806        -1.130135        0.000277   \n",
       "0.1000               -1.145477        -1.145700        0.000270   \n",
       "\n",
       "             rank_test_score  \n",
       "param_alpha                   \n",
       "0.0001                     1  \n",
       "0.0010                     2  \n",
       "0.0100                     3  \n",
       "0.1000                     4  "
      ]
     },
     "execution_count": 30,
     "metadata": {},
     "output_type": "execute_result"
    }
   ],
   "source": [
    "# Lasso regression with lasso RFE feat set (8)\n",
    "lasso8 = GridSearchCV(Lasso(random_state=4), params, cv=4, scoring='neg_root_mean_squared_error', n_jobs=-1, verbose=-1)\n",
    "lasso8.fit(Xe_train_scaled[lasso_feats], ye_train)\n",
    "pd.DataFrame(lasso8.cv_results_).set_index('param_alpha').iloc[:, 5:]"
   ]
  },
  {
   "cell_type": "code",
   "execution_count": 31,
   "metadata": {},
   "outputs": [
    {
     "name": "stderr",
     "output_type": "stream",
     "text": [
      "[Parallel(n_jobs=-1)]: Using backend LokyBackend with 4 concurrent workers.\n",
      "[Parallel(n_jobs=-1)]: Done  16 out of  16 | elapsed:   40.7s finished\n"
     ]
    },
    {
     "data": {
      "text/html": [
       "<div>\n",
       "<style scoped>\n",
       "    .dataframe tbody tr th:only-of-type {\n",
       "        vertical-align: middle;\n",
       "    }\n",
       "\n",
       "    .dataframe tbody tr th {\n",
       "        vertical-align: top;\n",
       "    }\n",
       "\n",
       "    .dataframe thead th {\n",
       "        text-align: right;\n",
       "    }\n",
       "</style>\n",
       "<table border=\"1\" class=\"dataframe\">\n",
       "  <thead>\n",
       "    <tr style=\"text-align: right;\">\n",
       "      <th></th>\n",
       "      <th>split0_test_score</th>\n",
       "      <th>split1_test_score</th>\n",
       "      <th>split2_test_score</th>\n",
       "      <th>split3_test_score</th>\n",
       "      <th>mean_test_score</th>\n",
       "      <th>std_test_score</th>\n",
       "      <th>rank_test_score</th>\n",
       "    </tr>\n",
       "    <tr>\n",
       "      <th>param_alpha</th>\n",
       "      <th></th>\n",
       "      <th></th>\n",
       "      <th></th>\n",
       "      <th></th>\n",
       "      <th></th>\n",
       "      <th></th>\n",
       "      <th></th>\n",
       "    </tr>\n",
       "  </thead>\n",
       "  <tbody>\n",
       "    <tr>\n",
       "      <th>0.0001</th>\n",
       "      <td>-1.123522</td>\n",
       "      <td>-1.123356</td>\n",
       "      <td>-1.123536</td>\n",
       "      <td>-1.123050</td>\n",
       "      <td>-1.123366</td>\n",
       "      <td>0.000196</td>\n",
       "      <td>1</td>\n",
       "    </tr>\n",
       "    <tr>\n",
       "      <th>0.0010</th>\n",
       "      <td>-1.123520</td>\n",
       "      <td>-1.123358</td>\n",
       "      <td>-1.123540</td>\n",
       "      <td>-1.123056</td>\n",
       "      <td>-1.123369</td>\n",
       "      <td>0.000194</td>\n",
       "      <td>2</td>\n",
       "    </tr>\n",
       "    <tr>\n",
       "      <th>0.0100</th>\n",
       "      <td>-1.123724</td>\n",
       "      <td>-1.123609</td>\n",
       "      <td>-1.123801</td>\n",
       "      <td>-1.123333</td>\n",
       "      <td>-1.123617</td>\n",
       "      <td>0.000178</td>\n",
       "      <td>3</td>\n",
       "    </tr>\n",
       "    <tr>\n",
       "      <th>0.1000</th>\n",
       "      <td>-1.140209</td>\n",
       "      <td>-1.140452</td>\n",
       "      <td>-1.140839</td>\n",
       "      <td>-1.140212</td>\n",
       "      <td>-1.140428</td>\n",
       "      <td>0.000257</td>\n",
       "      <td>4</td>\n",
       "    </tr>\n",
       "  </tbody>\n",
       "</table>\n",
       "</div>"
      ],
      "text/plain": [
       "             split0_test_score  split1_test_score  split2_test_score  \\\n",
       "param_alpha                                                            \n",
       "0.0001               -1.123522          -1.123356          -1.123536   \n",
       "0.0010               -1.123520          -1.123358          -1.123540   \n",
       "0.0100               -1.123724          -1.123609          -1.123801   \n",
       "0.1000               -1.140209          -1.140452          -1.140839   \n",
       "\n",
       "             split3_test_score  mean_test_score  std_test_score  \\\n",
       "param_alpha                                                       \n",
       "0.0001               -1.123050        -1.123366        0.000196   \n",
       "0.0010               -1.123056        -1.123369        0.000194   \n",
       "0.0100               -1.123333        -1.123617        0.000178   \n",
       "0.1000               -1.140212        -1.140428        0.000257   \n",
       "\n",
       "             rank_test_score  \n",
       "param_alpha                   \n",
       "0.0001                     1  \n",
       "0.0010                     2  \n",
       "0.0100                     3  \n",
       "0.1000                     4  "
      ]
     },
     "execution_count": 31,
     "metadata": {},
     "output_type": "execute_result"
    }
   ],
   "source": [
    "# Lasso regression with decision tree RFE feat set (7)\n",
    "lasso7 = GridSearchCV(Lasso(random_state=4), params, cv=4, scoring='neg_root_mean_squared_error', n_jobs=-1, verbose=-1)\n",
    "lasso7.fit(Xe_train_scaled[tree_feats], ye_train)\n",
    "pd.DataFrame(lasso7.cv_results_).set_index('param_alpha').iloc[:, 5:]"
   ]
  },
  {
   "cell_type": "markdown",
   "metadata": {},
   "source": [
    "Out of the 4 feature sets, the full feature set produced the lowest error with an `alpha` value of `0.0001`. We can see that the error decreases as `alpha` decreases, but going from an `alpha` value of `0.001` to `0.0001` did not decrease the error by much, so it's unnecessary to go any smaller for `alpha`.\n",
    "\n",
    "Even though there is little difference in error between the 4 feature sets, it's clear that using less features increases the error. But interestingly, the decision tree set (with 7 features) did slightly better than the lasso set (with 8 features). This suggests 2 things:\n",
    "1. The 3 features present in both the custom set and lasso set, but absent from the tree set - `missing_year`, `is_weekend`, and `is_holiday` - are not providing much information to the model. This is because of the minimal difference in error with or without these features.\n",
    "2. Either (or both) the features present in the tree set, but absent from the lasso set - `air_temperature` and `year_built` - are important features because the model did worse without them.\n",
    "\n",
    "The top 2 choices here are:\n",
    "1. Full set (15 features) - This would be the better option if the goal is to minimize prediction error\n",
    "2. Decision tree set (7 features) - This would be the better option if the goal was to keep the model simple (minimize complexity) for better explainability without losing too much prediction performance\n",
    "\n",
    "Since the goal here is to minimize the prediction error, we will be going with the full feature set. But first, let's check if the difference in prediction error between these two sets is similar when makinng predictions on the validation set."
   ]
  },
  {
   "cell_type": "code",
   "execution_count": 32,
   "metadata": {},
   "outputs": [
    {
     "name": "stdout",
     "output_type": "stream",
     "text": [
      "Decision Tree Feature Set\n",
      "-------------------------\n",
      "Training RMSE: 1.1233637030044468\n",
      "Validation RMSE: 1.123159063262605\n",
      "Test RMSE: 1.1225384159334848\n",
      "-------------------------\n"
     ]
    },
    {
     "data": {
      "text/html": [
       "<div>\n",
       "<style scoped>\n",
       "    .dataframe tbody tr th:only-of-type {\n",
       "        vertical-align: middle;\n",
       "    }\n",
       "\n",
       "    .dataframe tbody tr th {\n",
       "        vertical-align: top;\n",
       "    }\n",
       "\n",
       "    .dataframe thead th {\n",
       "        text-align: right;\n",
       "    }\n",
       "</style>\n",
       "<table border=\"1\" class=\"dataframe\">\n",
       "  <thead>\n",
       "    <tr style=\"text-align: right;\">\n",
       "      <th></th>\n",
       "      <th>feat</th>\n",
       "      <th>coef</th>\n",
       "    </tr>\n",
       "  </thead>\n",
       "  <tbody>\n",
       "    <tr>\n",
       "      <th>2</th>\n",
       "      <td>square_feet</td>\n",
       "      <td>0.816397</td>\n",
       "    </tr>\n",
       "    <tr>\n",
       "      <th>1</th>\n",
       "      <td>primary_use</td>\n",
       "      <td>0.289574</td>\n",
       "    </tr>\n",
       "    <tr>\n",
       "      <th>4</th>\n",
       "      <td>country</td>\n",
       "      <td>0.200506</td>\n",
       "    </tr>\n",
       "    <tr>\n",
       "      <th>3</th>\n",
       "      <td>year_built</td>\n",
       "      <td>0.149960</td>\n",
       "    </tr>\n",
       "    <tr>\n",
       "      <th>6</th>\n",
       "      <td>hour</td>\n",
       "      <td>0.058108</td>\n",
       "    </tr>\n",
       "    <tr>\n",
       "      <th>0</th>\n",
       "      <td>air_temperature</td>\n",
       "      <td>0.003007</td>\n",
       "    </tr>\n",
       "    <tr>\n",
       "      <th>5</th>\n",
       "      <td>dayofyear</td>\n",
       "      <td>-0.010668</td>\n",
       "    </tr>\n",
       "  </tbody>\n",
       "</table>\n",
       "</div>"
      ],
      "text/plain": [
       "              feat      coef\n",
       "2      square_feet  0.816397\n",
       "1      primary_use  0.289574\n",
       "4          country  0.200506\n",
       "3       year_built  0.149960\n",
       "6             hour  0.058108\n",
       "0  air_temperature  0.003007\n",
       "5        dayofyear -0.010668"
      ]
     },
     "execution_count": 32,
     "metadata": {},
     "output_type": "execute_result"
    }
   ],
   "source": [
    "# Lasso regression with tree set (7)\n",
    "lasso7 = Lasso(alpha=1e-4, random_state=4).fit(Xe_train_scaled[tree_feats], ye_train)\n",
    "\n",
    "# RMSE for preds on train and val sets\n",
    "print('Decision Tree Feature Set')\n",
    "print('-------------------------')\n",
    "print('Training RMSE:', np.sqrt(mean_squared_error(ye_train, lasso7.predict(Xe_train_scaled[tree_feats]))))\n",
    "print('Validation RMSE:', np.sqrt(mean_squared_error(ye_val, lasso7.predict(Xe_val_scaled[tree_feats]))))\n",
    "print('Test RMSE:', np.sqrt(mean_squared_error(ye_test, lasso7.predict(Xe_test_scaled[tree_feats]))))\n",
    "print('-------------------------')\n",
    "\n",
    "# Feat coefs\n",
    "pd.DataFrame(zip(tree_feats, lasso7.coef_), columns=['feat', 'coef']).sort_values('coef', ascending=False)"
   ]
  },
  {
   "cell_type": "code",
   "execution_count": 33,
   "metadata": {},
   "outputs": [
    {
     "name": "stdout",
     "output_type": "stream",
     "text": [
      "Full Feature Set\n",
      "----------------\n",
      "Training RMSE: 1.1171254394161136\n",
      "Validation RMSE: 1.116764639445934\n",
      "Test RMSE: 1.1162570687364561\n",
      "----------------\n"
     ]
    },
    {
     "data": {
      "text/html": [
       "<div>\n",
       "<style scoped>\n",
       "    .dataframe tbody tr th:only-of-type {\n",
       "        vertical-align: middle;\n",
       "    }\n",
       "\n",
       "    .dataframe tbody tr th {\n",
       "        vertical-align: top;\n",
       "    }\n",
       "\n",
       "    .dataframe thead th {\n",
       "        text-align: right;\n",
       "    }\n",
       "</style>\n",
       "<table border=\"1\" class=\"dataframe\">\n",
       "  <thead>\n",
       "    <tr style=\"text-align: right;\">\n",
       "      <th></th>\n",
       "      <th>feat</th>\n",
       "      <th>coef</th>\n",
       "    </tr>\n",
       "  </thead>\n",
       "  <tbody>\n",
       "    <tr>\n",
       "      <th>7</th>\n",
       "      <td>square_feet</td>\n",
       "      <td>0.817981</td>\n",
       "    </tr>\n",
       "    <tr>\n",
       "      <th>6</th>\n",
       "      <td>primary_use</td>\n",
       "      <td>0.293554</td>\n",
       "    </tr>\n",
       "    <tr>\n",
       "      <th>10</th>\n",
       "      <td>country</td>\n",
       "      <td>0.180226</td>\n",
       "    </tr>\n",
       "    <tr>\n",
       "      <th>8</th>\n",
       "      <td>year_built</td>\n",
       "      <td>0.146542</td>\n",
       "    </tr>\n",
       "    <tr>\n",
       "      <th>12</th>\n",
       "      <td>hour</td>\n",
       "      <td>0.045132</td>\n",
       "    </tr>\n",
       "    <tr>\n",
       "      <th>9</th>\n",
       "      <td>missing_year</td>\n",
       "      <td>0.039533</td>\n",
       "    </tr>\n",
       "    <tr>\n",
       "      <th>11</th>\n",
       "      <td>dayofyear</td>\n",
       "      <td>0.011212</td>\n",
       "    </tr>\n",
       "    <tr>\n",
       "      <th>5</th>\n",
       "      <td>wind_direction_y</td>\n",
       "      <td>-0.005778</td>\n",
       "    </tr>\n",
       "    <tr>\n",
       "      <th>3</th>\n",
       "      <td>wind_speed</td>\n",
       "      <td>-0.019801</td>\n",
       "    </tr>\n",
       "    <tr>\n",
       "      <th>4</th>\n",
       "      <td>wind_direction_x</td>\n",
       "      <td>-0.021721</td>\n",
       "    </tr>\n",
       "    <tr>\n",
       "      <th>14</th>\n",
       "      <td>is_holiday</td>\n",
       "      <td>-0.025109</td>\n",
       "    </tr>\n",
       "    <tr>\n",
       "      <th>2</th>\n",
       "      <td>sea_level_pressure</td>\n",
       "      <td>-0.026945</td>\n",
       "    </tr>\n",
       "    <tr>\n",
       "      <th>0</th>\n",
       "      <td>air_temperature</td>\n",
       "      <td>-0.036403</td>\n",
       "    </tr>\n",
       "    <tr>\n",
       "      <th>13</th>\n",
       "      <td>is_weekend</td>\n",
       "      <td>-0.073683</td>\n",
       "    </tr>\n",
       "    <tr>\n",
       "      <th>1</th>\n",
       "      <td>rel_humidity</td>\n",
       "      <td>-0.085049</td>\n",
       "    </tr>\n",
       "  </tbody>\n",
       "</table>\n",
       "</div>"
      ],
      "text/plain": [
       "                  feat      coef\n",
       "7          square_feet  0.817981\n",
       "6          primary_use  0.293554\n",
       "10             country  0.180226\n",
       "8           year_built  0.146542\n",
       "12                hour  0.045132\n",
       "9         missing_year  0.039533\n",
       "11           dayofyear  0.011212\n",
       "5     wind_direction_y -0.005778\n",
       "3           wind_speed -0.019801\n",
       "4     wind_direction_x -0.021721\n",
       "14          is_holiday -0.025109\n",
       "2   sea_level_pressure -0.026945\n",
       "0      air_temperature -0.036403\n",
       "13          is_weekend -0.073683\n",
       "1         rel_humidity -0.085049"
      ]
     },
     "execution_count": 33,
     "metadata": {},
     "output_type": "execute_result"
    }
   ],
   "source": [
    "# Lasso regression with full feat set (15)\n",
    "lasso = Lasso(alpha=1e-4, random_state=0).fit(Xe_train_scaled, ye_train)\n",
    "\n",
    "# RMSE for preds on train and val sets\n",
    "print('Full Feature Set')\n",
    "print('----------------')\n",
    "print('Training RMSE:', np.sqrt(mean_squared_error(ye_train, lasso.predict(Xe_train_scaled))))\n",
    "print('Validation RMSE:', np.sqrt(mean_squared_error(ye_val, lasso.predict(Xe_val_scaled))))\n",
    "print('Test RMSE:', np.sqrt(mean_squared_error(ye_test, lasso.predict(Xe_test_scaled))))\n",
    "print('----------------')\n",
    "\n",
    "# Feat coefs\n",
    "coefs = pd.DataFrame(zip(Xe_train_scaled.columns, lasso.coef_), columns=['feat', 'coef'])\\\n",
    "          .sort_values('coef', ascending=False)\n",
    "coefs"
   ]
  },
  {
   "cell_type": "code",
   "execution_count": 34,
   "metadata": {},
   "outputs": [
    {
     "data": {
      "text/plain": [
       "800"
      ]
     },
     "execution_count": 34,
     "metadata": {},
     "output_type": "execute_result"
    }
   ],
   "source": [
    "# Clean vars\n",
    "del lasso8, lasso10, lasso15, params, coefs\n",
    "gc.collect()"
   ]
  },
  {
   "cell_type": "markdown",
   "metadata": {},
   "source": [
    "The prediction error of the validation set confirms that training the model on the full feature set does a little better than using a reduced set, with the following root mean squared error (RMSE) scores:\n",
    "- Full feature set: 1.1165 (train) and 1.1179 (validation)\n",
    "- Decision tree RFE feature set: 1.1228 (train) and 1.1240 (validation)"
   ]
  },
  {
   "cell_type": "markdown",
   "metadata": {},
   "source": [
    "### LightGBM\n",
    "\n",
    "Now that we have a baseline model, let's see if we can do better with a gradient boosting model. With LightGBM, there are quite a bit of hyperparameters to tune. And with the cross-validation folds and number of options for each parameter, the number of trials can get exponentially high, so a parameter grid search is not feasible here.\n",
    "\n",
    "Instead, we will use `Optuna` to optimize LightGBM's parameters. `Optuna` takes a Bayesian approach to hyperparameter tuning, learning from previous trials to optimize each parameter. This is much more efficient than a grid search, which does a brute force search through every parameter combination.\n",
    "\n",
    "To use `Optuna`, we must define the objective function for the parameter optimization process. This objective function will be used on every trial to evaluate the model's prediction performance using that trial's parameters. On every trial of the `Optuna` study, the function will do the following:\n",
    "1. Save the study object - to save progress in case it is interrupted\n",
    "2. Define the parameters to tune and distribution of values to search for each parameter - `Optuna` uses a distribution of values, instead of a list of explicit values\n",
    "    - This allows us to get more fine-grained with the parameter values\n",
    "3. Create a LightGBM `Dataset` object for the data - the LightGBM model has its own data object so we must convert the data to said object in order to train the model\n",
    "4. Train model - using both the training and validation sets for validation\n",
    "5. Evaluate model on the validation set - predictions are made on the validation set and evaluated using the root mean squared error (RMSE)\n",
    "    - Negative predictions are replaced with 0 because there can't be negative energy consumption\n",
    "5. Return evaluation metric to minimize (model loss) - in this case, we are trying to minimize the RMSE"
   ]
  },
  {
   "cell_type": "code",
   "execution_count": 35,
   "metadata": {},
   "outputs": [],
   "source": [
    "# Optuna study path\n",
    "lgb_path = os.path.join('..', 'models', 'electricity', 'lgb')\n",
    "os.makedirs(lgb_path, exist_ok=True)\n",
    "\n",
    "\n",
    "def objective_lgb(trial):\n",
    "    \n",
    "    \"\"\" Objective function for Optuna study to optimize model hyperparameters \"\"\"\n",
    "    \n",
    "    # Save study\n",
    "    print(dt.datetime.now(), ' | Finished trials:', len(study_lgb.trials))\n",
    "    joblib.dump(study_lgb, os.path.join(lgb_path, 'study_lgb.pkl'))\n",
    "    \n",
    "    # LightGBM params\n",
    "    params = {\n",
    "        'learning_rate': trial.suggest_loguniform('learning_rate', 1e-4, 1e-1),\n",
    "        'lambda_l1': trial.suggest_loguniform('lambda_l1', 1e-4, 1e1),\n",
    "        'lambda_l2': trial.suggest_loguniform('lambda_l2', 1e-4, 1e1),\n",
    "        'max_depth': trial.suggest_int('max_depth', 2, 100),\n",
    "        'num_leaves': trial.suggest_int('num_leaves', 2, 2000),\n",
    "        'min_data_in_leaf': trial.suggest_int('min_data_in_leaf', 5, 5000),\n",
    "        'bagging_fraction': trial.suggest_uniform('bagging_fraction', 0.5, 1.0),\n",
    "        'feature_fraction': trial.suggest_uniform('feature_fraction', 0.5, 1.0),\n",
    "        'num_iterations': 1000,\n",
    "        'early_stopping_round': 10,\n",
    "        'metric': 'rmse',\n",
    "        'num_threads': -1,\n",
    "        'seed': 0\n",
    "    }\n",
    "    \n",
    "    # LightGBM datasets\n",
    "    dtrain = lgb.Dataset(Xe_train_scaled, label=ye_train)\n",
    "    dval = lgb.Dataset(Xe_val_scaled, label=ye_val)\n",
    "    \n",
    "    # Train model\n",
    "    lgbm = lgb.train(params, dtrain, valid_sets=[dtrain, dval], valid_names=['train', 'valid'], verbose_eval=False)\n",
    "    \n",
    "    # Make and evaluate predictions on validation set\n",
    "    pred = lgbm.predict(Xe_val_scaled)\n",
    "    pred[pred < 0] = 0 # replace negative predictions with 0\n",
    "    loss = np.sqrt(mean_squared_error(ye_val, pred)) # RMSE\n",
    "\n",
    "#     # Cross val on train set\n",
    "#     cv = lgb.cv(params, dtrain, folds=KFold(10, shuffle=True, random_state=0), verbose_eval=False)\n",
    "#     loss = cv['rmse-mean'][-1]\n",
    "    \n",
    "    # RMSE\n",
    "    return loss"
   ]
  },
  {
   "cell_type": "markdown",
   "metadata": {},
   "source": [
    "With the objective function defined, we can now run the trials to optimize our parameters. Since we are evaluating the model using the RMSE, the goal is to minimize this metric."
   ]
  },
  {
   "cell_type": "code",
   "execution_count": 36,
   "metadata": {},
   "outputs": [],
   "source": [
    "# # Start time\n",
    "# start_lgb = dt.datetime.now()\n",
    "# print('Start:', start_lgb)\n",
    "\n",
    "# # Enable logging\n",
    "# optuna.logging.enable_default_handler()\n",
    "\n",
    "# # Run trials\n",
    "# study_lgb = optuna.create_study(direction='minimize')\n",
    "# study_lgb.optimize(objective_lgb, n_trials=100)\n",
    "# joblib.dump(study_lgb, os.path.join(lgb_path, 'study_lgb.pkl')) # Save study after last trial\n",
    "\n",
    "# # End and total run time\n",
    "# end_lgb = dt.datetime.now()\n",
    "# print('End:', end_lgb)\n",
    "# print('Run time:', end_lgb - start_lgb)"
   ]
  },
  {
   "cell_type": "code",
   "execution_count": 37,
   "metadata": {},
   "outputs": [],
   "source": [
    "# # Start time\n",
    "# start_lgb = dt.datetime.now()\n",
    "# print('Start:', start_lgb)\n",
    "\n",
    "# # Enable logging\n",
    "# optuna.logging.enable_default_handler()\n",
    "\n",
    "# # Continue trials\n",
    "# study_lgb = joblib.load(os.path.join(lgb_path, 'study_lgb.pkl'))\n",
    "# study_lgb.optimize(objective_lgb, n_trials=50)\n",
    "# joblib.dump(study_lgb, os.path.join(lgb_path, 'study_lgb.pkl')) # Save study after last trial\n",
    "\n",
    "# # End and total run time\n",
    "# end_lgb = dt.datetime.now()\n",
    "# print('End:', end_lgb)\n",
    "# print('Run time:', end_lgb - start_lgb)"
   ]
  },
  {
   "cell_type": "code",
   "execution_count": 38,
   "metadata": {},
   "outputs": [
    {
     "name": "stdout",
     "output_type": "stream",
     "text": [
      "Finished trials: 101\n",
      "Best trial: 0.23179190098693012\n",
      "Best parameters:\n"
     ]
    },
    {
     "data": {
      "text/plain": [
       "{'learning_rate': 0.08318870089692557,\n",
       " 'lambda_l1': 0.0074992163884415545,\n",
       " 'lambda_l2': 2.9505901993515122,\n",
       " 'max_depth': 92,\n",
       " 'num_leaves': 1929,\n",
       " 'min_data_in_leaf': 13,\n",
       " 'bagging_fraction': 0.7334916237773891,\n",
       " 'feature_fraction': 0.8102168078812939}"
      ]
     },
     "execution_count": 38,
     "metadata": {},
     "output_type": "execute_result"
    }
   ],
   "source": [
    "# Study results\n",
    "study_lgb = joblib.load(os.path.join(lgb_path, 'study_lgb.pkl'))\n",
    "print('Finished trials:', len(study_lgb.trials))\n",
    "print('Best trial:', study_lgb.best_trial.value)\n",
    "print('Best parameters:')\n",
    "params_lgb = dict(study_lgb.best_trial.params)\n",
    "params_lgb"
   ]
  },
  {
   "cell_type": "markdown",
   "metadata": {},
   "source": [
    "The hyperparameters yielded from the best trial are the optimized parameters and will be the final setting to train our LightGBM model. One caveat is that the Optuna study was run with a LightGBM model that builds 1,000 estimators (`num_iterations` = 1000) so the parameters were optimized to this value, more specifically the `learning_rate`, which is inversely proportional to `num_iterations`.\n",
    "\n",
    "We will be increasing `num_iterations` to 10,000 (10x the original value) to try to improve the gradient descent process. To adjust the `learning_rate` accordingly, we will divide it by 10 (the same factor `num_iterations` was increased by). \n",
    "\n",
    "Let's train a LightGBM model using the optimized parameters."
   ]
  },
  {
   "cell_type": "code",
   "execution_count": 39,
   "metadata": {},
   "outputs": [
    {
     "name": "stderr",
     "output_type": "stream",
     "text": [
      "/Users/tribui/miniconda3/envs/minds/lib/python3.7/site-packages/lightgbm/engine.py:156: UserWarning: Found `early_stopping_round` in params. Will use it instead of argument\n",
      "  warnings.warn(\"Found `{}` in params. Will use it instead of argument\".format(alias))\n"
     ]
    },
    {
     "name": "stdout",
     "output_type": "stream",
     "text": [
      "[LightGBM] [Warning] Auto-choosing row-wise multi-threading, the overhead of testing was 0.276137 seconds.\n",
      "You can set `force_row_wise=true` to remove the overhead.\n",
      "And if memory is not enough, you can set `force_col_wise=true`.\n",
      "[LightGBM] [Info] Total Bins 1877\n",
      "[LightGBM] [Info] Number of data points in the train set: 8037133, number of used features: 15\n",
      "[LightGBM] [Info] Start training from score 4.106173\n"
     ]
    },
    {
     "data": {
      "text/plain": [
       "['../models/electricity/lgb/lgbm.pkl']"
      ]
     },
     "execution_count": 39,
     "metadata": {},
     "output_type": "execute_result"
    }
   ],
   "source": [
    "# LightGBM datasets\n",
    "edtrain = lgb.Dataset(Xe_train_scaled, label=ye_train)\n",
    "edval = lgb.Dataset(Xe_val_scaled, label=ye_val)\n",
    "\n",
    "# Parameters\n",
    "params_lgb['num_iterations'] = 1000\n",
    "params_lgb['num_iterations'] *= 10\n",
    "params_lgb['learning_rate'] /= 10 # adjust learning rate for the increase in iterations\n",
    "params_lgb['early_stopping_round'] = 10\n",
    "params_lgb['metric'] = 'rmse'\n",
    "params_lgb['num_threads'] = -1\n",
    "params_lgb['seed'] = 0\n",
    "\n",
    "# Train data\n",
    "lgbm = lgb.train(params_lgb, edtrain, valid_sets=[edtrain, edval], verbose_eval=False)\n",
    "joblib.dump(lgbm, os.path.join(lgb_path, 'lgbm.pkl')) # save model"
   ]
  },
  {
   "cell_type": "code",
   "execution_count": 40,
   "metadata": {},
   "outputs": [
    {
     "name": "stdout",
     "output_type": "stream",
     "text": [
      "Train RMSE: 0.2767524332412216\n",
      "Validation RMSE: 0.2824860563945859\n",
      "Test RMSE: 0.2817529661480336\n"
     ]
    }
   ],
   "source": [
    "# Train set RMSE\n",
    "pred_train = lgbm.predict(Xe_train_scaled) # make preds\n",
    "pred_train[pred_train < 0] = 0 # replace negative preds with 0\n",
    "rmse_train = np.sqrt(mean_squared_error(ye_train, pred_train)) # RMSE\n",
    "print('Train RMSE:', rmse_train)\n",
    "\n",
    "# Val set RMSE\n",
    "pred_val = lgbm.predict(Xe_val_scaled) # make preds\n",
    "pred_val[pred_val < 0] = 0 # replace negative preds with 0\n",
    "rmse_val = np.sqrt(mean_squared_error(ye_val, pred_val)) # RMSE\n",
    "print('Validation RMSE:', rmse_val)\n",
    "\n",
    "# Test set RMSE\n",
    "pred_test = lgbm.predict(Xe_test_scaled) # make preds\n",
    "pred_test[pred_test < 0] = 0 # replace negative preds with 0\n",
    "rmse_test = np.sqrt(mean_squared_error(ye_test, pred_test)) # RMSE\n",
    "print('Test RMSE:', rmse_test)"
   ]
  },
  {
   "cell_type": "code",
   "execution_count": 41,
   "metadata": {},
   "outputs": [
    {
     "data": {
      "text/plain": [
       "253"
      ]
     },
     "execution_count": 41,
     "metadata": {},
     "output_type": "execute_result"
    }
   ],
   "source": [
    "# Clean vars\n",
    "# del start_lgb, end_lgb\n",
    "del lgb_path, edtrain, edval, pred_train, rmse_train, pred_val, rmse_val, pred_test, rmse_test\n",
    "gc.collect()"
   ]
  },
  {
   "cell_type": "markdown",
   "metadata": {},
   "source": [
    "### XGBoost\n",
    "\n",
    "XGBoost is another implementation of gradiant boosting that is optimized with the features in the image below.\n",
    "\n",
    "![XGBoost](src/imgs/xgb.png)\n",
    "\n",
    "Source: https://towardsdatascience.com/https-medium-com-vishalmorde-xgboost-algorithm-long-she-may-rein-edd9f99be63d\n",
    "\n",
    "As with LightGBM, we will be using `Optuna` to optimize XGBoost's parameters, and similar parameters at that. Again, we must define an objective function for the Optuna study to call on every trial. The objective function will do the following:\n",
    "1. Save the study object\n",
    "2. Define the parameters to tune and distribution of values to search for each parameter\n",
    "3. Create an XGBoost `DMatrix` object for the data\n",
    "4. Train model\n",
    "5. Evaluate model on the validation set using the RMSE\n",
    "    - Negative predictions are replaced with 0 before evaluation\n",
    "6. Return the RMSE"
   ]
  },
  {
   "cell_type": "code",
   "execution_count": 42,
   "metadata": {},
   "outputs": [],
   "source": [
    "# Optuna study path\n",
    "xgb_path = os.path.join('..', 'models', 'electricity', 'xgb')\n",
    "os.makedirs(xgb_path, exist_ok=True)\n",
    "\n",
    "\n",
    "def objective_xgb(trial):\n",
    "    \n",
    "    \"\"\" Objective function for Optuna study to optimize model hyperparameters \"\"\"\n",
    "    \n",
    "    # Save study\n",
    "    print(dt.datetime.now(), '| Finished trials:', len(study_xgb.trials))\n",
    "    print()\n",
    "    joblib.dump(study_xgb, os.path.join(xgb_path, 'study_xgb.pkl'))\n",
    "    \n",
    "    # XGBoost params\n",
    "    params = {\n",
    "        'grow_policy': trial.suggest_categorical('grow_policy', ['depthwise', 'lossguide']),\n",
    "        'learning_rate': trial.suggest_loguniform('learning_rate', 1e-4, 2e-1),\n",
    "        'alpha': trial.suggest_loguniform('alpha', 1e-4, 1e1),\n",
    "        'lambda': trial.suggest_loguniform('lambda', 1e-4, 1e1),\n",
    "        'gamma': trial.suggest_loguniform('gamma', 1e-4, 1e1),\n",
    "        'max_depth': trial.suggest_int('max_depth', 2, 200),\n",
    "        'max_leaves': trial.suggest_int('max_leaves', 2, 4096),\n",
    "        'subsample': trial.suggest_uniform('subsample', 0.5, 1.0),\n",
    "        'colsample_bytree': trial.suggest_uniform('colsample_bytree', 0.5, 1.0),\n",
    "        'eval_metric': 'rmse',\n",
    "        'seed': 0\n",
    "    }\n",
    "    \n",
    "    # XGBoost dmatrices\n",
    "    dtrain = xgb.DMatrix(Xe_val_scaled, label=ye_val)\n",
    "    dval = xgb.DMatrix(Xe_test_scaled, label=ye_test)\n",
    "    \n",
    "    # Train model\n",
    "    xg = xgb.train(params, dtrain, \n",
    "                   evals=[(dtrain, 'train'), (dval, 'valid')],\n",
    "                   num_boost_round=100, \n",
    "                   early_stopping_rounds=10,\n",
    "                   verbose_eval=False)\n",
    "    \n",
    "    # Make and eval preds on val set\n",
    "    pred = xg.predict(dval)\n",
    "    pred[pred < 0] = 0 # replace negative predictions with 0\n",
    "    loss = np.sqrt(mean_squared_error(ye_test, pred)) # RMSE\n",
    "\n",
    "#     # Cross val on train set\n",
    "#     cv = xgb.cv(params, dtrain, folds=KFold(10, shuffle=True, random_state=0), verbose_eval=False)\n",
    "#     loss = cv['rmse-mean'][-1]\n",
    "    \n",
    "    # RMSE\n",
    "    return loss"
   ]
  },
  {
   "cell_type": "code",
   "execution_count": 43,
   "metadata": {},
   "outputs": [],
   "source": [
    "# # Start time\n",
    "# start_xgb = dt.datetime.now()\n",
    "# print('Start:', start_xgb)\n",
    "\n",
    "# # Run trials\n",
    "# study_xgb = optuna.create_study(direction='minimize')\n",
    "# study_xgb.optimize(objective_xgb, n_trials=100)\n",
    "# joblib.dump(study_xgb, os.path.join(xgb_path, 'study_xgb.pkl')) # Save study after last trial\n",
    "\n",
    "# # End and total run time\n",
    "# end_xgb = dt.datetime.now()\n",
    "# print('End:', end_xgb)\n",
    "# print('Run time:', end_xgb - start_xgb)"
   ]
  },
  {
   "cell_type": "code",
   "execution_count": 44,
   "metadata": {},
   "outputs": [],
   "source": [
    "# # Start time\n",
    "# start_xgb = dt.datetime.now()\n",
    "# print('Start:', start_xgb)\n",
    "\n",
    "# # Continue trials\n",
    "# study_xgb = joblib.load(os.path.join(xgb_path, 'study_xgb.pkl'))\n",
    "# study_xgb.optimize(objective_xgb, n_trials=50)\n",
    "# joblib.dump(study_xgb, os.path.join(xgb_path, 'study_xgb.pkl')) # Save study after last trial\n",
    "\n",
    "# # End and total run time\n",
    "# end_xgb = dt.datetime.now()\n",
    "# print('End:', end_xgb)\n",
    "# print('Run time:', end_xgb - start_xgb)"
   ]
  },
  {
   "cell_type": "code",
   "execution_count": 45,
   "metadata": {},
   "outputs": [
    {
     "name": "stdout",
     "output_type": "stream",
     "text": [
      "Finished trials: 111\n",
      "Best trial: 0.1693050116300583\n",
      "Best parameters:\n"
     ]
    },
    {
     "data": {
      "text/plain": [
       "{'grow_policy': 'lossguide',\n",
       " 'learning_rate': 0.09897522425910911,\n",
       " 'alpha': 0.0007631264300296365,\n",
       " 'lambda': 2.4504122928666554,\n",
       " 'gamma': 0.001191775797167784,\n",
       " 'max_depth': 63,\n",
       " 'max_leaves': 1086,\n",
       " 'subsample': 0.9443322952938715,\n",
       " 'colsample_bytree': 0.9518408116816858}"
      ]
     },
     "execution_count": 45,
     "metadata": {},
     "output_type": "execute_result"
    }
   ],
   "source": [
    "# Study results\n",
    "study_xgb = joblib.load(os.path.join(xgb_path, 'study_xgb.pkl'))\n",
    "print('Finished trials:', len(study_xgb.trials))\n",
    "print('Best trial:', study_xgb.best_trial.value)\n",
    "print('Best parameters:')\n",
    "params_xgb = dict(study_xgb.best_trial.params)\n",
    "params_xgb"
   ]
  },
  {
   "cell_type": "code",
   "execution_count": 46,
   "metadata": {},
   "outputs": [
    {
     "name": "stdout",
     "output_type": "stream",
     "text": [
      "[10:12:19] WARNING: /Users/runner/miniforge3/conda-bld/xgboost_1598185652448/work/src/gbm/gbtree.cc:139: Tree method is automatically selected to be 'approx' for faster speed. To use old behavior (exact greedy algorithm on single machine), set tree_method to 'exact'.\n"
     ]
    },
    {
     "data": {
      "text/plain": [
       "['../models/electricity/xgb/xgbm.pkl']"
      ]
     },
     "execution_count": 46,
     "metadata": {},
     "output_type": "execute_result"
    }
   ],
   "source": [
    "# XGBoost dmatrices\n",
    "edtrain = xgb.DMatrix(Xe_train_scaled, label=ye_train)\n",
    "edval = xgb.DMatrix(Xe_val_scaled, label=ye_val)\n",
    "edtest = xgb.DMatrix(Xe_test_scaled, label=ye_test)\n",
    "\n",
    "# Params\n",
    "params_xgb['eval_metric'] = 'rmse'\n",
    "params_xgb['seed'] = 0\n",
    "\n",
    "# Train data\n",
    "xg = xgb.train(params_xgb, edtrain, \n",
    "               evals=[(edtrain, 'train'), (edval, 'valid')], \n",
    "               num_boost_round=100,\n",
    "               early_stopping_rounds=10,\n",
    "               verbose_eval=False)\n",
    "joblib.dump(xg, os.path.join(xgb_path, 'xgbm.pkl')) # save model"
   ]
  },
  {
   "cell_type": "code",
   "execution_count": 47,
   "metadata": {},
   "outputs": [
    {
     "name": "stdout",
     "output_type": "stream",
     "text": [
      "Train RMSE: 0.26175472\n",
      "Validation RMSE: 0.43477845\n",
      "Test RMSE: 0.4348392\n"
     ]
    }
   ],
   "source": [
    "# Train set RMSE\n",
    "pred_train = xg.predict(edtrain)  # make preds\n",
    "pred_train[pred_train < 0] = 0 # replace negative preds with 0\n",
    "rmse_train = np.sqrt(mean_squared_error(ye_train, pred_train)) # RMSE\n",
    "print('Train RMSE:', rmse_train)\n",
    "\n",
    "# Val set RMSE\n",
    "pred_val = xg.predict(edval)  # make preds\n",
    "pred_val[pred_val < 0] = 0 # replace negative preds with 0\n",
    "rmse_val = np.sqrt(mean_squared_error(ye_val, pred_val)) # RMSE\n",
    "print('Validation RMSE:', rmse_val)\n",
    "\n",
    "# Test set RMSE\n",
    "pred_test = xg.predict(edtest)  # make preds\n",
    "pred_test[pred_test < 0] = 0 # replace negative preds with 0\n",
    "rmse_test = np.sqrt(mean_squared_error(ye_test, pred_test)) # RMSE\n",
    "print('Test RMSE:', rmse_test)"
   ]
  },
  {
   "cell_type": "code",
   "execution_count": 48,
   "metadata": {},
   "outputs": [
    {
     "data": {
      "text/plain": [
       "137"
      ]
     },
     "execution_count": 48,
     "metadata": {},
     "output_type": "execute_result"
    }
   ],
   "source": [
    "# Clean vars\n",
    "# del start_xgb, end_xgb\n",
    "del xgb_path, edtrain, edval, edtest, pred_train, rmse_train, pred_val, rmse_val, pred_test, rmse_test\n",
    "gc.collect()"
   ]
  },
  {
   "cell_type": "markdown",
   "metadata": {},
   "source": [
    "## Section IV: Electricity Modeling Conclusion"
   ]
  },
  {
   "cell_type": "markdown",
   "metadata": {},
   "source": [
    "The RMSE scores were calculated on the log-transformed target and are as follows:\n",
    "1. Lasso regression:\n",
    "    - Training RMSE: 1.1171254394161136\n",
    "    - Validation RMSE: 1.116764639445934\n",
    "    - Test RMSE: 1.1162570687364561\n",
    "2. LightGBM\n",
    "    - Train RMSE: 0.2767524332412216\n",
    "    - Validation RMSE: 0.2824860563945859\n",
    "    - Test RMSE: 0.2817529661480336\n",
    "3. XGBoost\n",
    "    - Train RMSE: 0.26175472\n",
    "    - Validation RMSE: 0.43477845\n",
    "    - Test RMSE: 0.4348392\n",
    "        \n",
    "Out of the 3 models, the LightGBM model performed the best. It yielded the lowest error on the validation and test sets, and also trained a lot faster than the XGBoost model despite going for 100 times the number of iterations. The hyperparameters for the optimized LightGBM model are:\n",
    "- `num_iterations` : 10000\n",
    "- `learning_rate` : 0.008318870089692557\n",
    "- `lambda_l1` : 0.0074992163884415545\n",
    "- `lambda_l2` : 2.9505901993515122\n",
    "- `max_depth` : 92\n",
    "- `num_leaves` : 1929\n",
    "- `min_data_in_leaf` : 13\n",
    "- `bagging_fraction` : 0.7334916237773891\n",
    "- `feature_fraction` : 0.8102168078812939\n",
    "\n",
    "Note: These results are only for the electricity meter readings. LightGBM will be the choice model for electricity meters moving forward, but this may not be the case for the other 3 meter types."
   ]
  },
  {
   "cell_type": "code",
   "execution_count": null,
   "metadata": {},
   "outputs": [],
   "source": []
  }
 ],
 "metadata": {
  "kernelspec": {
   "display_name": "Python 3",
   "language": "python",
   "name": "python3"
  },
  "language_info": {
   "codemirror_mode": {
    "name": "ipython",
    "version": 3
   },
   "file_extension": ".py",
   "mimetype": "text/x-python",
   "name": "python",
   "nbconvert_exporter": "python",
   "pygments_lexer": "ipython3",
   "version": "3.7.9"
  }
 },
 "nbformat": 4,
 "nbformat_minor": 4
}
