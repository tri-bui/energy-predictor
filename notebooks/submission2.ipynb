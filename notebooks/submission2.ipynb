{
 "cells": [
  {
   "cell_type": "markdown",
   "metadata": {},
   "source": [
    "# Order feats, std target by meter type"
   ]
  },
  {
   "cell_type": "markdown",
   "metadata": {},
   "source": [
    "# Imports"
   ]
  },
  {
   "cell_type": "code",
   "execution_count": 1,
   "metadata": {},
   "outputs": [],
   "source": [
    "%matplotlib inline\n",
    "\n",
    "import src.utils as udf\n",
    "\n",
    "import gc\n",
    "import joblib\n",
    "import numpy as np\n",
    "import pandas as pd\n",
    "\n",
    "from sklearn.model_selection import train_test_split\n",
    "from sklearn.metrics import mean_squared_error, mean_squared_log_error\n",
    "from sklearn.linear_model import Lasso\n",
    "\n",
    "import lightgbm as lgb\n",
    "import xgboost as xgb"
   ]
  },
  {
   "cell_type": "code",
   "execution_count": null,
   "metadata": {},
   "outputs": [],
   "source": []
  },
  {
   "cell_type": "code",
   "execution_count": null,
   "metadata": {},
   "outputs": [],
   "source": []
  },
  {
   "cell_type": "markdown",
   "metadata": {},
   "source": [
    "# Data"
   ]
  },
  {
   "cell_type": "code",
   "execution_count": 2,
   "metadata": {},
   "outputs": [],
   "source": [
    "path = '../data/'"
   ]
  },
  {
   "cell_type": "code",
   "execution_count": 3,
   "metadata": {},
   "outputs": [
    {
     "name": "stdout",
     "output_type": "stream",
     "text": [
      "<class 'pandas.core.frame.DataFrame'>\n",
      "Int64Index: 18264895 entries, 0 to 18264894\n",
      "Data columns (total 18 columns):\n",
      "building_id           uint16\n",
      "meter                 uint8\n",
      "meter_reading         float32\n",
      "dew_temperature       float32\n",
      "sea_level_pressure    float32\n",
      "wind_speed            float32\n",
      "primary_use           object\n",
      "square_feet           uint32\n",
      "year_built            uint16\n",
      "missing_year          uint8\n",
      "dayofyear             uint16\n",
      "hour                  uint8\n",
      "wind_direction_x      float32\n",
      "wind_direction_y      float32\n",
      "rel_humidity          float32\n",
      "is_weekend            uint8\n",
      "country               object\n",
      "is_holiday            uint8\n",
      "dtypes: float32(7), object(2), uint16(3), uint32(1), uint8(5)\n",
      "memory usage: 1.1+ GB\n"
     ]
    }
   ],
   "source": [
    "train = pd.read_pickle(f'{path}from_mod/train.pkl')\n",
    "train.info()"
   ]
  },
  {
   "cell_type": "code",
   "execution_count": 4,
   "metadata": {},
   "outputs": [
    {
     "name": "stdout",
     "output_type": "stream",
     "text": [
      "<class 'pandas.core.frame.DataFrame'>\n",
      "Int64Index: 18264895 entries, 0 to 18264894\n",
      "Data columns (total 18 columns):\n",
      "building_id           uint16\n",
      "meter                 uint8\n",
      "meter_reading         float32\n",
      "dew_temperature       float32\n",
      "sea_level_pressure    float32\n",
      "wind_speed            float32\n",
      "primary_use           object\n",
      "square_feet           uint32\n",
      "year_built            uint16\n",
      "missing_year          uint8\n",
      "dayofyear             uint16\n",
      "hour                  uint8\n",
      "wind_direction_x      float32\n",
      "wind_direction_y      float32\n",
      "rel_humidity          float32\n",
      "is_weekend            uint8\n",
      "country               object\n",
      "is_holiday            uint8\n",
      "dtypes: float32(7), object(2), uint16(3), uint32(1), uint8(5)\n",
      "memory usage: 1.1+ GB\n"
     ]
    }
   ],
   "source": [
    "train = udf.reduce_mem_usage(train)\n",
    "train.info()"
   ]
  },
  {
   "cell_type": "code",
   "execution_count": 5,
   "metadata": {},
   "outputs": [
    {
     "name": "stdout",
     "output_type": "stream",
     "text": [
      "<class 'pandas.core.frame.DataFrame'>\n",
      "Int64Index: 41697600 entries, 0 to 41697599\n",
      "Data columns (total 17 columns):\n",
      "building_id           uint16\n",
      "meter                 uint8\n",
      "dew_temperature       float32\n",
      "sea_level_pressure    float32\n",
      "wind_speed            float32\n",
      "primary_use           object\n",
      "square_feet           uint32\n",
      "year_built            uint16\n",
      "missing_year          uint8\n",
      "dayofyear             int64\n",
      "hour                  int64\n",
      "wind_direction_x      float32\n",
      "wind_direction_y      float32\n",
      "rel_humidity          float32\n",
      "is_weekend            int64\n",
      "country               object\n",
      "is_holiday            int64\n",
      "dtypes: float32(6), int64(4), object(2), uint16(2), uint32(1), uint8(2)\n",
      "memory usage: 3.5+ GB\n"
     ]
    }
   ],
   "source": [
    "test = pd.read_pickle(f'{path}from_sub/test.pkl')\n",
    "test.info()"
   ]
  },
  {
   "cell_type": "code",
   "execution_count": 6,
   "metadata": {},
   "outputs": [
    {
     "name": "stdout",
     "output_type": "stream",
     "text": [
      "<class 'pandas.core.frame.DataFrame'>\n",
      "Int64Index: 41697600 entries, 0 to 41697599\n",
      "Data columns (total 17 columns):\n",
      "building_id           uint16\n",
      "meter                 uint8\n",
      "dew_temperature       float32\n",
      "sea_level_pressure    float32\n",
      "wind_speed            float32\n",
      "primary_use           object\n",
      "square_feet           uint32\n",
      "year_built            uint16\n",
      "missing_year          uint8\n",
      "dayofyear             uint16\n",
      "hour                  uint8\n",
      "wind_direction_x      float32\n",
      "wind_direction_y      float32\n",
      "rel_humidity          float32\n",
      "is_weekend            uint8\n",
      "country               object\n",
      "is_holiday            uint8\n",
      "dtypes: float32(6), object(2), uint16(3), uint32(1), uint8(5)\n",
      "memory usage: 2.4+ GB\n"
     ]
    }
   ],
   "source": [
    "test = udf.reduce_mem_usage(test)\n",
    "test.info()"
   ]
  },
  {
   "cell_type": "code",
   "execution_count": 7,
   "metadata": {},
   "outputs": [
    {
     "name": "stdout",
     "output_type": "stream",
     "text": [
      "<class 'pandas.core.frame.DataFrame'>\n",
      "RangeIndex: 41697600 entries, 0 to 41697599\n",
      "Data columns (total 2 columns):\n",
      "row_id           int64\n",
      "meter_reading    int64\n",
      "dtypes: int64(2)\n",
      "memory usage: 636.3 MB\n"
     ]
    }
   ],
   "source": [
    "submission = pd.read_csv(f'{path}raw/test/sample_submission.csv')\n",
    "submission.info()"
   ]
  },
  {
   "cell_type": "code",
   "execution_count": 8,
   "metadata": {},
   "outputs": [
    {
     "name": "stdout",
     "output_type": "stream",
     "text": [
      "<class 'pandas.core.frame.DataFrame'>\n",
      "RangeIndex: 41697600 entries, 0 to 41697599\n",
      "Data columns (total 2 columns):\n",
      "row_id           uint32\n",
      "meter_reading    uint8\n",
      "dtypes: uint32(1), uint8(1)\n",
      "memory usage: 198.8 MB\n"
     ]
    }
   ],
   "source": [
    "submission = udf.reduce_mem_usage(submission)\n",
    "submission.info()"
   ]
  },
  {
   "cell_type": "code",
   "execution_count": 9,
   "metadata": {},
   "outputs": [
    {
     "name": "stdout",
     "output_type": "stream",
     "text": [
      "<class 'pandas.core.frame.DataFrame'>\n",
      "Int64Index: 41697600 entries, 0 to 41697599\n",
      "Data columns (total 9 columns):\n",
      "row_id          uint32\n",
      "building_id     uint16\n",
      "meter           uint8\n",
      "timestamp       datetime64[ns]\n",
      "site_id         uint8\n",
      "primary_use     object\n",
      "square_feet     uint32\n",
      "year_built      uint16\n",
      "missing_year    uint8\n",
      "dtypes: datetime64[ns](1), object(1), uint16(2), uint32(2), uint8(3)\n",
      "memory usage: 1.5+ GB\n"
     ]
    }
   ],
   "source": [
    "mb = pd.read_pickle(f'{path}from_sub/mb.pkl')\n",
    "mb.info()"
   ]
  },
  {
   "cell_type": "code",
   "execution_count": 10,
   "metadata": {},
   "outputs": [
    {
     "name": "stdout",
     "output_type": "stream",
     "text": [
      "<class 'pandas.core.frame.DataFrame'>\n",
      "Int64Index: 41697600 entries, 0 to 41697599\n",
      "Data columns (total 9 columns):\n",
      "row_id          uint32\n",
      "building_id     uint16\n",
      "meter           uint8\n",
      "timestamp       datetime64[ns]\n",
      "site_id         uint8\n",
      "primary_use     object\n",
      "square_feet     uint32\n",
      "year_built      uint16\n",
      "missing_year    uint8\n",
      "dtypes: datetime64[ns](1), object(1), uint16(2), uint32(2), uint8(3)\n",
      "memory usage: 1.5+ GB\n"
     ]
    }
   ],
   "source": [
    "mb = udf.reduce_mem_usage(mb)\n",
    "mb.info()"
   ]
  },
  {
   "cell_type": "code",
   "execution_count": 11,
   "metadata": {},
   "outputs": [
    {
     "data": {
      "text/plain": [
       "66"
      ]
     },
     "execution_count": 11,
     "metadata": {},
     "output_type": "execute_result"
    }
   ],
   "source": [
    "del path\n",
    "gc.collect()"
   ]
  },
  {
   "cell_type": "code",
   "execution_count": null,
   "metadata": {},
   "outputs": [],
   "source": []
  },
  {
   "cell_type": "code",
   "execution_count": null,
   "metadata": {},
   "outputs": [],
   "source": []
  },
  {
   "cell_type": "markdown",
   "metadata": {},
   "source": [
    "# Features"
   ]
  },
  {
   "cell_type": "code",
   "execution_count": 12,
   "metadata": {},
   "outputs": [
    {
     "data": {
      "text/html": [
       "<div>\n",
       "<style scoped>\n",
       "    .dataframe tbody tr th:only-of-type {\n",
       "        vertical-align: middle;\n",
       "    }\n",
       "\n",
       "    .dataframe tbody tr th {\n",
       "        vertical-align: top;\n",
       "    }\n",
       "\n",
       "    .dataframe thead th {\n",
       "        text-align: right;\n",
       "    }\n",
       "</style>\n",
       "<table border=\"1\" class=\"dataframe\">\n",
       "  <thead>\n",
       "    <tr style=\"text-align: right;\">\n",
       "      <th></th>\n",
       "      <th>building_id</th>\n",
       "      <th>meter</th>\n",
       "      <th>meter_reading</th>\n",
       "      <th>dew_temperature</th>\n",
       "      <th>sea_level_pressure</th>\n",
       "      <th>wind_speed</th>\n",
       "      <th>primary_use</th>\n",
       "      <th>square_feet</th>\n",
       "      <th>year_built</th>\n",
       "      <th>missing_year</th>\n",
       "      <th>dayofyear</th>\n",
       "      <th>hour</th>\n",
       "      <th>wind_direction_x</th>\n",
       "      <th>wind_direction_y</th>\n",
       "      <th>rel_humidity</th>\n",
       "      <th>is_weekend</th>\n",
       "      <th>country</th>\n",
       "      <th>is_holiday</th>\n",
       "    </tr>\n",
       "  </thead>\n",
       "  <tbody>\n",
       "    <tr>\n",
       "      <th>0</th>\n",
       "      <td>46</td>\n",
       "      <td>0</td>\n",
       "      <td>15.604556</td>\n",
       "      <td>19.4</td>\n",
       "      <td>1019.400024</td>\n",
       "      <td>0.0</td>\n",
       "      <td>Retail</td>\n",
       "      <td>9045</td>\n",
       "      <td>2016</td>\n",
       "      <td>0</td>\n",
       "      <td>1</td>\n",
       "      <td>0</td>\n",
       "      <td>0.0</td>\n",
       "      <td>0.000000</td>\n",
       "      <td>100.000000</td>\n",
       "      <td>0</td>\n",
       "      <td>US</td>\n",
       "      <td>1</td>\n",
       "    </tr>\n",
       "    <tr>\n",
       "      <th>1</th>\n",
       "      <td>74</td>\n",
       "      <td>0</td>\n",
       "      <td>12.603682</td>\n",
       "      <td>19.4</td>\n",
       "      <td>1019.400024</td>\n",
       "      <td>0.0</td>\n",
       "      <td>Parking</td>\n",
       "      <td>387638</td>\n",
       "      <td>1997</td>\n",
       "      <td>0</td>\n",
       "      <td>1</td>\n",
       "      <td>0</td>\n",
       "      <td>0.0</td>\n",
       "      <td>0.000000</td>\n",
       "      <td>100.000000</td>\n",
       "      <td>0</td>\n",
       "      <td>US</td>\n",
       "      <td>1</td>\n",
       "    </tr>\n",
       "    <tr>\n",
       "      <th>2</th>\n",
       "      <td>93</td>\n",
       "      <td>0</td>\n",
       "      <td>15.364478</td>\n",
       "      <td>19.4</td>\n",
       "      <td>1019.400024</td>\n",
       "      <td>0.0</td>\n",
       "      <td>Office</td>\n",
       "      <td>33370</td>\n",
       "      <td>1982</td>\n",
       "      <td>0</td>\n",
       "      <td>1</td>\n",
       "      <td>0</td>\n",
       "      <td>0.0</td>\n",
       "      <td>0.000000</td>\n",
       "      <td>100.000000</td>\n",
       "      <td>0</td>\n",
       "      <td>US</td>\n",
       "      <td>1</td>\n",
       "    </tr>\n",
       "    <tr>\n",
       "      <th>3</th>\n",
       "      <td>105</td>\n",
       "      <td>0</td>\n",
       "      <td>23.303600</td>\n",
       "      <td>2.4</td>\n",
       "      <td>1020.900024</td>\n",
       "      <td>3.1</td>\n",
       "      <td>Education</td>\n",
       "      <td>50623</td>\n",
       "      <td>1960</td>\n",
       "      <td>1</td>\n",
       "      <td>1</td>\n",
       "      <td>0</td>\n",
       "      <td>-0.5</td>\n",
       "      <td>-0.866025</td>\n",
       "      <td>90.549408</td>\n",
       "      <td>0</td>\n",
       "      <td>UK</td>\n",
       "      <td>1</td>\n",
       "    </tr>\n",
       "    <tr>\n",
       "      <th>4</th>\n",
       "      <td>106</td>\n",
       "      <td>0</td>\n",
       "      <td>0.374600</td>\n",
       "      <td>2.4</td>\n",
       "      <td>1020.900024</td>\n",
       "      <td>3.1</td>\n",
       "      <td>Education</td>\n",
       "      <td>5374</td>\n",
       "      <td>1960</td>\n",
       "      <td>1</td>\n",
       "      <td>1</td>\n",
       "      <td>0</td>\n",
       "      <td>-0.5</td>\n",
       "      <td>-0.866025</td>\n",
       "      <td>90.549408</td>\n",
       "      <td>0</td>\n",
       "      <td>UK</td>\n",
       "      <td>1</td>\n",
       "    </tr>\n",
       "  </tbody>\n",
       "</table>\n",
       "</div>"
      ],
      "text/plain": [
       "   building_id  meter  meter_reading  dew_temperature  sea_level_pressure  \\\n",
       "0           46      0      15.604556             19.4         1019.400024   \n",
       "1           74      0      12.603682             19.4         1019.400024   \n",
       "2           93      0      15.364478             19.4         1019.400024   \n",
       "3          105      0      23.303600              2.4         1020.900024   \n",
       "4          106      0       0.374600              2.4         1020.900024   \n",
       "\n",
       "   wind_speed primary_use  square_feet  year_built  missing_year  dayofyear  \\\n",
       "0         0.0      Retail         9045        2016             0          1   \n",
       "1         0.0     Parking       387638        1997             0          1   \n",
       "2         0.0      Office        33370        1982             0          1   \n",
       "3         3.1   Education        50623        1960             1          1   \n",
       "4         3.1   Education         5374        1960             1          1   \n",
       "\n",
       "   hour  wind_direction_x  wind_direction_y  rel_humidity  is_weekend country  \\\n",
       "0     0               0.0          0.000000    100.000000           0      US   \n",
       "1     0               0.0          0.000000    100.000000           0      US   \n",
       "2     0               0.0          0.000000    100.000000           0      US   \n",
       "3     0              -0.5         -0.866025     90.549408           0      UK   \n",
       "4     0              -0.5         -0.866025     90.549408           0      UK   \n",
       "\n",
       "   is_holiday  \n",
       "0           1  \n",
       "1           1  \n",
       "2           1  \n",
       "3           1  \n",
       "4           1  "
      ]
     },
     "execution_count": 12,
     "metadata": {},
     "output_type": "execute_result"
    }
   ],
   "source": [
    "train.head()"
   ]
  },
  {
   "cell_type": "code",
   "execution_count": 13,
   "metadata": {},
   "outputs": [
    {
     "data": {
      "text/html": [
       "<div>\n",
       "<style scoped>\n",
       "    .dataframe tbody tr th:only-of-type {\n",
       "        vertical-align: middle;\n",
       "    }\n",
       "\n",
       "    .dataframe tbody tr th {\n",
       "        vertical-align: top;\n",
       "    }\n",
       "\n",
       "    .dataframe thead th {\n",
       "        text-align: right;\n",
       "    }\n",
       "</style>\n",
       "<table border=\"1\" class=\"dataframe\">\n",
       "  <thead>\n",
       "    <tr style=\"text-align: right;\">\n",
       "      <th></th>\n",
       "      <th>building_id</th>\n",
       "      <th>meter</th>\n",
       "      <th>dew_temperature</th>\n",
       "      <th>sea_level_pressure</th>\n",
       "      <th>wind_speed</th>\n",
       "      <th>primary_use</th>\n",
       "      <th>square_feet</th>\n",
       "      <th>year_built</th>\n",
       "      <th>missing_year</th>\n",
       "      <th>dayofyear</th>\n",
       "      <th>hour</th>\n",
       "      <th>wind_direction_x</th>\n",
       "      <th>wind_direction_y</th>\n",
       "      <th>rel_humidity</th>\n",
       "      <th>is_weekend</th>\n",
       "      <th>country</th>\n",
       "      <th>is_holiday</th>\n",
       "    </tr>\n",
       "  </thead>\n",
       "  <tbody>\n",
       "    <tr>\n",
       "      <th>0</th>\n",
       "      <td>0</td>\n",
       "      <td>0</td>\n",
       "      <td>12.8</td>\n",
       "      <td>1022.099976</td>\n",
       "      <td>2.1</td>\n",
       "      <td>Education</td>\n",
       "      <td>7432</td>\n",
       "      <td>2008</td>\n",
       "      <td>0</td>\n",
       "      <td>1</td>\n",
       "      <td>0</td>\n",
       "      <td>-0.642788</td>\n",
       "      <td>0.766044</td>\n",
       "      <td>83.409012</td>\n",
       "      <td>1</td>\n",
       "      <td>US</td>\n",
       "      <td>1</td>\n",
       "    </tr>\n",
       "    <tr>\n",
       "      <th>1</th>\n",
       "      <td>1</td>\n",
       "      <td>0</td>\n",
       "      <td>12.8</td>\n",
       "      <td>1022.099976</td>\n",
       "      <td>2.1</td>\n",
       "      <td>Education</td>\n",
       "      <td>2720</td>\n",
       "      <td>2004</td>\n",
       "      <td>0</td>\n",
       "      <td>1</td>\n",
       "      <td>0</td>\n",
       "      <td>-0.642788</td>\n",
       "      <td>0.766044</td>\n",
       "      <td>83.409012</td>\n",
       "      <td>1</td>\n",
       "      <td>US</td>\n",
       "      <td>1</td>\n",
       "    </tr>\n",
       "    <tr>\n",
       "      <th>2</th>\n",
       "      <td>2</td>\n",
       "      <td>0</td>\n",
       "      <td>12.8</td>\n",
       "      <td>1022.099976</td>\n",
       "      <td>2.1</td>\n",
       "      <td>Education</td>\n",
       "      <td>5376</td>\n",
       "      <td>1991</td>\n",
       "      <td>0</td>\n",
       "      <td>1</td>\n",
       "      <td>0</td>\n",
       "      <td>-0.642788</td>\n",
       "      <td>0.766044</td>\n",
       "      <td>83.409012</td>\n",
       "      <td>1</td>\n",
       "      <td>US</td>\n",
       "      <td>1</td>\n",
       "    </tr>\n",
       "    <tr>\n",
       "      <th>3</th>\n",
       "      <td>3</td>\n",
       "      <td>0</td>\n",
       "      <td>12.8</td>\n",
       "      <td>1022.099976</td>\n",
       "      <td>2.1</td>\n",
       "      <td>Education</td>\n",
       "      <td>23685</td>\n",
       "      <td>2002</td>\n",
       "      <td>0</td>\n",
       "      <td>1</td>\n",
       "      <td>0</td>\n",
       "      <td>-0.642788</td>\n",
       "      <td>0.766044</td>\n",
       "      <td>83.409012</td>\n",
       "      <td>1</td>\n",
       "      <td>US</td>\n",
       "      <td>1</td>\n",
       "    </tr>\n",
       "    <tr>\n",
       "      <th>4</th>\n",
       "      <td>4</td>\n",
       "      <td>0</td>\n",
       "      <td>12.8</td>\n",
       "      <td>1022.099976</td>\n",
       "      <td>2.1</td>\n",
       "      <td>Education</td>\n",
       "      <td>116607</td>\n",
       "      <td>1975</td>\n",
       "      <td>0</td>\n",
       "      <td>1</td>\n",
       "      <td>0</td>\n",
       "      <td>-0.642788</td>\n",
       "      <td>0.766044</td>\n",
       "      <td>83.409012</td>\n",
       "      <td>1</td>\n",
       "      <td>US</td>\n",
       "      <td>1</td>\n",
       "    </tr>\n",
       "  </tbody>\n",
       "</table>\n",
       "</div>"
      ],
      "text/plain": [
       "   building_id  meter  dew_temperature  sea_level_pressure  wind_speed  \\\n",
       "0            0      0             12.8         1022.099976         2.1   \n",
       "1            1      0             12.8         1022.099976         2.1   \n",
       "2            2      0             12.8         1022.099976         2.1   \n",
       "3            3      0             12.8         1022.099976         2.1   \n",
       "4            4      0             12.8         1022.099976         2.1   \n",
       "\n",
       "  primary_use  square_feet  year_built  missing_year  dayofyear  hour  \\\n",
       "0   Education         7432        2008             0          1     0   \n",
       "1   Education         2720        2004             0          1     0   \n",
       "2   Education         5376        1991             0          1     0   \n",
       "3   Education        23685        2002             0          1     0   \n",
       "4   Education       116607        1975             0          1     0   \n",
       "\n",
       "   wind_direction_x  wind_direction_y  rel_humidity  is_weekend country  \\\n",
       "0         -0.642788          0.766044     83.409012           1      US   \n",
       "1         -0.642788          0.766044     83.409012           1      US   \n",
       "2         -0.642788          0.766044     83.409012           1      US   \n",
       "3         -0.642788          0.766044     83.409012           1      US   \n",
       "4         -0.642788          0.766044     83.409012           1      US   \n",
       "\n",
       "   is_holiday  \n",
       "0           1  \n",
       "1           1  \n",
       "2           1  \n",
       "3           1  \n",
       "4           1  "
      ]
     },
     "execution_count": 13,
     "metadata": {},
     "output_type": "execute_result"
    }
   ],
   "source": [
    "test.head()"
   ]
  },
  {
   "cell_type": "code",
   "execution_count": 14,
   "metadata": {},
   "outputs": [
    {
     "data": {
      "text/html": [
       "<div>\n",
       "<style scoped>\n",
       "    .dataframe tbody tr th:only-of-type {\n",
       "        vertical-align: middle;\n",
       "    }\n",
       "\n",
       "    .dataframe tbody tr th {\n",
       "        vertical-align: top;\n",
       "    }\n",
       "\n",
       "    .dataframe thead th {\n",
       "        text-align: right;\n",
       "    }\n",
       "</style>\n",
       "<table border=\"1\" class=\"dataframe\">\n",
       "  <thead>\n",
       "    <tr style=\"text-align: right;\">\n",
       "      <th></th>\n",
       "      <th>building_id</th>\n",
       "      <th>primary_use</th>\n",
       "      <th>square_feet</th>\n",
       "      <th>year_built</th>\n",
       "      <th>country</th>\n",
       "      <th>dayofyear</th>\n",
       "      <th>hour</th>\n",
       "      <th>is_weekend</th>\n",
       "      <th>is_holiday</th>\n",
       "      <th>rel_humidity</th>\n",
       "      <th>dew_temperature</th>\n",
       "      <th>sea_level_pressure</th>\n",
       "      <th>wind_speed</th>\n",
       "      <th>wind_direction_y</th>\n",
       "      <th>meter</th>\n",
       "    </tr>\n",
       "  </thead>\n",
       "  <tbody>\n",
       "    <tr>\n",
       "      <th>0</th>\n",
       "      <td>0</td>\n",
       "      <td>Education</td>\n",
       "      <td>7432</td>\n",
       "      <td>2008</td>\n",
       "      <td>US</td>\n",
       "      <td>1</td>\n",
       "      <td>0</td>\n",
       "      <td>1</td>\n",
       "      <td>1</td>\n",
       "      <td>83.409012</td>\n",
       "      <td>12.8</td>\n",
       "      <td>1022.099976</td>\n",
       "      <td>2.1</td>\n",
       "      <td>0.766044</td>\n",
       "      <td>0</td>\n",
       "    </tr>\n",
       "    <tr>\n",
       "      <th>1</th>\n",
       "      <td>1</td>\n",
       "      <td>Education</td>\n",
       "      <td>2720</td>\n",
       "      <td>2004</td>\n",
       "      <td>US</td>\n",
       "      <td>1</td>\n",
       "      <td>0</td>\n",
       "      <td>1</td>\n",
       "      <td>1</td>\n",
       "      <td>83.409012</td>\n",
       "      <td>12.8</td>\n",
       "      <td>1022.099976</td>\n",
       "      <td>2.1</td>\n",
       "      <td>0.766044</td>\n",
       "      <td>0</td>\n",
       "    </tr>\n",
       "    <tr>\n",
       "      <th>2</th>\n",
       "      <td>2</td>\n",
       "      <td>Education</td>\n",
       "      <td>5376</td>\n",
       "      <td>1991</td>\n",
       "      <td>US</td>\n",
       "      <td>1</td>\n",
       "      <td>0</td>\n",
       "      <td>1</td>\n",
       "      <td>1</td>\n",
       "      <td>83.409012</td>\n",
       "      <td>12.8</td>\n",
       "      <td>1022.099976</td>\n",
       "      <td>2.1</td>\n",
       "      <td>0.766044</td>\n",
       "      <td>0</td>\n",
       "    </tr>\n",
       "    <tr>\n",
       "      <th>3</th>\n",
       "      <td>3</td>\n",
       "      <td>Education</td>\n",
       "      <td>23685</td>\n",
       "      <td>2002</td>\n",
       "      <td>US</td>\n",
       "      <td>1</td>\n",
       "      <td>0</td>\n",
       "      <td>1</td>\n",
       "      <td>1</td>\n",
       "      <td>83.409012</td>\n",
       "      <td>12.8</td>\n",
       "      <td>1022.099976</td>\n",
       "      <td>2.1</td>\n",
       "      <td>0.766044</td>\n",
       "      <td>0</td>\n",
       "    </tr>\n",
       "    <tr>\n",
       "      <th>4</th>\n",
       "      <td>4</td>\n",
       "      <td>Education</td>\n",
       "      <td>116607</td>\n",
       "      <td>1975</td>\n",
       "      <td>US</td>\n",
       "      <td>1</td>\n",
       "      <td>0</td>\n",
       "      <td>1</td>\n",
       "      <td>1</td>\n",
       "      <td>83.409012</td>\n",
       "      <td>12.8</td>\n",
       "      <td>1022.099976</td>\n",
       "      <td>2.1</td>\n",
       "      <td>0.766044</td>\n",
       "      <td>0</td>\n",
       "    </tr>\n",
       "  </tbody>\n",
       "</table>\n",
       "</div>"
      ],
      "text/plain": [
       "   building_id primary_use  square_feet  year_built country  dayofyear  hour  \\\n",
       "0            0   Education         7432        2008      US          1     0   \n",
       "1            1   Education         2720        2004      US          1     0   \n",
       "2            2   Education         5376        1991      US          1     0   \n",
       "3            3   Education        23685        2002      US          1     0   \n",
       "4            4   Education       116607        1975      US          1     0   \n",
       "\n",
       "   is_weekend  is_holiday  rel_humidity  dew_temperature  sea_level_pressure  \\\n",
       "0           1           1     83.409012             12.8         1022.099976   \n",
       "1           1           1     83.409012             12.8         1022.099976   \n",
       "2           1           1     83.409012             12.8         1022.099976   \n",
       "3           1           1     83.409012             12.8         1022.099976   \n",
       "4           1           1     83.409012             12.8         1022.099976   \n",
       "\n",
       "   wind_speed  wind_direction_y  meter  \n",
       "0         2.1          0.766044      0  \n",
       "1         2.1          0.766044      0  \n",
       "2         2.1          0.766044      0  \n",
       "3         2.1          0.766044      0  \n",
       "4         2.1          0.766044      0  "
      ]
     },
     "execution_count": 14,
     "metadata": {},
     "output_type": "execute_result"
    }
   ],
   "source": [
    "ftrain = ['building_id', 'primary_use', 'square_feet', 'year_built', 'country', 'dayofyear', 'hour', \n",
    "         'is_weekend', 'is_holiday', 'rel_humidity', 'dew_temperature', 'sea_level_pressure',\n",
    "         'wind_speed', 'wind_direction_y', 'meter', 'meter_reading']\n",
    "ftest = ftrain[:-1]\n",
    "train = train[ftrain]\n",
    "test = test[ftest]\n",
    "test.head()"
   ]
  },
  {
   "cell_type": "code",
   "execution_count": 15,
   "metadata": {},
   "outputs": [
    {
     "data": {
      "text/plain": [
       "66"
      ]
     },
     "execution_count": 15,
     "metadata": {},
     "output_type": "execute_result"
    }
   ],
   "source": [
    "del ftrain, ftest\n",
    "gc.collect()"
   ]
  },
  {
   "cell_type": "code",
   "execution_count": null,
   "metadata": {},
   "outputs": [],
   "source": []
  },
  {
   "cell_type": "code",
   "execution_count": null,
   "metadata": {},
   "outputs": [],
   "source": []
  },
  {
   "cell_type": "markdown",
   "metadata": {},
   "source": [
    "# Split data"
   ]
  },
  {
   "cell_type": "code",
   "execution_count": 16,
   "metadata": {},
   "outputs": [
    {
     "name": "stdout",
     "output_type": "stream",
     "text": [
      "Meter 0: (11530268, 15) (24755760, 14)\n",
      "Meter 1: (3518870, 15) (8724960, 14)\n",
      "Meter 2: (2296049, 15) (5676480, 14)\n",
      "Meter 3: (919708, 15) (2540400, 14)\n"
     ]
    }
   ],
   "source": [
    "train_df = []\n",
    "test_df = []\n",
    "\n",
    "for m in range(4):\n",
    "    df_train = train[train.meter == m].drop('meter', axis=1)\n",
    "    df_train['meter_reading'] *= df_train.square_feet.mean() / df_train.square_feet\n",
    "    df_train['meter_reading'] = np.log1p(df_train.meter_reading)\n",
    "    train_df.append(df_train)\n",
    "    df_test = test[test.meter == m].drop('meter', axis=1)\n",
    "    test_df.append(df_test)\n",
    "    print(f'Meter {m}:', df_train.shape, df_test.shape)"
   ]
  },
  {
   "cell_type": "code",
   "execution_count": 17,
   "metadata": {},
   "outputs": [
    {
     "data": {
      "text/plain": [
       "<matplotlib.axes._subplots.AxesSubplot at 0x7fb4a3f1c6a0>"
      ]
     },
     "execution_count": 17,
     "metadata": {},
     "output_type": "execute_result"
    },
    {
     "data": {
      "image/png": "[encoded data removed]",
      "text/plain": [
       "<Figure size 432x288 with 1 Axes>"
      ]
     },
     "metadata": {
      "needs_background": "light"
     },
     "output_type": "display_data"
    }
   ],
   "source": [
    "train_df[0].meter_reading.plot(kind='hist')"
   ]
  },
  {
   "cell_type": "code",
   "execution_count": 18,
   "metadata": {},
   "outputs": [
    {
     "data": {
      "text/plain": [
       "<matplotlib.axes._subplots.AxesSubplot at 0x7fb4a30c8700>"
      ]
     },
     "execution_count": 18,
     "metadata": {},
     "output_type": "execute_result"
    },
    {
     "data": {
      "image/png": "[encoded data removed]",
      "text/plain": [
       "<Figure size 432x288 with 1 Axes>"
      ]
     },
     "metadata": {
      "needs_background": "light"
     },
     "output_type": "display_data"
    }
   ],
   "source": [
    "train_df[1].meter_reading.plot(kind='hist')"
   ]
  },
  {
   "cell_type": "code",
   "execution_count": 19,
   "metadata": {},
   "outputs": [
    {
     "data": {
      "text/plain": [
       "<matplotlib.axes._subplots.AxesSubplot at 0x7fb4a3040a30>"
      ]
     },
     "execution_count": 19,
     "metadata": {},
     "output_type": "execute_result"
    },
    {
     "data": {
      "image/png": "[encoded data removed]",
      "text/plain": [
       "<Figure size 432x288 with 1 Axes>"
      ]
     },
     "metadata": {
      "needs_background": "light"
     },
     "output_type": "display_data"
    }
   ],
   "source": [
    "train_df[2].meter_reading.plot(kind='hist')"
   ]
  },
  {
   "cell_type": "code",
   "execution_count": 20,
   "metadata": {},
   "outputs": [
    {
     "data": {
      "text/plain": [
       "<matplotlib.axes._subplots.AxesSubplot at 0x7fb4a2fb2d30>"
      ]
     },
     "execution_count": 20,
     "metadata": {},
     "output_type": "execute_result"
    },
    {
     "data": {
      "image/png": "[encoded data removed]",
      "text/plain": [
       "<Figure size 432x288 with 1 Axes>"
      ]
     },
     "metadata": {
      "needs_background": "light"
     },
     "output_type": "display_data"
    }
   ],
   "source": [
    "train_df[3].meter_reading.plot(kind='hist')"
   ]
  },
  {
   "cell_type": "code",
   "execution_count": 21,
   "metadata": {},
   "outputs": [
    {
     "data": {
      "text/plain": [
       "22"
      ]
     },
     "execution_count": 21,
     "metadata": {},
     "output_type": "execute_result"
    }
   ],
   "source": [
    "del m, df_train, df_test\n",
    "gc.collect()"
   ]
  },
  {
   "cell_type": "code",
   "execution_count": null,
   "metadata": {},
   "outputs": [],
   "source": []
  },
  {
   "cell_type": "code",
   "execution_count": null,
   "metadata": {},
   "outputs": [],
   "source": []
  },
  {
   "cell_type": "markdown",
   "metadata": {},
   "source": [
    "# Functions"
   ]
  },
  {
   "cell_type": "code",
   "execution_count": 22,
   "metadata": {},
   "outputs": [],
   "source": [
    "def transform_data(df_train, df_test, name_re, name_me, name_ss):\n",
    "    X_train = df_train.drop('meter_reading', axis=1)\n",
    "    y_train = df_train[['meter_reading']]\n",
    "    \n",
    "    X_train, X_val, X_test, rare_dict = udf.rare_encoder(X_train, df_test, ['primary_use'], name=name_re)\n",
    "    X_train, X_val, X_test, mean_dict = udf.mean_encoder(X_train, y_train, X_test, ['primary_use', 'country'], name=name_me)\n",
    "    X_train_scaled, X_val, X_test_scaled = udf.scale_feats(X_train, X_test, name=name_ss)\n",
    "    \n",
    "    X_train_scaled, X_val_scaled, y_train, y_val = train_test_split(X_train_scaled, y_train, test_size=0.20, random_state=42)\n",
    "    \n",
    "    print('Train: ', X_train_scaled.shape, y_train.shape)\n",
    "    print('Validation: ', X_val_scaled.shape, y_val.shape)\n",
    "    print('Test: ', X_test_scaled.shape)\n",
    "    \n",
    "    return X_train_scaled, X_val_scaled, X_test_scaled, y_train, y_val"
   ]
  },
  {
   "cell_type": "code",
   "execution_count": 23,
   "metadata": {},
   "outputs": [],
   "source": [
    "def predict_lgb(X_train, y_train, X_val, y_val, X_test, params_dict, save_path):\n",
    "    dtrain = lgb.Dataset(X_train, label=y_train)\n",
    "    dval = lgb.Dataset(X_val, label=y_val)\n",
    "    lgbm = lgb.train(params_dict, dtrain, valid_sets=[dtrain, dval], valid_names=['train', 'val'], verbose_eval=False)\n",
    "    joblib.dump(lgbm, save_path)\n",
    "#     lgbm.save_model(save_path)\n",
    "    \n",
    "    pred = lgbm.predict(X_test)\n",
    "    pred[pred < 0] = 0\n",
    "    return pred"
   ]
  },
  {
   "cell_type": "code",
   "execution_count": 24,
   "metadata": {},
   "outputs": [],
   "source": [
    "def predict_xgb(X_train, y_train, X_val, y_val, X_test, params_dict, save_path):\n",
    "    dtrain = xgb.DMatrix(X_train, label=y_train)\n",
    "    dval = xgb.DMatrix(X_val, label=y_val)\n",
    "    dtest = xgb.DMatrix(X_test)\n",
    "    xg = xgb.train(params_dict, dtrain, evals=[(dtrain, 'train'), (dval, 'val')], num_boost_round=1000, early_stopping_rounds=10, verbose_eval=False)\n",
    "    joblib.dump(xg, save_path)\n",
    "#     xg.save_model(save_path)\n",
    "    \n",
    "    pred = xg.predict(dtest)\n",
    "    pred[pred < 0] = 0\n",
    "    return pred"
   ]
  },
  {
   "cell_type": "code",
   "execution_count": 25,
   "metadata": {},
   "outputs": [
    {
     "data": {
      "text/plain": [
       "66"
      ]
     },
     "execution_count": 25,
     "metadata": {},
     "output_type": "execute_result"
    }
   ],
   "source": [
    "gc.collect()"
   ]
  },
  {
   "cell_type": "code",
   "execution_count": null,
   "metadata": {},
   "outputs": [],
   "source": []
  },
  {
   "cell_type": "code",
   "execution_count": null,
   "metadata": {},
   "outputs": [],
   "source": []
  },
  {
   "cell_type": "markdown",
   "metadata": {},
   "source": [
    "# Electricity meter"
   ]
  },
  {
   "cell_type": "markdown",
   "metadata": {},
   "source": [
    "### Transform data"
   ]
  },
  {
   "cell_type": "code",
   "execution_count": 26,
   "metadata": {},
   "outputs": [
    {
     "name": "stderr",
     "output_type": "stream",
     "text": [
      "/home/tri/miniconda3/envs/minimal_ds/lib/python3.8/site-packages/sklearn/utils/validation.py:931: FutureWarning: Passing attributes to check_is_fitted is deprecated and will be removed in 0.23. The attributes argument is ignored.\n",
      "  warnings.warn(\"Passing attributes to check_is_fitted is deprecated\"\n"
     ]
    },
    {
     "name": "stdout",
     "output_type": "stream",
     "text": [
      "Train:  (9224214, 14) (9224214, 1)\n",
      "Validation:  (2306054, 14) (2306054, 1)\n",
      "Test:  (24755760, 14)\n"
     ]
    },
    {
     "data": {
      "text/html": [
       "<div>\n",
       "<style scoped>\n",
       "    .dataframe tbody tr th:only-of-type {\n",
       "        vertical-align: middle;\n",
       "    }\n",
       "\n",
       "    .dataframe tbody tr th {\n",
       "        vertical-align: top;\n",
       "    }\n",
       "\n",
       "    .dataframe thead th {\n",
       "        text-align: right;\n",
       "    }\n",
       "</style>\n",
       "<table border=\"1\" class=\"dataframe\">\n",
       "  <thead>\n",
       "    <tr style=\"text-align: right;\">\n",
       "      <th></th>\n",
       "      <th>building_id</th>\n",
       "      <th>primary_use</th>\n",
       "      <th>square_feet</th>\n",
       "      <th>year_built</th>\n",
       "      <th>country</th>\n",
       "      <th>dayofyear</th>\n",
       "      <th>hour</th>\n",
       "      <th>is_weekend</th>\n",
       "      <th>is_holiday</th>\n",
       "      <th>rel_humidity</th>\n",
       "      <th>dew_temperature</th>\n",
       "      <th>sea_level_pressure</th>\n",
       "      <th>wind_speed</th>\n",
       "      <th>wind_direction_y</th>\n",
       "    </tr>\n",
       "  </thead>\n",
       "  <tbody>\n",
       "    <tr>\n",
       "      <th>8660527</th>\n",
       "      <td>0.892008</td>\n",
       "      <td>0.214146</td>\n",
       "      <td>0.269849</td>\n",
       "      <td>0.165854</td>\n",
       "      <td>0.257499</td>\n",
       "      <td>0.865331</td>\n",
       "      <td>-0.361461</td>\n",
       "      <td>-0.633757</td>\n",
       "      <td>-0.180316</td>\n",
       "      <td>0.280494</td>\n",
       "      <td>0.074159</td>\n",
       "      <td>-0.931491</td>\n",
       "      <td>0.448294</td>\n",
       "      <td>-1.332753</td>\n",
       "    </tr>\n",
       "    <tr>\n",
       "      <th>22572</th>\n",
       "      <td>1.483336</td>\n",
       "      <td>0.258465</td>\n",
       "      <td>-0.071859</td>\n",
       "      <td>-0.161044</td>\n",
       "      <td>0.257499</td>\n",
       "      <td>-1.782112</td>\n",
       "      <td>0.794318</td>\n",
       "      <td>-0.633757</td>\n",
       "      <td>5.545828</td>\n",
       "      <td>-0.693457</td>\n",
       "      <td>-1.443078</td>\n",
       "      <td>-0.081025</td>\n",
       "      <td>0.448294</td>\n",
       "      <td>-1.424301</td>\n",
       "    </tr>\n",
       "    <tr>\n",
       "      <th>6861624</th>\n",
       "      <td>0.734320</td>\n",
       "      <td>0.258465</td>\n",
       "      <td>-0.631217</td>\n",
       "      <td>-0.161044</td>\n",
       "      <td>0.257499</td>\n",
       "      <td>0.341557</td>\n",
       "      <td>1.227735</td>\n",
       "      <td>-0.633757</td>\n",
       "      <td>-0.180316</td>\n",
       "      <td>-1.934299</td>\n",
       "      <td>-0.714804</td>\n",
       "      <td>-0.243020</td>\n",
       "      <td>-0.412867</td>\n",
       "      <td>-0.425474</td>\n",
       "    </tr>\n",
       "    <tr>\n",
       "      <th>6413870</th>\n",
       "      <td>0.842730</td>\n",
       "      <td>0.025558</td>\n",
       "      <td>0.343939</td>\n",
       "      <td>-0.114344</td>\n",
       "      <td>-0.603697</td>\n",
       "      <td>0.208232</td>\n",
       "      <td>1.661153</td>\n",
       "      <td>-0.633757</td>\n",
       "      <td>-0.180316</td>\n",
       "      <td>1.207477</td>\n",
       "      <td>0.539445</td>\n",
       "      <td>-0.904498</td>\n",
       "      <td>1.051107</td>\n",
       "      <td>-1.332753</td>\n",
       "    </tr>\n",
       "    <tr>\n",
       "      <th>8131131</th>\n",
       "      <td>-0.854876</td>\n",
       "      <td>0.214146</td>\n",
       "      <td>6.771111</td>\n",
       "      <td>1.053146</td>\n",
       "      <td>0.257499</td>\n",
       "      <td>0.712961</td>\n",
       "      <td>-0.505934</td>\n",
       "      <td>-0.633757</td>\n",
       "      <td>-0.180316</td>\n",
       "      <td>0.988530</td>\n",
       "      <td>1.480132</td>\n",
       "      <td>-0.054024</td>\n",
       "      <td>0.233004</td>\n",
       "      <td>-0.169881</td>\n",
       "    </tr>\n",
       "  </tbody>\n",
       "</table>\n",
       "</div>"
      ],
      "text/plain": [
       "         building_id  primary_use  square_feet  year_built   country  \\\n",
       "8660527     0.892008     0.214146     0.269849    0.165854  0.257499   \n",
       "22572       1.483336     0.258465    -0.071859   -0.161044  0.257499   \n",
       "6861624     0.734320     0.258465    -0.631217   -0.161044  0.257499   \n",
       "6413870     0.842730     0.025558     0.343939   -0.114344 -0.603697   \n",
       "8131131    -0.854876     0.214146     6.771111    1.053146  0.257499   \n",
       "\n",
       "         dayofyear      hour  is_weekend  is_holiday  rel_humidity  \\\n",
       "8660527   0.865331 -0.361461   -0.633757   -0.180316      0.280494   \n",
       "22572    -1.782112  0.794318   -0.633757    5.545828     -0.693457   \n",
       "6861624   0.341557  1.227735   -0.633757   -0.180316     -1.934299   \n",
       "6413870   0.208232  1.661153   -0.633757   -0.180316      1.207477   \n",
       "8131131   0.712961 -0.505934   -0.633757   -0.180316      0.988530   \n",
       "\n",
       "         dew_temperature  sea_level_pressure  wind_speed  wind_direction_y  \n",
       "8660527         0.074159           -0.931491    0.448294         -1.332753  \n",
       "22572          -1.443078           -0.081025    0.448294         -1.424301  \n",
       "6861624        -0.714804           -0.243020   -0.412867         -0.425474  \n",
       "6413870         0.539445           -0.904498    1.051107         -1.332753  \n",
       "8131131         1.480132           -0.054024    0.233004         -0.169881  "
      ]
     },
     "execution_count": 26,
     "metadata": {},
     "output_type": "execute_result"
    }
   ],
   "source": [
    "Xe_train_scaled, Xe_val_scaled, Xe_test_scaled, ye_train, ye_val = transform_data(train_df[0], test_df[0], 'rare_enc0.pkl', 'mean_enc0.pkl', 'scaler0.pkl')\n",
    "Xe_train_scaled.head()"
   ]
  },
  {
   "cell_type": "code",
   "execution_count": null,
   "metadata": {},
   "outputs": [],
   "source": []
  },
  {
   "cell_type": "code",
   "execution_count": null,
   "metadata": {},
   "outputs": [],
   "source": []
  },
  {
   "cell_type": "markdown",
   "metadata": {},
   "source": [
    "### Lasso Regression"
   ]
  },
  {
   "cell_type": "code",
   "execution_count": 27,
   "metadata": {},
   "outputs": [
    {
     "name": "stdout",
     "output_type": "stream",
     "text": [
      "0.09156365220703422\n",
      "0.21078510262531835\n"
     ]
    },
    {
     "data": {
      "text/plain": [
       "array([4.76556756, 4.74787705, 4.67995548, ..., 4.94256863, 4.67549845,\n",
       "       4.90934157])"
      ]
     },
     "execution_count": 27,
     "metadata": {},
     "output_type": "execute_result"
    }
   ],
   "source": [
    "lasso = Lasso(alpha=1e-6, random_state=42)\n",
    "lasso.fit(Xe_train_scaled, ye_train)\n",
    "\n",
    "val0 = lasso.predict(Xe_val_scaled)\n",
    "print(lasso.score(Xe_val_scaled, ye_val))\n",
    "print(np.sqrt(mean_squared_log_error(ye_val, val0)))\n",
    "\n",
    "lasso0 = lasso.predict(Xe_test_scaled)\n",
    "lasso0[lasso0 < 0] = 0\n",
    "lasso0"
   ]
  },
  {
   "cell_type": "code",
   "execution_count": null,
   "metadata": {},
   "outputs": [],
   "source": []
  },
  {
   "cell_type": "code",
   "execution_count": null,
   "metadata": {},
   "outputs": [],
   "source": []
  },
  {
   "cell_type": "markdown",
   "metadata": {},
   "source": [
    "### LightGBM"
   ]
  },
  {
   "cell_type": "code",
   "execution_count": 28,
   "metadata": {},
   "outputs": [
    {
     "data": {
      "text/plain": [
       "{'learning_rate': 0.07916336777546343,\n",
       " 'lambda_l1': 0.008557356431137609,\n",
       " 'lambda_l2': 0.0006037228650908533,\n",
       " 'max_depth': 51,\n",
       " 'num_leaves': 923,\n",
       " 'min_child_samples': 7,\n",
       " 'subsample': 0.7399597912518232,\n",
       " 'feature_fraction': 0.7310599981838332}"
      ]
     },
     "execution_count": 28,
     "metadata": {},
     "output_type": "execute_result"
    }
   ],
   "source": [
    "study_lgb0 = joblib.load('../objects/electricity/study_lgb.pkl')\n",
    "params_lgb0 = study_lgb0.best_trial.params\n",
    "params_lgb0"
   ]
  },
  {
   "cell_type": "code",
   "execution_count": 29,
   "metadata": {},
   "outputs": [
    {
     "data": {
      "text/plain": [
       "{'learning_rate': 0.07916336777546343,\n",
       " 'lambda_l1': 0.008557356431137609,\n",
       " 'lambda_l2': 0.0006037228650908533,\n",
       " 'max_depth': 51,\n",
       " 'num_leaves': 923,\n",
       " 'min_child_samples': 7,\n",
       " 'subsample': 0.7399597912518232,\n",
       " 'feature_fraction': 0.7310599981838332,\n",
       " 'num_iterations': 10000,\n",
       " 'early_stopping_round': 10,\n",
       " 'metric': 'rmse',\n",
       " 'num_threads': -1,\n",
       " 'seed': 42}"
      ]
     },
     "execution_count": 29,
     "metadata": {},
     "output_type": "execute_result"
    }
   ],
   "source": [
    "params_lgb0['num_iterations'] = 10000\n",
    "params_lgb0['early_stopping_round'] = 10\n",
    "params_lgb0['metric'] = 'rmse'\n",
    "params_lgb0['num_threads'] = -1\n",
    "params_lgb0['seed'] = 42\n",
    "params_lgb0"
   ]
  },
  {
   "cell_type": "code",
   "execution_count": 30,
   "metadata": {},
   "outputs": [
    {
     "name": "stderr",
     "output_type": "stream",
     "text": [
      "/home/tri/miniconda3/envs/minimal_ds/lib/python3.8/site-packages/lightgbm/engine.py:148: UserWarning: Found `num_iterations` in params. Will use it instead of argument\n",
      "  warnings.warn(\"Found `{}` in params. Will use it instead of argument\".format(alias))\n",
      "/home/tri/miniconda3/envs/minimal_ds/lib/python3.8/site-packages/lightgbm/engine.py:153: UserWarning: Found `early_stopping_round` in params. Will use it instead of argument\n",
      "  warnings.warn(\"Found `{}` in params. Will use it instead of argument\".format(alias))\n"
     ]
    },
    {
     "data": {
      "text/plain": [
       "array([5.52039093, 5.42828297, 2.24426075, ..., 3.90068262, 6.28817936,\n",
       "       1.66465688])"
      ]
     },
     "execution_count": 30,
     "metadata": {},
     "output_type": "execute_result"
    }
   ],
   "source": [
    "lgbm0 = predict_lgb(Xe_train_scaled, ye_train, Xe_val_scaled, ye_val, Xe_test_scaled, params_lgb0, '../objects/submission5/lgb0.pkl')\n",
    "lgbm0"
   ]
  },
  {
   "cell_type": "code",
   "execution_count": null,
   "metadata": {},
   "outputs": [],
   "source": []
  },
  {
   "cell_type": "code",
   "execution_count": null,
   "metadata": {},
   "outputs": [],
   "source": []
  },
  {
   "cell_type": "markdown",
   "metadata": {},
   "source": [
    "### XGBoost"
   ]
  },
  {
   "cell_type": "code",
   "execution_count": 31,
   "metadata": {},
   "outputs": [
    {
     "data": {
      "text/plain": [
       "{'grow_policy': 'lossguide',\n",
       " 'learning_rate': 0.014754037383886122,\n",
       " 'alpha': 0.005261717289274988,\n",
       " 'lambda': 0.10981652452119427,\n",
       " 'gamma': 0.00015007710756172543,\n",
       " 'max_depth': 23,\n",
       " 'max_leaves': 1598,\n",
       " 'subsample': 0.8406224713599797,\n",
       " 'colsample_bytree': 0.9175035245877109,\n",
       " 'eval_metric': 'rmse',\n",
       " 'seed': 42}"
      ]
     },
     "execution_count": 31,
     "metadata": {},
     "output_type": "execute_result"
    }
   ],
   "source": [
    "study_xgb0 = joblib.load('../objects/electricity/study_xgb.pkl')\n",
    "params_xgb0 = study_xgb0.best_trial.params\n",
    "params_xgb0['eval_metric'] = 'rmse'\n",
    "params_xgb0['seed'] = 42\n",
    "params_xgb0"
   ]
  },
  {
   "cell_type": "code",
   "execution_count": 32,
   "metadata": {},
   "outputs": [
    {
     "name": "stdout",
     "output_type": "stream",
     "text": [
      "[16:55:41] WARNING: /home/conda/feedstock_root/build_artifacts/xgboost_1572314959925/work/src/learner.cc:686: Tree method is automatically selected to be 'approx' for faster speed. To use old behavior (exact greedy algorithm on single machine), set tree_method to 'exact'.\n"
     ]
    },
    {
     "data": {
      "text/plain": [
       "array([4.96423  , 4.944954 , 2.4785538, ..., 4.2183228, 6.253382 ,\n",
       "       1.5743831], dtype=float32)"
      ]
     },
     "execution_count": 32,
     "metadata": {},
     "output_type": "execute_result"
    }
   ],
   "source": [
    "xg0 = predict_xgb(Xe_train_scaled, ye_train, Xe_val_scaled, ye_val, Xe_test_scaled, params_xgb0, '../objects/submission5/xgb0.pkl')\n",
    "xg0"
   ]
  },
  {
   "cell_type": "code",
   "execution_count": 33,
   "metadata": {},
   "outputs": [
    {
     "data": {
      "text/plain": [
       "109"
      ]
     },
     "execution_count": 33,
     "metadata": {},
     "output_type": "execute_result"
    }
   ],
   "source": [
    "del lasso, val0, study_lgb0\n",
    "gc.collect()"
   ]
  },
  {
   "cell_type": "code",
   "execution_count": null,
   "metadata": {},
   "outputs": [],
   "source": []
  },
  {
   "cell_type": "code",
   "execution_count": null,
   "metadata": {},
   "outputs": [],
   "source": []
  },
  {
   "cell_type": "markdown",
   "metadata": {},
   "source": [
    "# Chilled water meter"
   ]
  },
  {
   "cell_type": "markdown",
   "metadata": {},
   "source": [
    "### Transform data"
   ]
  },
  {
   "cell_type": "code",
   "execution_count": 34,
   "metadata": {},
   "outputs": [
    {
     "name": "stderr",
     "output_type": "stream",
     "text": [
      "/home/tri/miniconda3/envs/minimal_ds/lib/python3.8/site-packages/sklearn/utils/validation.py:931: FutureWarning: Passing attributes to check_is_fitted is deprecated and will be removed in 0.23. The attributes argument is ignored.\n",
      "  warnings.warn(\"Passing attributes to check_is_fitted is deprecated\"\n"
     ]
    },
    {
     "name": "stdout",
     "output_type": "stream",
     "text": [
      "Train:  (2815096, 14) (2815096, 1)\n",
      "Validation:  (703774, 14) (703774, 1)\n",
      "Test:  (8724960, 14)\n"
     ]
    },
    {
     "data": {
      "text/html": [
       "<div>\n",
       "<style scoped>\n",
       "    .dataframe tbody tr th:only-of-type {\n",
       "        vertical-align: middle;\n",
       "    }\n",
       "\n",
       "    .dataframe tbody tr th {\n",
       "        vertical-align: top;\n",
       "    }\n",
       "\n",
       "    .dataframe thead th {\n",
       "        text-align: right;\n",
       "    }\n",
       "</style>\n",
       "<table border=\"1\" class=\"dataframe\">\n",
       "  <thead>\n",
       "    <tr style=\"text-align: right;\">\n",
       "      <th></th>\n",
       "      <th>building_id</th>\n",
       "      <th>primary_use</th>\n",
       "      <th>square_feet</th>\n",
       "      <th>year_built</th>\n",
       "      <th>country</th>\n",
       "      <th>dayofyear</th>\n",
       "      <th>hour</th>\n",
       "      <th>is_weekend</th>\n",
       "      <th>is_holiday</th>\n",
       "      <th>rel_humidity</th>\n",
       "      <th>dew_temperature</th>\n",
       "      <th>sea_level_pressure</th>\n",
       "      <th>wind_speed</th>\n",
       "      <th>wind_direction_y</th>\n",
       "    </tr>\n",
       "  </thead>\n",
       "  <tbody>\n",
       "    <tr>\n",
       "      <th>1744059</th>\n",
       "      <td>1.162669</td>\n",
       "      <td>1.674479</td>\n",
       "      <td>0.975336</td>\n",
       "      <td>-0.202419</td>\n",
       "      <td>-0.173847</td>\n",
       "      <td>0.011193</td>\n",
       "      <td>-0.669692</td>\n",
       "      <td>1.599073</td>\n",
       "      <td>-0.170259</td>\n",
       "      <td>1.265604</td>\n",
       "      <td>1.261357</td>\n",
       "      <td>-1.141492</td>\n",
       "      <td>-0.431333</td>\n",
       "      <td>0.517762</td>\n",
       "    </tr>\n",
       "    <tr>\n",
       "      <th>1292909</th>\n",
       "      <td>0.884779</td>\n",
       "      <td>0.576989</td>\n",
       "      <td>-0.486890</td>\n",
       "      <td>-0.257998</td>\n",
       "      <td>-0.173847</td>\n",
       "      <td>-0.397031</td>\n",
       "      <td>-1.396167</td>\n",
       "      <td>1.599073</td>\n",
       "      <td>-0.170259</td>\n",
       "      <td>0.162895</td>\n",
       "      <td>0.491998</td>\n",
       "      <td>0.687055</td>\n",
       "      <td>-1.428880</td>\n",
       "      <td>-0.009177</td>\n",
       "    </tr>\n",
       "    <tr>\n",
       "      <th>2029936</th>\n",
       "      <td>0.943520</td>\n",
       "      <td>1.674479</td>\n",
       "      <td>0.014556</td>\n",
       "      <td>1.187055</td>\n",
       "      <td>-0.173847</td>\n",
       "      <td>0.260111</td>\n",
       "      <td>0.928554</td>\n",
       "      <td>-0.625362</td>\n",
       "      <td>-0.170259</td>\n",
       "      <td>-0.037984</td>\n",
       "      <td>0.718861</td>\n",
       "      <td>0.671947</td>\n",
       "      <td>0.756222</td>\n",
       "      <td>1.325078</td>\n",
       "    </tr>\n",
       "    <tr>\n",
       "      <th>2163727</th>\n",
       "      <td>-0.260670</td>\n",
       "      <td>1.674479</td>\n",
       "      <td>-0.762502</td>\n",
       "      <td>-0.424735</td>\n",
       "      <td>-0.173847</td>\n",
       "      <td>0.389548</td>\n",
       "      <td>1.073849</td>\n",
       "      <td>-0.625362</td>\n",
       "      <td>-0.170259</td>\n",
       "      <td>0.091379</td>\n",
       "      <td>1.320539</td>\n",
       "      <td>0.475493</td>\n",
       "      <td>0.281200</td>\n",
       "      <td>-0.779510</td>\n",
       "    </tr>\n",
       "    <tr>\n",
       "      <th>1649192</th>\n",
       "      <td>-1.742749</td>\n",
       "      <td>-0.357065</td>\n",
       "      <td>0.617066</td>\n",
       "      <td>2.076318</td>\n",
       "      <td>-0.173847</td>\n",
       "      <td>-0.078417</td>\n",
       "      <td>-1.105577</td>\n",
       "      <td>-0.625362</td>\n",
       "      <td>-0.170259</td>\n",
       "      <td>1.404484</td>\n",
       "      <td>1.429038</td>\n",
       "      <td>-0.023210</td>\n",
       "      <td>-0.716347</td>\n",
       "      <td>-0.009177</td>\n",
       "    </tr>\n",
       "  </tbody>\n",
       "</table>\n",
       "</div>"
      ],
      "text/plain": [
       "         building_id  primary_use  square_feet  year_built   country  \\\n",
       "1744059     1.162669     1.674479     0.975336   -0.202419 -0.173847   \n",
       "1292909     0.884779     0.576989    -0.486890   -0.257998 -0.173847   \n",
       "2029936     0.943520     1.674479     0.014556    1.187055 -0.173847   \n",
       "2163727    -0.260670     1.674479    -0.762502   -0.424735 -0.173847   \n",
       "1649192    -1.742749    -0.357065     0.617066    2.076318 -0.173847   \n",
       "\n",
       "         dayofyear      hour  is_weekend  is_holiday  rel_humidity  \\\n",
       "1744059   0.011193 -0.669692    1.599073   -0.170259      1.265604   \n",
       "1292909  -0.397031 -1.396167    1.599073   -0.170259      0.162895   \n",
       "2029936   0.260111  0.928554   -0.625362   -0.170259     -0.037984   \n",
       "2163727   0.389548  1.073849   -0.625362   -0.170259      0.091379   \n",
       "1649192  -0.078417 -1.105577   -0.625362   -0.170259      1.404484   \n",
       "\n",
       "         dew_temperature  sea_level_pressure  wind_speed  wind_direction_y  \n",
       "1744059         1.261357           -1.141492   -0.431333          0.517762  \n",
       "1292909         0.491998            0.687055   -1.428880         -0.009177  \n",
       "2029936         0.718861            0.671947    0.756222          1.325078  \n",
       "2163727         1.320539            0.475493    0.281200         -0.779510  \n",
       "1649192         1.429038           -0.023210   -0.716347         -0.009177  "
      ]
     },
     "execution_count": 34,
     "metadata": {},
     "output_type": "execute_result"
    }
   ],
   "source": [
    "Xc_train_scaled, Xc_val_scaled, Xc_test_scaled, yc_train, yc_val = transform_data(train_df[1], test_df[1], 'rare_enc1.pkl', 'mean_enc1.pkl', 'scaler1.pkl')\n",
    "Xc_train_scaled.head()"
   ]
  },
  {
   "cell_type": "code",
   "execution_count": null,
   "metadata": {},
   "outputs": [],
   "source": []
  },
  {
   "cell_type": "code",
   "execution_count": null,
   "metadata": {},
   "outputs": [],
   "source": []
  },
  {
   "cell_type": "markdown",
   "metadata": {},
   "source": [
    "### Lasso Regression"
   ]
  },
  {
   "cell_type": "code",
   "execution_count": 35,
   "metadata": {},
   "outputs": [
    {
     "name": "stdout",
     "output_type": "stream",
     "text": [
      "0.23000358079934125\n",
      "0.3306327887150343\n"
     ]
    },
    {
     "data": {
      "text/plain": [
       "array([4.5699935 , 4.35789718, 4.6634757 , ..., 5.62115502, 5.3707233 ,\n",
       "       5.49983763])"
      ]
     },
     "execution_count": 35,
     "metadata": {},
     "output_type": "execute_result"
    }
   ],
   "source": [
    "lasso = Lasso(alpha=1e-6, random_state=42)\n",
    "lasso.fit(Xc_train_scaled, yc_train)\n",
    "\n",
    "val1 = lasso.predict(Xc_val_scaled)\n",
    "print(lasso.score(Xc_val_scaled, yc_val))\n",
    "print(np.sqrt(mean_squared_log_error(yc_val, val1)))\n",
    "\n",
    "lasso1 = lasso.predict(Xc_test_scaled)\n",
    "lasso1[lasso1 < 0] = 0\n",
    "lasso1"
   ]
  },
  {
   "cell_type": "code",
   "execution_count": null,
   "metadata": {},
   "outputs": [],
   "source": []
  },
  {
   "cell_type": "code",
   "execution_count": null,
   "metadata": {},
   "outputs": [],
   "source": []
  },
  {
   "cell_type": "markdown",
   "metadata": {},
   "source": [
    "### LightGBM"
   ]
  },
  {
   "cell_type": "code",
   "execution_count": 36,
   "metadata": {},
   "outputs": [
    {
     "data": {
      "text/plain": [
       "{'learning_rate': 0.020424864262841822,\n",
       " 'lambda_l1': 0.27986455703148144,\n",
       " 'lambda_l2': 7.08804479307531,\n",
       " 'max_depth': 32,\n",
       " 'num_leaves': 1293,\n",
       " 'min_data_in_leaf': 23,\n",
       " 'bagging_fraction': 0.9143657877950819,\n",
       " 'feature_fraction': 0.701556769695671}"
      ]
     },
     "execution_count": 36,
     "metadata": {},
     "output_type": "execute_result"
    }
   ],
   "source": [
    "study_lgb1 = joblib.load('../objects/chilledwater/study_lgb1.pkl')\n",
    "params_lgb1 = study_lgb1.best_trial.params\n",
    "params_lgb1"
   ]
  },
  {
   "cell_type": "code",
   "execution_count": 37,
   "metadata": {},
   "outputs": [
    {
     "data": {
      "text/plain": [
       "{'learning_rate': 0.020424864262841822,\n",
       " 'lambda_l1': 0.27986455703148144,\n",
       " 'lambda_l2': 7.08804479307531,\n",
       " 'max_depth': 32,\n",
       " 'num_leaves': 1293,\n",
       " 'min_data_in_leaf': 23,\n",
       " 'bagging_fraction': 0.9143657877950819,\n",
       " 'feature_fraction': 0.701556769695671,\n",
       " 'num_iterations': 10000,\n",
       " 'early_stopping_round': 20,\n",
       " 'metric': 'rmse',\n",
       " 'num_threads': -1,\n",
       " 'seed': 42}"
      ]
     },
     "execution_count": 37,
     "metadata": {},
     "output_type": "execute_result"
    }
   ],
   "source": [
    "params_lgb1['num_iterations'] = 10000\n",
    "params_lgb1['early_stopping_round'] = 20\n",
    "params_lgb1['metric'] = 'rmse'\n",
    "params_lgb1['num_threads'] = -1\n",
    "params_lgb1['seed'] = 42\n",
    "params_lgb1"
   ]
  },
  {
   "cell_type": "code",
   "execution_count": 38,
   "metadata": {},
   "outputs": [
    {
     "name": "stderr",
     "output_type": "stream",
     "text": [
      "/home/tri/miniconda3/envs/minimal_ds/lib/python3.8/site-packages/lightgbm/engine.py:148: UserWarning: Found `num_iterations` in params. Will use it instead of argument\n",
      "  warnings.warn(\"Found `{}` in params. Will use it instead of argument\".format(alias))\n",
      "/home/tri/miniconda3/envs/minimal_ds/lib/python3.8/site-packages/lightgbm/engine.py:153: UserWarning: Found `early_stopping_round` in params. Will use it instead of argument\n",
      "  warnings.warn(\"Found `{}` in params. Will use it instead of argument\".format(alias))\n"
     ]
    },
    {
     "data": {
      "text/plain": [
       "array([3.80464247, 2.00206245, 2.61865401, ..., 2.96527746, 0.63557749,\n",
       "       2.04564065])"
      ]
     },
     "execution_count": 38,
     "metadata": {},
     "output_type": "execute_result"
    }
   ],
   "source": [
    "lgbm1 = predict_lgb(Xc_train_scaled, yc_train, Xc_val_scaled, yc_val, Xc_test_scaled, params_lgb1, '../objects/submission5/lgb1.pkl')\n",
    "lgbm1"
   ]
  },
  {
   "cell_type": "code",
   "execution_count": null,
   "metadata": {},
   "outputs": [],
   "source": []
  },
  {
   "cell_type": "code",
   "execution_count": null,
   "metadata": {},
   "outputs": [],
   "source": []
  },
  {
   "cell_type": "markdown",
   "metadata": {},
   "source": [
    "### XGBoost"
   ]
  },
  {
   "cell_type": "code",
   "execution_count": 39,
   "metadata": {},
   "outputs": [
    {
     "data": {
      "text/plain": [
       "{'grow_policy': 'depthwise',\n",
       " 'learning_rate': 0.03801178677708901,\n",
       " 'alpha': 0.051064916441743415,\n",
       " 'lambda': 0.890189928673286,\n",
       " 'gamma': 0.053083931710043705,\n",
       " 'max_depth': 16,\n",
       " 'max_leaves': 1131,\n",
       " 'subsample': 0.7245353487626778,\n",
       " 'colsample_bytree': 0.777530288110325,\n",
       " 'eval_metric': 'rmse',\n",
       " 'seed': 42}"
      ]
     },
     "execution_count": 39,
     "metadata": {},
     "output_type": "execute_result"
    }
   ],
   "source": [
    "study_xgb1 = joblib.load('../objects/chilledwater/study_xgb1.pkl')\n",
    "params_xgb1 = study_xgb1.best_trial.params\n",
    "params_xgb1['eval_metric'] = 'rmse'\n",
    "params_xgb1['seed'] = 42\n",
    "params_xgb1"
   ]
  },
  {
   "cell_type": "code",
   "execution_count": 40,
   "metadata": {},
   "outputs": [
    {
     "data": {
      "text/plain": [
       "array([3.850196 , 2.307846 , 2.6529038, ..., 2.9627392, 1.1368375,\n",
       "       2.9114306], dtype=float32)"
      ]
     },
     "execution_count": 40,
     "metadata": {},
     "output_type": "execute_result"
    }
   ],
   "source": [
    "xg1 = predict_xgb(Xc_train_scaled, yc_train, Xc_val_scaled, yc_val, Xc_test_scaled, params_xgb1, '../objects/submission5/xgb1.pkl')\n",
    "xg1"
   ]
  },
  {
   "cell_type": "code",
   "execution_count": 41,
   "metadata": {},
   "outputs": [
    {
     "data": {
      "text/plain": [
       "109"
      ]
     },
     "execution_count": 41,
     "metadata": {},
     "output_type": "execute_result"
    }
   ],
   "source": [
    "del lasso, val1, study_lgb1\n",
    "gc.collect()"
   ]
  },
  {
   "cell_type": "code",
   "execution_count": null,
   "metadata": {},
   "outputs": [],
   "source": []
  },
  {
   "cell_type": "code",
   "execution_count": null,
   "metadata": {},
   "outputs": [],
   "source": []
  },
  {
   "cell_type": "markdown",
   "metadata": {},
   "source": [
    "# Steam meter"
   ]
  },
  {
   "cell_type": "markdown",
   "metadata": {},
   "source": [
    "### Transform data"
   ]
  },
  {
   "cell_type": "code",
   "execution_count": 42,
   "metadata": {},
   "outputs": [
    {
     "name": "stderr",
     "output_type": "stream",
     "text": [
      "/home/tri/miniconda3/envs/minimal_ds/lib/python3.8/site-packages/sklearn/utils/validation.py:931: FutureWarning: Passing attributes to check_is_fitted is deprecated and will be removed in 0.23. The attributes argument is ignored.\n",
      "  warnings.warn(\"Passing attributes to check_is_fitted is deprecated\"\n"
     ]
    },
    {
     "name": "stdout",
     "output_type": "stream",
     "text": [
      "Train:  (1836839, 14) (1836839, 1)\n",
      "Validation:  (459210, 14) (459210, 1)\n",
      "Test:  (5676480, 14)\n"
     ]
    },
    {
     "data": {
      "text/html": [
       "<div>\n",
       "<style scoped>\n",
       "    .dataframe tbody tr th:only-of-type {\n",
       "        vertical-align: middle;\n",
       "    }\n",
       "\n",
       "    .dataframe tbody tr th {\n",
       "        vertical-align: top;\n",
       "    }\n",
       "\n",
       "    .dataframe thead th {\n",
       "        text-align: right;\n",
       "    }\n",
       "</style>\n",
       "<table border=\"1\" class=\"dataframe\">\n",
       "  <thead>\n",
       "    <tr style=\"text-align: right;\">\n",
       "      <th></th>\n",
       "      <th>building_id</th>\n",
       "      <th>primary_use</th>\n",
       "      <th>square_feet</th>\n",
       "      <th>year_built</th>\n",
       "      <th>country</th>\n",
       "      <th>dayofyear</th>\n",
       "      <th>hour</th>\n",
       "      <th>is_weekend</th>\n",
       "      <th>is_holiday</th>\n",
       "      <th>rel_humidity</th>\n",
       "      <th>dew_temperature</th>\n",
       "      <th>sea_level_pressure</th>\n",
       "      <th>wind_speed</th>\n",
       "      <th>wind_direction_y</th>\n",
       "    </tr>\n",
       "  </thead>\n",
       "  <tbody>\n",
       "    <tr>\n",
       "      <th>2270775</th>\n",
       "      <td>-1.117975</td>\n",
       "      <td>-0.544919</td>\n",
       "      <td>0.931530</td>\n",
       "      <td>-0.152204</td>\n",
       "      <td>0.181765</td>\n",
       "      <td>1.641147</td>\n",
       "      <td>-0.072679</td>\n",
       "      <td>-0.631491</td>\n",
       "      <td>-0.177586</td>\n",
       "      <td>0.685238</td>\n",
       "      <td>1.095753</td>\n",
       "      <td>0.412020</td>\n",
       "      <td>-0.024691</td>\n",
       "      <td>0.677522</td>\n",
       "    </tr>\n",
       "    <tr>\n",
       "      <th>1376356</th>\n",
       "      <td>-1.209021</td>\n",
       "      <td>-1.240523</td>\n",
       "      <td>-0.801729</td>\n",
       "      <td>0.118055</td>\n",
       "      <td>0.181765</td>\n",
       "      <td>0.363790</td>\n",
       "      <td>0.651112</td>\n",
       "      <td>1.583553</td>\n",
       "      <td>-0.177586</td>\n",
       "      <td>-0.744683</td>\n",
       "      <td>1.345476</td>\n",
       "      <td>-1.219827</td>\n",
       "      <td>-0.024691</td>\n",
       "      <td>-0.248520</td>\n",
       "    </tr>\n",
       "    <tr>\n",
       "      <th>1723076</th>\n",
       "      <td>1.325099</td>\n",
       "      <td>0.963477</td>\n",
       "      <td>-0.731244</td>\n",
       "      <td>-0.219768</td>\n",
       "      <td>0.181765</td>\n",
       "      <td>0.885922</td>\n",
       "      <td>-1.665020</td>\n",
       "      <td>1.583553</td>\n",
       "      <td>-0.177586</td>\n",
       "      <td>1.309187</td>\n",
       "      <td>0.551715</td>\n",
       "      <td>0.439916</td>\n",
       "      <td>1.137738</td>\n",
       "      <td>0.321329</td>\n",
       "    </tr>\n",
       "    <tr>\n",
       "      <th>625779</th>\n",
       "      <td>-0.748732</td>\n",
       "      <td>-0.544919</td>\n",
       "      <td>0.491304</td>\n",
       "      <td>-0.152204</td>\n",
       "      <td>0.181765</td>\n",
       "      <td>-0.773710</td>\n",
       "      <td>1.664420</td>\n",
       "      <td>-0.631491</td>\n",
       "      <td>-0.177586</td>\n",
       "      <td>1.281103</td>\n",
       "      <td>0.649821</td>\n",
       "      <td>0.007542</td>\n",
       "      <td>-1.410663</td>\n",
       "      <td>0.036405</td>\n",
       "    </tr>\n",
       "    <tr>\n",
       "      <th>1803811</th>\n",
       "      <td>-1.097743</td>\n",
       "      <td>-0.544919</td>\n",
       "      <td>-0.204896</td>\n",
       "      <td>-0.152204</td>\n",
       "      <td>0.181765</td>\n",
       "      <td>1.007131</td>\n",
       "      <td>0.216837</td>\n",
       "      <td>-0.631491</td>\n",
       "      <td>-0.177586</td>\n",
       "      <td>-1.763980</td>\n",
       "      <td>-0.036916</td>\n",
       "      <td>0.942019</td>\n",
       "      <td>0.198853</td>\n",
       "      <td>0.036405</td>\n",
       "    </tr>\n",
       "  </tbody>\n",
       "</table>\n",
       "</div>"
      ],
      "text/plain": [
       "         building_id  primary_use  square_feet  year_built   country  \\\n",
       "2270775    -1.117975    -0.544919     0.931530   -0.152204  0.181765   \n",
       "1376356    -1.209021    -1.240523    -0.801729    0.118055  0.181765   \n",
       "1723076     1.325099     0.963477    -0.731244   -0.219768  0.181765   \n",
       "625779     -0.748732    -0.544919     0.491304   -0.152204  0.181765   \n",
       "1803811    -1.097743    -0.544919    -0.204896   -0.152204  0.181765   \n",
       "\n",
       "         dayofyear      hour  is_weekend  is_holiday  rel_humidity  \\\n",
       "2270775   1.641147 -0.072679   -0.631491   -0.177586      0.685238   \n",
       "1376356   0.363790  0.651112    1.583553   -0.177586     -0.744683   \n",
       "1723076   0.885922 -1.665020    1.583553   -0.177586      1.309187   \n",
       "625779   -0.773710  1.664420   -0.631491   -0.177586      1.281103   \n",
       "1803811   1.007131  0.216837   -0.631491   -0.177586     -1.763980   \n",
       "\n",
       "         dew_temperature  sea_level_pressure  wind_speed  wind_direction_y  \n",
       "2270775         1.095753            0.412020   -0.024691          0.677522  \n",
       "1376356         1.345476           -1.219827   -0.024691         -0.248520  \n",
       "1723076         0.551715            0.439916    1.137738          0.321329  \n",
       "625779          0.649821            0.007542   -1.410663          0.036405  \n",
       "1803811        -0.036916            0.942019    0.198853          0.036405  "
      ]
     },
     "execution_count": 42,
     "metadata": {},
     "output_type": "execute_result"
    }
   ],
   "source": [
    "Xs_train_scaled, Xs_val_scaled, Xs_test_scaled, ys_train, ys_val = transform_data(train_df[2], test_df[2], 'rare_enc2.pkl', 'mean_enc2.pkl', 'scaler2.pkl')\n",
    "Xs_train_scaled.head()"
   ]
  },
  {
   "cell_type": "code",
   "execution_count": null,
   "metadata": {},
   "outputs": [],
   "source": []
  },
  {
   "cell_type": "code",
   "execution_count": null,
   "metadata": {},
   "outputs": [],
   "source": []
  },
  {
   "cell_type": "markdown",
   "metadata": {},
   "source": [
    "### Lasso Regression"
   ]
  },
  {
   "cell_type": "code",
   "execution_count": 43,
   "metadata": {},
   "outputs": [
    {
     "name": "stdout",
     "output_type": "stream",
     "text": [
      "0.3414665073504983\n",
      "0.25384089653954856\n"
     ]
    },
    {
     "data": {
      "text/plain": [
       "array([6.04341438, 6.02659764, 6.02552573, ..., 6.24241185, 6.19060251,\n",
       "       6.57503667])"
      ]
     },
     "execution_count": 43,
     "metadata": {},
     "output_type": "execute_result"
    }
   ],
   "source": [
    "lasso = Lasso(alpha=1e-6, random_state=42)\n",
    "lasso.fit(Xs_train_scaled, ys_train)\n",
    "\n",
    "val2 = lasso.predict(Xs_val_scaled)\n",
    "print(lasso.score(Xs_val_scaled, ys_val))\n",
    "print(np.sqrt(mean_squared_log_error(ys_val, val2)))\n",
    "\n",
    "lasso2 = lasso.predict(Xs_test_scaled)\n",
    "lasso2[lasso2 < 0] = 0\n",
    "lasso2"
   ]
  },
  {
   "cell_type": "code",
   "execution_count": null,
   "metadata": {},
   "outputs": [],
   "source": []
  },
  {
   "cell_type": "code",
   "execution_count": null,
   "metadata": {},
   "outputs": [],
   "source": []
  },
  {
   "cell_type": "markdown",
   "metadata": {},
   "source": [
    "### LightGBM"
   ]
  },
  {
   "cell_type": "code",
   "execution_count": 44,
   "metadata": {},
   "outputs": [
    {
     "data": {
      "text/plain": [
       "{'learning_rate': 0.04854268157540762,\n",
       " 'lambda_l1': 0.0028266466239996284,\n",
       " 'lambda_l2': 0.00010211303918218761,\n",
       " 'max_depth': 56,\n",
       " 'num_leaves': 409,\n",
       " 'min_data_in_leaf': 8,\n",
       " 'bagging_fraction': 0.5012612103606688,\n",
       " 'feature_fraction': 0.8537936823847498}"
      ]
     },
     "execution_count": 44,
     "metadata": {},
     "output_type": "execute_result"
    }
   ],
   "source": [
    "study_lgb2 = joblib.load('../objects/steam/study_lgb2.pkl')\n",
    "params_lgb2 = study_lgb2.best_trial.params\n",
    "params_lgb2"
   ]
  },
  {
   "cell_type": "code",
   "execution_count": 45,
   "metadata": {},
   "outputs": [
    {
     "data": {
      "text/plain": [
       "{'learning_rate': 0.04854268157540762,\n",
       " 'lambda_l1': 0.0028266466239996284,\n",
       " 'lambda_l2': 0.00010211303918218761,\n",
       " 'max_depth': 56,\n",
       " 'num_leaves': 409,\n",
       " 'min_data_in_leaf': 8,\n",
       " 'bagging_fraction': 0.5012612103606688,\n",
       " 'feature_fraction': 0.8537936823847498,\n",
       " 'num_iterations': 10000,\n",
       " 'early_stopping_round': 20,\n",
       " 'metric': 'rmse',\n",
       " 'num_threads': -1,\n",
       " 'seed': 42}"
      ]
     },
     "execution_count": 45,
     "metadata": {},
     "output_type": "execute_result"
    }
   ],
   "source": [
    "params_lgb2['num_iterations'] = 10000\n",
    "params_lgb2['early_stopping_round'] = 20\n",
    "params_lgb2['metric'] = 'rmse'\n",
    "params_lgb2['num_threads'] = -1\n",
    "params_lgb2['seed'] = 42\n",
    "params_lgb2"
   ]
  },
  {
   "cell_type": "code",
   "execution_count": 46,
   "metadata": {},
   "outputs": [
    {
     "name": "stderr",
     "output_type": "stream",
     "text": [
      "/home/tri/miniconda3/envs/minimal_ds/lib/python3.8/site-packages/lightgbm/engine.py:148: UserWarning: Found `num_iterations` in params. Will use it instead of argument\n",
      "  warnings.warn(\"Found `{}` in params. Will use it instead of argument\".format(alias))\n",
      "/home/tri/miniconda3/envs/minimal_ds/lib/python3.8/site-packages/lightgbm/engine.py:153: UserWarning: Found `early_stopping_round` in params. Will use it instead of argument\n",
      "  warnings.warn(\"Found `{}` in params. Will use it instead of argument\".format(alias))\n"
     ]
    },
    {
     "data": {
      "text/plain": [
       "array([5.72501984, 6.61508621, 9.80275593, ..., 6.33472452, 6.25173878,\n",
       "       3.29156439])"
      ]
     },
     "execution_count": 46,
     "metadata": {},
     "output_type": "execute_result"
    }
   ],
   "source": [
    "lgbm2 = predict_lgb(Xs_train_scaled, ys_train, Xs_val_scaled, ys_val, Xs_test_scaled, params_lgb2, '../objects/submission5/lgb2.pkl')\n",
    "lgbm2"
   ]
  },
  {
   "cell_type": "code",
   "execution_count": null,
   "metadata": {},
   "outputs": [],
   "source": []
  },
  {
   "cell_type": "code",
   "execution_count": null,
   "metadata": {},
   "outputs": [],
   "source": []
  },
  {
   "cell_type": "markdown",
   "metadata": {},
   "source": [
    "### XGBoost"
   ]
  },
  {
   "cell_type": "code",
   "execution_count": 47,
   "metadata": {},
   "outputs": [
    {
     "data": {
      "text/plain": [
       "{'grow_policy': 'depthwise',\n",
       " 'learning_rate': 0.045664576584020004,\n",
       " 'alpha': 1.9071087639650297,\n",
       " 'lambda': 0.00021496551872384197,\n",
       " 'gamma': 0.15536767802205387,\n",
       " 'max_depth': 59,\n",
       " 'max_leaves': 1626,\n",
       " 'subsample': 0.926581683911481,\n",
       " 'colsample_bytree': 0.8620824662132568,\n",
       " 'eval_metric': 'rmse',\n",
       " 'seed': 42}"
      ]
     },
     "execution_count": 47,
     "metadata": {},
     "output_type": "execute_result"
    }
   ],
   "source": [
    "study_xgb2 = joblib.load('../objects/steam/study_xgb2.pkl')\n",
    "params_xgb2 = study_xgb2.best_trial.params\n",
    "params_xgb2['eval_metric'] = 'rmse'\n",
    "params_xgb2['seed'] = 42\n",
    "params_xgb2"
   ]
  },
  {
   "cell_type": "code",
   "execution_count": 48,
   "metadata": {},
   "outputs": [
    {
     "data": {
      "text/plain": [
       "array([5.4265337, 6.42295  , 9.790721 , ..., 6.4540777, 6.3022256,\n",
       "       3.2595406], dtype=float32)"
      ]
     },
     "execution_count": 48,
     "metadata": {},
     "output_type": "execute_result"
    }
   ],
   "source": [
    "xg2 = predict_xgb(Xs_train_scaled, ys_train, Xs_val_scaled, ys_val, Xs_test_scaled, params_xgb2, '../objects/submission5/xgb2.pkl')\n",
    "xg2"
   ]
  },
  {
   "cell_type": "code",
   "execution_count": 49,
   "metadata": {},
   "outputs": [
    {
     "data": {
      "text/plain": [
       "109"
      ]
     },
     "execution_count": 49,
     "metadata": {},
     "output_type": "execute_result"
    }
   ],
   "source": [
    "del lasso, val2, study_lgb2\n",
    "gc.collect()"
   ]
  },
  {
   "cell_type": "code",
   "execution_count": null,
   "metadata": {},
   "outputs": [],
   "source": []
  },
  {
   "cell_type": "code",
   "execution_count": null,
   "metadata": {},
   "outputs": [],
   "source": []
  },
  {
   "cell_type": "markdown",
   "metadata": {},
   "source": [
    "# Hot water meter"
   ]
  },
  {
   "cell_type": "markdown",
   "metadata": {},
   "source": [
    "### Transform data"
   ]
  },
  {
   "cell_type": "code",
   "execution_count": 50,
   "metadata": {},
   "outputs": [
    {
     "name": "stderr",
     "output_type": "stream",
     "text": [
      "/home/tri/miniconda3/envs/minimal_ds/lib/python3.8/site-packages/sklearn/utils/validation.py:931: FutureWarning: Passing attributes to check_is_fitted is deprecated and will be removed in 0.23. The attributes argument is ignored.\n",
      "  warnings.warn(\"Passing attributes to check_is_fitted is deprecated\"\n"
     ]
    },
    {
     "name": "stdout",
     "output_type": "stream",
     "text": [
      "Train:  (735766, 14) (735766, 1)\n",
      "Validation:  (183942, 14) (183942, 1)\n",
      "Test:  (2540400, 14)\n"
     ]
    },
    {
     "data": {
      "text/html": [
       "<div>\n",
       "<style scoped>\n",
       "    .dataframe tbody tr th:only-of-type {\n",
       "        vertical-align: middle;\n",
       "    }\n",
       "\n",
       "    .dataframe tbody tr th {\n",
       "        vertical-align: top;\n",
       "    }\n",
       "\n",
       "    .dataframe thead th {\n",
       "        text-align: right;\n",
       "    }\n",
       "</style>\n",
       "<table border=\"1\" class=\"dataframe\">\n",
       "  <thead>\n",
       "    <tr style=\"text-align: right;\">\n",
       "      <th></th>\n",
       "      <th>building_id</th>\n",
       "      <th>primary_use</th>\n",
       "      <th>square_feet</th>\n",
       "      <th>year_built</th>\n",
       "      <th>country</th>\n",
       "      <th>dayofyear</th>\n",
       "      <th>hour</th>\n",
       "      <th>is_weekend</th>\n",
       "      <th>is_holiday</th>\n",
       "      <th>rel_humidity</th>\n",
       "      <th>dew_temperature</th>\n",
       "      <th>sea_level_pressure</th>\n",
       "      <th>wind_speed</th>\n",
       "      <th>wind_direction_y</th>\n",
       "    </tr>\n",
       "  </thead>\n",
       "  <tbody>\n",
       "    <tr>\n",
       "      <th>531429</th>\n",
       "      <td>0.880424</td>\n",
       "      <td>1.104583</td>\n",
       "      <td>0.413464</td>\n",
       "      <td>-0.002246</td>\n",
       "      <td>0.020743</td>\n",
       "      <td>0.231231</td>\n",
       "      <td>-1.230108</td>\n",
       "      <td>-0.630965</td>\n",
       "      <td>-0.182612</td>\n",
       "      <td>1.190757</td>\n",
       "      <td>1.363988</td>\n",
       "      <td>0.725615</td>\n",
       "      <td>-1.499733</td>\n",
       "      <td>0.123194</td>\n",
       "    </tr>\n",
       "    <tr>\n",
       "      <th>839174</th>\n",
       "      <td>-1.187059</td>\n",
       "      <td>-1.825934</td>\n",
       "      <td>-0.522012</td>\n",
       "      <td>2.041007</td>\n",
       "      <td>0.020743</td>\n",
       "      <td>1.458709</td>\n",
       "      <td>-0.650125</td>\n",
       "      <td>1.584873</td>\n",
       "      <td>-0.182612</td>\n",
       "      <td>0.300659</td>\n",
       "      <td>-0.542300</td>\n",
       "      <td>0.236225</td>\n",
       "      <td>-1.499733</td>\n",
       "      <td>0.123194</td>\n",
       "    </tr>\n",
       "    <tr>\n",
       "      <th>575420</th>\n",
       "      <td>-1.125785</td>\n",
       "      <td>-0.530918</td>\n",
       "      <td>0.606168</td>\n",
       "      <td>0.052977</td>\n",
       "      <td>0.020743</td>\n",
       "      <td>0.411742</td>\n",
       "      <td>1.669805</td>\n",
       "      <td>-0.630965</td>\n",
       "      <td>-0.182612</td>\n",
       "      <td>0.006423</td>\n",
       "      <td>1.481792</td>\n",
       "      <td>-0.663190</td>\n",
       "      <td>-0.491911</td>\n",
       "      <td>-1.119425</td>\n",
       "    </tr>\n",
       "    <tr>\n",
       "      <th>65167</th>\n",
       "      <td>-1.115902</td>\n",
       "      <td>-1.825934</td>\n",
       "      <td>-0.102258</td>\n",
       "      <td>-0.388808</td>\n",
       "      <td>0.020743</td>\n",
       "      <td>-1.402399</td>\n",
       "      <td>-1.085112</td>\n",
       "      <td>-0.630965</td>\n",
       "      <td>-0.182612</td>\n",
       "      <td>-0.886622</td>\n",
       "      <td>-0.895713</td>\n",
       "      <td>0.752062</td>\n",
       "      <td>-1.499733</td>\n",
       "      <td>0.123194</td>\n",
       "    </tr>\n",
       "    <tr>\n",
       "      <th>529141</th>\n",
       "      <td>0.854729</td>\n",
       "      <td>1.104583</td>\n",
       "      <td>-0.537519</td>\n",
       "      <td>-0.002246</td>\n",
       "      <td>0.020743</td>\n",
       "      <td>0.222205</td>\n",
       "      <td>-1.520099</td>\n",
       "      <td>-0.630965</td>\n",
       "      <td>-0.182612</td>\n",
       "      <td>0.443394</td>\n",
       "      <td>1.117670</td>\n",
       "      <td>0.871105</td>\n",
       "      <td>-1.499733</td>\n",
       "      <td>0.123194</td>\n",
       "    </tr>\n",
       "  </tbody>\n",
       "</table>\n",
       "</div>"
      ],
      "text/plain": [
       "        building_id  primary_use  square_feet  year_built   country  \\\n",
       "531429     0.880424     1.104583     0.413464   -0.002246  0.020743   \n",
       "839174    -1.187059    -1.825934    -0.522012    2.041007  0.020743   \n",
       "575420    -1.125785    -0.530918     0.606168    0.052977  0.020743   \n",
       "65167     -1.115902    -1.825934    -0.102258   -0.388808  0.020743   \n",
       "529141     0.854729     1.104583    -0.537519   -0.002246  0.020743   \n",
       "\n",
       "        dayofyear      hour  is_weekend  is_holiday  rel_humidity  \\\n",
       "531429   0.231231 -1.230108   -0.630965   -0.182612      1.190757   \n",
       "839174   1.458709 -0.650125    1.584873   -0.182612      0.300659   \n",
       "575420   0.411742  1.669805   -0.630965   -0.182612      0.006423   \n",
       "65167   -1.402399 -1.085112   -0.630965   -0.182612     -0.886622   \n",
       "529141   0.222205 -1.520099   -0.630965   -0.182612      0.443394   \n",
       "\n",
       "        dew_temperature  sea_level_pressure  wind_speed  wind_direction_y  \n",
       "531429         1.363988            0.725615   -1.499733          0.123194  \n",
       "839174        -0.542300            0.236225   -1.499733          0.123194  \n",
       "575420         1.481792           -0.663190   -0.491911         -1.119425  \n",
       "65167         -0.895713            0.752062   -1.499733          0.123194  \n",
       "529141         1.117670            0.871105   -1.499733          0.123194  "
      ]
     },
     "execution_count": 50,
     "metadata": {},
     "output_type": "execute_result"
    }
   ],
   "source": [
    "Xh_train_scaled, Xh_val_scaled, Xh_test_scaled, yh_train, yh_val = transform_data(train_df[3], test_df[3], 'rare_enc3.pkl', 'mean_enc3.pkl', 'scaler3.pkl')\n",
    "Xh_train_scaled.head()"
   ]
  },
  {
   "cell_type": "code",
   "execution_count": null,
   "metadata": {},
   "outputs": [],
   "source": []
  },
  {
   "cell_type": "code",
   "execution_count": null,
   "metadata": {},
   "outputs": [],
   "source": []
  },
  {
   "cell_type": "markdown",
   "metadata": {},
   "source": [
    "### Lasso Regression"
   ]
  },
  {
   "cell_type": "code",
   "execution_count": 51,
   "metadata": {},
   "outputs": [
    {
     "name": "stdout",
     "output_type": "stream",
     "text": [
      "0.3416840763511245\n",
      "0.35675692976189866\n"
     ]
    },
    {
     "data": {
      "text/plain": [
       "array([5.13264981, 5.11066832, 5.14505069, ..., 5.31785285, 5.2427731 ,\n",
       "       5.09224372])"
      ]
     },
     "execution_count": 51,
     "metadata": {},
     "output_type": "execute_result"
    }
   ],
   "source": [
    "lasso = Lasso(alpha=1e-6, random_state=42)\n",
    "lasso.fit(Xh_train_scaled, yh_train)\n",
    "\n",
    "val3 = lasso.predict(Xh_val_scaled)\n",
    "print(lasso.score(Xh_val_scaled, yh_val))\n",
    "print(np.sqrt(mean_squared_log_error(yh_val, val3)))\n",
    "\n",
    "lasso3 = lasso.predict(Xh_test_scaled)\n",
    "lasso3[lasso3 < 0] = 0\n",
    "lasso3"
   ]
  },
  {
   "cell_type": "code",
   "execution_count": null,
   "metadata": {},
   "outputs": [],
   "source": []
  },
  {
   "cell_type": "code",
   "execution_count": null,
   "metadata": {},
   "outputs": [],
   "source": []
  },
  {
   "cell_type": "markdown",
   "metadata": {},
   "source": [
    "### LightGBM"
   ]
  },
  {
   "cell_type": "code",
   "execution_count": 52,
   "metadata": {},
   "outputs": [
    {
     "data": {
      "text/plain": [
       "{'learning_rate': 0.023942434668217872,\n",
       " 'lambda_l1': 0.23828824891615835,\n",
       " 'lambda_l2': 0.00028375734074312625,\n",
       " 'max_depth': 58,\n",
       " 'num_leaves': 1581,\n",
       " 'min_data_in_leaf': 42,\n",
       " 'bagging_fraction': 0.500825513633077,\n",
       " 'feature_fraction': 0.9607308095583501}"
      ]
     },
     "execution_count": 52,
     "metadata": {},
     "output_type": "execute_result"
    }
   ],
   "source": [
    "study_lgb3 = joblib.load('../objects/hotwater/study_lgb3.pkl')\n",
    "params_lgb3 = study_lgb3.best_trial.params\n",
    "params_lgb3"
   ]
  },
  {
   "cell_type": "code",
   "execution_count": 53,
   "metadata": {},
   "outputs": [],
   "source": [
    "params_lgb3['num_iterations'] = 10000\n",
    "params_lgb3['early_stopping_round'] = 20\n",
    "params_lgb3['metric'] = 'rmse'\n",
    "params_lgb3['num_threads'] = -1\n",
    "params_lgb3['seed'] = 42"
   ]
  },
  {
   "cell_type": "code",
   "execution_count": 54,
   "metadata": {},
   "outputs": [
    {
     "name": "stderr",
     "output_type": "stream",
     "text": [
      "/home/tri/miniconda3/envs/minimal_ds/lib/python3.8/site-packages/lightgbm/engine.py:148: UserWarning: Found `num_iterations` in params. Will use it instead of argument\n",
      "  warnings.warn(\"Found `{}` in params. Will use it instead of argument\".format(alias))\n",
      "/home/tri/miniconda3/envs/minimal_ds/lib/python3.8/site-packages/lightgbm/engine.py:153: UserWarning: Found `early_stopping_round` in params. Will use it instead of argument\n",
      "  warnings.warn(\"Found `{}` in params. Will use it instead of argument\".format(alias))\n"
     ]
    },
    {
     "data": {
      "text/plain": [
       "array([5.02921577, 5.17982777, 5.67358819, ..., 7.86767093, 5.51312258,\n",
       "       7.85699934])"
      ]
     },
     "execution_count": 54,
     "metadata": {},
     "output_type": "execute_result"
    }
   ],
   "source": [
    "lgbm3 = predict_lgb(Xh_train_scaled, yh_train, Xh_val_scaled, yh_val, Xh_test_scaled, params_lgb3, '../objects/submission5/lgb3.pkl')\n",
    "lgbm3"
   ]
  },
  {
   "cell_type": "code",
   "execution_count": null,
   "metadata": {},
   "outputs": [],
   "source": []
  },
  {
   "cell_type": "code",
   "execution_count": null,
   "metadata": {},
   "outputs": [],
   "source": []
  },
  {
   "cell_type": "markdown",
   "metadata": {},
   "source": [
    "### XGBoost"
   ]
  },
  {
   "cell_type": "code",
   "execution_count": 55,
   "metadata": {},
   "outputs": [
    {
     "data": {
      "text/plain": [
       "{'grow_policy': 'lossguide',\n",
       " 'learning_rate': 0.009806612868641755,\n",
       " 'alpha': 0.009923410545051567,\n",
       " 'lambda': 2.4314911765779557,\n",
       " 'gamma': 0.00182351994095809,\n",
       " 'max_depth': 51,\n",
       " 'max_leaves': 1225,\n",
       " 'subsample': 0.8446420358715253,\n",
       " 'colsample_bytree': 0.8798084029338699,\n",
       " 'eval_metric': 'rmse',\n",
       " 'seed': 42}"
      ]
     },
     "execution_count": 55,
     "metadata": {},
     "output_type": "execute_result"
    }
   ],
   "source": [
    "study_xgb3 = joblib.load('../objects/hotwater/study_xgb3.pkl')\n",
    "params_xgb3 = study_xgb3.best_trial.params\n",
    "params_xgb3['eval_metric'] = 'rmse'\n",
    "params_xgb3['seed'] = 42\n",
    "params_xgb3"
   ]
  },
  {
   "cell_type": "code",
   "execution_count": 56,
   "metadata": {},
   "outputs": [
    {
     "data": {
      "text/plain": [
       "array([5.2769165, 5.090896 , 5.7404056, ..., 7.876289 , 5.439945 ,\n",
       "       7.778914 ], dtype=float32)"
      ]
     },
     "execution_count": 56,
     "metadata": {},
     "output_type": "execute_result"
    }
   ],
   "source": [
    "xg3 = predict_xgb(Xh_train_scaled, yh_train, Xh_val_scaled, yh_val, Xh_test_scaled, params_xgb3, '../objects/submission5/xgb3.pkl')\n",
    "xg3"
   ]
  },
  {
   "cell_type": "code",
   "execution_count": 57,
   "metadata": {},
   "outputs": [
    {
     "data": {
      "text/plain": [
       "109"
      ]
     },
     "execution_count": 57,
     "metadata": {},
     "output_type": "execute_result"
    }
   ],
   "source": [
    "del lasso, val3, study_lgb3\n",
    "gc.collect()"
   ]
  },
  {
   "cell_type": "code",
   "execution_count": null,
   "metadata": {},
   "outputs": [],
   "source": []
  },
  {
   "cell_type": "code",
   "execution_count": null,
   "metadata": {},
   "outputs": [],
   "source": []
  },
  {
   "cell_type": "markdown",
   "metadata": {},
   "source": [
    "# Combine predictions"
   ]
  },
  {
   "cell_type": "code",
   "execution_count": 58,
   "metadata": {},
   "outputs": [
    {
     "name": "stdout",
     "output_type": "stream",
     "text": [
      "Test observations:  [24755760, 8724960, 5676480, 2540400]\n",
      "Lasso predictions:  [24755760, 8724960, 5676480, 2540400]\n",
      "LightGBM predictions:  [24755760, 8724960, 5676480, 2540400]\n",
      "XGBoost predictions:  [24755760, 8724960, 5676480, 2540400]\n"
     ]
    }
   ],
   "source": [
    "print('Test observations: ', [df.shape[0] for df in test_df])\n",
    "print('Lasso predictions: ', list(map(len, [lasso0, lasso1, lasso2, lasso3])))\n",
    "print('LightGBM predictions: ', list(map(len, [lgbm0, lgbm1, lgbm2, lgbm3])))\n",
    "print('XGBoost predictions: ', list(map(len, [xg0, xg1, xg2, xg3])))"
   ]
  },
  {
   "cell_type": "code",
   "execution_count": 59,
   "metadata": {},
   "outputs": [
    {
     "data": {
      "text/html": [
       "<div>\n",
       "<style scoped>\n",
       "    .dataframe tbody tr th:only-of-type {\n",
       "        vertical-align: middle;\n",
       "    }\n",
       "\n",
       "    .dataframe tbody tr th {\n",
       "        vertical-align: top;\n",
       "    }\n",
       "\n",
       "    .dataframe thead th {\n",
       "        text-align: right;\n",
       "    }\n",
       "</style>\n",
       "<table border=\"1\" class=\"dataframe\">\n",
       "  <thead>\n",
       "    <tr style=\"text-align: right;\">\n",
       "      <th></th>\n",
       "      <th>square_feet</th>\n",
       "      <th>lasso</th>\n",
       "      <th>lgb</th>\n",
       "      <th>xgb</th>\n",
       "    </tr>\n",
       "  </thead>\n",
       "  <tbody>\n",
       "    <tr>\n",
       "      <th>0</th>\n",
       "      <td>7432</td>\n",
       "      <td>9.382028</td>\n",
       "      <td>20.048644</td>\n",
       "      <td>11.461633</td>\n",
       "    </tr>\n",
       "    <tr>\n",
       "      <th>1</th>\n",
       "      <td>2720</td>\n",
       "      <td>3.372954</td>\n",
       "      <td>6.689255</td>\n",
       "      <td>4.114137</td>\n",
       "    </tr>\n",
       "    <tr>\n",
       "      <th>2</th>\n",
       "      <td>5376</td>\n",
       "      <td>6.224949</td>\n",
       "      <td>0.491712</td>\n",
       "      <td>0.636924</td>\n",
       "    </tr>\n",
       "    <tr>\n",
       "      <th>3</th>\n",
       "      <td>23685</td>\n",
       "      <td>28.701838</td>\n",
       "      <td>16.710242</td>\n",
       "      <td>82.449435</td>\n",
       "    </tr>\n",
       "    <tr>\n",
       "      <th>4</th>\n",
       "      <td>116607</td>\n",
       "      <td>116.304802</td>\n",
       "      <td>47.336918</td>\n",
       "      <td>28.215942</td>\n",
       "    </tr>\n",
       "    <tr>\n",
       "      <th>...</th>\n",
       "      <td>...</td>\n",
       "      <td>...</td>\n",
       "      <td>...</td>\n",
       "      <td>...</td>\n",
       "    </tr>\n",
       "    <tr>\n",
       "      <th>41697595</th>\n",
       "      <td>19619</td>\n",
       "      <td>19.228044</td>\n",
       "      <td>4.630514</td>\n",
       "      <td>4.487186</td>\n",
       "    </tr>\n",
       "    <tr>\n",
       "      <th>41697596</th>\n",
       "      <td>4298</td>\n",
       "      <td>5.344204</td>\n",
       "      <td>4.587699</td>\n",
       "      <td>4.945417</td>\n",
       "    </tr>\n",
       "    <tr>\n",
       "      <th>41697597</th>\n",
       "      <td>11265</td>\n",
       "      <td>16.997993</td>\n",
       "      <td>5.917627</td>\n",
       "      <td>8.175799</td>\n",
       "    </tr>\n",
       "    <tr>\n",
       "      <th>41697598</th>\n",
       "      <td>29775</td>\n",
       "      <td>34.322148</td>\n",
       "      <td>173.465112</td>\n",
       "      <td>167.521790</td>\n",
       "    </tr>\n",
       "    <tr>\n",
       "      <th>41697599</th>\n",
       "      <td>92271</td>\n",
       "      <td>134.646749</td>\n",
       "      <td>4.286936</td>\n",
       "      <td>3.830511</td>\n",
       "    </tr>\n",
       "  </tbody>\n",
       "</table>\n",
       "<p>24755760 rows × 4 columns</p>\n",
       "</div>"
      ],
      "text/plain": [
       "          square_feet       lasso         lgb         xgb\n",
       "0                7432    9.382028   20.048644   11.461633\n",
       "1                2720    3.372954    6.689255    4.114137\n",
       "2                5376    6.224949    0.491712    0.636924\n",
       "3               23685   28.701838   16.710242   82.449435\n",
       "4              116607  116.304802   47.336918   28.215942\n",
       "...               ...         ...         ...         ...\n",
       "41697595        19619   19.228044    4.630514    4.487186\n",
       "41697596         4298    5.344204    4.587699    4.945417\n",
       "41697597        11265   16.997993    5.917627    8.175799\n",
       "41697598        29775   34.322148  173.465112  167.521790\n",
       "41697599        92271  134.646749    4.286936    3.830511\n",
       "\n",
       "[24755760 rows x 4 columns]"
      ]
     },
     "execution_count": 59,
     "metadata": {},
     "output_type": "execute_result"
    }
   ],
   "source": [
    "# Electricity meter\n",
    "pred0 = test_df[0][['square_feet']].copy()\n",
    "pred0['lasso'] = np.expm1(lasso0)\n",
    "pred0['lasso'] *= pred0.square_feet / pred0.square_feet.mean()\n",
    "pred0['lgb'] = np.expm1(lgbm0)\n",
    "pred0['lgb'] *= pred0.square_feet / pred0.square_feet.mean()\n",
    "pred0['xgb'] = np.expm1(xg0)\n",
    "pred0['xgb'] *= pred0.square_feet / pred0.square_feet.mean()\n",
    "pred0"
   ]
  },
  {
   "cell_type": "code",
   "execution_count": 60,
   "metadata": {},
   "outputs": [
    {
     "data": {
      "text/html": [
       "<div>\n",
       "<style scoped>\n",
       "    .dataframe tbody tr th:only-of-type {\n",
       "        vertical-align: middle;\n",
       "    }\n",
       "\n",
       "    .dataframe tbody tr th {\n",
       "        vertical-align: top;\n",
       "    }\n",
       "\n",
       "    .dataframe thead th {\n",
       "        text-align: right;\n",
       "    }\n",
       "</style>\n",
       "<table border=\"1\" class=\"dataframe\">\n",
       "  <thead>\n",
       "    <tr style=\"text-align: right;\">\n",
       "      <th></th>\n",
       "      <th>square_feet</th>\n",
       "      <th>lasso</th>\n",
       "      <th>lgb</th>\n",
       "      <th>xgb</th>\n",
       "    </tr>\n",
       "  </thead>\n",
       "  <tbody>\n",
       "    <tr>\n",
       "      <th>8</th>\n",
       "      <td>121074</td>\n",
       "      <td>92.411665</td>\n",
       "      <td>42.469893</td>\n",
       "      <td>44.494363</td>\n",
       "    </tr>\n",
       "    <tr>\n",
       "      <th>11</th>\n",
       "      <td>27000</td>\n",
       "      <td>16.628464</td>\n",
       "      <td>1.381373</td>\n",
       "      <td>1.952626</td>\n",
       "    </tr>\n",
       "    <tr>\n",
       "      <th>16</th>\n",
       "      <td>99380</td>\n",
       "      <td>83.364123</td>\n",
       "      <td>10.096410</td>\n",
       "      <td>10.475862</td>\n",
       "    </tr>\n",
       "    <tr>\n",
       "      <th>18</th>\n",
       "      <td>86250</td>\n",
       "      <td>79.850964</td>\n",
       "      <td>19.296033</td>\n",
       "      <td>32.697189</td>\n",
       "    </tr>\n",
       "    <tr>\n",
       "      <th>20</th>\n",
       "      <td>83957</td>\n",
       "      <td>38.879887</td>\n",
       "      <td>8.842488</td>\n",
       "      <td>15.918096</td>\n",
       "    </tr>\n",
       "    <tr>\n",
       "      <th>...</th>\n",
       "      <td>...</td>\n",
       "      <td>...</td>\n",
       "      <td>...</td>\n",
       "      <td>...</td>\n",
       "    </tr>\n",
       "    <tr>\n",
       "      <th>41697538</th>\n",
       "      <td>48881</td>\n",
       "      <td>58.667300</td>\n",
       "      <td>44.642660</td>\n",
       "      <td>49.808558</td>\n",
       "    </tr>\n",
       "    <tr>\n",
       "      <th>41697541</th>\n",
       "      <td>11524</td>\n",
       "      <td>21.061148</td>\n",
       "      <td>28.624991</td>\n",
       "      <td>36.178735</td>\n",
       "    </tr>\n",
       "    <tr>\n",
       "      <th>41697543</th>\n",
       "      <td>9111</td>\n",
       "      <td>20.030985</td>\n",
       "      <td>1.339247</td>\n",
       "      <td>1.335668</td>\n",
       "    </tr>\n",
       "    <tr>\n",
       "      <th>41697545</th>\n",
       "      <td>39538</td>\n",
       "      <td>67.599038</td>\n",
       "      <td>0.280516</td>\n",
       "      <td>0.668635</td>\n",
       "    </tr>\n",
       "    <tr>\n",
       "      <th>41697548</th>\n",
       "      <td>65999</td>\n",
       "      <td>128.464325</td>\n",
       "      <td>3.550525</td>\n",
       "      <td>9.165136</td>\n",
       "    </tr>\n",
       "  </tbody>\n",
       "</table>\n",
       "<p>8724960 rows × 4 columns</p>\n",
       "</div>"
      ],
      "text/plain": [
       "          square_feet       lasso        lgb        xgb\n",
       "8              121074   92.411665  42.469893  44.494363\n",
       "11              27000   16.628464   1.381373   1.952626\n",
       "16              99380   83.364123  10.096410  10.475862\n",
       "18              86250   79.850964  19.296033  32.697189\n",
       "20              83957   38.879887   8.842488  15.918096\n",
       "...               ...         ...        ...        ...\n",
       "41697538        48881   58.667300  44.642660  49.808558\n",
       "41697541        11524   21.061148  28.624991  36.178735\n",
       "41697543         9111   20.030985   1.339247   1.335668\n",
       "41697545        39538   67.599038   0.280516   0.668635\n",
       "41697548        65999  128.464325   3.550525   9.165136\n",
       "\n",
       "[8724960 rows x 4 columns]"
      ]
     },
     "execution_count": 60,
     "metadata": {},
     "output_type": "execute_result"
    }
   ],
   "source": [
    "# Chilled water meter\n",
    "pred1 = test_df[1][['square_feet']].copy()\n",
    "pred1['lasso'] = np.expm1(lasso1)\n",
    "pred1['lasso'] *= pred1.square_feet / pred1.square_feet.mean()\n",
    "pred1['lgb'] = np.expm1(lgbm1)\n",
    "pred1['lgb'] *= pred1.square_feet / pred1.square_feet.mean()\n",
    "pred1['xgb'] = np.expm1(xg1)\n",
    "pred1['xgb'] *= pred1.square_feet / pred1.square_feet.mean()\n",
    "pred1"
   ]
  },
  {
   "cell_type": "code",
   "execution_count": 61,
   "metadata": {},
   "outputs": [
    {
     "data": {
      "text/html": [
       "<div>\n",
       "<style scoped>\n",
       "    .dataframe tbody tr th:only-of-type {\n",
       "        vertical-align: middle;\n",
       "    }\n",
       "\n",
       "    .dataframe tbody tr th {\n",
       "        vertical-align: top;\n",
       "    }\n",
       "\n",
       "    .dataframe thead th {\n",
       "        text-align: right;\n",
       "    }\n",
       "</style>\n",
       "<table border=\"1\" class=\"dataframe\">\n",
       "  <thead>\n",
       "    <tr style=\"text-align: right;\">\n",
       "      <th></th>\n",
       "      <th>square_feet</th>\n",
       "      <th>lasso</th>\n",
       "      <th>lgb</th>\n",
       "      <th>xgb</th>\n",
       "    </tr>\n",
       "  </thead>\n",
       "  <tbody>\n",
       "    <tr>\n",
       "      <th>16340505</th>\n",
       "      <td>13512</td>\n",
       "      <td>40.734174</td>\n",
       "      <td>29.600182</td>\n",
       "      <td>21.936568</td>\n",
       "    </tr>\n",
       "    <tr>\n",
       "      <th>16340509</th>\n",
       "      <td>30531</td>\n",
       "      <td>90.502249</td>\n",
       "      <td>163.193887</td>\n",
       "      <td>134.628382</td>\n",
       "    </tr>\n",
       "    <tr>\n",
       "      <th>16340515</th>\n",
       "      <td>35990</td>\n",
       "      <td>106.569649</td>\n",
       "      <td>4667.565283</td>\n",
       "      <td>4611.724988</td>\n",
       "    </tr>\n",
       "    <tr>\n",
       "      <th>16340517</th>\n",
       "      <td>37485</td>\n",
       "      <td>136.831568</td>\n",
       "      <td>184.132885</td>\n",
       "      <td>153.699586</td>\n",
       "    </tr>\n",
       "    <tr>\n",
       "      <th>16340521</th>\n",
       "      <td>39558</td>\n",
       "      <td>117.276262</td>\n",
       "      <td>346.826367</td>\n",
       "      <td>296.700860</td>\n",
       "    </tr>\n",
       "    <tr>\n",
       "      <th>...</th>\n",
       "      <td>...</td>\n",
       "      <td>...</td>\n",
       "      <td>...</td>\n",
       "      <td>...</td>\n",
       "    </tr>\n",
       "    <tr>\n",
       "      <th>41697581</th>\n",
       "      <td>33148</td>\n",
       "      <td>133.682126</td>\n",
       "      <td>259.300805</td>\n",
       "      <td>265.969884</td>\n",
       "    </tr>\n",
       "    <tr>\n",
       "      <th>41697584</th>\n",
       "      <td>11302</td>\n",
       "      <td>73.767099</td>\n",
       "      <td>846.583886</td>\n",
       "      <td>976.641151</td>\n",
       "    </tr>\n",
       "    <tr>\n",
       "      <th>41697586</th>\n",
       "      <td>111518</td>\n",
       "      <td>410.387533</td>\n",
       "      <td>450.152509</td>\n",
       "      <td>507.318748</td>\n",
       "    </tr>\n",
       "    <tr>\n",
       "      <th>41697588</th>\n",
       "      <td>108971</td>\n",
       "      <td>380.727811</td>\n",
       "      <td>404.779600</td>\n",
       "      <td>425.780788</td>\n",
       "    </tr>\n",
       "    <tr>\n",
       "      <th>41697593</th>\n",
       "      <td>99541</td>\n",
       "      <td>511.149272</td>\n",
       "      <td>18.479834</td>\n",
       "      <td>17.874914</td>\n",
       "    </tr>\n",
       "  </tbody>\n",
       "</table>\n",
       "<p>5676480 rows × 4 columns</p>\n",
       "</div>"
      ],
      "text/plain": [
       "          square_feet       lasso          lgb          xgb\n",
       "16340505        13512   40.734174    29.600182    21.936568\n",
       "16340509        30531   90.502249   163.193887   134.628382\n",
       "16340515        35990  106.569649  4667.565283  4611.724988\n",
       "16340517        37485  136.831568   184.132885   153.699586\n",
       "16340521        39558  117.276262   346.826367   296.700860\n",
       "...               ...         ...          ...          ...\n",
       "41697581        33148  133.682126   259.300805   265.969884\n",
       "41697584        11302   73.767099   846.583886   976.641151\n",
       "41697586       111518  410.387533   450.152509   507.318748\n",
       "41697588       108971  380.727811   404.779600   425.780788\n",
       "41697593        99541  511.149272    18.479834    17.874914\n",
       "\n",
       "[5676480 rows x 4 columns]"
      ]
     },
     "execution_count": 61,
     "metadata": {},
     "output_type": "execute_result"
    }
   ],
   "source": [
    "# Steam meter\n",
    "pred2 = test_df[2][['square_feet']].copy()\n",
    "pred2['lasso'] = np.expm1(lasso2)\n",
    "pred2['lasso'] *= pred2.square_feet / pred2.square_feet.mean()\n",
    "pred2['lgb'] = np.expm1(lgbm2)\n",
    "pred2['lgb'] *= pred2.square_feet / pred2.square_feet.mean()\n",
    "pred2['xgb'] = np.expm1(xg2)\n",
    "pred2['xgb'] *= pred2.square_feet / pred2.square_feet.mean()\n",
    "pred2"
   ]
  },
  {
   "cell_type": "code",
   "execution_count": 62,
   "metadata": {},
   "outputs": [
    {
     "data": {
      "text/html": [
       "<div>\n",
       "<style scoped>\n",
       "    .dataframe tbody tr th:only-of-type {\n",
       "        vertical-align: middle;\n",
       "    }\n",
       "\n",
       "    .dataframe tbody tr th {\n",
       "        vertical-align: top;\n",
       "    }\n",
       "\n",
       "    .dataframe thead th {\n",
       "        text-align: right;\n",
       "    }\n",
       "</style>\n",
       "<table border=\"1\" class=\"dataframe\">\n",
       "  <thead>\n",
       "    <tr style=\"text-align: right;\">\n",
       "      <th></th>\n",
       "      <th>square_feet</th>\n",
       "      <th>lasso</th>\n",
       "      <th>lgb</th>\n",
       "      <th>xgb</th>\n",
       "    </tr>\n",
       "  </thead>\n",
       "  <tbody>\n",
       "    <tr>\n",
       "      <th>2260082</th>\n",
       "      <td>5374</td>\n",
       "      <td>7.844076</td>\n",
       "      <td>7.068706</td>\n",
       "      <td>9.068641</td>\n",
       "    </tr>\n",
       "    <tr>\n",
       "      <th>2260086</th>\n",
       "      <td>56995</td>\n",
       "      <td>81.372401</td>\n",
       "      <td>87.234601</td>\n",
       "      <td>79.769622</td>\n",
       "    </tr>\n",
       "    <tr>\n",
       "      <th>2260090</th>\n",
       "      <td>32206</td>\n",
       "      <td>47.599052</td>\n",
       "      <td>80.943724</td>\n",
       "      <td>86.556232</td>\n",
       "    </tr>\n",
       "    <tr>\n",
       "      <th>2260092</th>\n",
       "      <td>100481</td>\n",
       "      <td>148.749655</td>\n",
       "      <td>23.513635</td>\n",
       "      <td>23.443877</td>\n",
       "    </tr>\n",
       "    <tr>\n",
       "      <th>2260094</th>\n",
       "      <td>139683</td>\n",
       "      <td>208.258076</td>\n",
       "      <td>228.552853</td>\n",
       "      <td>177.668529</td>\n",
       "    </tr>\n",
       "    <tr>\n",
       "      <th>...</th>\n",
       "      <td>...</td>\n",
       "      <td>...</td>\n",
       "      <td>...</td>\n",
       "      <td>...</td>\n",
       "    </tr>\n",
       "    <tr>\n",
       "      <th>41696866</th>\n",
       "      <td>171008</td>\n",
       "      <td>393.169443</td>\n",
       "      <td>4408.500259</td>\n",
       "      <td>4206.451481</td>\n",
       "    </tr>\n",
       "    <tr>\n",
       "      <th>41697101</th>\n",
       "      <td>155177</td>\n",
       "      <td>317.404276</td>\n",
       "      <td>295.232129</td>\n",
       "      <td>287.625336</td>\n",
       "    </tr>\n",
       "    <tr>\n",
       "      <th>41697116</th>\n",
       "      <td>171008</td>\n",
       "      <td>300.696808</td>\n",
       "      <td>3867.845387</td>\n",
       "      <td>3901.335298</td>\n",
       "    </tr>\n",
       "    <tr>\n",
       "      <th>41697351</th>\n",
       "      <td>155177</td>\n",
       "      <td>253.026576</td>\n",
       "      <td>331.989039</td>\n",
       "      <td>308.467687</td>\n",
       "    </tr>\n",
       "    <tr>\n",
       "      <th>41697366</th>\n",
       "      <td>171008</td>\n",
       "      <td>239.665812</td>\n",
       "      <td>3826.773078</td>\n",
       "      <td>3539.215613</td>\n",
       "    </tr>\n",
       "  </tbody>\n",
       "</table>\n",
       "<p>2540400 rows × 4 columns</p>\n",
       "</div>"
      ],
      "text/plain": [
       "          square_feet       lasso          lgb          xgb\n",
       "2260082          5374    7.844076     7.068706     9.068641\n",
       "2260086         56995   81.372401    87.234601    79.769622\n",
       "2260090         32206   47.599052    80.943724    86.556232\n",
       "2260092        100481  148.749655    23.513635    23.443877\n",
       "2260094        139683  208.258076   228.552853   177.668529\n",
       "...               ...         ...          ...          ...\n",
       "41696866       171008  393.169443  4408.500259  4206.451481\n",
       "41697101       155177  317.404276   295.232129   287.625336\n",
       "41697116       171008  300.696808  3867.845387  3901.335298\n",
       "41697351       155177  253.026576   331.989039   308.467687\n",
       "41697366       171008  239.665812  3826.773078  3539.215613\n",
       "\n",
       "[2540400 rows x 4 columns]"
      ]
     },
     "execution_count": 62,
     "metadata": {},
     "output_type": "execute_result"
    }
   ],
   "source": [
    "# Hot water meter\n",
    "pred3 = test_df[3][['square_feet']].copy()\n",
    "pred3['lasso'] = np.expm1(lasso3)\n",
    "pred3['lasso'] *= pred3.square_feet / pred3.square_feet.mean()\n",
    "pred3['lgb'] = np.expm1(lgbm3)\n",
    "pred3['lgb'] *= pred3.square_feet / pred3.square_feet.mean()\n",
    "pred3['xgb'] = np.expm1(xg3)\n",
    "pred3['xgb'] *= pred3.square_feet / pred3.square_feet.mean()\n",
    "pred3"
   ]
  },
  {
   "cell_type": "code",
   "execution_count": 63,
   "metadata": {},
   "outputs": [
    {
     "data": {
      "text/html": [
       "<div>\n",
       "<style scoped>\n",
       "    .dataframe tbody tr th:only-of-type {\n",
       "        vertical-align: middle;\n",
       "    }\n",
       "\n",
       "    .dataframe tbody tr th {\n",
       "        vertical-align: top;\n",
       "    }\n",
       "\n",
       "    .dataframe thead th {\n",
       "        text-align: right;\n",
       "    }\n",
       "</style>\n",
       "<table border=\"1\" class=\"dataframe\">\n",
       "  <thead>\n",
       "    <tr style=\"text-align: right;\">\n",
       "      <th></th>\n",
       "      <th>row_id</th>\n",
       "      <th>square_feet</th>\n",
       "      <th>lasso</th>\n",
       "      <th>lgb</th>\n",
       "      <th>xgb</th>\n",
       "    </tr>\n",
       "  </thead>\n",
       "  <tbody>\n",
       "    <tr>\n",
       "      <th>0</th>\n",
       "      <td>0</td>\n",
       "      <td>7432</td>\n",
       "      <td>9.382028</td>\n",
       "      <td>20.048644</td>\n",
       "      <td>11.461633</td>\n",
       "    </tr>\n",
       "    <tr>\n",
       "      <th>1</th>\n",
       "      <td>1</td>\n",
       "      <td>2720</td>\n",
       "      <td>3.372954</td>\n",
       "      <td>6.689255</td>\n",
       "      <td>4.114137</td>\n",
       "    </tr>\n",
       "    <tr>\n",
       "      <th>2</th>\n",
       "      <td>2</td>\n",
       "      <td>5376</td>\n",
       "      <td>6.224949</td>\n",
       "      <td>0.491712</td>\n",
       "      <td>0.636924</td>\n",
       "    </tr>\n",
       "    <tr>\n",
       "      <th>3</th>\n",
       "      <td>3</td>\n",
       "      <td>23685</td>\n",
       "      <td>28.701838</td>\n",
       "      <td>16.710242</td>\n",
       "      <td>82.449435</td>\n",
       "    </tr>\n",
       "    <tr>\n",
       "      <th>4</th>\n",
       "      <td>4</td>\n",
       "      <td>116607</td>\n",
       "      <td>116.304802</td>\n",
       "      <td>47.336918</td>\n",
       "      <td>28.215942</td>\n",
       "    </tr>\n",
       "    <tr>\n",
       "      <th>...</th>\n",
       "      <td>...</td>\n",
       "      <td>...</td>\n",
       "      <td>...</td>\n",
       "      <td>...</td>\n",
       "      <td>...</td>\n",
       "    </tr>\n",
       "    <tr>\n",
       "      <th>41697595</th>\n",
       "      <td>41697595</td>\n",
       "      <td>19619</td>\n",
       "      <td>19.228044</td>\n",
       "      <td>4.630514</td>\n",
       "      <td>4.487186</td>\n",
       "    </tr>\n",
       "    <tr>\n",
       "      <th>41697596</th>\n",
       "      <td>41697596</td>\n",
       "      <td>4298</td>\n",
       "      <td>5.344204</td>\n",
       "      <td>4.587699</td>\n",
       "      <td>4.945417</td>\n",
       "    </tr>\n",
       "    <tr>\n",
       "      <th>41697597</th>\n",
       "      <td>41697597</td>\n",
       "      <td>11265</td>\n",
       "      <td>16.997993</td>\n",
       "      <td>5.917627</td>\n",
       "      <td>8.175799</td>\n",
       "    </tr>\n",
       "    <tr>\n",
       "      <th>41697598</th>\n",
       "      <td>41697598</td>\n",
       "      <td>29775</td>\n",
       "      <td>34.322148</td>\n",
       "      <td>173.465112</td>\n",
       "      <td>167.521790</td>\n",
       "    </tr>\n",
       "    <tr>\n",
       "      <th>41697599</th>\n",
       "      <td>41697599</td>\n",
       "      <td>92271</td>\n",
       "      <td>134.646749</td>\n",
       "      <td>4.286936</td>\n",
       "      <td>3.830511</td>\n",
       "    </tr>\n",
       "  </tbody>\n",
       "</table>\n",
       "<p>41697600 rows × 5 columns</p>\n",
       "</div>"
      ],
      "text/plain": [
       "            row_id  square_feet       lasso         lgb         xgb\n",
       "0                0         7432    9.382028   20.048644   11.461633\n",
       "1                1         2720    3.372954    6.689255    4.114137\n",
       "2                2         5376    6.224949    0.491712    0.636924\n",
       "3                3        23685   28.701838   16.710242   82.449435\n",
       "4                4       116607  116.304802   47.336918   28.215942\n",
       "...            ...          ...         ...         ...         ...\n",
       "41697595  41697595        19619   19.228044    4.630514    4.487186\n",
       "41697596  41697596         4298    5.344204    4.587699    4.945417\n",
       "41697597  41697597        11265   16.997993    5.917627    8.175799\n",
       "41697598  41697598        29775   34.322148  173.465112  167.521790\n",
       "41697599  41697599        92271  134.646749    4.286936    3.830511\n",
       "\n",
       "[41697600 rows x 5 columns]"
      ]
     },
     "execution_count": 63,
     "metadata": {},
     "output_type": "execute_result"
    }
   ],
   "source": [
    "# Log-transformed predictions\n",
    "pred = pd.concat([pred0, pred1, pred2, pred3]).sort_index()\n",
    "pred.reset_index(inplace=True)\n",
    "pred.columns = ['row_id', 'square_feet', 'lasso', 'lgb', 'xgb']\n",
    "pred"
   ]
  },
  {
   "cell_type": "code",
   "execution_count": 64,
   "metadata": {},
   "outputs": [
    {
     "data": {
      "text/plain": [
       "22"
      ]
     },
     "execution_count": 64,
     "metadata": {},
     "output_type": "execute_result"
    }
   ],
   "source": [
    "del pred0, pred1, pred2, pred3\n",
    "gc.collect()"
   ]
  },
  {
   "cell_type": "code",
   "execution_count": null,
   "metadata": {},
   "outputs": [],
   "source": []
  },
  {
   "cell_type": "markdown",
   "metadata": {},
   "source": [
    "# Convert units for site 0"
   ]
  },
  {
   "cell_type": "code",
   "execution_count": 65,
   "metadata": {},
   "outputs": [
    {
     "data": {
      "text/html": [
       "<div>\n",
       "<style scoped>\n",
       "    .dataframe tbody tr th:only-of-type {\n",
       "        vertical-align: middle;\n",
       "    }\n",
       "\n",
       "    .dataframe tbody tr th {\n",
       "        vertical-align: top;\n",
       "    }\n",
       "\n",
       "    .dataframe thead th {\n",
       "        text-align: right;\n",
       "    }\n",
       "</style>\n",
       "<table border=\"1\" class=\"dataframe\">\n",
       "  <thead>\n",
       "    <tr style=\"text-align: right;\">\n",
       "      <th></th>\n",
       "      <th>row_id</th>\n",
       "      <th>site_id</th>\n",
       "      <th>meter</th>\n",
       "      <th>square_feet</th>\n",
       "      <th>lasso</th>\n",
       "      <th>lgb</th>\n",
       "      <th>xgb</th>\n",
       "    </tr>\n",
       "  </thead>\n",
       "  <tbody>\n",
       "    <tr>\n",
       "      <th>0</th>\n",
       "      <td>0</td>\n",
       "      <td>0</td>\n",
       "      <td>0</td>\n",
       "      <td>7432</td>\n",
       "      <td>9.382028</td>\n",
       "      <td>20.048644</td>\n",
       "      <td>11.461633</td>\n",
       "    </tr>\n",
       "    <tr>\n",
       "      <th>1</th>\n",
       "      <td>1</td>\n",
       "      <td>0</td>\n",
       "      <td>0</td>\n",
       "      <td>2720</td>\n",
       "      <td>3.372954</td>\n",
       "      <td>6.689255</td>\n",
       "      <td>4.114137</td>\n",
       "    </tr>\n",
       "    <tr>\n",
       "      <th>2</th>\n",
       "      <td>2</td>\n",
       "      <td>0</td>\n",
       "      <td>0</td>\n",
       "      <td>5376</td>\n",
       "      <td>6.224949</td>\n",
       "      <td>0.491712</td>\n",
       "      <td>0.636924</td>\n",
       "    </tr>\n",
       "    <tr>\n",
       "      <th>3</th>\n",
       "      <td>3</td>\n",
       "      <td>0</td>\n",
       "      <td>0</td>\n",
       "      <td>23685</td>\n",
       "      <td>28.701838</td>\n",
       "      <td>16.710242</td>\n",
       "      <td>82.449435</td>\n",
       "    </tr>\n",
       "    <tr>\n",
       "      <th>4</th>\n",
       "      <td>4</td>\n",
       "      <td>0</td>\n",
       "      <td>0</td>\n",
       "      <td>116607</td>\n",
       "      <td>116.304802</td>\n",
       "      <td>47.336918</td>\n",
       "      <td>28.215942</td>\n",
       "    </tr>\n",
       "    <tr>\n",
       "      <th>...</th>\n",
       "      <td>...</td>\n",
       "      <td>...</td>\n",
       "      <td>...</td>\n",
       "      <td>...</td>\n",
       "      <td>...</td>\n",
       "      <td>...</td>\n",
       "      <td>...</td>\n",
       "    </tr>\n",
       "    <tr>\n",
       "      <th>41697595</th>\n",
       "      <td>41697595</td>\n",
       "      <td>15</td>\n",
       "      <td>0</td>\n",
       "      <td>19619</td>\n",
       "      <td>19.228044</td>\n",
       "      <td>4.630514</td>\n",
       "      <td>4.487186</td>\n",
       "    </tr>\n",
       "    <tr>\n",
       "      <th>41697596</th>\n",
       "      <td>41697596</td>\n",
       "      <td>15</td>\n",
       "      <td>0</td>\n",
       "      <td>4298</td>\n",
       "      <td>5.344204</td>\n",
       "      <td>4.587699</td>\n",
       "      <td>4.945417</td>\n",
       "    </tr>\n",
       "    <tr>\n",
       "      <th>41697597</th>\n",
       "      <td>41697597</td>\n",
       "      <td>15</td>\n",
       "      <td>0</td>\n",
       "      <td>11265</td>\n",
       "      <td>16.997993</td>\n",
       "      <td>5.917627</td>\n",
       "      <td>8.175799</td>\n",
       "    </tr>\n",
       "    <tr>\n",
       "      <th>41697598</th>\n",
       "      <td>41697598</td>\n",
       "      <td>15</td>\n",
       "      <td>0</td>\n",
       "      <td>29775</td>\n",
       "      <td>34.322148</td>\n",
       "      <td>173.465112</td>\n",
       "      <td>167.521790</td>\n",
       "    </tr>\n",
       "    <tr>\n",
       "      <th>41697599</th>\n",
       "      <td>41697599</td>\n",
       "      <td>15</td>\n",
       "      <td>0</td>\n",
       "      <td>92271</td>\n",
       "      <td>134.646749</td>\n",
       "      <td>4.286936</td>\n",
       "      <td>3.830511</td>\n",
       "    </tr>\n",
       "  </tbody>\n",
       "</table>\n",
       "<p>41697600 rows × 7 columns</p>\n",
       "</div>"
      ],
      "text/plain": [
       "            row_id  site_id  meter  square_feet       lasso         lgb  \\\n",
       "0                0        0      0         7432    9.382028   20.048644   \n",
       "1                1        0      0         2720    3.372954    6.689255   \n",
       "2                2        0      0         5376    6.224949    0.491712   \n",
       "3                3        0      0        23685   28.701838   16.710242   \n",
       "4                4        0      0       116607  116.304802   47.336918   \n",
       "...            ...      ...    ...          ...         ...         ...   \n",
       "41697595  41697595       15      0        19619   19.228044    4.630514   \n",
       "41697596  41697596       15      0         4298    5.344204    4.587699   \n",
       "41697597  41697597       15      0        11265   16.997993    5.917627   \n",
       "41697598  41697598       15      0        29775   34.322148  173.465112   \n",
       "41697599  41697599       15      0        92271  134.646749    4.286936   \n",
       "\n",
       "                 xgb  \n",
       "0          11.461633  \n",
       "1           4.114137  \n",
       "2           0.636924  \n",
       "3          82.449435  \n",
       "4          28.215942  \n",
       "...              ...  \n",
       "41697595    4.487186  \n",
       "41697596    4.945417  \n",
       "41697597    8.175799  \n",
       "41697598  167.521790  \n",
       "41697599    3.830511  \n",
       "\n",
       "[41697600 rows x 7 columns]"
      ]
     },
     "execution_count": 65,
     "metadata": {},
     "output_type": "execute_result"
    }
   ],
   "source": [
    "pred = pd.merge(mb[['row_id', 'site_id', 'meter']], pred, on='row_id', how='left')\n",
    "pred"
   ]
  },
  {
   "cell_type": "code",
   "execution_count": 66,
   "metadata": {},
   "outputs": [
    {
     "data": {
      "text/html": [
       "<div>\n",
       "<style scoped>\n",
       "    .dataframe tbody tr th:only-of-type {\n",
       "        vertical-align: middle;\n",
       "    }\n",
       "\n",
       "    .dataframe tbody tr th {\n",
       "        vertical-align: top;\n",
       "    }\n",
       "\n",
       "    .dataframe thead th {\n",
       "        text-align: right;\n",
       "    }\n",
       "</style>\n",
       "<table border=\"1\" class=\"dataframe\">\n",
       "  <thead>\n",
       "    <tr style=\"text-align: right;\">\n",
       "      <th></th>\n",
       "      <th>row_id</th>\n",
       "      <th>site_id</th>\n",
       "      <th>meter</th>\n",
       "      <th>square_feet</th>\n",
       "      <th>lasso</th>\n",
       "      <th>lgb</th>\n",
       "      <th>xgb</th>\n",
       "    </tr>\n",
       "  </thead>\n",
       "  <tbody>\n",
       "    <tr>\n",
       "      <th>0</th>\n",
       "      <td>0</td>\n",
       "      <td>0</td>\n",
       "      <td>0</td>\n",
       "      <td>7432</td>\n",
       "      <td>9.382028</td>\n",
       "      <td>20.048644</td>\n",
       "      <td>11.461633</td>\n",
       "    </tr>\n",
       "    <tr>\n",
       "      <th>1</th>\n",
       "      <td>1</td>\n",
       "      <td>0</td>\n",
       "      <td>0</td>\n",
       "      <td>2720</td>\n",
       "      <td>3.372954</td>\n",
       "      <td>6.689255</td>\n",
       "      <td>4.114137</td>\n",
       "    </tr>\n",
       "    <tr>\n",
       "      <th>2</th>\n",
       "      <td>2</td>\n",
       "      <td>0</td>\n",
       "      <td>0</td>\n",
       "      <td>5376</td>\n",
       "      <td>6.224949</td>\n",
       "      <td>0.491712</td>\n",
       "      <td>0.636924</td>\n",
       "    </tr>\n",
       "    <tr>\n",
       "      <th>3</th>\n",
       "      <td>3</td>\n",
       "      <td>0</td>\n",
       "      <td>0</td>\n",
       "      <td>23685</td>\n",
       "      <td>28.701838</td>\n",
       "      <td>16.710242</td>\n",
       "      <td>82.449435</td>\n",
       "    </tr>\n",
       "    <tr>\n",
       "      <th>4</th>\n",
       "      <td>4</td>\n",
       "      <td>0</td>\n",
       "      <td>0</td>\n",
       "      <td>116607</td>\n",
       "      <td>116.304802</td>\n",
       "      <td>47.336918</td>\n",
       "      <td>28.215942</td>\n",
       "    </tr>\n",
       "  </tbody>\n",
       "</table>\n",
       "</div>"
      ],
      "text/plain": [
       "   row_id  site_id  meter  square_feet       lasso        lgb        xgb\n",
       "0       0        0      0         7432    9.382028  20.048644  11.461633\n",
       "1       1        0      0         2720    3.372954   6.689255   4.114137\n",
       "2       2        0      0         5376    6.224949   0.491712   0.636924\n",
       "3       3        0      0        23685   28.701838  16.710242  82.449435\n",
       "4       4        0      0       116607  116.304802  47.336918  28.215942"
      ]
     },
     "execution_count": 66,
     "metadata": {},
     "output_type": "execute_result"
    }
   ],
   "source": [
    "# Site 0 meter 0 predictions in kWh\n",
    "pred[(pred.site_id == 0) & (pred.meter == 0)].head()"
   ]
  },
  {
   "cell_type": "code",
   "execution_count": 67,
   "metadata": {},
   "outputs": [
    {
     "data": {
      "text/html": [
       "<div>\n",
       "<style scoped>\n",
       "    .dataframe tbody tr th:only-of-type {\n",
       "        vertical-align: middle;\n",
       "    }\n",
       "\n",
       "    .dataframe tbody tr th {\n",
       "        vertical-align: top;\n",
       "    }\n",
       "\n",
       "    .dataframe thead th {\n",
       "        text-align: right;\n",
       "    }\n",
       "</style>\n",
       "<table border=\"1\" class=\"dataframe\">\n",
       "  <thead>\n",
       "    <tr style=\"text-align: right;\">\n",
       "      <th></th>\n",
       "      <th>row_id</th>\n",
       "      <th>site_id</th>\n",
       "      <th>meter</th>\n",
       "      <th>square_feet</th>\n",
       "      <th>lasso</th>\n",
       "      <th>lgb</th>\n",
       "      <th>xgb</th>\n",
       "    </tr>\n",
       "  </thead>\n",
       "  <tbody>\n",
       "    <tr>\n",
       "      <th>0</th>\n",
       "      <td>0</td>\n",
       "      <td>0</td>\n",
       "      <td>0</td>\n",
       "      <td>7432</td>\n",
       "      <td>32.009602</td>\n",
       "      <td>68.401963</td>\n",
       "      <td>39.104798</td>\n",
       "    </tr>\n",
       "    <tr>\n",
       "      <th>1</th>\n",
       "      <td>1</td>\n",
       "      <td>0</td>\n",
       "      <td>0</td>\n",
       "      <td>2720</td>\n",
       "      <td>11.507845</td>\n",
       "      <td>22.822399</td>\n",
       "      <td>14.036612</td>\n",
       "    </tr>\n",
       "    <tr>\n",
       "      <th>2</th>\n",
       "      <td>2</td>\n",
       "      <td>0</td>\n",
       "      <td>0</td>\n",
       "      <td>5376</td>\n",
       "      <td>21.238281</td>\n",
       "      <td>1.677622</td>\n",
       "      <td>2.173058</td>\n",
       "    </tr>\n",
       "    <tr>\n",
       "      <th>3</th>\n",
       "      <td>3</td>\n",
       "      <td>0</td>\n",
       "      <td>0</td>\n",
       "      <td>23685</td>\n",
       "      <td>97.924931</td>\n",
       "      <td>57.012002</td>\n",
       "      <td>281.300981</td>\n",
       "    </tr>\n",
       "    <tr>\n",
       "      <th>4</th>\n",
       "      <td>4</td>\n",
       "      <td>0</td>\n",
       "      <td>0</td>\n",
       "      <td>116607</td>\n",
       "      <td>396.808724</td>\n",
       "      <td>161.504098</td>\n",
       "      <td>96.267152</td>\n",
       "    </tr>\n",
       "  </tbody>\n",
       "</table>\n",
       "</div>"
      ],
      "text/plain": [
       "   row_id  site_id  meter  square_feet       lasso         lgb         xgb\n",
       "0       0        0      0         7432   32.009602   68.401963   39.104798\n",
       "1       1        0      0         2720   11.507845   22.822399   14.036612\n",
       "2       2        0      0         5376   21.238281    1.677622    2.173058\n",
       "3       3        0      0        23685   97.924931   57.012002  281.300981\n",
       "4       4        0      0       116607  396.808724  161.504098   96.267152"
      ]
     },
     "execution_count": 67,
     "metadata": {},
     "output_type": "execute_result"
    }
   ],
   "source": [
    "# Convert from kWh back to kBTU\n",
    "pred = udf.convert_readings(pred, site_num=0, meter_type=0, conversion='kwh_to_kbtu', reading_col='lasso')\n",
    "pred = udf.convert_readings(pred, site_num=0, meter_type=0, conversion='kwh_to_kbtu', reading_col='lgb')\n",
    "pred = udf.convert_readings(pred, site_num=0, meter_type=0, conversion='kwh_to_kbtu', reading_col='xgb')\n",
    "pred[(pred.site_id == 0) & (pred.meter == 0)].head()"
   ]
  },
  {
   "cell_type": "code",
   "execution_count": 68,
   "metadata": {},
   "outputs": [
    {
     "data": {
      "text/html": [
       "<div>\n",
       "<style scoped>\n",
       "    .dataframe tbody tr th:only-of-type {\n",
       "        vertical-align: middle;\n",
       "    }\n",
       "\n",
       "    .dataframe tbody tr th {\n",
       "        vertical-align: top;\n",
       "    }\n",
       "\n",
       "    .dataframe thead th {\n",
       "        text-align: right;\n",
       "    }\n",
       "</style>\n",
       "<table border=\"1\" class=\"dataframe\">\n",
       "  <thead>\n",
       "    <tr style=\"text-align: right;\">\n",
       "      <th></th>\n",
       "      <th>row_id</th>\n",
       "      <th>site_id</th>\n",
       "      <th>meter</th>\n",
       "      <th>square_feet</th>\n",
       "      <th>lasso</th>\n",
       "      <th>lgb</th>\n",
       "      <th>xgb</th>\n",
       "    </tr>\n",
       "  </thead>\n",
       "  <tbody>\n",
       "    <tr>\n",
       "      <th>8</th>\n",
       "      <td>8</td>\n",
       "      <td>0</td>\n",
       "      <td>1</td>\n",
       "      <td>121074</td>\n",
       "      <td>92.411665</td>\n",
       "      <td>42.469893</td>\n",
       "      <td>44.494363</td>\n",
       "    </tr>\n",
       "    <tr>\n",
       "      <th>11</th>\n",
       "      <td>11</td>\n",
       "      <td>0</td>\n",
       "      <td>1</td>\n",
       "      <td>27000</td>\n",
       "      <td>16.628464</td>\n",
       "      <td>1.381373</td>\n",
       "      <td>1.952626</td>\n",
       "    </tr>\n",
       "    <tr>\n",
       "      <th>16</th>\n",
       "      <td>16</td>\n",
       "      <td>0</td>\n",
       "      <td>1</td>\n",
       "      <td>99380</td>\n",
       "      <td>83.364123</td>\n",
       "      <td>10.096410</td>\n",
       "      <td>10.475862</td>\n",
       "    </tr>\n",
       "    <tr>\n",
       "      <th>18</th>\n",
       "      <td>18</td>\n",
       "      <td>0</td>\n",
       "      <td>1</td>\n",
       "      <td>86250</td>\n",
       "      <td>79.850964</td>\n",
       "      <td>19.296033</td>\n",
       "      <td>32.697189</td>\n",
       "    </tr>\n",
       "    <tr>\n",
       "      <th>20</th>\n",
       "      <td>20</td>\n",
       "      <td>0</td>\n",
       "      <td>1</td>\n",
       "      <td>83957</td>\n",
       "      <td>38.879887</td>\n",
       "      <td>8.842488</td>\n",
       "      <td>15.918096</td>\n",
       "    </tr>\n",
       "  </tbody>\n",
       "</table>\n",
       "</div>"
      ],
      "text/plain": [
       "    row_id  site_id  meter  square_feet      lasso        lgb        xgb\n",
       "8        8        0      1       121074  92.411665  42.469893  44.494363\n",
       "11      11        0      1        27000  16.628464   1.381373   1.952626\n",
       "16      16        0      1        99380  83.364123  10.096410  10.475862\n",
       "18      18        0      1        86250  79.850964  19.296033  32.697189\n",
       "20      20        0      1        83957  38.879887   8.842488  15.918096"
      ]
     },
     "execution_count": 68,
     "metadata": {},
     "output_type": "execute_result"
    }
   ],
   "source": [
    "# Site 0 meter 1 predictions in tons\n",
    "pred[(pred.site_id == 0) & (pred.meter == 1)].head()"
   ]
  },
  {
   "cell_type": "code",
   "execution_count": 69,
   "metadata": {},
   "outputs": [
    {
     "data": {
      "text/html": [
       "<div>\n",
       "<style scoped>\n",
       "    .dataframe tbody tr th:only-of-type {\n",
       "        vertical-align: middle;\n",
       "    }\n",
       "\n",
       "    .dataframe tbody tr th {\n",
       "        vertical-align: top;\n",
       "    }\n",
       "\n",
       "    .dataframe thead th {\n",
       "        text-align: right;\n",
       "    }\n",
       "</style>\n",
       "<table border=\"1\" class=\"dataframe\">\n",
       "  <thead>\n",
       "    <tr style=\"text-align: right;\">\n",
       "      <th></th>\n",
       "      <th>row_id</th>\n",
       "      <th>site_id</th>\n",
       "      <th>meter</th>\n",
       "      <th>square_feet</th>\n",
       "      <th>lasso</th>\n",
       "      <th>lgb</th>\n",
       "      <th>xgb</th>\n",
       "    </tr>\n",
       "  </thead>\n",
       "  <tbody>\n",
       "    <tr>\n",
       "      <th>8</th>\n",
       "      <td>8</td>\n",
       "      <td>0</td>\n",
       "      <td>1</td>\n",
       "      <td>121074</td>\n",
       "      <td>1108.939986</td>\n",
       "      <td>509.638714</td>\n",
       "      <td>533.932354</td>\n",
       "    </tr>\n",
       "    <tr>\n",
       "      <th>11</th>\n",
       "      <td>11</td>\n",
       "      <td>0</td>\n",
       "      <td>1</td>\n",
       "      <td>27000</td>\n",
       "      <td>199.541563</td>\n",
       "      <td>16.576479</td>\n",
       "      <td>23.431512</td>\n",
       "    </tr>\n",
       "    <tr>\n",
       "      <th>16</th>\n",
       "      <td>16</td>\n",
       "      <td>0</td>\n",
       "      <td>1</td>\n",
       "      <td>99380</td>\n",
       "      <td>1000.369471</td>\n",
       "      <td>121.156918</td>\n",
       "      <td>125.710347</td>\n",
       "    </tr>\n",
       "    <tr>\n",
       "      <th>18</th>\n",
       "      <td>18</td>\n",
       "      <td>0</td>\n",
       "      <td>1</td>\n",
       "      <td>86250</td>\n",
       "      <td>958.211573</td>\n",
       "      <td>231.552400</td>\n",
       "      <td>392.366273</td>\n",
       "    </tr>\n",
       "    <tr>\n",
       "      <th>20</th>\n",
       "      <td>20</td>\n",
       "      <td>0</td>\n",
       "      <td>1</td>\n",
       "      <td>83957</td>\n",
       "      <td>466.558648</td>\n",
       "      <td>106.109851</td>\n",
       "      <td>191.017154</td>\n",
       "    </tr>\n",
       "  </tbody>\n",
       "</table>\n",
       "</div>"
      ],
      "text/plain": [
       "    row_id  site_id  meter  square_feet        lasso         lgb         xgb\n",
       "8        8        0      1       121074  1108.939986  509.638714  533.932354\n",
       "11      11        0      1        27000   199.541563   16.576479   23.431512\n",
       "16      16        0      1        99380  1000.369471  121.156918  125.710347\n",
       "18      18        0      1        86250   958.211573  231.552400  392.366273\n",
       "20      20        0      1        83957   466.558648  106.109851  191.017154"
      ]
     },
     "execution_count": 69,
     "metadata": {},
     "output_type": "execute_result"
    }
   ],
   "source": [
    "# Convert from kWh back to kBTU\n",
    "pred = udf.convert_readings(pred, site_num=0, meter_type=1, conversion='ton_to_kbtu', reading_col='lasso')\n",
    "pred = udf.convert_readings(pred, site_num=0, meter_type=1, conversion='ton_to_kbtu', reading_col='lgb')\n",
    "pred = udf.convert_readings(pred, site_num=0, meter_type=1, conversion='ton_to_kbtu', reading_col='xgb')\n",
    "pred[(pred.site_id == 0) & (pred.meter == 1)].head()"
   ]
  },
  {
   "cell_type": "code",
   "execution_count": 70,
   "metadata": {},
   "outputs": [
    {
     "data": {
      "text/plain": [
       "66"
      ]
     },
     "execution_count": 70,
     "metadata": {},
     "output_type": "execute_result"
    }
   ],
   "source": [
    "del mb\n",
    "gc.collect()"
   ]
  },
  {
   "cell_type": "code",
   "execution_count": null,
   "metadata": {},
   "outputs": [],
   "source": []
  },
  {
   "cell_type": "code",
   "execution_count": null,
   "metadata": {},
   "outputs": [],
   "source": []
  },
  {
   "cell_type": "markdown",
   "metadata": {},
   "source": [
    "# Save Predictions"
   ]
  },
  {
   "cell_type": "code",
   "execution_count": 71,
   "metadata": {},
   "outputs": [
    {
     "data": {
      "text/html": [
       "<div>\n",
       "<style scoped>\n",
       "    .dataframe tbody tr th:only-of-type {\n",
       "        vertical-align: middle;\n",
       "    }\n",
       "\n",
       "    .dataframe tbody tr th {\n",
       "        vertical-align: top;\n",
       "    }\n",
       "\n",
       "    .dataframe thead th {\n",
       "        text-align: right;\n",
       "    }\n",
       "</style>\n",
       "<table border=\"1\" class=\"dataframe\">\n",
       "  <thead>\n",
       "    <tr style=\"text-align: right;\">\n",
       "      <th></th>\n",
       "      <th>row_id</th>\n",
       "      <th>site_id</th>\n",
       "      <th>meter</th>\n",
       "      <th>square_feet</th>\n",
       "      <th>lasso</th>\n",
       "      <th>lgb</th>\n",
       "      <th>xgb</th>\n",
       "    </tr>\n",
       "  </thead>\n",
       "  <tbody>\n",
       "    <tr>\n",
       "      <th>count</th>\n",
       "      <td>4.169760e+07</td>\n",
       "      <td>4.169760e+07</td>\n",
       "      <td>4.169760e+07</td>\n",
       "      <td>4.169760e+07</td>\n",
       "      <td>4.169760e+07</td>\n",
       "      <td>4.169760e+07</td>\n",
       "      <td>4.169760e+07</td>\n",
       "    </tr>\n",
       "    <tr>\n",
       "      <th>mean</th>\n",
       "      <td>2.084880e+07</td>\n",
       "      <td>8.086134e+00</td>\n",
       "      <td>6.642857e-01</td>\n",
       "      <td>1.069469e+05</td>\n",
       "      <td>2.387171e+02</td>\n",
       "      <td>3.677271e+02</td>\n",
       "      <td>3.554064e+02</td>\n",
       "    </tr>\n",
       "    <tr>\n",
       "      <th>std</th>\n",
       "      <td>1.203706e+07</td>\n",
       "      <td>5.134712e+00</td>\n",
       "      <td>9.278067e-01</td>\n",
       "      <td>1.160888e+05</td>\n",
       "      <td>4.905532e+02</td>\n",
       "      <td>9.727223e+02</td>\n",
       "      <td>9.110929e+02</td>\n",
       "    </tr>\n",
       "    <tr>\n",
       "      <th>min</th>\n",
       "      <td>0.000000e+00</td>\n",
       "      <td>0.000000e+00</td>\n",
       "      <td>0.000000e+00</td>\n",
       "      <td>2.830000e+02</td>\n",
       "      <td>2.764560e-01</td>\n",
       "      <td>0.000000e+00</td>\n",
       "      <td>0.000000e+00</td>\n",
       "    </tr>\n",
       "    <tr>\n",
       "      <th>25%</th>\n",
       "      <td>1.042440e+07</td>\n",
       "      <td>3.000000e+00</td>\n",
       "      <td>0.000000e+00</td>\n",
       "      <td>3.224350e+04</td>\n",
       "      <td>3.701764e+01</td>\n",
       "      <td>2.648944e+01</td>\n",
       "      <td>2.581430e+01</td>\n",
       "    </tr>\n",
       "    <tr>\n",
       "      <th>50%</th>\n",
       "      <td>2.084880e+07</td>\n",
       "      <td>9.000000e+00</td>\n",
       "      <td>0.000000e+00</td>\n",
       "      <td>7.226250e+04</td>\n",
       "      <td>9.626574e+01</td>\n",
       "      <td>8.887800e+01</td>\n",
       "      <td>8.699768e+01</td>\n",
       "    </tr>\n",
       "    <tr>\n",
       "      <th>75%</th>\n",
       "      <td>3.127320e+07</td>\n",
       "      <td>1.300000e+01</td>\n",
       "      <td>1.000000e+00</td>\n",
       "      <td>1.383875e+05</td>\n",
       "      <td>2.296128e+02</td>\n",
       "      <td>2.823438e+02</td>\n",
       "      <td>2.778020e+02</td>\n",
       "    </tr>\n",
       "    <tr>\n",
       "      <th>max</th>\n",
       "      <td>4.169760e+07</td>\n",
       "      <td>1.500000e+01</td>\n",
       "      <td>3.000000e+00</td>\n",
       "      <td>8.750000e+05</td>\n",
       "      <td>2.087035e+04</td>\n",
       "      <td>2.944920e+04</td>\n",
       "      <td>2.278472e+04</td>\n",
       "    </tr>\n",
       "  </tbody>\n",
       "</table>\n",
       "</div>"
      ],
      "text/plain": [
       "             row_id       site_id         meter   square_feet         lasso  \\\n",
       "count  4.169760e+07  4.169760e+07  4.169760e+07  4.169760e+07  4.169760e+07   \n",
       "mean   2.084880e+07  8.086134e+00  6.642857e-01  1.069469e+05  2.387171e+02   \n",
       "std    1.203706e+07  5.134712e+00  9.278067e-01  1.160888e+05  4.905532e+02   \n",
       "min    0.000000e+00  0.000000e+00  0.000000e+00  2.830000e+02  2.764560e-01   \n",
       "25%    1.042440e+07  3.000000e+00  0.000000e+00  3.224350e+04  3.701764e+01   \n",
       "50%    2.084880e+07  9.000000e+00  0.000000e+00  7.226250e+04  9.626574e+01   \n",
       "75%    3.127320e+07  1.300000e+01  1.000000e+00  1.383875e+05  2.296128e+02   \n",
       "max    4.169760e+07  1.500000e+01  3.000000e+00  8.750000e+05  2.087035e+04   \n",
       "\n",
       "                lgb           xgb  \n",
       "count  4.169760e+07  4.169760e+07  \n",
       "mean   3.677271e+02  3.554064e+02  \n",
       "std    9.727223e+02  9.110929e+02  \n",
       "min    0.000000e+00  0.000000e+00  \n",
       "25%    2.648944e+01  2.581430e+01  \n",
       "50%    8.887800e+01  8.699768e+01  \n",
       "75%    2.823438e+02  2.778020e+02  \n",
       "max    2.944920e+04  2.278472e+04  "
      ]
     },
     "execution_count": 71,
     "metadata": {},
     "output_type": "execute_result"
    }
   ],
   "source": [
    "pred.describe()"
   ]
  },
  {
   "cell_type": "code",
   "execution_count": 72,
   "metadata": {},
   "outputs": [
    {
     "data": {
      "text/html": [
       "<div>\n",
       "<style scoped>\n",
       "    .dataframe tbody tr th:only-of-type {\n",
       "        vertical-align: middle;\n",
       "    }\n",
       "\n",
       "    .dataframe tbody tr th {\n",
       "        vertical-align: top;\n",
       "    }\n",
       "\n",
       "    .dataframe thead th {\n",
       "        text-align: right;\n",
       "    }\n",
       "</style>\n",
       "<table border=\"1\" class=\"dataframe\">\n",
       "  <thead>\n",
       "    <tr style=\"text-align: right;\">\n",
       "      <th></th>\n",
       "      <th>row_id</th>\n",
       "      <th>site_id</th>\n",
       "      <th>meter</th>\n",
       "      <th>square_feet</th>\n",
       "      <th>lasso</th>\n",
       "      <th>lgb</th>\n",
       "      <th>xgb</th>\n",
       "    </tr>\n",
       "  </thead>\n",
       "  <tbody>\n",
       "    <tr>\n",
       "      <th>0</th>\n",
       "      <td>0</td>\n",
       "      <td>0</td>\n",
       "      <td>0</td>\n",
       "      <td>7432</td>\n",
       "      <td>32.009602</td>\n",
       "      <td>68.401963</td>\n",
       "      <td>39.104798</td>\n",
       "    </tr>\n",
       "    <tr>\n",
       "      <th>1</th>\n",
       "      <td>1</td>\n",
       "      <td>0</td>\n",
       "      <td>0</td>\n",
       "      <td>2720</td>\n",
       "      <td>11.507845</td>\n",
       "      <td>22.822399</td>\n",
       "      <td>14.036612</td>\n",
       "    </tr>\n",
       "    <tr>\n",
       "      <th>2</th>\n",
       "      <td>2</td>\n",
       "      <td>0</td>\n",
       "      <td>0</td>\n",
       "      <td>5376</td>\n",
       "      <td>21.238281</td>\n",
       "      <td>1.677622</td>\n",
       "      <td>2.173058</td>\n",
       "    </tr>\n",
       "    <tr>\n",
       "      <th>3</th>\n",
       "      <td>3</td>\n",
       "      <td>0</td>\n",
       "      <td>0</td>\n",
       "      <td>23685</td>\n",
       "      <td>97.924931</td>\n",
       "      <td>57.012002</td>\n",
       "      <td>281.300981</td>\n",
       "    </tr>\n",
       "    <tr>\n",
       "      <th>4</th>\n",
       "      <td>4</td>\n",
       "      <td>0</td>\n",
       "      <td>0</td>\n",
       "      <td>116607</td>\n",
       "      <td>396.808724</td>\n",
       "      <td>161.504098</td>\n",
       "      <td>96.267152</td>\n",
       "    </tr>\n",
       "    <tr>\n",
       "      <th>...</th>\n",
       "      <td>...</td>\n",
       "      <td>...</td>\n",
       "      <td>...</td>\n",
       "      <td>...</td>\n",
       "      <td>...</td>\n",
       "      <td>...</td>\n",
       "      <td>...</td>\n",
       "    </tr>\n",
       "    <tr>\n",
       "      <th>41697595</th>\n",
       "      <td>41697595</td>\n",
       "      <td>15</td>\n",
       "      <td>0</td>\n",
       "      <td>19619</td>\n",
       "      <td>19.228044</td>\n",
       "      <td>4.630514</td>\n",
       "      <td>4.487186</td>\n",
       "    </tr>\n",
       "    <tr>\n",
       "      <th>41697596</th>\n",
       "      <td>41697596</td>\n",
       "      <td>15</td>\n",
       "      <td>0</td>\n",
       "      <td>4298</td>\n",
       "      <td>5.344204</td>\n",
       "      <td>4.587699</td>\n",
       "      <td>4.945417</td>\n",
       "    </tr>\n",
       "    <tr>\n",
       "      <th>41697597</th>\n",
       "      <td>41697597</td>\n",
       "      <td>15</td>\n",
       "      <td>0</td>\n",
       "      <td>11265</td>\n",
       "      <td>16.997993</td>\n",
       "      <td>5.917627</td>\n",
       "      <td>8.175799</td>\n",
       "    </tr>\n",
       "    <tr>\n",
       "      <th>41697598</th>\n",
       "      <td>41697598</td>\n",
       "      <td>15</td>\n",
       "      <td>0</td>\n",
       "      <td>29775</td>\n",
       "      <td>34.322148</td>\n",
       "      <td>173.465112</td>\n",
       "      <td>167.521790</td>\n",
       "    </tr>\n",
       "    <tr>\n",
       "      <th>41697599</th>\n",
       "      <td>41697599</td>\n",
       "      <td>15</td>\n",
       "      <td>0</td>\n",
       "      <td>92271</td>\n",
       "      <td>134.646749</td>\n",
       "      <td>4.286936</td>\n",
       "      <td>3.830511</td>\n",
       "    </tr>\n",
       "  </tbody>\n",
       "</table>\n",
       "<p>41697600 rows × 7 columns</p>\n",
       "</div>"
      ],
      "text/plain": [
       "            row_id  site_id  meter  square_feet       lasso         lgb  \\\n",
       "0                0        0      0         7432   32.009602   68.401963   \n",
       "1                1        0      0         2720   11.507845   22.822399   \n",
       "2                2        0      0         5376   21.238281    1.677622   \n",
       "3                3        0      0        23685   97.924931   57.012002   \n",
       "4                4        0      0       116607  396.808724  161.504098   \n",
       "...            ...      ...    ...          ...         ...         ...   \n",
       "41697595  41697595       15      0        19619   19.228044    4.630514   \n",
       "41697596  41697596       15      0         4298    5.344204    4.587699   \n",
       "41697597  41697597       15      0        11265   16.997993    5.917627   \n",
       "41697598  41697598       15      0        29775   34.322148  173.465112   \n",
       "41697599  41697599       15      0        92271  134.646749    4.286936   \n",
       "\n",
       "                 xgb  \n",
       "0          39.104798  \n",
       "1          14.036612  \n",
       "2           2.173058  \n",
       "3         281.300981  \n",
       "4          96.267152  \n",
       "...              ...  \n",
       "41697595    4.487186  \n",
       "41697596    4.945417  \n",
       "41697597    8.175799  \n",
       "41697598  167.521790  \n",
       "41697599    3.830511  \n",
       "\n",
       "[41697600 rows x 7 columns]"
      ]
     },
     "execution_count": 72,
     "metadata": {},
     "output_type": "execute_result"
    }
   ],
   "source": [
    "path = '../submissions/sub5/'\n",
    "pred.to_pickle(f'{path}preds.pkl')\n",
    "pd.read_pickle(f'{path}preds.pkl')"
   ]
  },
  {
   "cell_type": "code",
   "execution_count": 73,
   "metadata": {},
   "outputs": [
    {
     "data": {
      "text/html": [
       "<div>\n",
       "<style scoped>\n",
       "    .dataframe tbody tr th:only-of-type {\n",
       "        vertical-align: middle;\n",
       "    }\n",
       "\n",
       "    .dataframe tbody tr th {\n",
       "        vertical-align: top;\n",
       "    }\n",
       "\n",
       "    .dataframe thead th {\n",
       "        text-align: right;\n",
       "    }\n",
       "</style>\n",
       "<table border=\"1\" class=\"dataframe\">\n",
       "  <thead>\n",
       "    <tr style=\"text-align: right;\">\n",
       "      <th></th>\n",
       "      <th>row_id</th>\n",
       "      <th>meter_reading</th>\n",
       "    </tr>\n",
       "  </thead>\n",
       "  <tbody>\n",
       "    <tr>\n",
       "      <th>0</th>\n",
       "      <td>0</td>\n",
       "      <td>0</td>\n",
       "    </tr>\n",
       "    <tr>\n",
       "      <th>1</th>\n",
       "      <td>1</td>\n",
       "      <td>0</td>\n",
       "    </tr>\n",
       "    <tr>\n",
       "      <th>2</th>\n",
       "      <td>2</td>\n",
       "      <td>0</td>\n",
       "    </tr>\n",
       "    <tr>\n",
       "      <th>3</th>\n",
       "      <td>3</td>\n",
       "      <td>0</td>\n",
       "    </tr>\n",
       "    <tr>\n",
       "      <th>4</th>\n",
       "      <td>4</td>\n",
       "      <td>0</td>\n",
       "    </tr>\n",
       "    <tr>\n",
       "      <th>...</th>\n",
       "      <td>...</td>\n",
       "      <td>...</td>\n",
       "    </tr>\n",
       "    <tr>\n",
       "      <th>41697595</th>\n",
       "      <td>41697595</td>\n",
       "      <td>0</td>\n",
       "    </tr>\n",
       "    <tr>\n",
       "      <th>41697596</th>\n",
       "      <td>41697596</td>\n",
       "      <td>0</td>\n",
       "    </tr>\n",
       "    <tr>\n",
       "      <th>41697597</th>\n",
       "      <td>41697597</td>\n",
       "      <td>0</td>\n",
       "    </tr>\n",
       "    <tr>\n",
       "      <th>41697598</th>\n",
       "      <td>41697598</td>\n",
       "      <td>0</td>\n",
       "    </tr>\n",
       "    <tr>\n",
       "      <th>41697599</th>\n",
       "      <td>41697599</td>\n",
       "      <td>0</td>\n",
       "    </tr>\n",
       "  </tbody>\n",
       "</table>\n",
       "<p>41697600 rows × 2 columns</p>\n",
       "</div>"
      ],
      "text/plain": [
       "            row_id  meter_reading\n",
       "0                0              0\n",
       "1                1              0\n",
       "2                2              0\n",
       "3                3              0\n",
       "4                4              0\n",
       "...            ...            ...\n",
       "41697595  41697595              0\n",
       "41697596  41697596              0\n",
       "41697597  41697597              0\n",
       "41697598  41697598              0\n",
       "41697599  41697599              0\n",
       "\n",
       "[41697600 rows x 2 columns]"
      ]
     },
     "execution_count": 73,
     "metadata": {},
     "output_type": "execute_result"
    }
   ],
   "source": [
    "submission"
   ]
  },
  {
   "cell_type": "code",
   "execution_count": 74,
   "metadata": {},
   "outputs": [
    {
     "data": {
      "text/html": [
       "<div>\n",
       "<style scoped>\n",
       "    .dataframe tbody tr th:only-of-type {\n",
       "        vertical-align: middle;\n",
       "    }\n",
       "\n",
       "    .dataframe tbody tr th {\n",
       "        vertical-align: top;\n",
       "    }\n",
       "\n",
       "    .dataframe thead th {\n",
       "        text-align: right;\n",
       "    }\n",
       "</style>\n",
       "<table border=\"1\" class=\"dataframe\">\n",
       "  <thead>\n",
       "    <tr style=\"text-align: right;\">\n",
       "      <th></th>\n",
       "      <th>row_id</th>\n",
       "      <th>meter_reading</th>\n",
       "    </tr>\n",
       "  </thead>\n",
       "  <tbody>\n",
       "    <tr>\n",
       "      <th>0</th>\n",
       "      <td>0</td>\n",
       "      <td>32.009602</td>\n",
       "    </tr>\n",
       "    <tr>\n",
       "      <th>1</th>\n",
       "      <td>1</td>\n",
       "      <td>11.507845</td>\n",
       "    </tr>\n",
       "    <tr>\n",
       "      <th>2</th>\n",
       "      <td>2</td>\n",
       "      <td>21.238281</td>\n",
       "    </tr>\n",
       "    <tr>\n",
       "      <th>3</th>\n",
       "      <td>3</td>\n",
       "      <td>97.924931</td>\n",
       "    </tr>\n",
       "    <tr>\n",
       "      <th>4</th>\n",
       "      <td>4</td>\n",
       "      <td>396.808724</td>\n",
       "    </tr>\n",
       "    <tr>\n",
       "      <th>...</th>\n",
       "      <td>...</td>\n",
       "      <td>...</td>\n",
       "    </tr>\n",
       "    <tr>\n",
       "      <th>41697595</th>\n",
       "      <td>41697595</td>\n",
       "      <td>19.228044</td>\n",
       "    </tr>\n",
       "    <tr>\n",
       "      <th>41697596</th>\n",
       "      <td>41697596</td>\n",
       "      <td>5.344204</td>\n",
       "    </tr>\n",
       "    <tr>\n",
       "      <th>41697597</th>\n",
       "      <td>41697597</td>\n",
       "      <td>16.997993</td>\n",
       "    </tr>\n",
       "    <tr>\n",
       "      <th>41697598</th>\n",
       "      <td>41697598</td>\n",
       "      <td>34.322148</td>\n",
       "    </tr>\n",
       "    <tr>\n",
       "      <th>41697599</th>\n",
       "      <td>41697599</td>\n",
       "      <td>134.646749</td>\n",
       "    </tr>\n",
       "  </tbody>\n",
       "</table>\n",
       "<p>41697600 rows × 2 columns</p>\n",
       "</div>"
      ],
      "text/plain": [
       "            row_id  meter_reading\n",
       "0                0      32.009602\n",
       "1                1      11.507845\n",
       "2                2      21.238281\n",
       "3                3      97.924931\n",
       "4                4     396.808724\n",
       "...            ...            ...\n",
       "41697595  41697595      19.228044\n",
       "41697596  41697596       5.344204\n",
       "41697597  41697597      16.997993\n",
       "41697598  41697598      34.322148\n",
       "41697599  41697599     134.646749\n",
       "\n",
       "[41697600 rows x 2 columns]"
      ]
     },
     "execution_count": 74,
     "metadata": {},
     "output_type": "execute_result"
    }
   ],
   "source": [
    "# Lasso predictions\n",
    "lasso_pred = submission.copy()\n",
    "lasso_pred['meter_reading'] = pred['lasso']\n",
    "lasso_pred"
   ]
  },
  {
   "cell_type": "code",
   "execution_count": 75,
   "metadata": {},
   "outputs": [
    {
     "data": {
      "text/html": [
       "<div>\n",
       "<style scoped>\n",
       "    .dataframe tbody tr th:only-of-type {\n",
       "        vertical-align: middle;\n",
       "    }\n",
       "\n",
       "    .dataframe tbody tr th {\n",
       "        vertical-align: top;\n",
       "    }\n",
       "\n",
       "    .dataframe thead th {\n",
       "        text-align: right;\n",
       "    }\n",
       "</style>\n",
       "<table border=\"1\" class=\"dataframe\">\n",
       "  <thead>\n",
       "    <tr style=\"text-align: right;\">\n",
       "      <th></th>\n",
       "      <th>row_id</th>\n",
       "      <th>meter_reading</th>\n",
       "    </tr>\n",
       "  </thead>\n",
       "  <tbody>\n",
       "    <tr>\n",
       "      <th>0</th>\n",
       "      <td>0</td>\n",
       "      <td>68.401963</td>\n",
       "    </tr>\n",
       "    <tr>\n",
       "      <th>1</th>\n",
       "      <td>1</td>\n",
       "      <td>22.822399</td>\n",
       "    </tr>\n",
       "    <tr>\n",
       "      <th>2</th>\n",
       "      <td>2</td>\n",
       "      <td>1.677622</td>\n",
       "    </tr>\n",
       "    <tr>\n",
       "      <th>3</th>\n",
       "      <td>3</td>\n",
       "      <td>57.012002</td>\n",
       "    </tr>\n",
       "    <tr>\n",
       "      <th>4</th>\n",
       "      <td>4</td>\n",
       "      <td>161.504098</td>\n",
       "    </tr>\n",
       "    <tr>\n",
       "      <th>...</th>\n",
       "      <td>...</td>\n",
       "      <td>...</td>\n",
       "    </tr>\n",
       "    <tr>\n",
       "      <th>41697595</th>\n",
       "      <td>41697595</td>\n",
       "      <td>4.630514</td>\n",
       "    </tr>\n",
       "    <tr>\n",
       "      <th>41697596</th>\n",
       "      <td>41697596</td>\n",
       "      <td>4.587699</td>\n",
       "    </tr>\n",
       "    <tr>\n",
       "      <th>41697597</th>\n",
       "      <td>41697597</td>\n",
       "      <td>5.917627</td>\n",
       "    </tr>\n",
       "    <tr>\n",
       "      <th>41697598</th>\n",
       "      <td>41697598</td>\n",
       "      <td>173.465112</td>\n",
       "    </tr>\n",
       "    <tr>\n",
       "      <th>41697599</th>\n",
       "      <td>41697599</td>\n",
       "      <td>4.286936</td>\n",
       "    </tr>\n",
       "  </tbody>\n",
       "</table>\n",
       "<p>41697600 rows × 2 columns</p>\n",
       "</div>"
      ],
      "text/plain": [
       "            row_id  meter_reading\n",
       "0                0      68.401963\n",
       "1                1      22.822399\n",
       "2                2       1.677622\n",
       "3                3      57.012002\n",
       "4                4     161.504098\n",
       "...            ...            ...\n",
       "41697595  41697595       4.630514\n",
       "41697596  41697596       4.587699\n",
       "41697597  41697597       5.917627\n",
       "41697598  41697598     173.465112\n",
       "41697599  41697599       4.286936\n",
       "\n",
       "[41697600 rows x 2 columns]"
      ]
     },
     "execution_count": 75,
     "metadata": {},
     "output_type": "execute_result"
    }
   ],
   "source": [
    "# Lasso predictions\n",
    "lgb_pred = submission.copy()\n",
    "lgb_pred['meter_reading'] = pred['lgb']\n",
    "lgb_pred"
   ]
  },
  {
   "cell_type": "code",
   "execution_count": 76,
   "metadata": {},
   "outputs": [
    {
     "data": {
      "text/html": [
       "<div>\n",
       "<style scoped>\n",
       "    .dataframe tbody tr th:only-of-type {\n",
       "        vertical-align: middle;\n",
       "    }\n",
       "\n",
       "    .dataframe tbody tr th {\n",
       "        vertical-align: top;\n",
       "    }\n",
       "\n",
       "    .dataframe thead th {\n",
       "        text-align: right;\n",
       "    }\n",
       "</style>\n",
       "<table border=\"1\" class=\"dataframe\">\n",
       "  <thead>\n",
       "    <tr style=\"text-align: right;\">\n",
       "      <th></th>\n",
       "      <th>row_id</th>\n",
       "      <th>meter_reading</th>\n",
       "    </tr>\n",
       "  </thead>\n",
       "  <tbody>\n",
       "    <tr>\n",
       "      <th>0</th>\n",
       "      <td>0</td>\n",
       "      <td>39.104798</td>\n",
       "    </tr>\n",
       "    <tr>\n",
       "      <th>1</th>\n",
       "      <td>1</td>\n",
       "      <td>14.036612</td>\n",
       "    </tr>\n",
       "    <tr>\n",
       "      <th>2</th>\n",
       "      <td>2</td>\n",
       "      <td>2.173058</td>\n",
       "    </tr>\n",
       "    <tr>\n",
       "      <th>3</th>\n",
       "      <td>3</td>\n",
       "      <td>281.300981</td>\n",
       "    </tr>\n",
       "    <tr>\n",
       "      <th>4</th>\n",
       "      <td>4</td>\n",
       "      <td>96.267152</td>\n",
       "    </tr>\n",
       "    <tr>\n",
       "      <th>...</th>\n",
       "      <td>...</td>\n",
       "      <td>...</td>\n",
       "    </tr>\n",
       "    <tr>\n",
       "      <th>41697595</th>\n",
       "      <td>41697595</td>\n",
       "      <td>4.487186</td>\n",
       "    </tr>\n",
       "    <tr>\n",
       "      <th>41697596</th>\n",
       "      <td>41697596</td>\n",
       "      <td>4.945417</td>\n",
       "    </tr>\n",
       "    <tr>\n",
       "      <th>41697597</th>\n",
       "      <td>41697597</td>\n",
       "      <td>8.175799</td>\n",
       "    </tr>\n",
       "    <tr>\n",
       "      <th>41697598</th>\n",
       "      <td>41697598</td>\n",
       "      <td>167.521790</td>\n",
       "    </tr>\n",
       "    <tr>\n",
       "      <th>41697599</th>\n",
       "      <td>41697599</td>\n",
       "      <td>3.830511</td>\n",
       "    </tr>\n",
       "  </tbody>\n",
       "</table>\n",
       "<p>41697600 rows × 2 columns</p>\n",
       "</div>"
      ],
      "text/plain": [
       "            row_id  meter_reading\n",
       "0                0      39.104798\n",
       "1                1      14.036612\n",
       "2                2       2.173058\n",
       "3                3     281.300981\n",
       "4                4      96.267152\n",
       "...            ...            ...\n",
       "41697595  41697595       4.487186\n",
       "41697596  41697596       4.945417\n",
       "41697597  41697597       8.175799\n",
       "41697598  41697598     167.521790\n",
       "41697599  41697599       3.830511\n",
       "\n",
       "[41697600 rows x 2 columns]"
      ]
     },
     "execution_count": 76,
     "metadata": {},
     "output_type": "execute_result"
    }
   ],
   "source": [
    "# Lasso predictions\n",
    "xgb_pred = submission.copy()\n",
    "xgb_pred['meter_reading'] = pred['xgb']\n",
    "xgb_pred"
   ]
  },
  {
   "cell_type": "code",
   "execution_count": 77,
   "metadata": {},
   "outputs": [
    {
     "data": {
      "text/html": [
       "<div>\n",
       "<style scoped>\n",
       "    .dataframe tbody tr th:only-of-type {\n",
       "        vertical-align: middle;\n",
       "    }\n",
       "\n",
       "    .dataframe tbody tr th {\n",
       "        vertical-align: top;\n",
       "    }\n",
       "\n",
       "    .dataframe thead th {\n",
       "        text-align: right;\n",
       "    }\n",
       "</style>\n",
       "<table border=\"1\" class=\"dataframe\">\n",
       "  <thead>\n",
       "    <tr style=\"text-align: right;\">\n",
       "      <th></th>\n",
       "      <th>row_id</th>\n",
       "      <th>meter_reading</th>\n",
       "    </tr>\n",
       "  </thead>\n",
       "  <tbody>\n",
       "    <tr>\n",
       "      <th>0</th>\n",
       "      <td>0</td>\n",
       "      <td>32.009602</td>\n",
       "    </tr>\n",
       "    <tr>\n",
       "      <th>1</th>\n",
       "      <td>1</td>\n",
       "      <td>11.507845</td>\n",
       "    </tr>\n",
       "    <tr>\n",
       "      <th>2</th>\n",
       "      <td>2</td>\n",
       "      <td>21.238281</td>\n",
       "    </tr>\n",
       "    <tr>\n",
       "      <th>3</th>\n",
       "      <td>3</td>\n",
       "      <td>97.924931</td>\n",
       "    </tr>\n",
       "    <tr>\n",
       "      <th>4</th>\n",
       "      <td>4</td>\n",
       "      <td>396.808724</td>\n",
       "    </tr>\n",
       "    <tr>\n",
       "      <th>...</th>\n",
       "      <td>...</td>\n",
       "      <td>...</td>\n",
       "    </tr>\n",
       "    <tr>\n",
       "      <th>41697595</th>\n",
       "      <td>41697595</td>\n",
       "      <td>19.228044</td>\n",
       "    </tr>\n",
       "    <tr>\n",
       "      <th>41697596</th>\n",
       "      <td>41697596</td>\n",
       "      <td>5.344204</td>\n",
       "    </tr>\n",
       "    <tr>\n",
       "      <th>41697597</th>\n",
       "      <td>41697597</td>\n",
       "      <td>16.997993</td>\n",
       "    </tr>\n",
       "    <tr>\n",
       "      <th>41697598</th>\n",
       "      <td>41697598</td>\n",
       "      <td>34.322148</td>\n",
       "    </tr>\n",
       "    <tr>\n",
       "      <th>41697599</th>\n",
       "      <td>41697599</td>\n",
       "      <td>134.646749</td>\n",
       "    </tr>\n",
       "  </tbody>\n",
       "</table>\n",
       "<p>41697600 rows × 2 columns</p>\n",
       "</div>"
      ],
      "text/plain": [
       "            row_id  meter_reading\n",
       "0                0      32.009602\n",
       "1                1      11.507845\n",
       "2                2      21.238281\n",
       "3                3      97.924931\n",
       "4                4     396.808724\n",
       "...            ...            ...\n",
       "41697595  41697595      19.228044\n",
       "41697596  41697596       5.344204\n",
       "41697597  41697597      16.997993\n",
       "41697598  41697598      34.322148\n",
       "41697599  41697599     134.646749\n",
       "\n",
       "[41697600 rows x 2 columns]"
      ]
     },
     "execution_count": 77,
     "metadata": {},
     "output_type": "execute_result"
    }
   ],
   "source": [
    "lasso_pred.to_csv(f'{path}l1r.csv', index=False)\n",
    "pd.read_csv(f'{path}l1r.csv')"
   ]
  },
  {
   "cell_type": "code",
   "execution_count": 78,
   "metadata": {},
   "outputs": [
    {
     "data": {
      "text/html": [
       "<div>\n",
       "<style scoped>\n",
       "    .dataframe tbody tr th:only-of-type {\n",
       "        vertical-align: middle;\n",
       "    }\n",
       "\n",
       "    .dataframe tbody tr th {\n",
       "        vertical-align: top;\n",
       "    }\n",
       "\n",
       "    .dataframe thead th {\n",
       "        text-align: right;\n",
       "    }\n",
       "</style>\n",
       "<table border=\"1\" class=\"dataframe\">\n",
       "  <thead>\n",
       "    <tr style=\"text-align: right;\">\n",
       "      <th></th>\n",
       "      <th>row_id</th>\n",
       "      <th>meter_reading</th>\n",
       "    </tr>\n",
       "  </thead>\n",
       "  <tbody>\n",
       "    <tr>\n",
       "      <th>0</th>\n",
       "      <td>0</td>\n",
       "      <td>68.401963</td>\n",
       "    </tr>\n",
       "    <tr>\n",
       "      <th>1</th>\n",
       "      <td>1</td>\n",
       "      <td>22.822399</td>\n",
       "    </tr>\n",
       "    <tr>\n",
       "      <th>2</th>\n",
       "      <td>2</td>\n",
       "      <td>1.677622</td>\n",
       "    </tr>\n",
       "    <tr>\n",
       "      <th>3</th>\n",
       "      <td>3</td>\n",
       "      <td>57.012002</td>\n",
       "    </tr>\n",
       "    <tr>\n",
       "      <th>4</th>\n",
       "      <td>4</td>\n",
       "      <td>161.504098</td>\n",
       "    </tr>\n",
       "    <tr>\n",
       "      <th>...</th>\n",
       "      <td>...</td>\n",
       "      <td>...</td>\n",
       "    </tr>\n",
       "    <tr>\n",
       "      <th>41697595</th>\n",
       "      <td>41697595</td>\n",
       "      <td>4.630514</td>\n",
       "    </tr>\n",
       "    <tr>\n",
       "      <th>41697596</th>\n",
       "      <td>41697596</td>\n",
       "      <td>4.587699</td>\n",
       "    </tr>\n",
       "    <tr>\n",
       "      <th>41697597</th>\n",
       "      <td>41697597</td>\n",
       "      <td>5.917627</td>\n",
       "    </tr>\n",
       "    <tr>\n",
       "      <th>41697598</th>\n",
       "      <td>41697598</td>\n",
       "      <td>173.465112</td>\n",
       "    </tr>\n",
       "    <tr>\n",
       "      <th>41697599</th>\n",
       "      <td>41697599</td>\n",
       "      <td>4.286936</td>\n",
       "    </tr>\n",
       "  </tbody>\n",
       "</table>\n",
       "<p>41697600 rows × 2 columns</p>\n",
       "</div>"
      ],
      "text/plain": [
       "            row_id  meter_reading\n",
       "0                0      68.401963\n",
       "1                1      22.822399\n",
       "2                2       1.677622\n",
       "3                3      57.012002\n",
       "4                4     161.504098\n",
       "...            ...            ...\n",
       "41697595  41697595       4.630514\n",
       "41697596  41697596       4.587699\n",
       "41697597  41697597       5.917627\n",
       "41697598  41697598     173.465112\n",
       "41697599  41697599       4.286936\n",
       "\n",
       "[41697600 rows x 2 columns]"
      ]
     },
     "execution_count": 78,
     "metadata": {},
     "output_type": "execute_result"
    }
   ],
   "source": [
    "lgb_pred.to_csv(f'{path}lgb.csv', index=False)\n",
    "pd.read_csv(f'{path}lgb.csv')"
   ]
  },
  {
   "cell_type": "code",
   "execution_count": 79,
   "metadata": {},
   "outputs": [
    {
     "data": {
      "text/html": [
       "<div>\n",
       "<style scoped>\n",
       "    .dataframe tbody tr th:only-of-type {\n",
       "        vertical-align: middle;\n",
       "    }\n",
       "\n",
       "    .dataframe tbody tr th {\n",
       "        vertical-align: top;\n",
       "    }\n",
       "\n",
       "    .dataframe thead th {\n",
       "        text-align: right;\n",
       "    }\n",
       "</style>\n",
       "<table border=\"1\" class=\"dataframe\">\n",
       "  <thead>\n",
       "    <tr style=\"text-align: right;\">\n",
       "      <th></th>\n",
       "      <th>row_id</th>\n",
       "      <th>meter_reading</th>\n",
       "    </tr>\n",
       "  </thead>\n",
       "  <tbody>\n",
       "    <tr>\n",
       "      <th>0</th>\n",
       "      <td>0</td>\n",
       "      <td>39.104798</td>\n",
       "    </tr>\n",
       "    <tr>\n",
       "      <th>1</th>\n",
       "      <td>1</td>\n",
       "      <td>14.036612</td>\n",
       "    </tr>\n",
       "    <tr>\n",
       "      <th>2</th>\n",
       "      <td>2</td>\n",
       "      <td>2.173058</td>\n",
       "    </tr>\n",
       "    <tr>\n",
       "      <th>3</th>\n",
       "      <td>3</td>\n",
       "      <td>281.300981</td>\n",
       "    </tr>\n",
       "    <tr>\n",
       "      <th>4</th>\n",
       "      <td>4</td>\n",
       "      <td>96.267152</td>\n",
       "    </tr>\n",
       "    <tr>\n",
       "      <th>...</th>\n",
       "      <td>...</td>\n",
       "      <td>...</td>\n",
       "    </tr>\n",
       "    <tr>\n",
       "      <th>41697595</th>\n",
       "      <td>41697595</td>\n",
       "      <td>4.487186</td>\n",
       "    </tr>\n",
       "    <tr>\n",
       "      <th>41697596</th>\n",
       "      <td>41697596</td>\n",
       "      <td>4.945417</td>\n",
       "    </tr>\n",
       "    <tr>\n",
       "      <th>41697597</th>\n",
       "      <td>41697597</td>\n",
       "      <td>8.175799</td>\n",
       "    </tr>\n",
       "    <tr>\n",
       "      <th>41697598</th>\n",
       "      <td>41697598</td>\n",
       "      <td>167.521790</td>\n",
       "    </tr>\n",
       "    <tr>\n",
       "      <th>41697599</th>\n",
       "      <td>41697599</td>\n",
       "      <td>3.830511</td>\n",
       "    </tr>\n",
       "  </tbody>\n",
       "</table>\n",
       "<p>41697600 rows × 2 columns</p>\n",
       "</div>"
      ],
      "text/plain": [
       "            row_id  meter_reading\n",
       "0                0      39.104798\n",
       "1                1      14.036612\n",
       "2                2       2.173058\n",
       "3                3     281.300981\n",
       "4                4      96.267152\n",
       "...            ...            ...\n",
       "41697595  41697595       4.487186\n",
       "41697596  41697596       4.945417\n",
       "41697597  41697597       8.175799\n",
       "41697598  41697598     167.521790\n",
       "41697599  41697599       3.830511\n",
       "\n",
       "[41697600 rows x 2 columns]"
      ]
     },
     "execution_count": 79,
     "metadata": {},
     "output_type": "execute_result"
    }
   ],
   "source": [
    "xgb_pred.to_csv(f'{path}xgb.csv', index=False)\n",
    "pd.read_csv(f'{path}xgb.csv')"
   ]
  },
  {
   "cell_type": "markdown",
   "metadata": {},
   "source": [
    "### Test RMSLE:\n",
    "##### Lasso regression:  (Public),  (Private)\n",
    "##### LightGBM:  (Public),  (Private)\n",
    "##### XGBoost:  (Public),  (Private)"
   ]
  },
  {
   "cell_type": "code",
   "execution_count": null,
   "metadata": {},
   "outputs": [],
   "source": []
  },
  {
   "cell_type": "code",
   "execution_count": null,
   "metadata": {},
   "outputs": [],
   "source": []
  },
  {
   "cell_type": "markdown",
   "metadata": {},
   "source": [
    "# Combine LightGBM and XGBoost predictions"
   ]
  },
  {
   "cell_type": "code",
   "execution_count": 80,
   "metadata": {},
   "outputs": [
    {
     "data": {
      "text/html": [
       "<div>\n",
       "<style scoped>\n",
       "    .dataframe tbody tr th:only-of-type {\n",
       "        vertical-align: middle;\n",
       "    }\n",
       "\n",
       "    .dataframe tbody tr th {\n",
       "        vertical-align: top;\n",
       "    }\n",
       "\n",
       "    .dataframe thead th {\n",
       "        text-align: right;\n",
       "    }\n",
       "</style>\n",
       "<table border=\"1\" class=\"dataframe\">\n",
       "  <thead>\n",
       "    <tr style=\"text-align: right;\">\n",
       "      <th></th>\n",
       "      <th>row_id</th>\n",
       "      <th>lgb</th>\n",
       "      <th>xgb</th>\n",
       "    </tr>\n",
       "  </thead>\n",
       "  <tbody>\n",
       "    <tr>\n",
       "      <th>0</th>\n",
       "      <td>0</td>\n",
       "      <td>68.401963</td>\n",
       "      <td>39.104798</td>\n",
       "    </tr>\n",
       "    <tr>\n",
       "      <th>1</th>\n",
       "      <td>1</td>\n",
       "      <td>22.822399</td>\n",
       "      <td>14.036612</td>\n",
       "    </tr>\n",
       "    <tr>\n",
       "      <th>2</th>\n",
       "      <td>2</td>\n",
       "      <td>1.677622</td>\n",
       "      <td>2.173058</td>\n",
       "    </tr>\n",
       "    <tr>\n",
       "      <th>3</th>\n",
       "      <td>3</td>\n",
       "      <td>57.012002</td>\n",
       "      <td>281.300981</td>\n",
       "    </tr>\n",
       "    <tr>\n",
       "      <th>4</th>\n",
       "      <td>4</td>\n",
       "      <td>161.504098</td>\n",
       "      <td>96.267152</td>\n",
       "    </tr>\n",
       "  </tbody>\n",
       "</table>\n",
       "</div>"
      ],
      "text/plain": [
       "   row_id         lgb         xgb\n",
       "0       0   68.401963   39.104798\n",
       "1       1   22.822399   14.036612\n",
       "2       2    1.677622    2.173058\n",
       "3       3   57.012002  281.300981\n",
       "4       4  161.504098   96.267152"
      ]
     },
     "execution_count": 80,
     "metadata": {},
     "output_type": "execute_result"
    }
   ],
   "source": [
    "xl = pd.merge(lgb_pred, xgb_pred, on='row_id', how='left')\n",
    "xl.columns = ['row_id', 'lgb', 'xgb']\n",
    "xl.head()"
   ]
  },
  {
   "cell_type": "code",
   "execution_count": 81,
   "metadata": {},
   "outputs": [
    {
     "data": {
      "text/html": [
       "<div>\n",
       "<style scoped>\n",
       "    .dataframe tbody tr th:only-of-type {\n",
       "        vertical-align: middle;\n",
       "    }\n",
       "\n",
       "    .dataframe tbody tr th {\n",
       "        vertical-align: top;\n",
       "    }\n",
       "\n",
       "    .dataframe thead th {\n",
       "        text-align: right;\n",
       "    }\n",
       "</style>\n",
       "<table border=\"1\" class=\"dataframe\">\n",
       "  <thead>\n",
       "    <tr style=\"text-align: right;\">\n",
       "      <th></th>\n",
       "      <th>row_id</th>\n",
       "      <th>lgb</th>\n",
       "      <th>xgb</th>\n",
       "      <th>xl91</th>\n",
       "      <th>xl73</th>\n",
       "      <th>xl55</th>\n",
       "      <th>xl37</th>\n",
       "      <th>xl19</th>\n",
       "    </tr>\n",
       "  </thead>\n",
       "  <tbody>\n",
       "    <tr>\n",
       "      <th>0</th>\n",
       "      <td>0</td>\n",
       "      <td>68.401963</td>\n",
       "      <td>39.104798</td>\n",
       "      <td>65.472246</td>\n",
       "      <td>59.612813</td>\n",
       "      <td>53.753380</td>\n",
       "      <td>47.893947</td>\n",
       "      <td>42.034514</td>\n",
       "    </tr>\n",
       "    <tr>\n",
       "      <th>1</th>\n",
       "      <td>1</td>\n",
       "      <td>22.822399</td>\n",
       "      <td>14.036612</td>\n",
       "      <td>21.943820</td>\n",
       "      <td>20.186663</td>\n",
       "      <td>18.429505</td>\n",
       "      <td>16.672348</td>\n",
       "      <td>14.915191</td>\n",
       "    </tr>\n",
       "    <tr>\n",
       "      <th>2</th>\n",
       "      <td>2</td>\n",
       "      <td>1.677622</td>\n",
       "      <td>2.173058</td>\n",
       "      <td>1.727165</td>\n",
       "      <td>1.826253</td>\n",
       "      <td>1.925340</td>\n",
       "      <td>2.024427</td>\n",
       "      <td>2.123514</td>\n",
       "    </tr>\n",
       "    <tr>\n",
       "      <th>3</th>\n",
       "      <td>3</td>\n",
       "      <td>57.012002</td>\n",
       "      <td>281.300981</td>\n",
       "      <td>79.440900</td>\n",
       "      <td>124.298696</td>\n",
       "      <td>169.156492</td>\n",
       "      <td>214.014287</td>\n",
       "      <td>258.872083</td>\n",
       "    </tr>\n",
       "    <tr>\n",
       "      <th>4</th>\n",
       "      <td>4</td>\n",
       "      <td>161.504098</td>\n",
       "      <td>96.267152</td>\n",
       "      <td>154.980403</td>\n",
       "      <td>141.933014</td>\n",
       "      <td>128.885625</td>\n",
       "      <td>115.838236</td>\n",
       "      <td>102.790847</td>\n",
       "    </tr>\n",
       "  </tbody>\n",
       "</table>\n",
       "</div>"
      ],
      "text/plain": [
       "   row_id         lgb         xgb        xl91        xl73        xl55  \\\n",
       "0       0   68.401963   39.104798   65.472246   59.612813   53.753380   \n",
       "1       1   22.822399   14.036612   21.943820   20.186663   18.429505   \n",
       "2       2    1.677622    2.173058    1.727165    1.826253    1.925340   \n",
       "3       3   57.012002  281.300981   79.440900  124.298696  169.156492   \n",
       "4       4  161.504098   96.267152  154.980403  141.933014  128.885625   \n",
       "\n",
       "         xl37        xl19  \n",
       "0   47.893947   42.034514  \n",
       "1   16.672348   14.915191  \n",
       "2    2.024427    2.123514  \n",
       "3  214.014287  258.872083  \n",
       "4  115.838236  102.790847  "
      ]
     },
     "execution_count": 81,
     "metadata": {},
     "output_type": "execute_result"
    }
   ],
   "source": [
    "xl['xl91'] = (xl.lgb * 0.9) + (xl.xgb * 0.1)\n",
    "xl['xl73'] = (xl.lgb * 0.7) + (xl.xgb * 0.3)\n",
    "xl['xl55'] = xl[['lgb', 'xgb']].mean(axis=1)\n",
    "xl['xl37'] = (xl.lgb * 0.3) + (xl.xgb * 0.7)\n",
    "xl['xl19'] = (xl.lgb * 0.1) + (xl.xgb * 0.9)\n",
    "xl.head()"
   ]
  },
  {
   "cell_type": "code",
   "execution_count": 82,
   "metadata": {},
   "outputs": [
    {
     "data": {
      "text/html": [
       "<div>\n",
       "<style scoped>\n",
       "    .dataframe tbody tr th:only-of-type {\n",
       "        vertical-align: middle;\n",
       "    }\n",
       "\n",
       "    .dataframe tbody tr th {\n",
       "        vertical-align: top;\n",
       "    }\n",
       "\n",
       "    .dataframe thead th {\n",
       "        text-align: right;\n",
       "    }\n",
       "</style>\n",
       "<table border=\"1\" class=\"dataframe\">\n",
       "  <thead>\n",
       "    <tr style=\"text-align: right;\">\n",
       "      <th></th>\n",
       "      <th>row_id</th>\n",
       "      <th>meter_reading</th>\n",
       "    </tr>\n",
       "  </thead>\n",
       "  <tbody>\n",
       "    <tr>\n",
       "      <th>0</th>\n",
       "      <td>0</td>\n",
       "      <td>65.472246</td>\n",
       "    </tr>\n",
       "    <tr>\n",
       "      <th>1</th>\n",
       "      <td>1</td>\n",
       "      <td>21.943820</td>\n",
       "    </tr>\n",
       "    <tr>\n",
       "      <th>2</th>\n",
       "      <td>2</td>\n",
       "      <td>1.727165</td>\n",
       "    </tr>\n",
       "    <tr>\n",
       "      <th>3</th>\n",
       "      <td>3</td>\n",
       "      <td>79.440900</td>\n",
       "    </tr>\n",
       "    <tr>\n",
       "      <th>4</th>\n",
       "      <td>4</td>\n",
       "      <td>154.980403</td>\n",
       "    </tr>\n",
       "    <tr>\n",
       "      <th>...</th>\n",
       "      <td>...</td>\n",
       "      <td>...</td>\n",
       "    </tr>\n",
       "    <tr>\n",
       "      <th>41697595</th>\n",
       "      <td>41697595</td>\n",
       "      <td>4.616181</td>\n",
       "    </tr>\n",
       "    <tr>\n",
       "      <th>41697596</th>\n",
       "      <td>41697596</td>\n",
       "      <td>4.623471</td>\n",
       "    </tr>\n",
       "    <tr>\n",
       "      <th>41697597</th>\n",
       "      <td>41697597</td>\n",
       "      <td>6.143445</td>\n",
       "    </tr>\n",
       "    <tr>\n",
       "      <th>41697598</th>\n",
       "      <td>41697598</td>\n",
       "      <td>172.870780</td>\n",
       "    </tr>\n",
       "    <tr>\n",
       "      <th>41697599</th>\n",
       "      <td>41697599</td>\n",
       "      <td>4.241293</td>\n",
       "    </tr>\n",
       "  </tbody>\n",
       "</table>\n",
       "<p>41697600 rows × 2 columns</p>\n",
       "</div>"
      ],
      "text/plain": [
       "            row_id  meter_reading\n",
       "0                0      65.472246\n",
       "1                1      21.943820\n",
       "2                2       1.727165\n",
       "3                3      79.440900\n",
       "4                4     154.980403\n",
       "...            ...            ...\n",
       "41697595  41697595       4.616181\n",
       "41697596  41697596       4.623471\n",
       "41697597  41697597       6.143445\n",
       "41697598  41697598     172.870780\n",
       "41697599  41697599       4.241293\n",
       "\n",
       "[41697600 rows x 2 columns]"
      ]
     },
     "execution_count": 82,
     "metadata": {},
     "output_type": "execute_result"
    }
   ],
   "source": [
    "xl1 = xl[['row_id', 'xl91']]\n",
    "xl1.columns = ['row_id', 'meter_reading']\n",
    "\n",
    "xl1.to_csv(f'{path}xl1.csv', index=False)\n",
    "pd.read_csv(f'{path}xl1.csv')"
   ]
  },
  {
   "cell_type": "code",
   "execution_count": 83,
   "metadata": {},
   "outputs": [
    {
     "data": {
      "text/html": [
       "<div>\n",
       "<style scoped>\n",
       "    .dataframe tbody tr th:only-of-type {\n",
       "        vertical-align: middle;\n",
       "    }\n",
       "\n",
       "    .dataframe tbody tr th {\n",
       "        vertical-align: top;\n",
       "    }\n",
       "\n",
       "    .dataframe thead th {\n",
       "        text-align: right;\n",
       "    }\n",
       "</style>\n",
       "<table border=\"1\" class=\"dataframe\">\n",
       "  <thead>\n",
       "    <tr style=\"text-align: right;\">\n",
       "      <th></th>\n",
       "      <th>row_id</th>\n",
       "      <th>meter_reading</th>\n",
       "    </tr>\n",
       "  </thead>\n",
       "  <tbody>\n",
       "    <tr>\n",
       "      <th>0</th>\n",
       "      <td>0</td>\n",
       "      <td>59.612813</td>\n",
       "    </tr>\n",
       "    <tr>\n",
       "      <th>1</th>\n",
       "      <td>1</td>\n",
       "      <td>20.186663</td>\n",
       "    </tr>\n",
       "    <tr>\n",
       "      <th>2</th>\n",
       "      <td>2</td>\n",
       "      <td>1.826253</td>\n",
       "    </tr>\n",
       "    <tr>\n",
       "      <th>3</th>\n",
       "      <td>3</td>\n",
       "      <td>124.298696</td>\n",
       "    </tr>\n",
       "    <tr>\n",
       "      <th>4</th>\n",
       "      <td>4</td>\n",
       "      <td>141.933014</td>\n",
       "    </tr>\n",
       "    <tr>\n",
       "      <th>...</th>\n",
       "      <td>...</td>\n",
       "      <td>...</td>\n",
       "    </tr>\n",
       "    <tr>\n",
       "      <th>41697595</th>\n",
       "      <td>41697595</td>\n",
       "      <td>4.587516</td>\n",
       "    </tr>\n",
       "    <tr>\n",
       "      <th>41697596</th>\n",
       "      <td>41697596</td>\n",
       "      <td>4.695014</td>\n",
       "    </tr>\n",
       "    <tr>\n",
       "      <th>41697597</th>\n",
       "      <td>41697597</td>\n",
       "      <td>6.595079</td>\n",
       "    </tr>\n",
       "    <tr>\n",
       "      <th>41697598</th>\n",
       "      <td>41697598</td>\n",
       "      <td>171.682115</td>\n",
       "    </tr>\n",
       "    <tr>\n",
       "      <th>41697599</th>\n",
       "      <td>41697599</td>\n",
       "      <td>4.150009</td>\n",
       "    </tr>\n",
       "  </tbody>\n",
       "</table>\n",
       "<p>41697600 rows × 2 columns</p>\n",
       "</div>"
      ],
      "text/plain": [
       "            row_id  meter_reading\n",
       "0                0      59.612813\n",
       "1                1      20.186663\n",
       "2                2       1.826253\n",
       "3                3     124.298696\n",
       "4                4     141.933014\n",
       "...            ...            ...\n",
       "41697595  41697595       4.587516\n",
       "41697596  41697596       4.695014\n",
       "41697597  41697597       6.595079\n",
       "41697598  41697598     171.682115\n",
       "41697599  41697599       4.150009\n",
       "\n",
       "[41697600 rows x 2 columns]"
      ]
     },
     "execution_count": 83,
     "metadata": {},
     "output_type": "execute_result"
    }
   ],
   "source": [
    "xl2 = xl[['row_id', 'xl73']]\n",
    "xl2.columns = ['row_id', 'meter_reading']\n",
    "\n",
    "xl2.to_csv(f'{path}xl2.csv', index=False)\n",
    "pd.read_csv(f'{path}xl2.csv')"
   ]
  },
  {
   "cell_type": "code",
   "execution_count": 84,
   "metadata": {},
   "outputs": [
    {
     "data": {
      "text/html": [
       "<div>\n",
       "<style scoped>\n",
       "    .dataframe tbody tr th:only-of-type {\n",
       "        vertical-align: middle;\n",
       "    }\n",
       "\n",
       "    .dataframe tbody tr th {\n",
       "        vertical-align: top;\n",
       "    }\n",
       "\n",
       "    .dataframe thead th {\n",
       "        text-align: right;\n",
       "    }\n",
       "</style>\n",
       "<table border=\"1\" class=\"dataframe\">\n",
       "  <thead>\n",
       "    <tr style=\"text-align: right;\">\n",
       "      <th></th>\n",
       "      <th>row_id</th>\n",
       "      <th>meter_reading</th>\n",
       "    </tr>\n",
       "  </thead>\n",
       "  <tbody>\n",
       "    <tr>\n",
       "      <th>0</th>\n",
       "      <td>0</td>\n",
       "      <td>53.753380</td>\n",
       "    </tr>\n",
       "    <tr>\n",
       "      <th>1</th>\n",
       "      <td>1</td>\n",
       "      <td>18.429505</td>\n",
       "    </tr>\n",
       "    <tr>\n",
       "      <th>2</th>\n",
       "      <td>2</td>\n",
       "      <td>1.925340</td>\n",
       "    </tr>\n",
       "    <tr>\n",
       "      <th>3</th>\n",
       "      <td>3</td>\n",
       "      <td>169.156492</td>\n",
       "    </tr>\n",
       "    <tr>\n",
       "      <th>4</th>\n",
       "      <td>4</td>\n",
       "      <td>128.885625</td>\n",
       "    </tr>\n",
       "    <tr>\n",
       "      <th>...</th>\n",
       "      <td>...</td>\n",
       "      <td>...</td>\n",
       "    </tr>\n",
       "    <tr>\n",
       "      <th>41697595</th>\n",
       "      <td>41697595</td>\n",
       "      <td>4.558850</td>\n",
       "    </tr>\n",
       "    <tr>\n",
       "      <th>41697596</th>\n",
       "      <td>41697596</td>\n",
       "      <td>4.766558</td>\n",
       "    </tr>\n",
       "    <tr>\n",
       "      <th>41697597</th>\n",
       "      <td>41697597</td>\n",
       "      <td>7.046713</td>\n",
       "    </tr>\n",
       "    <tr>\n",
       "      <th>41697598</th>\n",
       "      <td>41697598</td>\n",
       "      <td>170.493451</td>\n",
       "    </tr>\n",
       "    <tr>\n",
       "      <th>41697599</th>\n",
       "      <td>41697599</td>\n",
       "      <td>4.058724</td>\n",
       "    </tr>\n",
       "  </tbody>\n",
       "</table>\n",
       "<p>41697600 rows × 2 columns</p>\n",
       "</div>"
      ],
      "text/plain": [
       "            row_id  meter_reading\n",
       "0                0      53.753380\n",
       "1                1      18.429505\n",
       "2                2       1.925340\n",
       "3                3     169.156492\n",
       "4                4     128.885625\n",
       "...            ...            ...\n",
       "41697595  41697595       4.558850\n",
       "41697596  41697596       4.766558\n",
       "41697597  41697597       7.046713\n",
       "41697598  41697598     170.493451\n",
       "41697599  41697599       4.058724\n",
       "\n",
       "[41697600 rows x 2 columns]"
      ]
     },
     "execution_count": 84,
     "metadata": {},
     "output_type": "execute_result"
    }
   ],
   "source": [
    "xl3 = xl[['row_id', 'xl55']]\n",
    "xl3.columns = ['row_id', 'meter_reading']\n",
    "\n",
    "xl3.to_csv(f'{path}xl3.csv', index=False)\n",
    "pd.read_csv(f'{path}xl3.csv')"
   ]
  },
  {
   "cell_type": "code",
   "execution_count": 85,
   "metadata": {},
   "outputs": [
    {
     "data": {
      "text/html": [
       "<div>\n",
       "<style scoped>\n",
       "    .dataframe tbody tr th:only-of-type {\n",
       "        vertical-align: middle;\n",
       "    }\n",
       "\n",
       "    .dataframe tbody tr th {\n",
       "        vertical-align: top;\n",
       "    }\n",
       "\n",
       "    .dataframe thead th {\n",
       "        text-align: right;\n",
       "    }\n",
       "</style>\n",
       "<table border=\"1\" class=\"dataframe\">\n",
       "  <thead>\n",
       "    <tr style=\"text-align: right;\">\n",
       "      <th></th>\n",
       "      <th>row_id</th>\n",
       "      <th>meter_reading</th>\n",
       "    </tr>\n",
       "  </thead>\n",
       "  <tbody>\n",
       "    <tr>\n",
       "      <th>0</th>\n",
       "      <td>0</td>\n",
       "      <td>47.893947</td>\n",
       "    </tr>\n",
       "    <tr>\n",
       "      <th>1</th>\n",
       "      <td>1</td>\n",
       "      <td>16.672348</td>\n",
       "    </tr>\n",
       "    <tr>\n",
       "      <th>2</th>\n",
       "      <td>2</td>\n",
       "      <td>2.024427</td>\n",
       "    </tr>\n",
       "    <tr>\n",
       "      <th>3</th>\n",
       "      <td>3</td>\n",
       "      <td>214.014287</td>\n",
       "    </tr>\n",
       "    <tr>\n",
       "      <th>4</th>\n",
       "      <td>4</td>\n",
       "      <td>115.838236</td>\n",
       "    </tr>\n",
       "    <tr>\n",
       "      <th>...</th>\n",
       "      <td>...</td>\n",
       "      <td>...</td>\n",
       "    </tr>\n",
       "    <tr>\n",
       "      <th>41697595</th>\n",
       "      <td>41697595</td>\n",
       "      <td>4.530185</td>\n",
       "    </tr>\n",
       "    <tr>\n",
       "      <th>41697596</th>\n",
       "      <td>41697596</td>\n",
       "      <td>4.838102</td>\n",
       "    </tr>\n",
       "    <tr>\n",
       "      <th>41697597</th>\n",
       "      <td>41697597</td>\n",
       "      <td>7.498348</td>\n",
       "    </tr>\n",
       "    <tr>\n",
       "      <th>41697598</th>\n",
       "      <td>41697598</td>\n",
       "      <td>169.304786</td>\n",
       "    </tr>\n",
       "    <tr>\n",
       "      <th>41697599</th>\n",
       "      <td>41697599</td>\n",
       "      <td>3.967439</td>\n",
       "    </tr>\n",
       "  </tbody>\n",
       "</table>\n",
       "<p>41697600 rows × 2 columns</p>\n",
       "</div>"
      ],
      "text/plain": [
       "            row_id  meter_reading\n",
       "0                0      47.893947\n",
       "1                1      16.672348\n",
       "2                2       2.024427\n",
       "3                3     214.014287\n",
       "4                4     115.838236\n",
       "...            ...            ...\n",
       "41697595  41697595       4.530185\n",
       "41697596  41697596       4.838102\n",
       "41697597  41697597       7.498348\n",
       "41697598  41697598     169.304786\n",
       "41697599  41697599       3.967439\n",
       "\n",
       "[41697600 rows x 2 columns]"
      ]
     },
     "execution_count": 85,
     "metadata": {},
     "output_type": "execute_result"
    }
   ],
   "source": [
    "xl4 = xl[['row_id', 'xl37']]\n",
    "xl4.columns = ['row_id', 'meter_reading']\n",
    "\n",
    "xl4.to_csv(f'{path}xl4.csv', index=False)\n",
    "pd.read_csv(f'{path}xl4.csv')"
   ]
  },
  {
   "cell_type": "code",
   "execution_count": 86,
   "metadata": {},
   "outputs": [
    {
     "data": {
      "text/html": [
       "<div>\n",
       "<style scoped>\n",
       "    .dataframe tbody tr th:only-of-type {\n",
       "        vertical-align: middle;\n",
       "    }\n",
       "\n",
       "    .dataframe tbody tr th {\n",
       "        vertical-align: top;\n",
       "    }\n",
       "\n",
       "    .dataframe thead th {\n",
       "        text-align: right;\n",
       "    }\n",
       "</style>\n",
       "<table border=\"1\" class=\"dataframe\">\n",
       "  <thead>\n",
       "    <tr style=\"text-align: right;\">\n",
       "      <th></th>\n",
       "      <th>row_id</th>\n",
       "      <th>meter_reading</th>\n",
       "    </tr>\n",
       "  </thead>\n",
       "  <tbody>\n",
       "    <tr>\n",
       "      <th>0</th>\n",
       "      <td>0</td>\n",
       "      <td>42.034514</td>\n",
       "    </tr>\n",
       "    <tr>\n",
       "      <th>1</th>\n",
       "      <td>1</td>\n",
       "      <td>14.915191</td>\n",
       "    </tr>\n",
       "    <tr>\n",
       "      <th>2</th>\n",
       "      <td>2</td>\n",
       "      <td>2.123514</td>\n",
       "    </tr>\n",
       "    <tr>\n",
       "      <th>3</th>\n",
       "      <td>3</td>\n",
       "      <td>258.872083</td>\n",
       "    </tr>\n",
       "    <tr>\n",
       "      <th>4</th>\n",
       "      <td>4</td>\n",
       "      <td>102.790847</td>\n",
       "    </tr>\n",
       "    <tr>\n",
       "      <th>...</th>\n",
       "      <td>...</td>\n",
       "      <td>...</td>\n",
       "    </tr>\n",
       "    <tr>\n",
       "      <th>41697595</th>\n",
       "      <td>41697595</td>\n",
       "      <td>4.501519</td>\n",
       "    </tr>\n",
       "    <tr>\n",
       "      <th>41697596</th>\n",
       "      <td>41697596</td>\n",
       "      <td>4.909645</td>\n",
       "    </tr>\n",
       "    <tr>\n",
       "      <th>41697597</th>\n",
       "      <td>41697597</td>\n",
       "      <td>7.949982</td>\n",
       "    </tr>\n",
       "    <tr>\n",
       "      <th>41697598</th>\n",
       "      <td>41697598</td>\n",
       "      <td>168.116122</td>\n",
       "    </tr>\n",
       "    <tr>\n",
       "      <th>41697599</th>\n",
       "      <td>41697599</td>\n",
       "      <td>3.876154</td>\n",
       "    </tr>\n",
       "  </tbody>\n",
       "</table>\n",
       "<p>41697600 rows × 2 columns</p>\n",
       "</div>"
      ],
      "text/plain": [
       "            row_id  meter_reading\n",
       "0                0      42.034514\n",
       "1                1      14.915191\n",
       "2                2       2.123514\n",
       "3                3     258.872083\n",
       "4                4     102.790847\n",
       "...            ...            ...\n",
       "41697595  41697595       4.501519\n",
       "41697596  41697596       4.909645\n",
       "41697597  41697597       7.949982\n",
       "41697598  41697598     168.116122\n",
       "41697599  41697599       3.876154\n",
       "\n",
       "[41697600 rows x 2 columns]"
      ]
     },
     "execution_count": 86,
     "metadata": {},
     "output_type": "execute_result"
    }
   ],
   "source": [
    "xl5 = xl[['row_id', 'xl19']]\n",
    "xl5.columns = ['row_id', 'meter_reading']\n",
    "\n",
    "xl5.to_csv(f'{path}xl5.csv', index=False)\n",
    "pd.read_csv(f'{path}xl5.csv')"
   ]
  },
  {
   "cell_type": "code",
   "execution_count": null,
   "metadata": {},
   "outputs": [],
   "source": []
  },
  {
   "cell_type": "code",
   "execution_count": null,
   "metadata": {},
   "outputs": [],
   "source": []
  }
 ],
 "metadata": {
  "kernelspec": {
   "display_name": "Python 3",
   "language": "python",
   "name": "python3"
  },
  "language_info": {
   "codemirror_mode": {
    "name": "ipython",
    "version": 3
   },
   "file_extension": ".py",
   "mimetype": "text/x-python",
   "name": "python",
   "nbconvert_exporter": "python",
   "pygments_lexer": "ipython3",
   "version": "3.7.8"
  }
 },
 "nbformat": 4,
 "nbformat_minor": 4
}
