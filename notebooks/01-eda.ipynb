{
 "cells": [
  {
   "cell_type": "markdown",
   "metadata": {},
   "source": [
    "# Great Energy Predictor - Exploratory Data Analysis\n",
    "#### Hosted by: ASHRAE\n",
    "##### Source: https://www.kaggle.com/c/ashrae-energy-prediction"
   ]
  },
  {
   "cell_type": "markdown",
   "metadata": {},
   "source": [
    "## Section I: Dependencies and Data"
   ]
  },
  {
   "cell_type": "markdown",
   "metadata": {},
   "source": [
    "### Dependencies"
   ]
  },
  {
   "cell_type": "code",
   "execution_count": 2,
   "metadata": {},
   "outputs": [],
   "source": [
    "import gc\n",
    "import os\n",
    "import zipfile\n",
    "import pandas as pd\n",
    "import matplotlib as mpl\n",
    "import matplotlib.pyplot as plt\n",
    "import seaborn as sns\n",
    "\n",
    "import src.utils as udf"
   ]
  },
  {
   "cell_type": "code",
   "execution_count": null,
   "metadata": {},
   "outputs": [],
   "source": [
    "# Plot styles\n",
    "mpl.style.available"
   ]
  },
  {
   "cell_type": "code",
   "execution_count": null,
   "metadata": {},
   "outputs": [],
   "source": [
    "# Dataframe settings\n",
    "pd.set_option('display.max_columns', 50)\n",
    "\n",
    "# Plot settings\n",
    "mpl.style.use('seaborn')\n",
    "mpl.rcParams['figure.figsize'] = (15, 3)\n",
    "mpl.rcParams['font.size'] = 12"
   ]
  },
  {
   "cell_type": "markdown",
   "metadata": {},
   "source": [
    "### Create data directory"
   ]
  },
  {
   "cell_type": "code",
   "execution_count": null,
   "metadata": {},
   "outputs": [],
   "source": [
    "# Create raw data directory\n",
    "data_path = os.path.join('..', 'data', 'raw')\n",
    "os.makedirs(data_path, exist_ok=True)"
   ]
  },
  {
   "cell_type": "markdown",
   "metadata": {},
   "source": [
    "### Download data from Kaggle\n",
    "\n",
    "##### Download manually\n",
    "1. Create a Kaggle account [here](https://www.kaggle.com/account/login?phase=startRegisterTab&returnUrl=%2F)\n",
    "2. Download the data manually [here](https://www.kaggle.com/c/ashrae-energy-prediction/data)\n",
    "3. Unzip the .zip file and move all extracted files into the `data/raw/` directory created in the code cell above\n",
    "\n",
    "##### Download programatically\n",
    "1. Create a Kaggle account [here](https://www.kaggle.com/account/login?phase=startRegisterTab&returnUrl=%2F)\n",
    "2. Navigate to `Account` in the menu and scroll down to `API`\n",
    "3. Click `Create New API Token` - this downloads a json file called `kaggle.json` that contains the API credentials\n",
    "4. Uncomment and run the code cell below (may take a while to run)\n",
    "\n",
    "Source: https://github.com/Kaggle/kaggle-api"
   ]
  },
  {
   "cell_type": "code",
   "execution_count": null,
   "metadata": {},
   "outputs": [],
   "source": [
    "# Install Kaggle API (or install with pip)\n",
    "# !conda install kaggle --y\n",
    "\n",
    "# # Move Kaggle credentials into ~/.kaggle/\n",
    "# !mv ~/Downloads/kaggle.json ~/.kaggle/kaggle.json\n",
    "\n",
    "# # Remove read permission for other users\n",
    "# !chmod 600 ~/.kaggle/kaggle.json\n",
    "\n",
    "# # Download zipped data from Kaggle\n",
    "# !kaggle competitions download -c ashrae-energy-prediction\n",
    "\n",
    "# # Unzip the data into the raw data directory\n",
    "# zip_file = 'ashrae-energy-prediction.zip'\n",
    "# with zipfile.ZipFile(zip_file, 'r') as f:\n",
    "#     f.extractall(data_path)\n",
    "    \n",
    "# # Delete zip file\n",
    "# !rm $zip_file\n",
    "# del zip_file"
   ]
  },
  {
   "cell_type": "markdown",
   "metadata": {},
   "source": [
    "### Read data"
   ]
  },
  {
   "cell_type": "code",
   "execution_count": null,
   "metadata": {},
   "outputs": [],
   "source": [
    "# Meter data\n",
    "meter = pd.read_csv(os.path.join(data_path, 'train.csv'), parse_dates=['timestamp'])\n",
    "meter.info()"
   ]
  },
  {
   "cell_type": "code",
   "execution_count": null,
   "metadata": {},
   "outputs": [],
   "source": [
    "# Reduce memory in meter data\n",
    "meter = udf.reduce_mem_usage(meter)\n",
    "meter.info()"
   ]
  },
  {
   "cell_type": "code",
   "execution_count": null,
   "metadata": {},
   "outputs": [],
   "source": [
    "# Weather data\n",
    "weather = pd.read_csv(os.path.join(data_path, 'weather_train.csv'), parse_dates=['timestamp'])\n",
    "weather.info()"
   ]
  },
  {
   "cell_type": "code",
   "execution_count": null,
   "metadata": {},
   "outputs": [],
   "source": [
    "# Reduce memory in weather data\n",
    "weather = udf.reduce_mem_usage(weather)\n",
    "weather.info()"
   ]
  },
  {
   "cell_type": "code",
   "execution_count": null,
   "metadata": {},
   "outputs": [],
   "source": [
    "# Building data\n",
    "building = pd.read_csv(os.path.join(data_path, 'building_metadata.csv'))\n",
    "building.info()"
   ]
  },
  {
   "cell_type": "code",
   "execution_count": null,
   "metadata": {},
   "outputs": [],
   "source": [
    "# Reduce memory in building data\n",
    "building = udf.reduce_mem_usage(building)\n",
    "building.info()"
   ]
  },
  {
   "cell_type": "code",
   "execution_count": null,
   "metadata": {},
   "outputs": [],
   "source": [
    "del data_path\n",
    "gc.collect()"
   ]
  },
  {
   "cell_type": "markdown",
   "metadata": {},
   "source": [
    "## Section II: Meter EDA"
   ]
  },
  {
   "cell_type": "markdown",
   "metadata": {},
   "source": [
    "### Convert units for site 0 meter types 0 and 1\n",
    "\n",
    "The meter readings of meter types 0 and 1 of site 0 were not converted in the meter data. We will be converting all meter 0 (electricity) readings in site 0 to kWh and all meter 1 (chilledwater) readings in site 0 to tons to be consistent with the rest of the data.\n",
    "\n",
    "Source: https://www.kaggle.com/c/ashrae-energy-prediction/discussion/119261"
   ]
  },
  {
   "cell_type": "code",
   "execution_count": null,
   "metadata": {},
   "outputs": [],
   "source": [
    "# Add site col to the meter df\n",
    "meter = pd.merge(meter, building[['site_id', 'building_id']], on='building_id', how='left')\n",
    "\n",
    "# Positive electric readings in site 0 (in kBTU)\n",
    "meter[(meter['site_id'] == 0) & (meter['meter'] == 0) & (meter['meter_reading'] > 0)].head(3)"
   ]
  },
  {
   "cell_type": "code",
   "execution_count": null,
   "metadata": {},
   "outputs": [],
   "source": [
    "# Convert site 0 electric readings to kWh: 1 kBTU * 0.2931 = 1kWh\n",
    "meter = udf.convert_readings(meter, site_num=0, meter_num=0, convert_from='kbtu', convert_to='kwh')\n",
    "meter[(meter['site_id'] == 0) & (meter['meter'] == 0) & (meter['meter_reading'] > 0)].head(3)"
   ]
  },
  {
   "cell_type": "code",
   "execution_count": null,
   "metadata": {},
   "outputs": [],
   "source": [
    "# Chilled water readings in site 0 (in kBTU)\n",
    "meter[(meter['site_id'] == 0) & (meter['meter'] == 1)].head(3)"
   ]
  },
  {
   "cell_type": "code",
   "execution_count": null,
   "metadata": {},
   "outputs": [],
   "source": [
    "# Convert site 0 chilled water readings to tons: 1 kBTU/hr * 0.0833 = 1 ton (refridgeration)\n",
    "meter = udf.convert_readings(meter, site_num=0, meter_num=1, convert_from='kbtu', convert_to='ton')\n",
    "meter[(meter['site_id'] == 0) & (meter['meter'] == 1)].head(3)"
   ]
  },
  {
   "cell_type": "markdown",
   "metadata": {},
   "source": [
    "### Duplicated observations and missing values"
   ]
  },
  {
   "cell_type": "code",
   "execution_count": null,
   "metadata": {},
   "outputs": [],
   "source": [
    "# Duplicated observations\n",
    "meter.duplicated(subset=['building_id', 'meter', 'timestamp']).sum()"
   ]
  },
  {
   "cell_type": "code",
   "execution_count": null,
   "metadata": {},
   "outputs": [],
   "source": [
    "# Missing vals\n",
    "meter.isnull().sum()"
   ]
  },
  {
   "cell_type": "code",
   "execution_count": null,
   "metadata": {},
   "outputs": [],
   "source": [
    "# Missing timestamps\n",
    "timestamp_count = meter.groupby(['building_id', 'meter'])['timestamp'].count()\n",
    "n_meters = timestamp_count.shape[0] # num of different meters in the data\n",
    "n_timestamps = 366 * 24 # every meter should have this many readings\n",
    "print('Missing timestamps:', (n_meters * n_timestamps) - meter.shape[0])"
   ]
  },
  {
   "cell_type": "code",
   "execution_count": null,
   "metadata": {},
   "outputs": [],
   "source": [
    "# Summary of missing readings\n",
    "udf.missing_readings_summary(meter)"
   ]
  },
  {
   "cell_type": "markdown",
   "metadata": {},
   "source": [
    "### Explore meter readings"
   ]
  },
  {
   "cell_type": "code",
   "execution_count": null,
   "metadata": {},
   "outputs": [],
   "source": [
    "# Distribution of meter readings < 1,000\n",
    "meter_lt1k = meter[(meter['meter_reading'] > 0) & (meter['meter_reading'] < 1000)]\n",
    "meter_lt1k['meter_reading'].plot(kind='hist', bins=40, title='Distribution of Meter Readings < 1000')\n",
    "plt.autoscale(axis='x', tight=True)\n",
    "plt.show()"
   ]
  },
  {
   "cell_type": "code",
   "execution_count": null,
   "metadata": {},
   "outputs": [],
   "source": [
    "# Check high meter readings (> 1,000,000)\n",
    "high_readings = meter[meter['meter_reading'] > 1e6]\n",
    "high_readings.shape[0]"
   ]
  },
  {
   "cell_type": "code",
   "execution_count": null,
   "metadata": {},
   "outputs": [],
   "source": [
    "# Check buildings and meters with high readings\n",
    "print('Meters with readings > 1,000,000:')\n",
    "print('Buildings:', high_readings['building_id'].unique())\n",
    "print('Meters:', high_readings['meter'].unique())"
   ]
  },
  {
   "cell_type": "code",
   "execution_count": null,
   "metadata": {},
   "outputs": [],
   "source": [
    "# Check building 1099 meter 2\n",
    "b1099m2 = meter[(meter['building_id'] == 1099) & (meter['meter'] == 2)].set_index('timestamp')\n",
    "b1099m2['meter_reading'].plot(title='Building 1099 Meter 2 (Steam) Readings', \n",
    "                              ylabel='Meter reading', xlabel='Time')\n",
    "plt.show()"
   ]
  },
  {
   "cell_type": "code",
   "execution_count": null,
   "metadata": {},
   "outputs": [],
   "source": [
    "# Check readings < 100,000\n",
    "b1099m2_lt100k = b1099m2[b1099m2['meter_reading'] < 1e5]['meter_reading']\n",
    "b1099m2_plot = b1099m2_lt100k.plot(title='Building 1099 Meter 2 (Steam) Readings Less Than 100k',\n",
    "                                   ylabel='Meter reading', xlabel='Time')\n",
    "\n",
    "# Formatting\n",
    "labels = ['Jan', 'Feb', 'Mar', 'Apr', 'May', 'Jun', 'Jul', 'Aug', 'Sep', 'Oct', 'Nov', 'Dec']\n",
    "plt.autoscale(enable=True, axis='x', tight=True)\n",
    "plt.xticks(b1099m2_plot.get_xticks(), labels[1:], rotation=0, ha='center')\n",
    "plt.show()"
   ]
  },
  {
   "cell_type": "markdown",
   "metadata": {},
   "source": [
    "### Outlier meter readings\n",
    "\n",
    "All of the high readings are coming from meter 2 of building 1099. This could be due to the meter malfunctioning or the data being corrupted but either way, we will be dropping these readings."
   ]
  },
  {
   "cell_type": "code",
   "execution_count": null,
   "metadata": {},
   "outputs": [],
   "source": [
    "# Set outlier threshold\n",
    "lower, upper = udf.get_outlier_threshold(meter, 'meter_reading', stat='iqr', multiplier=50)\n",
    "lower, upper"
   ]
  },
  {
   "cell_type": "code",
   "execution_count": null,
   "metadata": {},
   "outputs": [],
   "source": [
    "# Count outliers based on threshold\n",
    "outliers = meter[meter['meter_reading'] > upper].shape[0]\n",
    "print(f'{outliers} outliers ({round(outliers / meter.shape[0] * 100, 2)}%)')"
   ]
  },
  {
   "cell_type": "code",
   "execution_count": null,
   "metadata": {},
   "outputs": [],
   "source": [
    "# Drop outliers\n",
    "meter = meter[meter['meter_reading'] <= upper].copy()\n",
    "meter.shape"
   ]
  },
  {
   "cell_type": "code",
   "execution_count": null,
   "metadata": {},
   "outputs": [],
   "source": [
    "del timestamp_count, n_meters, n_timestamps, meter_lt1k, \\\n",
    "    b1099m2, b1099m2_lt100k, b1099m2_plot, labels, \\\n",
    "    high_readings, lower, upper, outliers\n",
    "gc.collect()"
   ]
  },
  {
   "cell_type": "markdown",
   "metadata": {},
   "source": [
    "### Explore meter types"
   ]
  },
  {
   "cell_type": "code",
   "execution_count": null,
   "metadata": {},
   "outputs": [],
   "source": [
    "# Add meter type as a str in a new col\n",
    "meter_types = {0: 'electricity', 1: 'chilledwater', 2: 'steam', 3: 'hotwater'}\n",
    "meter['meter_type'] = meter['meter'].map(meter_types)\n",
    "\n",
    "# Num of buildings w/ each meter type\n",
    "meter_type_count = meter.groupby('meter_type')['building_id'].nunique().sort_values()\n",
    "meter_type_count"
   ]
  },
  {
   "cell_type": "code",
   "execution_count": null,
   "metadata": {},
   "outputs": [],
   "source": [
    "# Num of buildings with each meter type\n",
    "meter_type_count.plot.barh(title='Number of Buildings with Each Meter Type', \n",
    "                           ylabel='Meter', xlabel='Number of buildings')\n",
    "plt.show()"
   ]
  },
  {
   "cell_type": "code",
   "execution_count": null,
   "metadata": {},
   "outputs": [],
   "source": [
    "# Num of buildings with n meters\n",
    "meter_count = meter.groupby('building_id')['meter'].nunique().value_counts().sort_values()\n",
    "meter_count"
   ]
  },
  {
   "cell_type": "code",
   "execution_count": null,
   "metadata": {},
   "outputs": [],
   "source": [
    "# Plot num of buildings with n meters\n",
    "meter_count.plot.barh(title='Number of Buildings with n Meters', \n",
    "                      ylabel='Number of meters in the building (n)', \n",
    "                      xlabel='Number of buildings')\n",
    "plt.show()"
   ]
  },
  {
   "cell_type": "code",
   "execution_count": null,
   "metadata": {},
   "outputs": [],
   "source": [
    "# Num of meter readings from each building\n",
    "meter.groupby('building_id')['timestamp'].count() \\\n",
    "     .plot(title='Number of Meter Readings from Each Building', \n",
    "           ylabel='Number of meter readings', xlabel='Building id')\n",
    "plt.autoscale(axis='x', tight=True)\n",
    "plt.show()"
   ]
  },
  {
   "cell_type": "markdown",
   "metadata": {},
   "source": [
    "##### Meter summary\n",
    "- Most buildings have only 1 meter type and and only 13 buildings actually have all 4 meter types\n",
    "- Almost all buildings have an electricity meter, followed by chilledwater, steam, then hotwater (in count)"
   ]
  },
  {
   "cell_type": "markdown",
   "metadata": {},
   "source": [
    "### Sample meter readings from each meter type"
   ]
  },
  {
   "cell_type": "code",
   "execution_count": null,
   "metadata": {},
   "outputs": [],
   "source": [
    "# List of buildings that have each meter type\n",
    "meter_groups = [meter[meter['meter'] == m].building_id.unique() for m in range(4)]\n",
    "\n",
    "# Plot meter readings from 1 of each meter type\n",
    "udf.plot_readings(meter, meter_groups, resample='d')\n",
    "plt.show()"
   ]
  },
  {
   "cell_type": "markdown",
   "metadata": {},
   "source": [
    "The plots show a lot of 0-readings, which are likely missing data. Chilled water meter readings are highest in the summer months, while steam and hot water meter readings are highest in the winter months, which makes sense."
   ]
  },
  {
   "cell_type": "code",
   "execution_count": null,
   "metadata": {},
   "outputs": [],
   "source": [
    "# Extract time components from timestamp\n",
    "time_comps = ['dayofyear', 'month', 'day', 'dayofweek', 'hour']\n",
    "meter = udf.extract_dt_components(meter, time_comps)\n",
    "meter.head(3)"
   ]
  },
  {
   "cell_type": "code",
   "execution_count": null,
   "metadata": {},
   "outputs": [],
   "source": [
    "# Reduce memory usage for new cols\n",
    "meter = udf.reduce_mem_usage(meter)\n",
    "meter.info()"
   ]
  },
  {
   "cell_type": "code",
   "execution_count": null,
   "metadata": {},
   "outputs": [],
   "source": [
    "# Meter readings by weekday\n",
    "udf.plot_readings(meter, meter_groups, groupby=['dayofweek', 'hour'],\n",
    "                  start=25, end=26, ticks=range(0, 7 * 24, 12))\n",
    "plt.show()"
   ]
  },
  {
   "cell_type": "markdown",
   "metadata": {},
   "source": [
    "##### Daily meter readings\n",
    "- Readings from all 4 meter types oscillate between day and night\n",
    "- Electricity meter readings reach their peak around noon and their minimum around midnight\n",
    "- The low electricity usage in the weekend suggests that building is likely an office or other business that is closed on weekends\n",
    "- Steam and hot water meter readings reach their peak in the early morning and their minimum in the evening hours\n",
    "- Chilled water meter readings show an oscillation pattern opposite from steam and hot water meters"
   ]
  },
  {
   "cell_type": "code",
   "execution_count": null,
   "metadata": {},
   "outputs": [],
   "source": [
    "# Meter readings by hr\n",
    "udf.plot_readings(meter, meter_groups, groupby=['hour'], start=50, end=51, ticks=range(24))\n",
    "plt.show()"
   ]
  },
  {
   "cell_type": "markdown",
   "metadata": {},
   "source": [
    "These plots take a closer look at the daily oscillation in meter readings. The patterns are the same as described above."
   ]
  },
  {
   "cell_type": "markdown",
   "metadata": {},
   "source": [
    "### Monthly average meter readings of each site"
   ]
  },
  {
   "cell_type": "code",
   "execution_count": null,
   "metadata": {},
   "outputs": [],
   "source": [
    "# Electric meters only\n",
    "e_meter = meter[meter['meter'] == 0]\n",
    "\n",
    "# Electric meter readings by site (readings from site 7 are on a greater scale)\n",
    "udf.pivot_elec_readings(e_meter, pivot_col='site_id', freq='m', \n",
    "                        cols_to_sep=[7], add_to_title=' by Site')"
   ]
  },
  {
   "cell_type": "code",
   "execution_count": null,
   "metadata": {},
   "outputs": [],
   "source": [
    "# Check avg building size in site 7\n",
    "building.groupby('site_id').square_feet.mean()"
   ]
  },
  {
   "cell_type": "code",
   "execution_count": null,
   "metadata": {},
   "outputs": [],
   "source": [
    "del meter_types, meter_type_count, meter_count, meter_groups, time_comps, e_meter\n",
    "gc.collect()"
   ]
  },
  {
   "cell_type": "markdown",
   "metadata": {},
   "source": [
    "Site 7 buildings are much larger (greater square footage) on average than all other sites. That could explain some, if not all, of the difference in meter reading scale. This will require more investigation during preprocessing."
   ]
  },
  {
   "cell_type": "markdown",
   "metadata": {},
   "source": [
    "## Section III: Weather EDA"
   ]
  },
  {
   "cell_type": "markdown",
   "metadata": {},
   "source": [
    "### Duplicated observations and missing values"
   ]
  },
  {
   "cell_type": "code",
   "execution_count": null,
   "metadata": {},
   "outputs": [],
   "source": [
    "# Duplicated observations\n",
    "weather.duplicated(subset=['site_id', 'timestamp']).sum()"
   ]
  },
  {
   "cell_type": "code",
   "execution_count": null,
   "metadata": {},
   "outputs": [],
   "source": [
    "# Missing vals\n",
    "weather.isnull().sum()"
   ]
  },
  {
   "cell_type": "code",
   "execution_count": null,
   "metadata": {},
   "outputs": [],
   "source": [
    "# Missing timestamps - there should be 140,544 timestamps (16 sites x 366 days x 24 hours)\n",
    "print('Missing timestamps:', (16 * 366 * 24) - weather.shape[0])"
   ]
  },
  {
   "cell_type": "markdown",
   "metadata": {},
   "source": [
    "### Explore weather"
   ]
  },
  {
   "cell_type": "code",
   "execution_count": null,
   "metadata": {},
   "outputs": [],
   "source": [
    "# Measurement distributions\n",
    "udf.hist_subplots(weather, range(2, 9))\n",
    "plt.show()"
   ]
  },
  {
   "cell_type": "markdown",
   "metadata": {},
   "source": [
    "##### Weather distributions:\n",
    "- `Air_temperature` and `sea_level_pressure` are normally distributed\n",
    "- `Dew_temperature`'s distribution has a similar shape to `air_temperature` but with a slight left skew\n",
    "- Aside from the absence of wind, `wind_speed` is right-skewed and `wind_direction` is almost uniformly distributed\n",
    "- `Cloud_coverage` and `precip_depth_1_hr` are mostly 0"
   ]
  },
  {
   "cell_type": "code",
   "execution_count": null,
   "metadata": {},
   "outputs": [],
   "source": [
    "# Daily weather in site 4\n",
    "weather4 = udf.get_site(weather, 4, time_idx=True).resample('d').mean()\n",
    "weather4.plot(subplots=True, figsize=(15, 21), xlabel='Timestamp')\n",
    "plt.suptitle('Average Daily Weather Measurements (Site 4)', y=0.9)\n",
    "plt.xticks(rotation=0)\n",
    "plt.show()"
   ]
  },
  {
   "cell_type": "markdown",
   "metadata": {},
   "source": [
    "##### Daily weather in site 4\n",
    "- Naturally, `air_temperature` and `dew_temperature` are highest in the summer and and lowest in the winter\n",
    "- Although `wind_direction` shows the same pattern as the temperature variables, it's a little different in that the units are compass direction (which is not ordinal in nature)\n",
    "- `Cloud_coverage` and `wind_speed` are relatively constant throughout the year, with slightly stronger winds in the middle of the year\n",
    "- `Sea_level_pressure` is not only greater in the winter months, but also has higher variance\n",
    "- Most of the rain occurs between the months of November and January, as well as March"
   ]
  },
  {
   "cell_type": "code",
   "execution_count": null,
   "metadata": {},
   "outputs": [],
   "source": [
    "# Extract hour from timestamp\n",
    "weather = udf.extract_dt_components(weather, ['hour'])\n",
    "\n",
    "# Site 8 hourly weather\n",
    "weather8 = udf.get_site(weather, 8).groupby('hour').mean()\n",
    "weather8.plot(subplots=True, figsize=(15, 21), xlabel='Hour')\n",
    "plt.suptitle('Average Hourly Weather Measurements (Site 8)', y='0.9')\n",
    "plt.autoscale(axis='x', tight=True)\n",
    "plt.xticks(range(24), rotation=0)\n",
    "plt.show()"
   ]
  },
  {
   "cell_type": "markdown",
   "metadata": {},
   "source": [
    "The `air_temperature` peaking at 7 PM is not normal. We will check out the `air_temperature` for all sites to see if there is a difference."
   ]
  },
  {
   "cell_type": "code",
   "execution_count": null,
   "metadata": {},
   "outputs": [],
   "source": [
    "# Hourly temperature from all sites\n",
    "airtemp = pd.pivot_table(weather, index='hour', columns='site_id', \n",
    "                         values='air_temperature', aggfunc='mean')\n",
    "airtemp.plot(figsize=(15, 5), xticks=range(24), \n",
    "             ylabel='Air temperature', xlabel='Hour', \n",
    "             title='Average Hourly Temperature by Site')\n",
    "plt.legend(bbox_to_anchor=(1, 1), fancybox=True)\n",
    "plt.autoscale(axis='x', tight=True)\n",
    "plt.show()"
   ]
  },
  {
   "cell_type": "markdown",
   "metadata": {},
   "source": [
    "### Convert UTC to local time\n",
    "\n",
    "The plot above shows that the daily maximum temperature is occurring at different hours in the day at each site, even as late as midnight. Since the hottest time of day is usually between noon and 4PM, the weather data is most likely using UTC time. We will need to convert the data to local time to make it consistent with the meter data.\n",
    "\n",
    "After a little digging around, the site locations were found to be the following list below. They may not be 100% accurate but the conversions should get us to the correct timezone (or at least close enough).\n",
    "\n",
    "Sites:\n",
    "- 0 - Orlando, Florida (GMT-5)\n",
    "- 1 - United Kingdom (GMT+0)\n",
    "- 2 - Arizona (GMT-7)\n",
    "- 3 - U.S. Eastern Time Zone (GMT-5)\n",
    "- 4 - Northern California (GMT-8)\n",
    "- 5 - United Kingdom (GMT+0)\n",
    "- 6 - U.S. Eastern Time Zone (GMT-5)\n",
    "- 7 - Southeastern Canada (GMT-5)\n",
    "- 8 - Orlando, Florida (GMT-5)\n",
    "- 9 - Texas (GMT-6)\n",
    "- 10 - U.S. Mountain Time Zone (GMT-7)\n",
    "- 11 - Southeastern Canada (GMT-5)\n",
    "- 12 - Dublin, Ireland (GMT+0)\n",
    "- 13 - Minnesota (GMT-6)\n",
    "- 14 - U.S. Eastern Time Zone (GMT-5)\n",
    "- 15 - U.S. Eastern Time Zone (GMT-5)\n",
    "\n",
    "Sources:\n",
    "- https://www.kaggle.com/c/ashrae-energy-prediction/discussion/115698\n",
    "- https://www.kaggle.com/patrick0302/locate-cities-according-weather-temperature\n",
    "- https://www.kaggle.com/datadugong/locate-better-cities-by-weather-temp-fill-nans"
   ]
  },
  {
   "cell_type": "code",
   "execution_count": null,
   "metadata": {},
   "outputs": [],
   "source": [
    "# Offsets for timezones\n",
    "timezones = [-5, 0, -7, -5, -8, 0, -5, -5, -5, -6, -7, -5, 0, -6, -5, -5]\n",
    "\n",
    "# Convert UTC to local time\n",
    "weather = udf.to_local_time(weather, timezones)\n",
    "weather['hour'] = weather['timestamp'].dt.hour\n",
    "\n",
    "# Hourly temperature from all sites\n",
    "airtemp = pd.pivot_table(weather, index='hour', columns='site_id', \n",
    "                         values='air_temperature', aggfunc='mean')\n",
    "airtemp.plot(figsize=(15, 5), xticks=range(24), \n",
    "             ylabel='Air temperature', xlabel='Hour',\n",
    "             title='Hourly air temperature by site')\n",
    "plt.legend(bbox_to_anchor=(1, 1), fancybox=True)\n",
    "plt.autoscale(axis='x', tight=True)\n",
    "plt.show()"
   ]
  },
  {
   "cell_type": "code",
   "execution_count": null,
   "metadata": {},
   "outputs": [],
   "source": [
    "# Air temperature by site\n",
    "fig = sns.jointplot(data=weather, x='air_temperature', y='site_id')\n",
    "fig.fig.suptitle('Temperature Range by Site', y=1.02)\n",
    "fig.set_axis_labels('Air Temperature', 'Site')\n",
    "plt.yticks(range(16), range(16))\n",
    "plt.show()"
   ]
  },
  {
   "cell_type": "code",
   "execution_count": null,
   "metadata": {},
   "outputs": [],
   "source": [
    "del weather4, weather8, airtemp, timezones, fig\n",
    "gc.collect()"
   ]
  },
  {
   "cell_type": "markdown",
   "metadata": {},
   "source": [
    "##### Similar temperature ranges:\n",
    "- Sites 0, 4, 8 - Florida x2, California (coastal states)\n",
    "- Sites 1, 5, 12 - UK x2, Ireland (European countries)\n",
    "- Sites 3 and 6 - both U.S. eastern states\n",
    "- Sites 7, 11, 13 - Southeastern Canada x2, Minnesota (around Canadian border)\n",
    "\n",
    "These temperature ranges support the locations that were found for each site."
   ]
  },
  {
   "cell_type": "markdown",
   "metadata": {},
   "source": [
    "## Section IV: Building EDA"
   ]
  },
  {
   "cell_type": "markdown",
   "metadata": {},
   "source": [
    "### Duplicated observations and missing values"
   ]
  },
  {
   "cell_type": "code",
   "execution_count": 52,
   "metadata": {},
   "outputs": [
    {
     "data": {
      "text/plain": [
       "0"
      ]
     },
     "execution_count": 52,
     "metadata": {},
     "output_type": "execute_result"
    }
   ],
   "source": [
    "# Duplicated observations\n",
    "building.duplicated(subset=['building_id']).sum()"
   ]
  },
  {
   "cell_type": "code",
   "execution_count": 53,
   "metadata": {},
   "outputs": [
    {
     "data": {
      "text/plain": [
       "site_id           0\n",
       "building_id       0\n",
       "primary_use       0\n",
       "square_feet       0\n",
       "year_built      774\n",
       "floor_count    1094\n",
       "dtype: int64"
      ]
     },
     "execution_count": 53,
     "metadata": {},
     "output_type": "execute_result"
    }
   ],
   "source": [
    "# Missing vals\n",
    "building.isnull().sum()"
   ]
  },
  {
   "cell_type": "markdown",
   "metadata": {},
   "source": [
    "### Explore buildings"
   ]
  },
  {
   "cell_type": "code",
   "execution_count": 54,
   "metadata": {},
   "outputs": [
    {
     "data": {
      "image/png": "[encoded data removed]",
      "text/plain": [
       "<Figure size 1080x216 with 1 Axes>"
      ]
     },
     "metadata": {},
     "output_type": "display_data"
    },
    {
     "data": {
      "image/png": "[encoded data removed]",
      "text/plain": [
       "<Figure size 1080x216 with 1 Axes>"
      ]
     },
     "metadata": {},
     "output_type": "display_data"
    },
    {
     "data": {
      "image/png": "[encoded data removed]",
      "text/plain": [
       "<Figure size 1080x216 with 1 Axes>"
      ]
     },
     "metadata": {},
     "output_type": "display_data"
    }
   ],
   "source": [
    "# Value distributions\n",
    "udf.hist_subplots(building, range(3, 6))\n",
    "plt.show()"
   ]
  },
  {
   "cell_type": "markdown",
   "metadata": {},
   "source": [
    "##### Building distributions\n",
    "- `Square_feet` is highly right-skewed\n",
    "- `Year_built` shows the most buildings being built between 1960 and 1980, especially in the mid-70s\n",
    "- Most buildings are missing a `floor_count` so this data is unreliable, but it almost has a similar shape to the `square_feet` distribution\n",
    "    - Perhaps we can use `square_feet` to estimate missing `floor_count`s"
   ]
  },
  {
   "cell_type": "code",
   "execution_count": 55,
   "metadata": {},
   "outputs": [
    {
     "data": {
      "image/png": "[encoded data removed]",
      "text/plain": [
       "<Figure size 1080x216 with 1 Axes>"
      ]
     },
     "metadata": {},
     "output_type": "display_data"
    }
   ],
   "source": [
    "# Number of buildings in each site\n",
    "building.groupby('site_id').building_id.count().plot.bar(title='Number of buildings in each site')\n",
    "plt.xticks(rotation=0)\n",
    "plt.show()"
   ]
  },
  {
   "cell_type": "code",
   "execution_count": 56,
   "metadata": {},
   "outputs": [
    {
     "data": {
      "text/html": [
       "<div>\n",
       "<style scoped>\n",
       "    .dataframe tbody tr th:only-of-type {\n",
       "        vertical-align: middle;\n",
       "    }\n",
       "\n",
       "    .dataframe tbody tr th {\n",
       "        vertical-align: top;\n",
       "    }\n",
       "\n",
       "    .dataframe thead th {\n",
       "        text-align: right;\n",
       "    }\n",
       "</style>\n",
       "<table border=\"1\" class=\"dataframe\">\n",
       "  <thead>\n",
       "    <tr style=\"text-align: right;\">\n",
       "      <th></th>\n",
       "      <th>square_feet</th>\n",
       "      <th>year_built</th>\n",
       "      <th>floor_count</th>\n",
       "    </tr>\n",
       "    <tr>\n",
       "      <th>site_id</th>\n",
       "      <th></th>\n",
       "      <th></th>\n",
       "      <th></th>\n",
       "    </tr>\n",
       "  </thead>\n",
       "  <tbody>\n",
       "    <tr>\n",
       "      <th>0</th>\n",
       "      <td>86394.638095</td>\n",
       "      <td>1995.542847</td>\n",
       "      <td>NaN</td>\n",
       "    </tr>\n",
       "    <tr>\n",
       "      <th>1</th>\n",
       "      <td>65002.392157</td>\n",
       "      <td>1961.474976</td>\n",
       "      <td>7.000000</td>\n",
       "    </tr>\n",
       "    <tr>\n",
       "      <th>2</th>\n",
       "      <td>99542.214815</td>\n",
       "      <td>1974.882935</td>\n",
       "      <td>NaN</td>\n",
       "    </tr>\n",
       "    <tr>\n",
       "      <th>3</th>\n",
       "      <td>75290.383212</td>\n",
       "      <td>1961.727295</td>\n",
       "      <td>NaN</td>\n",
       "    </tr>\n",
       "    <tr>\n",
       "      <th>4</th>\n",
       "      <td>92876.241758</td>\n",
       "      <td>1954.123535</td>\n",
       "      <td>5.252747</td>\n",
       "    </tr>\n",
       "    <tr>\n",
       "      <th>5</th>\n",
       "      <td>47612.415730</td>\n",
       "      <td>1962.602295</td>\n",
       "      <td>2.280899</td>\n",
       "    </tr>\n",
       "    <tr>\n",
       "      <th>6</th>\n",
       "      <td>91857.704545</td>\n",
       "      <td>NaN</td>\n",
       "      <td>NaN</td>\n",
       "    </tr>\n",
       "    <tr>\n",
       "      <th>7</th>\n",
       "      <td>323634.533333</td>\n",
       "      <td>1958.500000</td>\n",
       "      <td>8.733334</td>\n",
       "    </tr>\n",
       "    <tr>\n",
       "      <th>8</th>\n",
       "      <td>29712.200000</td>\n",
       "      <td>NaN</td>\n",
       "      <td>1.014286</td>\n",
       "    </tr>\n",
       "    <tr>\n",
       "      <th>9</th>\n",
       "      <td>144874.209677</td>\n",
       "      <td>NaN</td>\n",
       "      <td>NaN</td>\n",
       "    </tr>\n",
       "    <tr>\n",
       "      <th>10</th>\n",
       "      <td>71152.566667</td>\n",
       "      <td>NaN</td>\n",
       "      <td>2.100000</td>\n",
       "    </tr>\n",
       "    <tr>\n",
       "      <th>11</th>\n",
       "      <td>104563.400000</td>\n",
       "      <td>NaN</td>\n",
       "      <td>NaN</td>\n",
       "    </tr>\n",
       "    <tr>\n",
       "      <th>12</th>\n",
       "      <td>79338.611111</td>\n",
       "      <td>NaN</td>\n",
       "      <td>2.777778</td>\n",
       "    </tr>\n",
       "    <tr>\n",
       "      <th>13</th>\n",
       "      <td>128342.090909</td>\n",
       "      <td>NaN</td>\n",
       "      <td>NaN</td>\n",
       "    </tr>\n",
       "    <tr>\n",
       "      <th>14</th>\n",
       "      <td>95111.441176</td>\n",
       "      <td>NaN</td>\n",
       "      <td>NaN</td>\n",
       "    </tr>\n",
       "    <tr>\n",
       "      <th>15</th>\n",
       "      <td>83921.387097</td>\n",
       "      <td>1962.371704</td>\n",
       "      <td>NaN</td>\n",
       "    </tr>\n",
       "  </tbody>\n",
       "</table>\n",
       "</div>"
      ],
      "text/plain": [
       "           square_feet   year_built  floor_count\n",
       "site_id                                         \n",
       "0         86394.638095  1995.542847          NaN\n",
       "1         65002.392157  1961.474976     7.000000\n",
       "2         99542.214815  1974.882935          NaN\n",
       "3         75290.383212  1961.727295          NaN\n",
       "4         92876.241758  1954.123535     5.252747\n",
       "5         47612.415730  1962.602295     2.280899\n",
       "6         91857.704545          NaN          NaN\n",
       "7        323634.533333  1958.500000     8.733334\n",
       "8         29712.200000          NaN     1.014286\n",
       "9        144874.209677          NaN          NaN\n",
       "10        71152.566667          NaN     2.100000\n",
       "11       104563.400000          NaN          NaN\n",
       "12        79338.611111          NaN     2.777778\n",
       "13       128342.090909          NaN          NaN\n",
       "14        95111.441176          NaN          NaN\n",
       "15        83921.387097  1962.371704          NaN"
      ]
     },
     "execution_count": 56,
     "metadata": {},
     "output_type": "execute_result"
    }
   ],
   "source": [
    "# Average values by site\n",
    "bldg_avg_by_site = building.drop('building_id', axis=1).groupby('site_id').mean()\n",
    "bldg_avg_by_site"
   ]
  },
  {
   "cell_type": "code",
   "execution_count": 57,
   "metadata": {},
   "outputs": [
    {
     "data": {
      "image/png": "[encoded data removed]",
      "text/plain": [
       "<Figure size 1080x432 with 2 Axes>"
      ]
     },
     "metadata": {},
     "output_type": "display_data"
    }
   ],
   "source": [
    "# Plot average square footage and floor count by site\n",
    "plot_titles = ['Average %s in each site' % col for col in ['square feet', 'floor count']]\n",
    "bldg_avg_by_site.drop('year_built', axis=1).plot.bar(subplots=True, figsize=(15, 6), title=plot_titles,\n",
    "                                                     legend=False, color=['r', 'g'])\n",
    "plt.xticks(rotation=0)\n",
    "plt.show()"
   ]
  },
  {
   "cell_type": "markdown",
   "metadata": {},
   "source": [
    "Out of the 7 sites that actually have `floor_couunt` data, only 3 sites are showing a similar pattern between `square_feet` and `floor_count` so `square_feet` may not be a good predictor of `floor_count` after all."
   ]
  },
  {
   "cell_type": "code",
   "execution_count": 58,
   "metadata": {},
   "outputs": [
    {
     "data": {
      "image/png": "[encoded data removed]",
      "text/plain": [
       "<Figure size 1080x216 with 1 Axes>"
      ]
     },
     "metadata": {},
     "output_type": "display_data"
    }
   ],
   "source": [
    "# Plot average year-built by site\n",
    "bldg_avg_by_site.year_built.plot.bar(title='Average year built of buildings in each site', ylim=(1900, 2000))\n",
    "plt.xticks(rotation=0)\n",
    "plt.show()"
   ]
  },
  {
   "cell_type": "code",
   "execution_count": 59,
   "metadata": {},
   "outputs": [
    {
     "data": {
      "image/png": "[encoded data removed]",
      "text/plain": [
       "<Figure size 1080x360 with 1 Axes>"
      ]
     },
     "metadata": {},
     "output_type": "display_data"
    }
   ],
   "source": [
    "# Number of each type of building\n",
    "bldg_use_counts = building.groupby('primary_use').building_id.count().sort_values()\n",
    "bldg_use_counts.plot.barh(figsize=(15, 5), title='Number of each type of building')\n",
    "plt.show()"
   ]
  },
  {
   "cell_type": "markdown",
   "metadata": {},
   "source": [
    "Education and office buildings make up more than half of all the buildings in the data. It could be that a lot of the sites are universities or business districts."
   ]
  },
  {
   "cell_type": "code",
   "execution_count": 60,
   "metadata": {},
   "outputs": [
    {
     "data": {
      "text/html": [
       "<div>\n",
       "<style scoped>\n",
       "    .dataframe tbody tr th:only-of-type {\n",
       "        vertical-align: middle;\n",
       "    }\n",
       "\n",
       "    .dataframe tbody tr th {\n",
       "        vertical-align: top;\n",
       "    }\n",
       "\n",
       "    .dataframe thead th {\n",
       "        text-align: right;\n",
       "    }\n",
       "</style>\n",
       "<table border=\"1\" class=\"dataframe\">\n",
       "  <thead>\n",
       "    <tr style=\"text-align: right;\">\n",
       "      <th>primary_use</th>\n",
       "      <th>Education</th>\n",
       "      <th>Entertainment/public assembly</th>\n",
       "      <th>Food sales and service</th>\n",
       "      <th>Healthcare</th>\n",
       "      <th>Lodging/residential</th>\n",
       "      <th>Manufacturing/industrial</th>\n",
       "      <th>Office</th>\n",
       "      <th>Other</th>\n",
       "      <th>Parking</th>\n",
       "      <th>Public services</th>\n",
       "      <th>Religious worship</th>\n",
       "      <th>Retail</th>\n",
       "      <th>Services</th>\n",
       "      <th>Technology/science</th>\n",
       "      <th>Utility</th>\n",
       "      <th>Warehouse/storage</th>\n",
       "    </tr>\n",
       "    <tr>\n",
       "      <th>site_id</th>\n",
       "      <th></th>\n",
       "      <th></th>\n",
       "      <th></th>\n",
       "      <th></th>\n",
       "      <th></th>\n",
       "      <th></th>\n",
       "      <th></th>\n",
       "      <th></th>\n",
       "      <th></th>\n",
       "      <th></th>\n",
       "      <th></th>\n",
       "      <th></th>\n",
       "      <th></th>\n",
       "      <th></th>\n",
       "      <th></th>\n",
       "      <th></th>\n",
       "    </tr>\n",
       "  </thead>\n",
       "  <tbody>\n",
       "    <tr>\n",
       "      <th>0</th>\n",
       "      <td>30</td>\n",
       "      <td>5</td>\n",
       "      <td>0</td>\n",
       "      <td>0</td>\n",
       "      <td>27</td>\n",
       "      <td>0</td>\n",
       "      <td>24</td>\n",
       "      <td>5</td>\n",
       "      <td>8</td>\n",
       "      <td>0</td>\n",
       "      <td>0</td>\n",
       "      <td>6</td>\n",
       "      <td>0</td>\n",
       "      <td>0</td>\n",
       "      <td>0</td>\n",
       "      <td>0</td>\n",
       "    </tr>\n",
       "    <tr>\n",
       "      <th>1</th>\n",
       "      <td>22</td>\n",
       "      <td>1</td>\n",
       "      <td>0</td>\n",
       "      <td>0</td>\n",
       "      <td>10</td>\n",
       "      <td>0</td>\n",
       "      <td>16</td>\n",
       "      <td>0</td>\n",
       "      <td>0</td>\n",
       "      <td>2</td>\n",
       "      <td>0</td>\n",
       "      <td>0</td>\n",
       "      <td>0</td>\n",
       "      <td>0</td>\n",
       "      <td>0</td>\n",
       "      <td>0</td>\n",
       "    </tr>\n",
       "    <tr>\n",
       "      <th>2</th>\n",
       "      <td>61</td>\n",
       "      <td>21</td>\n",
       "      <td>2</td>\n",
       "      <td>1</td>\n",
       "      <td>12</td>\n",
       "      <td>0</td>\n",
       "      <td>24</td>\n",
       "      <td>0</td>\n",
       "      <td>3</td>\n",
       "      <td>6</td>\n",
       "      <td>1</td>\n",
       "      <td>1</td>\n",
       "      <td>0</td>\n",
       "      <td>0</td>\n",
       "      <td>1</td>\n",
       "      <td>2</td>\n",
       "    </tr>\n",
       "    <tr>\n",
       "      <th>3</th>\n",
       "      <td>92</td>\n",
       "      <td>44</td>\n",
       "      <td>0</td>\n",
       "      <td>6</td>\n",
       "      <td>11</td>\n",
       "      <td>0</td>\n",
       "      <td>23</td>\n",
       "      <td>4</td>\n",
       "      <td>1</td>\n",
       "      <td>86</td>\n",
       "      <td>1</td>\n",
       "      <td>1</td>\n",
       "      <td>0</td>\n",
       "      <td>0</td>\n",
       "      <td>0</td>\n",
       "      <td>5</td>\n",
       "    </tr>\n",
       "    <tr>\n",
       "      <th>4</th>\n",
       "      <td>66</td>\n",
       "      <td>9</td>\n",
       "      <td>0</td>\n",
       "      <td>0</td>\n",
       "      <td>4</td>\n",
       "      <td>0</td>\n",
       "      <td>0</td>\n",
       "      <td>0</td>\n",
       "      <td>3</td>\n",
       "      <td>6</td>\n",
       "      <td>0</td>\n",
       "      <td>0</td>\n",
       "      <td>0</td>\n",
       "      <td>2</td>\n",
       "      <td>1</td>\n",
       "      <td>0</td>\n",
       "    </tr>\n",
       "    <tr>\n",
       "      <th>5</th>\n",
       "      <td>49</td>\n",
       "      <td>18</td>\n",
       "      <td>0</td>\n",
       "      <td>1</td>\n",
       "      <td>1</td>\n",
       "      <td>3</td>\n",
       "      <td>11</td>\n",
       "      <td>1</td>\n",
       "      <td>0</td>\n",
       "      <td>5</td>\n",
       "      <td>0</td>\n",
       "      <td>0</td>\n",
       "      <td>0</td>\n",
       "      <td>0</td>\n",
       "      <td>0</td>\n",
       "      <td>0</td>\n",
       "    </tr>\n",
       "    <tr>\n",
       "      <th>6</th>\n",
       "      <td>15</td>\n",
       "      <td>4</td>\n",
       "      <td>0</td>\n",
       "      <td>0</td>\n",
       "      <td>12</td>\n",
       "      <td>0</td>\n",
       "      <td>11</td>\n",
       "      <td>0</td>\n",
       "      <td>0</td>\n",
       "      <td>2</td>\n",
       "      <td>0</td>\n",
       "      <td>0</td>\n",
       "      <td>0</td>\n",
       "      <td>0</td>\n",
       "      <td>0</td>\n",
       "      <td>0</td>\n",
       "    </tr>\n",
       "    <tr>\n",
       "      <th>7</th>\n",
       "      <td>15</td>\n",
       "      <td>0</td>\n",
       "      <td>0</td>\n",
       "      <td>0</td>\n",
       "      <td>0</td>\n",
       "      <td>0</td>\n",
       "      <td>0</td>\n",
       "      <td>0</td>\n",
       "      <td>0</td>\n",
       "      <td>0</td>\n",
       "      <td>0</td>\n",
       "      <td>0</td>\n",
       "      <td>0</td>\n",
       "      <td>0</td>\n",
       "      <td>0</td>\n",
       "      <td>0</td>\n",
       "    </tr>\n",
       "    <tr>\n",
       "      <th>8</th>\n",
       "      <td>0</td>\n",
       "      <td>24</td>\n",
       "      <td>0</td>\n",
       "      <td>0</td>\n",
       "      <td>0</td>\n",
       "      <td>0</td>\n",
       "      <td>7</td>\n",
       "      <td>9</td>\n",
       "      <td>0</td>\n",
       "      <td>28</td>\n",
       "      <td>0</td>\n",
       "      <td>0</td>\n",
       "      <td>0</td>\n",
       "      <td>0</td>\n",
       "      <td>0</td>\n",
       "      <td>2</td>\n",
       "    </tr>\n",
       "    <tr>\n",
       "      <th>9</th>\n",
       "      <td>63</td>\n",
       "      <td>18</td>\n",
       "      <td>0</td>\n",
       "      <td>0</td>\n",
       "      <td>19</td>\n",
       "      <td>0</td>\n",
       "      <td>17</td>\n",
       "      <td>0</td>\n",
       "      <td>0</td>\n",
       "      <td>2</td>\n",
       "      <td>0</td>\n",
       "      <td>0</td>\n",
       "      <td>5</td>\n",
       "      <td>0</td>\n",
       "      <td>0</td>\n",
       "      <td>0</td>\n",
       "    </tr>\n",
       "    <tr>\n",
       "      <th>10</th>\n",
       "      <td>14</td>\n",
       "      <td>4</td>\n",
       "      <td>0</td>\n",
       "      <td>0</td>\n",
       "      <td>3</td>\n",
       "      <td>0</td>\n",
       "      <td>5</td>\n",
       "      <td>3</td>\n",
       "      <td>0</td>\n",
       "      <td>0</td>\n",
       "      <td>0</td>\n",
       "      <td>0</td>\n",
       "      <td>0</td>\n",
       "      <td>1</td>\n",
       "      <td>0</td>\n",
       "      <td>0</td>\n",
       "    </tr>\n",
       "    <tr>\n",
       "      <th>11</th>\n",
       "      <td>5</td>\n",
       "      <td>0</td>\n",
       "      <td>0</td>\n",
       "      <td>0</td>\n",
       "      <td>0</td>\n",
       "      <td>0</td>\n",
       "      <td>0</td>\n",
       "      <td>0</td>\n",
       "      <td>0</td>\n",
       "      <td>0</td>\n",
       "      <td>0</td>\n",
       "      <td>0</td>\n",
       "      <td>0</td>\n",
       "      <td>0</td>\n",
       "      <td>0</td>\n",
       "      <td>0</td>\n",
       "    </tr>\n",
       "    <tr>\n",
       "      <th>12</th>\n",
       "      <td>20</td>\n",
       "      <td>2</td>\n",
       "      <td>0</td>\n",
       "      <td>0</td>\n",
       "      <td>0</td>\n",
       "      <td>0</td>\n",
       "      <td>9</td>\n",
       "      <td>0</td>\n",
       "      <td>0</td>\n",
       "      <td>1</td>\n",
       "      <td>0</td>\n",
       "      <td>3</td>\n",
       "      <td>0</td>\n",
       "      <td>1</td>\n",
       "      <td>0</td>\n",
       "      <td>0</td>\n",
       "    </tr>\n",
       "    <tr>\n",
       "      <th>13</th>\n",
       "      <td>25</td>\n",
       "      <td>8</td>\n",
       "      <td>1</td>\n",
       "      <td>4</td>\n",
       "      <td>10</td>\n",
       "      <td>6</td>\n",
       "      <td>75</td>\n",
       "      <td>3</td>\n",
       "      <td>7</td>\n",
       "      <td>5</td>\n",
       "      <td>0</td>\n",
       "      <td>0</td>\n",
       "      <td>5</td>\n",
       "      <td>1</td>\n",
       "      <td>0</td>\n",
       "      <td>4</td>\n",
       "    </tr>\n",
       "    <tr>\n",
       "      <th>14</th>\n",
       "      <td>26</td>\n",
       "      <td>10</td>\n",
       "      <td>2</td>\n",
       "      <td>10</td>\n",
       "      <td>9</td>\n",
       "      <td>0</td>\n",
       "      <td>38</td>\n",
       "      <td>0</td>\n",
       "      <td>0</td>\n",
       "      <td>7</td>\n",
       "      <td>0</td>\n",
       "      <td>0</td>\n",
       "      <td>0</td>\n",
       "      <td>0</td>\n",
       "      <td>0</td>\n",
       "      <td>0</td>\n",
       "    </tr>\n",
       "    <tr>\n",
       "      <th>15</th>\n",
       "      <td>46</td>\n",
       "      <td>16</td>\n",
       "      <td>0</td>\n",
       "      <td>1</td>\n",
       "      <td>29</td>\n",
       "      <td>3</td>\n",
       "      <td>19</td>\n",
       "      <td>0</td>\n",
       "      <td>0</td>\n",
       "      <td>6</td>\n",
       "      <td>1</td>\n",
       "      <td>0</td>\n",
       "      <td>0</td>\n",
       "      <td>1</td>\n",
       "      <td>2</td>\n",
       "      <td>0</td>\n",
       "    </tr>\n",
       "  </tbody>\n",
       "</table>\n",
       "</div>"
      ],
      "text/plain": [
       "primary_use  Education  Entertainment/public assembly  Food sales and service  \\\n",
       "site_id                                                                         \n",
       "0                   30                              5                       0   \n",
       "1                   22                              1                       0   \n",
       "2                   61                             21                       2   \n",
       "3                   92                             44                       0   \n",
       "4                   66                              9                       0   \n",
       "5                   49                             18                       0   \n",
       "6                   15                              4                       0   \n",
       "7                   15                              0                       0   \n",
       "8                    0                             24                       0   \n",
       "9                   63                             18                       0   \n",
       "10                  14                              4                       0   \n",
       "11                   5                              0                       0   \n",
       "12                  20                              2                       0   \n",
       "13                  25                              8                       1   \n",
       "14                  26                             10                       2   \n",
       "15                  46                             16                       0   \n",
       "\n",
       "primary_use  Healthcare  Lodging/residential  Manufacturing/industrial  \\\n",
       "site_id                                                                  \n",
       "0                     0                   27                         0   \n",
       "1                     0                   10                         0   \n",
       "2                     1                   12                         0   \n",
       "3                     6                   11                         0   \n",
       "4                     0                    4                         0   \n",
       "5                     1                    1                         3   \n",
       "6                     0                   12                         0   \n",
       "7                     0                    0                         0   \n",
       "8                     0                    0                         0   \n",
       "9                     0                   19                         0   \n",
       "10                    0                    3                         0   \n",
       "11                    0                    0                         0   \n",
       "12                    0                    0                         0   \n",
       "13                    4                   10                         6   \n",
       "14                   10                    9                         0   \n",
       "15                    1                   29                         3   \n",
       "\n",
       "primary_use  Office  Other  Parking  Public services  Religious worship  \\\n",
       "site_id                                                                   \n",
       "0                24      5        8                0                  0   \n",
       "1                16      0        0                2                  0   \n",
       "2                24      0        3                6                  1   \n",
       "3                23      4        1               86                  1   \n",
       "4                 0      0        3                6                  0   \n",
       "5                11      1        0                5                  0   \n",
       "6                11      0        0                2                  0   \n",
       "7                 0      0        0                0                  0   \n",
       "8                 7      9        0               28                  0   \n",
       "9                17      0        0                2                  0   \n",
       "10                5      3        0                0                  0   \n",
       "11                0      0        0                0                  0   \n",
       "12                9      0        0                1                  0   \n",
       "13               75      3        7                5                  0   \n",
       "14               38      0        0                7                  0   \n",
       "15               19      0        0                6                  1   \n",
       "\n",
       "primary_use  Retail  Services  Technology/science  Utility  Warehouse/storage  \n",
       "site_id                                                                        \n",
       "0                 6         0                   0        0                  0  \n",
       "1                 0         0                   0        0                  0  \n",
       "2                 1         0                   0        1                  2  \n",
       "3                 1         0                   0        0                  5  \n",
       "4                 0         0                   2        1                  0  \n",
       "5                 0         0                   0        0                  0  \n",
       "6                 0         0                   0        0                  0  \n",
       "7                 0         0                   0        0                  0  \n",
       "8                 0         0                   0        0                  2  \n",
       "9                 0         5                   0        0                  0  \n",
       "10                0         0                   1        0                  0  \n",
       "11                0         0                   0        0                  0  \n",
       "12                3         0                   1        0                  0  \n",
       "13                0         5                   1        0                  4  \n",
       "14                0         0                   0        0                  0  \n",
       "15                0         0                   1        2                  0  "
      ]
     },
     "execution_count": 60,
     "metadata": {},
     "output_type": "execute_result"
    }
   ],
   "source": [
    "# Number of each type of building in each site\n",
    "bldg_use_by_site = pd.pivot_table(building, index='site_id', columns='primary_use', values='building_id',\n",
    "                                  aggfunc='count', fill_value=0)\n",
    "bldg_use_by_site"
   ]
  },
  {
   "cell_type": "code",
   "execution_count": 61,
   "metadata": {},
   "outputs": [
    {
     "data": {
      "image/png": "[encoded data removed]",
      "text/plain": [
       "<Figure size 1080x360 with 1 Axes>"
      ]
     },
     "metadata": {},
     "output_type": "display_data"
    }
   ],
   "source": [
    "# Plot number of each type of building in each site\n",
    "bldg_use_by_site.plot.bar(stacked=True, figsize=(15, 5), title='Number of each type of building in each site')\n",
    "plt.xticks(rotation=0)\n",
    "plt.legend(bbox_to_anchor=(0.9, -0.15), ncol=4, fancybox=True)\n",
    "plt.show()"
   ]
  },
  {
   "cell_type": "markdown",
   "metadata": {},
   "source": [
    "Education buildings are a large portion of most of the 16 sites, followed by office buildings. Sites 7 and 11 look to be all education buildings."
   ]
  },
  {
   "cell_type": "code",
   "execution_count": 62,
   "metadata": {},
   "outputs": [
    {
     "data": {
      "text/html": [
       "<div>\n",
       "<style scoped>\n",
       "    .dataframe tbody tr th:only-of-type {\n",
       "        vertical-align: middle;\n",
       "    }\n",
       "\n",
       "    .dataframe tbody tr th {\n",
       "        vertical-align: top;\n",
       "    }\n",
       "\n",
       "    .dataframe thead th {\n",
       "        text-align: right;\n",
       "    }\n",
       "</style>\n",
       "<table border=\"1\" class=\"dataframe\">\n",
       "  <thead>\n",
       "    <tr style=\"text-align: right;\">\n",
       "      <th></th>\n",
       "      <th>square_feet</th>\n",
       "      <th>year_built</th>\n",
       "      <th>floor_count</th>\n",
       "    </tr>\n",
       "    <tr>\n",
       "      <th>primary_use</th>\n",
       "      <th></th>\n",
       "      <th></th>\n",
       "      <th></th>\n",
       "    </tr>\n",
       "  </thead>\n",
       "  <tbody>\n",
       "    <tr>\n",
       "      <th>Education</th>\n",
       "      <td>104329.000000</td>\n",
       "      <td>1962.579712</td>\n",
       "      <td>4.732558</td>\n",
       "    </tr>\n",
       "    <tr>\n",
       "      <th>Entertainment/public assembly</th>\n",
       "      <td>80584.070652</td>\n",
       "      <td>1970.904053</td>\n",
       "      <td>2.089286</td>\n",
       "    </tr>\n",
       "    <tr>\n",
       "      <th>Food sales and service</th>\n",
       "      <td>38485.000000</td>\n",
       "      <td>2012.000000</td>\n",
       "      <td>NaN</td>\n",
       "    </tr>\n",
       "    <tr>\n",
       "      <th>Healthcare</th>\n",
       "      <td>140480.869565</td>\n",
       "      <td>1982.250000</td>\n",
       "      <td>1.000000</td>\n",
       "    </tr>\n",
       "    <tr>\n",
       "      <th>Lodging/residential</th>\n",
       "      <td>85368.605442</td>\n",
       "      <td>1973.282349</td>\n",
       "      <td>6.333333</td>\n",
       "    </tr>\n",
       "    <tr>\n",
       "      <th>Manufacturing/industrial</th>\n",
       "      <td>41120.833333</td>\n",
       "      <td>1957.666626</td>\n",
       "      <td>1.666667</td>\n",
       "    </tr>\n",
       "    <tr>\n",
       "      <th>Office</th>\n",
       "      <td>87065.627240</td>\n",
       "      <td>1972.894165</td>\n",
       "      <td>3.725000</td>\n",
       "    </tr>\n",
       "    <tr>\n",
       "      <th>Other</th>\n",
       "      <td>31456.560000</td>\n",
       "      <td>1981.500000</td>\n",
       "      <td>1.076923</td>\n",
       "    </tr>\n",
       "    <tr>\n",
       "      <th>Parking</th>\n",
       "      <td>279341.772727</td>\n",
       "      <td>1998.500000</td>\n",
       "      <td>2.666667</td>\n",
       "    </tr>\n",
       "    <tr>\n",
       "      <th>Public services</th>\n",
       "      <td>64947.282051</td>\n",
       "      <td>1964.333374</td>\n",
       "      <td>2.048780</td>\n",
       "    </tr>\n",
       "    <tr>\n",
       "      <th>Religious worship</th>\n",
       "      <td>11276.666667</td>\n",
       "      <td>1979.000000</td>\n",
       "      <td>NaN</td>\n",
       "    </tr>\n",
       "    <tr>\n",
       "      <th>Retail</th>\n",
       "      <td>39298.000000</td>\n",
       "      <td>1997.571411</td>\n",
       "      <td>1.500000</td>\n",
       "    </tr>\n",
       "    <tr>\n",
       "      <th>Services</th>\n",
       "      <td>200659.100000</td>\n",
       "      <td>NaN</td>\n",
       "      <td>NaN</td>\n",
       "    </tr>\n",
       "    <tr>\n",
       "      <th>Technology/science</th>\n",
       "      <td>59176.333333</td>\n",
       "      <td>1939.000000</td>\n",
       "      <td>5.000000</td>\n",
       "    </tr>\n",
       "    <tr>\n",
       "      <th>Utility</th>\n",
       "      <td>31095.750000</td>\n",
       "      <td>1976.333374</td>\n",
       "      <td>2.000000</td>\n",
       "    </tr>\n",
       "    <tr>\n",
       "      <th>Warehouse/storage</th>\n",
       "      <td>45584.230769</td>\n",
       "      <td>1983.400024</td>\n",
       "      <td>1.000000</td>\n",
       "    </tr>\n",
       "  </tbody>\n",
       "</table>\n",
       "</div>"
      ],
      "text/plain": [
       "                                 square_feet   year_built  floor_count\n",
       "primary_use                                                           \n",
       "Education                      104329.000000  1962.579712     4.732558\n",
       "Entertainment/public assembly   80584.070652  1970.904053     2.089286\n",
       "Food sales and service          38485.000000  2012.000000          NaN\n",
       "Healthcare                     140480.869565  1982.250000     1.000000\n",
       "Lodging/residential             85368.605442  1973.282349     6.333333\n",
       "Manufacturing/industrial        41120.833333  1957.666626     1.666667\n",
       "Office                          87065.627240  1972.894165     3.725000\n",
       "Other                           31456.560000  1981.500000     1.076923\n",
       "Parking                        279341.772727  1998.500000     2.666667\n",
       "Public services                 64947.282051  1964.333374     2.048780\n",
       "Religious worship               11276.666667  1979.000000          NaN\n",
       "Retail                          39298.000000  1997.571411     1.500000\n",
       "Services                       200659.100000          NaN          NaN\n",
       "Technology/science              59176.333333  1939.000000     5.000000\n",
       "Utility                         31095.750000  1976.333374     2.000000\n",
       "Warehouse/storage               45584.230769  1983.400024     1.000000"
      ]
     },
     "execution_count": 62,
     "metadata": {},
     "output_type": "execute_result"
    }
   ],
   "source": [
    "# Average values by primary use\n",
    "bldg_avg_by_use = building.drop(['site_id', 'building_id'], axis=1).groupby('primary_use').mean()\n",
    "bldg_avg_by_use"
   ]
  },
  {
   "cell_type": "code",
   "execution_count": 63,
   "metadata": {},
   "outputs": [
    {
     "data": {
      "image/png": "[encoded data removed]",
      "text/plain": [
       "<Figure size 1080x432 with 2 Axes>"
      ]
     },
     "metadata": {},
     "output_type": "display_data"
    }
   ],
   "source": [
    "# Subplot titles\n",
    "plot_titles = ['Average %s for each type' % col for col in ['square feet', 'floor count']]\n",
    "\n",
    "# Average square footage and floor count by primary use\n",
    "bldg_avg_by_use.drop('year_built', axis=1).plot.bar(subplots=True, figsize=(15, 6), title=plot_titles,\n",
    "                                                    legend=False, color=['c', 'm'])\n",
    "plt.xticks(rotation=45, ha='right')\n",
    "plt.show()"
   ]
  },
  {
   "cell_type": "code",
   "execution_count": 64,
   "metadata": {},
   "outputs": [
    {
     "data": {
      "image/png": "[encoded data removed]",
      "text/plain": [
       "<Figure size 1080x216 with 1 Axes>"
      ]
     },
     "metadata": {},
     "output_type": "display_data"
    }
   ],
   "source": [
    "# Average year-built by primary uuse\n",
    "bldg_avg_by_use.year_built.plot.bar(title='Average year built of buildings for each type',\n",
    "                                    ylim=(1900, 2020), color='y')\n",
    "plt.xticks(rotation=45, ha='right')\n",
    "plt.show()"
   ]
  },
  {
   "cell_type": "code",
   "execution_count": 65,
   "metadata": {},
   "outputs": [
    {
     "data": {
      "text/plain": [
       "38150"
      ]
     },
     "execution_count": 65,
     "metadata": {},
     "output_type": "execute_result"
    }
   ],
   "source": [
    "del bldg_avg_by_site, plot_titles, bldg_use_counts, bldg_use_by_site, bldg_avg_by_use\n",
    "gc.collect()"
   ]
  },
  {
   "cell_type": "markdown",
   "metadata": {},
   "source": [
    "##### Building features by primary use\n",
    "- Parking structurs and services buildings are among the largest buildings\n",
    "- Lodging/residential are the tallest buildings, which makes sense because these are likely hotels\n",
    "- On average, technology/science buildings are the oldest and food sales and services are the newest"
   ]
  },
  {
   "cell_type": "markdown",
   "metadata": {},
   "source": [
    "## Section V: EDA Conclusion"
   ]
  },
  {
   "cell_type": "markdown",
   "metadata": {},
   "source": [
    "### Save dataframes"
   ]
  },
  {
   "cell_type": "code",
   "execution_count": 66,
   "metadata": {},
   "outputs": [],
   "source": [
    "# Create new subdirectory in data directory\n",
    "output_path = '../data/from_eda/'\n",
    "udf.mkdir(output_path)"
   ]
  },
  {
   "cell_type": "code",
   "execution_count": 67,
   "metadata": {},
   "outputs": [
    {
     "name": "stdout",
     "output_type": "stream",
     "text": [
      "<class 'pandas.core.frame.DataFrame'>\n",
      "Int64Index: 20138871 entries, 0 to 20216099\n",
      "Data columns (total 11 columns):\n",
      " #   Column         Dtype         \n",
      "---  ------         -----         \n",
      " 0   building_id    uint16        \n",
      " 1   meter          uint8         \n",
      " 2   timestamp      datetime64[ns]\n",
      " 3   meter_reading  float32       \n",
      " 4   site_id        uint8         \n",
      " 5   meter_type     object        \n",
      " 6   dayofyear      uint16        \n",
      " 7   month          uint8         \n",
      " 8   day            uint8         \n",
      " 9   dayofweek      uint8         \n",
      " 10  hour           uint8         \n",
      "dtypes: datetime64[ns](1), float32(1), object(1), uint16(2), uint8(6)\n",
      "memory usage: 729.8+ MB\n"
     ]
    }
   ],
   "source": [
    "# Save meter data\n",
    "meter.to_pickle(f'{output_path}meter.pkl')\n",
    "pd.read_pickle(f'{output_path}meter.pkl').info()"
   ]
  },
  {
   "cell_type": "code",
   "execution_count": 68,
   "metadata": {},
   "outputs": [
    {
     "name": "stdout",
     "output_type": "stream",
     "text": [
      "<class 'pandas.core.frame.DataFrame'>\n",
      "RangeIndex: 139773 entries, 0 to 139772\n",
      "Data columns (total 9 columns):\n",
      " #   Column              Non-Null Count   Dtype         \n",
      "---  ------              --------------   -----         \n",
      " 0   site_id             139773 non-null  uint8         \n",
      " 1   timestamp           139773 non-null  datetime64[ns]\n",
      " 2   air_temperature     139718 non-null  float32       \n",
      " 3   cloud_coverage      70600 non-null   float32       \n",
      " 4   dew_temperature     139660 non-null  float32       \n",
      " 5   precip_depth_1_hr   89484 non-null   float32       \n",
      " 6   sea_level_pressure  129155 non-null  float32       \n",
      " 7   wind_direction      133505 non-null  float32       \n",
      " 8   wind_speed          139469 non-null  float32       \n",
      "dtypes: datetime64[ns](1), float32(7), uint8(1)\n",
      "memory usage: 4.9 MB\n"
     ]
    }
   ],
   "source": [
    "# Save weather data\n",
    "weather.drop('hour', axis=1).to_pickle(f'{output_path}weather.pkl')\n",
    "pd.read_pickle(f'{output_path}weather.pkl').info()"
   ]
  },
  {
   "cell_type": "code",
   "execution_count": 69,
   "metadata": {},
   "outputs": [
    {
     "name": "stdout",
     "output_type": "stream",
     "text": [
      "<class 'pandas.core.frame.DataFrame'>\n",
      "RangeIndex: 1449 entries, 0 to 1448\n",
      "Data columns (total 6 columns):\n",
      " #   Column       Non-Null Count  Dtype  \n",
      "---  ------       --------------  -----  \n",
      " 0   site_id      1449 non-null   uint8  \n",
      " 1   building_id  1449 non-null   uint16 \n",
      " 2   primary_use  1449 non-null   object \n",
      " 3   square_feet  1449 non-null   uint32 \n",
      " 4   year_built   675 non-null    float32\n",
      " 5   floor_count  355 non-null    float32\n",
      "dtypes: float32(2), object(1), uint16(1), uint32(1), uint8(1)\n",
      "memory usage: 32.7+ KB\n"
     ]
    }
   ],
   "source": [
    "# Save building data\n",
    "building.to_pickle(f'{output_path}building.pkl')\n",
    "pd.read_pickle(f'{output_path}building.pkl').info()"
   ]
  },
  {
   "cell_type": "code",
   "execution_count": 70,
   "metadata": {},
   "outputs": [
    {
     "data": {
      "text/plain": [
       "110"
      ]
     },
     "execution_count": 70,
     "metadata": {},
     "output_type": "execute_result"
    }
   ],
   "source": [
    "del output_path\n",
    "gc.collect()"
   ]
  },
  {
   "cell_type": "code",
   "execution_count": null,
   "metadata": {},
   "outputs": [],
   "source": []
  }
 ],
 "metadata": {
  "kernelspec": {
   "display_name": "Python [conda env:minds] *",
   "language": "python",
   "name": "conda-env-minds-py"
  },
  "language_info": {
   "codemirror_mode": {
    "name": "ipython",
    "version": 3
   },
   "file_extension": ".py",
   "mimetype": "text/x-python",
   "name": "python",
   "nbconvert_exporter": "python",
   "pygments_lexer": "ipython3",
   "version": "3.7.9"
  }
 },
 "nbformat": 4,
 "nbformat_minor": 4
}
